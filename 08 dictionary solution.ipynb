{
 "cells": [
  {
   "cell_type": "markdown",
   "id": "d6812a80-0e54-465f-945f-db7b015ca178",
   "metadata": {},
   "source": [
    "# Q 1"
   ]
  },
  {
   "cell_type": "code",
   "execution_count": null,
   "id": "91f342fe-0066-4f84-b8fb-b81d12c36c31",
   "metadata": {},
   "outputs": [],
   "source": [
    "data = {\n",
    "    'info' :[12, 34.5, 'hello' , {'key' : [ 1, 2, 3, 'world' ]}]\n",
    "}"
   ]
  },
  {
   "cell_type": "code",
   "execution_count": null,
   "id": "62b090ea-e31d-445c-a210-13477908526e",
   "metadata": {},
   "outputs": [
    {
     "data": {
      "text/plain": [
       "dict"
      ]
     },
     "execution_count": 4,
     "metadata": {},
     "output_type": "execute_result"
    }
   ],
   "source": [
    "type(data)"
   ]
  },
  {
   "cell_type": "code",
   "execution_count": null,
   "id": "7712bb34-44c1-4caf-bc12-d31386fbf209",
   "metadata": {},
   "outputs": [],
   "source": [
    "## get only 'hello'"
   ]
  },
  {
   "cell_type": "code",
   "execution_count": 23,
   "id": "33ef289d-14f5-45c2-9216-188391235d79",
   "metadata": {},
   "outputs": [
    {
     "data": {
      "text/plain": [
       "'hello'"
      ]
     },
     "execution_count": 23,
     "metadata": {},
     "output_type": "execute_result"
    }
   ],
   "source": [
    "\n",
    "data['info'][2]"
   ]
  },
  {
   "cell_type": "code",
   "execution_count": 73,
   "id": "66adcdd2-4bfc-4cfd-ba00-a7a0ef0186cf",
   "metadata": {},
   "outputs": [
    {
     "data": {
      "text/plain": [
       "{'key': [1, 2, 3, 'world']}"
      ]
     },
     "execution_count": 73,
     "metadata": {},
     "output_type": "execute_result"
    }
   ],
   "source": [
    "(data['info'][3])"
   ]
  },
  {
   "cell_type": "code",
   "execution_count": 74,
   "id": "4c6637db-e888-4f5d-8a04-e5826e610067",
   "metadata": {},
   "outputs": [],
   "source": [
    "## get 'world'"
   ]
  },
  {
   "cell_type": "code",
   "execution_count": 75,
   "id": "9a1488eb-e19b-4504-88c5-13a2d04e32b6",
   "metadata": {},
   "outputs": [
    {
     "data": {
      "text/plain": [
       "'world'"
      ]
     },
     "execution_count": 75,
     "metadata": {},
     "output_type": "execute_result"
    }
   ],
   "source": [
    "data['info'][3]['key'][3]"
   ]
  },
  {
   "cell_type": "code",
   "execution_count": 76,
   "id": "10e59bd3-4a1c-48d3-85dd-9a1f5be1c455",
   "metadata": {},
   "outputs": [],
   "source": [
    "## get  the integer 2 "
   ]
  },
  {
   "cell_type": "code",
   "execution_count": 77,
   "id": "b779bb49-d5b5-492b-adcc-41bc899cf23a",
   "metadata": {},
   "outputs": [
    {
     "data": {
      "text/plain": [
       "2"
      ]
     },
     "execution_count": 77,
     "metadata": {},
     "output_type": "execute_result"
    }
   ],
   "source": [
    "data['info'][3]['key'][1]"
   ]
  },
  {
   "cell_type": "code",
   "execution_count": 78,
   "id": "f35dfe3e-4c3f-45b6-8b54-ad506b0db12f",
   "metadata": {},
   "outputs": [],
   "source": [
    "## slicing the [1,2,3,'world'] to get [2,3]"
   ]
  },
  {
   "cell_type": "code",
   "execution_count": 33,
   "id": "f02fca29-9652-4f4b-a58c-c97ac601ba68",
   "metadata": {},
   "outputs": [
    {
     "data": {
      "text/plain": [
       "[2, 3]"
      ]
     },
     "execution_count": 33,
     "metadata": {},
     "output_type": "execute_result"
    }
   ],
   "source": [
    "data['info'][3]['key'][1:3]"
   ]
  },
  {
   "cell_type": "code",
   "execution_count": 2,
   "id": "a7261f65-4dca-4c86-8423-d6b61f794086",
   "metadata": {},
   "outputs": [],
   "source": [
    "data = {\n",
    "    'info' :[12, 34.5, 'hello' , {'key' : [ 1, 2, 3, 'world' ]}]\n",
    "}"
   ]
  },
  {
   "cell_type": "markdown",
   "id": "7bc6e129-5518-4c26-939b-23c8daddb78c",
   "metadata": {},
   "source": [
    "# Q 2"
   ]
  },
  {
   "cell_type": "code",
   "execution_count": 79,
   "id": "b1671809-be8e-4385-83b2-cb3045b90090",
   "metadata": {},
   "outputs": [],
   "source": [
    "nested ={\n",
    "    'a' : [ 10, 20, {'b' : 'python'}],\n",
    "    'c':{\n",
    "        'd': ['abc' , { 'e' : [1.1, 2.2 , 3.3] }]\n",
    "    }\n",
    "}"
   ]
  },
  {
   "cell_type": "code",
   "execution_count": 80,
   "id": "8e49235b-fe75-426e-9344-ffeb3fa4c4c7",
   "metadata": {},
   "outputs": [
    {
     "data": {
      "text/plain": [
       "dict"
      ]
     },
     "execution_count": 80,
     "metadata": {},
     "output_type": "execute_result"
    }
   ],
   "source": [
    "type(nested)"
   ]
  },
  {
   "cell_type": "code",
   "execution_count": 81,
   "id": "652a9037-a9b7-4184-bff8-0a0065266079",
   "metadata": {},
   "outputs": [],
   "source": [
    "## Accessing the string \"python\""
   ]
  },
  {
   "cell_type": "code",
   "execution_count": 82,
   "id": "8de5e3d9-dcbb-4078-b6da-d9991ae217ed",
   "metadata": {},
   "outputs": [
    {
     "data": {
      "text/plain": [
       "list"
      ]
     },
     "execution_count": 82,
     "metadata": {},
     "output_type": "execute_result"
    }
   ],
   "source": [
    "type(nested['a'])"
   ]
  },
  {
   "cell_type": "code",
   "execution_count": 83,
   "id": "364e5336-086a-4c8e-9804-1bf71954ee95",
   "metadata": {},
   "outputs": [
    {
     "data": {
      "text/plain": [
       "{'b': 'python'}"
      ]
     },
     "execution_count": 83,
     "metadata": {},
     "output_type": "execute_result"
    }
   ],
   "source": [
    "nested['a'][2]"
   ]
  },
  {
   "cell_type": "code",
   "execution_count": 84,
   "id": "a39fcd8d-27fb-4d46-8dd3-901d88e55e85",
   "metadata": {},
   "outputs": [
    {
     "data": {
      "text/plain": [
       "'python'"
      ]
     },
     "execution_count": 84,
     "metadata": {},
     "output_type": "execute_result"
    }
   ],
   "source": [
    "nested['a'][2]['b']"
   ]
  },
  {
   "cell_type": "code",
   "execution_count": 85,
   "id": "5af48d0f-4834-4d67-944d-544ad463d0ef",
   "metadata": {},
   "outputs": [],
   "source": [
    "## get the float 2.2"
   ]
  },
  {
   "cell_type": "code",
   "execution_count": 86,
   "id": "6e3e486b-a7b0-494b-a04b-22761ab30691",
   "metadata": {},
   "outputs": [
    {
     "data": {
      "text/plain": [
       "{'d': ['abc', {'e': [1.1, 2.2, 3.3]}]}"
      ]
     },
     "execution_count": 86,
     "metadata": {},
     "output_type": "execute_result"
    }
   ],
   "source": [
    "nested['c']"
   ]
  },
  {
   "cell_type": "code",
   "execution_count": 87,
   "id": "716b6f07-db17-4eaa-9fa5-870d8c04ddb4",
   "metadata": {},
   "outputs": [
    {
     "data": {
      "text/plain": [
       "dict"
      ]
     },
     "execution_count": 87,
     "metadata": {},
     "output_type": "execute_result"
    }
   ],
   "source": [
    "type(nested['c'])"
   ]
  },
  {
   "cell_type": "code",
   "execution_count": 88,
   "id": "96bda0c0-cf45-4670-84d5-810940f65864",
   "metadata": {},
   "outputs": [
    {
     "data": {
      "text/plain": [
       "dict_keys(['d'])"
      ]
     },
     "execution_count": 88,
     "metadata": {},
     "output_type": "execute_result"
    }
   ],
   "source": [
    "nested['c'].keys()"
   ]
  },
  {
   "cell_type": "code",
   "execution_count": 89,
   "id": "873e3822-3c96-493d-bf88-0110f74c9d90",
   "metadata": {},
   "outputs": [
    {
     "data": {
      "text/plain": [
       "list"
      ]
     },
     "execution_count": 89,
     "metadata": {},
     "output_type": "execute_result"
    }
   ],
   "source": [
    "type(nested['c']['d'][1]['e'])"
   ]
  },
  {
   "cell_type": "code",
   "execution_count": 90,
   "id": "a01a01a7-c2ae-4b3a-acef-60b7059e6b72",
   "metadata": {},
   "outputs": [
    {
     "data": {
      "text/plain": [
       "2.2"
      ]
     },
     "execution_count": 90,
     "metadata": {},
     "output_type": "execute_result"
    }
   ],
   "source": [
    "nested['c']['d'][1]['e'][1]"
   ]
  },
  {
   "cell_type": "code",
   "execution_count": 91,
   "id": "f5a7d202-5894-4d39-80e1-99d4bb5d15c0",
   "metadata": {},
   "outputs": [],
   "source": [
    "## slice \"abc\" to  return \"ab\""
   ]
  },
  {
   "cell_type": "code",
   "execution_count": 92,
   "id": "a6bd6083-955e-4d0c-a2a0-87b254f67d9d",
   "metadata": {},
   "outputs": [
    {
     "data": {
      "text/plain": [
       "{'a': [10, 20, {'b': 'python'}], 'c': {'d': ['abc', {'e': [1.1, 2.2, 3.3]}]}}"
      ]
     },
     "execution_count": 92,
     "metadata": {},
     "output_type": "execute_result"
    }
   ],
   "source": [
    "nested"
   ]
  },
  {
   "cell_type": "code",
   "execution_count": 93,
   "id": "d86e48d1-cb22-4b9f-9954-3eb39342bbe6",
   "metadata": {},
   "outputs": [
    {
     "data": {
      "text/plain": [
       "'ab'"
      ]
     },
     "execution_count": 93,
     "metadata": {},
     "output_type": "execute_result"
    }
   ],
   "source": [
    "nested['c']['d'][0][0:2]"
   ]
  },
  {
   "cell_type": "code",
   "execution_count": 94,
   "id": "9869c2da-9076-4566-a89f-3bd5f7d3d547",
   "metadata": {},
   "outputs": [],
   "source": [
    "## access the third element under key 'e'"
   ]
  },
  {
   "cell_type": "code",
   "execution_count": 95,
   "id": "2e901b8c-80fa-46d0-8ecb-035c536213be",
   "metadata": {},
   "outputs": [
    {
     "data": {
      "text/plain": [
       "3.3"
      ]
     },
     "execution_count": 95,
     "metadata": {},
     "output_type": "execute_result"
    }
   ],
   "source": [
    "nested['c']['d'][1]['e'][2]"
   ]
  },
  {
   "cell_type": "markdown",
   "id": "a15290f1-f96e-4ef3-808e-a4b6bc42ffc2",
   "metadata": {},
   "source": [
    "# Q 3"
   ]
  },
  {
   "cell_type": "code",
   "execution_count": 97,
   "id": "1d240a89-0dbd-4f49-bab4-62a4170b77e3",
   "metadata": {},
   "outputs": [],
   "source": [
    " complex_data = [\n",
    "     {\n",
    "         'name': 'Alice',\n",
    "         'scores': [95, 88, {'maths': 90 , \"science\" : [91.5, 92.0]}]\n",
    "     },\n",
    "     {\n",
    "         'name':'bob',\n",
    "         'scores': [75 , {'maths' : [80,82]}, 'done']\n",
    "     }\n",
    " ]"
   ]
  },
  {
   "cell_type": "code",
   "execution_count": 98,
   "id": "d133bbf0-b00e-4218-8452-d29c7794e1a1",
   "metadata": {},
   "outputs": [
    {
     "data": {
      "text/plain": [
       "list"
      ]
     },
     "execution_count": 98,
     "metadata": {},
     "output_type": "execute_result"
    }
   ],
   "source": [
    "type(complex_data)"
   ]
  },
  {
   "cell_type": "code",
   "execution_count": 104,
   "id": "e6b5bd06-5b2c-4b37-85aa-f95d07216194",
   "metadata": {},
   "outputs": [
    {
     "data": {
      "text/plain": [
       "{'name': 'Alice', 'scores': [95, 88, {'maths': 90, 'science': [91.5, 92.0]}]}"
      ]
     },
     "execution_count": 104,
     "metadata": {},
     "output_type": "execute_result"
    }
   ],
   "source": [
    "complex_data[0] # type dict"
   ]
  },
  {
   "cell_type": "code",
   "execution_count": 105,
   "id": "ffc228fd-b171-43c7-b9d3-9448a8695265",
   "metadata": {},
   "outputs": [
    {
     "data": {
      "text/plain": [
       "{'name': 'bob', 'scores': [75, {'maths': [80, 82]}, 'done']}"
      ]
     },
     "execution_count": 105,
     "metadata": {},
     "output_type": "execute_result"
    }
   ],
   "source": [
    "(complex_data[1]) # type dict"
   ]
  },
  {
   "cell_type": "code",
   "execution_count": 106,
   "id": "e705d587-35c9-4961-85f9-5d71372bc8a0",
   "metadata": {},
   "outputs": [],
   "source": [
    "## get Alice ke science score 92.0"
   ]
  },
  {
   "cell_type": "code",
   "execution_count": 112,
   "id": "297c4221-a907-4ce9-9969-c4b46a6b68aa",
   "metadata": {},
   "outputs": [
    {
     "data": {
      "text/plain": [
       "92.0"
      ]
     },
     "execution_count": 112,
     "metadata": {},
     "output_type": "execute_result"
    }
   ],
   "source": [
    "complex_data[0]['scores'][2]['science'][1]"
   ]
  },
  {
   "cell_type": "code",
   "execution_count": 113,
   "id": "fd18402e-0def-4a10-af0e-50f89fc25185",
   "metadata": {},
   "outputs": [],
   "source": [
    "## bob ka maths ka score 82 nikalna hai"
   ]
  },
  {
   "cell_type": "code",
   "execution_count": 115,
   "id": "47e35bbe-8bc7-4745-a328-3adb3f85c35a",
   "metadata": {},
   "outputs": [
    {
     "data": {
      "text/plain": [
       "{'name': 'bob', 'scores': [75, {'maths': [80, 82]}, 'done']}"
      ]
     },
     "execution_count": 115,
     "metadata": {},
     "output_type": "execute_result"
    }
   ],
   "source": [
    "complex_data[1]"
   ]
  },
  {
   "cell_type": "code",
   "execution_count": 116,
   "id": "9d8ec1ef-ba02-4b3e-90a5-5ad5d9ebf4c1",
   "metadata": {},
   "outputs": [
    {
     "data": {
      "text/plain": [
       "82"
      ]
     },
     "execution_count": 116,
     "metadata": {},
     "output_type": "execute_result"
    }
   ],
   "source": [
    "complex_data[1]['scores'][1]['maths'][1]"
   ]
  },
  {
   "cell_type": "code",
   "execution_count": 117,
   "id": "b683fac9-0b3e-4a2c-9eb8-53e348601b83",
   "metadata": {},
   "outputs": [],
   "source": [
    "## get string \"done\""
   ]
  },
  {
   "cell_type": "code",
   "execution_count": 120,
   "id": "4f8bd22c-9502-4dd9-9e2b-b1d46fcac73d",
   "metadata": {},
   "outputs": [
    {
     "data": {
      "text/plain": [
       "'done'"
      ]
     },
     "execution_count": 120,
     "metadata": {},
     "output_type": "execute_result"
    }
   ],
   "source": [
    "complex_data[1]['scores'][2]"
   ]
  },
  {
   "cell_type": "code",
   "execution_count": 121,
   "id": "143e6ee2-c047-4de2-9bb0-20bac5f74aac",
   "metadata": {},
   "outputs": [],
   "source": [
    "## slice alice score list to return [95,88]"
   ]
  },
  {
   "cell_type": "code",
   "execution_count": 123,
   "id": "ba111741-5016-4ba6-ba58-b0be8164c503",
   "metadata": {},
   "outputs": [
    {
     "data": {
      "text/plain": [
       "{'name': 'Alice', 'scores': [95, 88, {'maths': 90, 'science': [91.5, 92.0]}]}"
      ]
     },
     "execution_count": 123,
     "metadata": {},
     "output_type": "execute_result"
    }
   ],
   "source": [
    "complex_data[0]"
   ]
  },
  {
   "cell_type": "code",
   "execution_count": 127,
   "id": "004b40b9-972e-402a-949c-836cb3c85adc",
   "metadata": {},
   "outputs": [
    {
     "data": {
      "text/plain": [
       "[95, 88]"
      ]
     },
     "execution_count": 127,
     "metadata": {},
     "output_type": "execute_result"
    }
   ],
   "source": [
    "complex_data[0]['scores'][0:2]"
   ]
  },
  {
   "cell_type": "markdown",
   "id": "ff7e0195-0b59-4330-9c84-2da48af32f0a",
   "metadata": {},
   "source": [
    "# Q 4 "
   ]
  },
  {
   "cell_type": "code",
   "execution_count": 1,
   "id": "87941141-a9f5-4860-ad66-f16e1dd4257b",
   "metadata": {},
   "outputs": [],
   "source": [
    "structue ={\n",
    "     'x' :[\n",
    "         {'y' : [100, 200, {'z':'deep'}]},\n",
    "         {'y' : [300, {'z' : ['not', 'so', 'deep']}]}\n",
    "     ]\n",
    "}"
   ]
  },
  {
   "cell_type": "code",
   "execution_count": 2,
   "id": "14dbd1c0-3abe-4ab9-98cd-8c34159d20cb",
   "metadata": {},
   "outputs": [],
   "source": [
    "## access the string \"deep\""
   ]
  },
  {
   "cell_type": "code",
   "execution_count": 3,
   "id": "812d74e5-d2f2-43bc-9056-cdca176f431d",
   "metadata": {},
   "outputs": [
    {
     "data": {
      "text/plain": [
       "list"
      ]
     },
     "execution_count": 3,
     "metadata": {},
     "output_type": "execute_result"
    }
   ],
   "source": [
    "type(structue['x'])"
   ]
  },
  {
   "cell_type": "code",
   "execution_count": 4,
   "id": "96cbbee0-f1b4-44e1-95a8-517a5c9307b0",
   "metadata": {},
   "outputs": [
    {
     "data": {
      "text/plain": [
       "{'y': [100, 200, {'z': 'deep'}]}"
      ]
     },
     "execution_count": 4,
     "metadata": {},
     "output_type": "execute_result"
    }
   ],
   "source": [
    "structue['x'][0]"
   ]
  },
  {
   "cell_type": "code",
   "execution_count": 7,
   "id": "3bab5795-88f2-4b12-84f9-f4af75e2f3f8",
   "metadata": {},
   "outputs": [
    {
     "data": {
      "text/plain": [
       "'deep'"
      ]
     },
     "execution_count": 7,
     "metadata": {},
     "output_type": "execute_result"
    }
   ],
   "source": [
    "structue['x'][0]['y'][2]['z']"
   ]
  },
  {
   "cell_type": "code",
   "execution_count": 8,
   "id": "950b22b9-56cf-4dac-ac86-cbe9d91b4217",
   "metadata": {},
   "outputs": [],
   "source": [
    "## get string \"so\""
   ]
  },
  {
   "cell_type": "code",
   "execution_count": 9,
   "id": "8994cfd9-8c81-4751-9b07-5dc6376dbb58",
   "metadata": {},
   "outputs": [
    {
     "data": {
      "text/plain": [
       "{'y': [300, {'z': ['not', 'so', 'deep']}]}"
      ]
     },
     "execution_count": 9,
     "metadata": {},
     "output_type": "execute_result"
    }
   ],
   "source": [
    "structue['x'][1]"
   ]
  },
  {
   "cell_type": "code",
   "execution_count": 14,
   "id": "b1ea0ae3-a491-4e35-a95e-2d11b816b9fa",
   "metadata": {},
   "outputs": [
    {
     "data": {
      "text/plain": [
       "'so'"
      ]
     },
     "execution_count": 14,
     "metadata": {},
     "output_type": "execute_result"
    }
   ],
   "source": [
    "structue['x'][1]['y'][1]['z'][1]"
   ]
  },
  {
   "cell_type": "code",
   "execution_count": 15,
   "id": "895dce52-30d9-4d80-a05a-20f91df92a9e",
   "metadata": {},
   "outputs": [],
   "source": [
    "## slice the  list ['not', 'so', 'deep'] to get ['so', 'deep']"
   ]
  },
  {
   "cell_type": "code",
   "execution_count": 17,
   "id": "5b94509a-0839-46fa-a9eb-7b7b7f13bc7c",
   "metadata": {},
   "outputs": [
    {
     "data": {
      "text/plain": [
       "['so', 'deep']"
      ]
     },
     "execution_count": 17,
     "metadata": {},
     "output_type": "execute_result"
    }
   ],
   "source": [
    "structue['x'][1]['y'][1]['z'][1:3]"
   ]
  },
  {
   "cell_type": "code",
   "execution_count": 18,
   "id": "48042091-9be9-4abd-9043-43c693b4d256",
   "metadata": {},
   "outputs": [],
   "source": [
    "## access the integer 200"
   ]
  },
  {
   "cell_type": "code",
   "execution_count": 21,
   "id": "db6b7ed4-f619-4d0d-88a1-31e2d9f4535c",
   "metadata": {},
   "outputs": [
    {
     "data": {
      "text/plain": [
       "{'x': [{'y': [100, 200, {'z': 'deep'}]},\n",
       "  {'y': [300, {'z': ['not', 'so', 'deep']}]}]}"
      ]
     },
     "execution_count": 21,
     "metadata": {},
     "output_type": "execute_result"
    }
   ],
   "source": [
    "structue"
   ]
  },
  {
   "cell_type": "code",
   "execution_count": 23,
   "id": "58a60eee-698e-489b-8082-eabf46ae42a9",
   "metadata": {},
   "outputs": [
    {
     "data": {
      "text/plain": [
       "200"
      ]
     },
     "execution_count": 23,
     "metadata": {},
     "output_type": "execute_result"
    }
   ],
   "source": [
    "structue['x'][0]['y'][1]"
   ]
  },
  {
   "cell_type": "markdown",
   "id": "f35e7cb6-c8d7-4da9-9905-96c281ef68b5",
   "metadata": {},
   "source": [
    "# Q5  all-in-one solve in one line"
   ]
  },
  {
   "cell_type": "code",
   "execution_count": 28,
   "id": "e0895e3e-a2f3-4f3d-8c75-cab740fe03d3",
   "metadata": {},
   "outputs": [],
   "source": [
    "data ={\n",
    "     'alpha':[\n",
    "         {\n",
    "             'beta': 'pyhton',\n",
    "             'gamma': [ 123, 456.78, {'delta' : ['a', 'b', {'epsilon': 'final'}]}]\n",
    "         },\n",
    "         \n",
    "         {\n",
    "            'beta' : 'Javascript',\n",
    "             'gamma': [999, 888.88]\n",
    "         }\n",
    "     ]\n",
    "}"
   ]
  },
  {
   "cell_type": "code",
   "execution_count": 29,
   "id": "9c53c2f6-cadd-466d-b056-0ba0280425cc",
   "metadata": {},
   "outputs": [],
   "source": [
    "## get the string \"python\""
   ]
  },
  {
   "cell_type": "code",
   "execution_count": 30,
   "id": "cc90b486-8382-49e0-9ebb-45ccde325a87",
   "metadata": {},
   "outputs": [
    {
     "data": {
      "text/plain": [
       "'pyhton'"
      ]
     },
     "execution_count": 30,
     "metadata": {},
     "output_type": "execute_result"
    }
   ],
   "source": [
    "data['alpha'][0]['beta']"
   ]
  },
  {
   "cell_type": "code",
   "execution_count": 31,
   "id": "14ee06d9-c6d5-4ea6-b009-1f08b4c6852b",
   "metadata": {},
   "outputs": [],
   "source": [
    "##  get float \"456.78\""
   ]
  },
  {
   "cell_type": "code",
   "execution_count": 38,
   "id": "e513f12d-a519-4f8f-a63a-ab3a3b5afee4",
   "metadata": {},
   "outputs": [
    {
     "data": {
      "text/plain": [
       "456.78"
      ]
     },
     "execution_count": 38,
     "metadata": {},
     "output_type": "execute_result"
    }
   ],
   "source": [
    "data['alpha'][0]['gamma'][1]"
   ]
  },
  {
   "cell_type": "code",
   "execution_count": 39,
   "id": "88c2eecd-1e5f-48c8-9e33-a1bf4280f21b",
   "metadata": {},
   "outputs": [],
   "source": [
    "## access the string 'final'"
   ]
  },
  {
   "cell_type": "code",
   "execution_count": 47,
   "id": "4831c6bd-a951-411c-ab91-682519eaa8bc",
   "metadata": {},
   "outputs": [
    {
     "data": {
      "text/plain": [
       "'final'"
      ]
     },
     "execution_count": 47,
     "metadata": {},
     "output_type": "execute_result"
    }
   ],
   "source": [
    "data['alpha'][0]['gamma'][2]['delta'][2]['epsilon']"
   ]
  },
  {
   "cell_type": "code",
   "execution_count": 51,
   "id": "4afea144-a81f-4023-96e9-6dde7d0b970c",
   "metadata": {},
   "outputs": [],
   "source": [
    "## slice 'javascript' to get 'script'"
   ]
  },
  {
   "cell_type": "code",
   "execution_count": 52,
   "id": "1db47d56-4487-4cea-b18b-bf19bcbcb716",
   "metadata": {},
   "outputs": [
    {
     "data": {
      "text/plain": [
       "10"
      ]
     },
     "execution_count": 52,
     "metadata": {},
     "output_type": "execute_result"
    }
   ],
   "source": [
    "len('javascript')"
   ]
  },
  {
   "cell_type": "code",
   "execution_count": 53,
   "id": "1fa7d581-9d53-4ae5-8eb5-e168e663f597",
   "metadata": {},
   "outputs": [
    {
     "data": {
      "text/plain": [
       "'script'"
      ]
     },
     "execution_count": 53,
     "metadata": {},
     "output_type": "execute_result"
    }
   ],
   "source": [
    "data['alpha'][1]['beta'][4:11]"
   ]
  },
  {
   "cell_type": "code",
   "execution_count": 54,
   "id": "cb1a7d17-9260-4038-97c0-66c18d5941d0",
   "metadata": {},
   "outputs": [],
   "source": [
    "## get the letter \"b\" from 'delta' list"
   ]
  },
  {
   "cell_type": "code",
   "execution_count": 59,
   "id": "19d4c31b-2fc2-4a7c-949e-3463bdfb4ebb",
   "metadata": {},
   "outputs": [
    {
     "data": {
      "text/plain": [
       "'b'"
      ]
     },
     "execution_count": 59,
     "metadata": {},
     "output_type": "execute_result"
    }
   ],
   "source": [
    "data['alpha'][0]['gamma'][2]['delta'][1]"
   ]
  },
  {
   "cell_type": "code",
   "execution_count": null,
   "id": "fa14fca7-851b-446f-9160-06ef91745c84",
   "metadata": {},
   "outputs": [],
   "source": []
  }
 ],
 "metadata": {
  "kernelspec": {
   "display_name": "Python [conda env:base] *",
   "language": "python",
   "name": "conda-base-py"
  },
  "language_info": {
   "codemirror_mode": {
    "name": "ipython",
    "version": 3
   },
   "file_extension": ".py",
   "mimetype": "text/x-python",
   "name": "python",
   "nbconvert_exporter": "python",
   "pygments_lexer": "ipython3",
   "version": "3.13.5"
  }
 },
 "nbformat": 4,
 "nbformat_minor": 5
}
