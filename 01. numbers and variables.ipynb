{
 "cells": [
  {
   "cell_type": "markdown",
   "id": "316e56c8-7239-4af0-b234-233b27dd1bae",
   "metadata": {},
   "source": [
    "# working with numbers\n",
    "<br>\n",
    "<h1><b>hello numbers</b></h1>"
   ]
  },
  {
   "cell_type": "code",
   "execution_count": 1,
   "id": "de57c9ee-c5ce-4c26-b9ae-5141a16bebef",
   "metadata": {
    "scrolled": true
   },
   "outputs": [
    {
     "data": {
      "text/plain": [
       "25"
      ]
     },
     "execution_count": 1,
     "metadata": {},
     "output_type": "execute_result"
    }
   ],
   "source": [
    "5*5\n"
   ]
  },
  {
   "cell_type": "code",
   "execution_count": 2,
   "id": "ac9ae40f-fd7d-4082-a88e-2c4b84779f17",
   "metadata": {},
   "outputs": [],
   "source": [
    "#square root"
   ]
  },
  {
   "cell_type": "code",
   "execution_count": 3,
   "id": "a2bf76a8-3799-4339-b135-3088c5a37899",
   "metadata": {},
   "outputs": [
    {
     "data": {
      "text/plain": [
       "2.23606797749979"
      ]
     },
     "execution_count": 3,
     "metadata": {},
     "output_type": "execute_result"
    }
   ],
   "source": [
    "5**(1/2)"
   ]
  },
  {
   "cell_type": "code",
   "execution_count": 4,
   "id": "365ec57e-09fd-4773-bb0b-a97a650e6a92",
   "metadata": {},
   "outputs": [
    {
     "data": {
      "text/plain": [
       "2.5"
      ]
     },
     "execution_count": 4,
     "metadata": {},
     "output_type": "execute_result"
    }
   ],
   "source": [
    "5/2"
   ]
  },
  {
   "cell_type": "code",
   "execution_count": 5,
   "id": "e0da3784-ed10-4aa6-8c15-0926988b69ae",
   "metadata": {},
   "outputs": [
    {
     "data": {
      "text/plain": [
       "2"
      ]
     },
     "execution_count": 5,
     "metadata": {},
     "output_type": "execute_result"
    }
   ],
   "source": [
    "5//2"
   ]
  },
  {
   "cell_type": "code",
   "execution_count": 6,
   "id": "1615238c-b6d2-4dc7-926b-905271fab560",
   "metadata": {},
   "outputs": [],
   "source": [
    "#cube root"
   ]
  },
  {
   "cell_type": "code",
   "execution_count": 7,
   "id": "d101b9fb-af3d-4157-81f9-bf31791c5b79",
   "metadata": {},
   "outputs": [
    {
     "data": {
      "text/plain": [
       "1.7099759466766968"
      ]
     },
     "execution_count": 7,
     "metadata": {},
     "output_type": "execute_result"
    }
   ],
   "source": [
    "5**(1/3)"
   ]
  },
  {
   "cell_type": "code",
   "execution_count": 8,
   "id": "123b849e-5fff-41e3-b7ff-cf257012403d",
   "metadata": {},
   "outputs": [
    {
     "data": {
      "text/plain": [
       "3"
      ]
     },
     "execution_count": 8,
     "metadata": {},
     "output_type": "execute_result"
    }
   ],
   "source": [
    "22//7 #floor division"
   ]
  },
  {
   "cell_type": "code",
   "execution_count": 9,
   "id": "c901f7c5-4381-4b1c-9198-b7d1e027fd25",
   "metadata": {},
   "outputs": [
    {
     "data": {
      "text/plain": [
       "1"
      ]
     },
     "execution_count": 9,
     "metadata": {},
     "output_type": "execute_result"
    }
   ],
   "source": [
    "5%2 #remainder"
   ]
  },
  {
   "cell_type": "code",
   "execution_count": 10,
   "id": "9a4be702-59e3-4763-a182-50c53fc6c0a6",
   "metadata": {
    "scrolled": true
   },
   "outputs": [
    {
     "data": {
      "text/plain": [
       "0"
      ]
     },
     "execution_count": 10,
     "metadata": {},
     "output_type": "execute_result"
    }
   ],
   "source": [
    "24%4\n"
   ]
  },
  {
   "cell_type": "code",
   "execution_count": 11,
   "id": "bf41a368-a77c-499e-a755-c09668837730",
   "metadata": {},
   "outputs": [
    {
     "data": {
      "text/plain": [
       "4"
      ]
     },
     "execution_count": 11,
     "metadata": {},
     "output_type": "execute_result"
    }
   ],
   "source": [
    "2**2"
   ]
  },
  {
   "cell_type": "markdown",
   "id": "26f07de6-d7b0-4471-b79f-72c897149663",
   "metadata": {},
   "source": [
    "# working with variables"
   ]
  },
  {
   "cell_type": "code",
   "execution_count": 12,
   "id": "2e37653d-d572-4d23-b116-4e9cc00e18a7",
   "metadata": {},
   "outputs": [],
   "source": [
    "a = 5"
   ]
  },
  {
   "cell_type": "code",
   "execution_count": 13,
   "id": "9d1e9419-db1c-473b-a066-a6111cb7ac66",
   "metadata": {},
   "outputs": [
    {
     "data": {
      "text/plain": [
       "5"
      ]
     },
     "execution_count": 13,
     "metadata": {},
     "output_type": "execute_result"
    }
   ],
   "source": [
    "a"
   ]
  },
  {
   "cell_type": "code",
   "execution_count": 14,
   "id": "d39255fb-885e-485b-945f-05b729ceb5cb",
   "metadata": {},
   "outputs": [],
   "source": [
    "# do not make reserverd keywords as variables , green color numbers ,words do not use "
   ]
  },
  {
   "cell_type": "code",
   "execution_count": 15,
   "id": "d4bc8d1e-75c9-474a-8579-9e069d3bdd63",
   "metadata": {},
   "outputs": [
    {
     "data": {
      "text/plain": [
       "False"
      ]
     },
     "execution_count": 15,
     "metadata": {},
     "output_type": "execute_result"
    }
   ],
   "source": [
    "a== 15"
   ]
  },
  {
   "cell_type": "code",
   "execution_count": 16,
   "id": "aa0481c1-80a9-4bc8-97e2-f37d820e7990",
   "metadata": {},
   "outputs": [],
   "source": [
    "a = 50"
   ]
  },
  {
   "cell_type": "code",
   "execution_count": 17,
   "id": "dc9e3639-c299-4ee2-905e-3ef241020c71",
   "metadata": {},
   "outputs": [
    {
     "data": {
      "text/plain": [
       "50"
      ]
     },
     "execution_count": 17,
     "metadata": {},
     "output_type": "execute_result"
    }
   ],
   "source": [
    "a"
   ]
  },
  {
   "cell_type": "code",
   "execution_count": 18,
   "id": "1b7e9679-79fa-4efd-afe2-0e97a2b81a6d",
   "metadata": {},
   "outputs": [],
   "source": [
    "# 1 .do not start variablle with numbers  "
   ]
  },
  {
   "cell_type": "code",
   "execution_count": 19,
   "id": "396c83df-4cb7-4cbb-9d85-4ec92fc4035f",
   "metadata": {},
   "outputs": [
    {
     "ename": "SyntaxError",
     "evalue": "invalid decimal literal (643665820.py, line 1)",
     "output_type": "error",
     "traceback": [
      "\u001b[1;36m  Cell \u001b[1;32mIn[19], line 1\u001b[1;36m\u001b[0m\n\u001b[1;33m    1person = \"pawan\"\u001b[0m\n\u001b[1;37m    ^\u001b[0m\n\u001b[1;31mSyntaxError\u001b[0m\u001b[1;31m:\u001b[0m invalid decimal literal\n"
     ]
    }
   ],
   "source": [
    "1person = \"pawan\""
   ]
  },
  {
   "cell_type": "code",
   "execution_count": 20,
   "id": "6d4f75c7-4db3-47f3-94e8-deccb520695b",
   "metadata": {},
   "outputs": [],
   "source": [
    "# you can not use symbols ! @ # % ^ & * do not use "
   ]
  },
  {
   "cell_type": "code",
   "execution_count": 21,
   "id": "8b8a5c74-4fa8-4e03-b11f-c27f18a6b75f",
   "metadata": {},
   "outputs": [
    {
     "ename": "SyntaxError",
     "evalue": "invalid syntax (205794223.py, line 1)",
     "output_type": "error",
     "traceback": [
      "\u001b[1;36m  Cell \u001b[1;32mIn[21], line 1\u001b[1;36m\u001b[0m\n\u001b[1;33m    price@$23 = 52\u001b[0m\n\u001b[1;37m          ^\u001b[0m\n\u001b[1;31mSyntaxError\u001b[0m\u001b[1;31m:\u001b[0m invalid syntax\n"
     ]
    }
   ],
   "source": [
    "price@$23 = 52"
   ]
  },
  {
   "cell_type": "code",
   "execution_count": 22,
   "id": "ee425db6-5f27-4224-9d05-f4a0a40cefa5",
   "metadata": {},
   "outputs": [],
   "source": [
    "# space in variable is not allowed"
   ]
  },
  {
   "cell_type": "code",
   "execution_count": 23,
   "id": "c60c8ca6-85ba-461a-922e-7d25506eb7c7",
   "metadata": {},
   "outputs": [],
   "source": [
    "roll_no = 24 # snake case"
   ]
  },
  {
   "cell_type": "code",
   "execution_count": 24,
   "id": "666d11ad-2faa-497d-868a-5def12a8328e",
   "metadata": {},
   "outputs": [],
   "source": [
    "# camel case "
   ]
  },
  {
   "cell_type": "code",
   "execution_count": 25,
   "id": "beb11530-c803-4e3d-a704-69bfb20e55bf",
   "metadata": {},
   "outputs": [],
   "source": [
    "rollNo = 25"
   ]
  },
  {
   "cell_type": "code",
   "execution_count": 26,
   "id": "2c7cd2d2-e656-46be-b73b-a51464da7671",
   "metadata": {},
   "outputs": [
    {
     "data": {
      "text/plain": [
       "24"
      ]
     },
     "execution_count": 26,
     "metadata": {},
     "output_type": "execute_result"
    }
   ],
   "source": [
    "roll_no"
   ]
  },
  {
   "cell_type": "code",
   "execution_count": 27,
   "id": "a4b7b110-89e2-45e1-a036-09997935fd10",
   "metadata": {},
   "outputs": [
    {
     "data": {
      "text/plain": [
       "25"
      ]
     },
     "execution_count": 27,
     "metadata": {},
     "output_type": "execute_result"
    }
   ],
   "source": [
    "rollNo"
   ]
  },
  {
   "cell_type": "code",
   "execution_count": 33,
   "id": "cb49a00f-b404-4358-b342-765818f03871",
   "metadata": {},
   "outputs": [],
   "source": [
    "# be more specific with your naming "
   ]
  },
  {
   "cell_type": "code",
   "execution_count": 34,
   "id": "752d0fec-12df-487b-a66e-437d6b47ea3c",
   "metadata": {},
   "outputs": [],
   "source": [
    "d = 4 # instead use "
   ]
  },
  {
   "cell_type": "code",
   "execution_count": 35,
   "id": "42ce6a6b-34af-4b9f-a516-49180ba61d45",
   "metadata": {},
   "outputs": [],
   "source": [
    "dogs = 4"
   ]
  },
  {
   "cell_type": "code",
   "execution_count": 36,
   "id": "e1d988da-f591-4695-9e8a-d0bc9e3f1a15",
   "metadata": {},
   "outputs": [],
   "source": [
    "# python is a case sensitive language"
   ]
  },
  {
   "cell_type": "code",
   "execution_count": 37,
   "id": "07241b07-5cad-4814-86d0-78bacecebb16",
   "metadata": {},
   "outputs": [
    {
     "ename": "NameError",
     "evalue": "name 'k' is not defined",
     "output_type": "error",
     "traceback": [
      "\u001b[1;31m---------------------------------------------------------------------------\u001b[0m",
      "\u001b[1;31mNameError\u001b[0m                                 Traceback (most recent call last)",
      "Cell \u001b[1;32mIn[37], line 2\u001b[0m\n\u001b[0;32m      1\u001b[0m \u001b[38;5;66;03m# if variable does not exist then we get a name error\u001b[39;00m\n\u001b[1;32m----> 2\u001b[0m k\n",
      "\u001b[1;31mNameError\u001b[0m: name 'k' is not defined"
     ]
    }
   ],
   "source": [
    "# if variable does not exist then we get a name error\n",
    "k"
   ]
  },
  {
   "cell_type": "code",
   "execution_count": 38,
   "id": "4378be88-c282-47e2-93e5-4d960ab4cd4f",
   "metadata": {},
   "outputs": [],
   "source": [
    "amount = 6"
   ]
  },
  {
   "cell_type": "code",
   "execution_count": 39,
   "id": "a55f4614-a7e9-4872-a95a-abb307fdf89a",
   "metadata": {},
   "outputs": [
    {
     "data": {
      "text/plain": [
       "8"
      ]
     },
     "execution_count": 39,
     "metadata": {},
     "output_type": "execute_result"
    }
   ],
   "source": [
    "amount + 2"
   ]
  },
  {
   "cell_type": "code",
   "execution_count": 40,
   "id": "31eac094-86a3-442e-8207-d7303f71c05c",
   "metadata": {},
   "outputs": [
    {
     "data": {
      "text/plain": [
       "18"
      ]
     },
     "execution_count": 40,
     "metadata": {},
     "output_type": "execute_result"
    }
   ],
   "source": [
    "amount * 3"
   ]
  },
  {
   "cell_type": "code",
   "execution_count": 41,
   "id": "cc3173bb-9500-4515-90ec-deff9a6ccf14",
   "metadata": {},
   "outputs": [
    {
     "data": {
      "text/plain": [
       "6"
      ]
     },
     "execution_count": 41,
     "metadata": {},
     "output_type": "execute_result"
    }
   ],
   "source": [
    "amount "
   ]
  },
  {
   "cell_type": "code",
   "execution_count": 42,
   "id": "d000e037-68af-46dd-b93c-8a194e2de2a3",
   "metadata": {},
   "outputs": [],
   "source": [
    "amount = amount + 5"
   ]
  },
  {
   "cell_type": "code",
   "execution_count": 43,
   "id": "16951fc1-c398-442a-b936-efc6aeba3c9a",
   "metadata": {},
   "outputs": [
    {
     "data": {
      "text/plain": [
       "11"
      ]
     },
     "execution_count": 43,
     "metadata": {},
     "output_type": "execute_result"
    }
   ],
   "source": [
    "amount "
   ]
  },
  {
   "cell_type": "markdown",
   "id": "b963564b-dd2b-4719-918d-ab5e657d678c",
   "metadata": {},
   "source": [
    "## assignment operations"
   ]
  },
  {
   "cell_type": "code",
   "execution_count": 44,
   "id": "a539dacc-9425-43ba-813e-62c69a6a9de3",
   "metadata": {},
   "outputs": [],
   "source": [
    "a = 10"
   ]
  },
  {
   "cell_type": "code",
   "execution_count": 45,
   "id": "5097767b-f689-4b13-a53f-9f03a17cd3f7",
   "metadata": {},
   "outputs": [],
   "source": [
    "a = a + 1"
   ]
  },
  {
   "cell_type": "code",
   "execution_count": 46,
   "id": "5baccc17-6c6a-4e4f-87e4-68ff23d034e0",
   "metadata": {},
   "outputs": [
    {
     "data": {
      "text/plain": [
       "11"
      ]
     },
     "execution_count": 46,
     "metadata": {},
     "output_type": "execute_result"
    }
   ],
   "source": [
    "a"
   ]
  },
  {
   "cell_type": "code",
   "execution_count": 47,
   "id": "b1115b98-b65b-466c-ae0c-5a94259d920a",
   "metadata": {},
   "outputs": [],
   "source": [
    "a +=1"
   ]
  },
  {
   "cell_type": "code",
   "execution_count": 48,
   "id": "db9453f7-3cd9-46d5-aad3-3b97fc245516",
   "metadata": {},
   "outputs": [
    {
     "data": {
      "text/plain": [
       "12"
      ]
     },
     "execution_count": 48,
     "metadata": {},
     "output_type": "execute_result"
    }
   ],
   "source": [
    "a"
   ]
  },
  {
   "cell_type": "code",
   "execution_count": 49,
   "id": "a3e1f568-87cc-4f6a-8072-5ca7a6ec4344",
   "metadata": {},
   "outputs": [],
   "source": [
    "a -= 1"
   ]
  },
  {
   "cell_type": "code",
   "execution_count": 50,
   "id": "9bc0b33d-af4d-4fd8-8848-782c054fe263",
   "metadata": {},
   "outputs": [
    {
     "data": {
      "text/plain": [
       "11"
      ]
     },
     "execution_count": 50,
     "metadata": {},
     "output_type": "execute_result"
    }
   ],
   "source": [
    "a"
   ]
  },
  {
   "cell_type": "code",
   "execution_count": 51,
   "id": "b07584a2-ef3b-4742-a347-c518fc0347bf",
   "metadata": {},
   "outputs": [],
   "source": [
    "a *=2"
   ]
  },
  {
   "cell_type": "code",
   "execution_count": 52,
   "id": "14541ca4-50de-4f0f-925a-cdda189ef5e2",
   "metadata": {},
   "outputs": [
    {
     "data": {
      "text/plain": [
       "22"
      ]
     },
     "execution_count": 52,
     "metadata": {},
     "output_type": "execute_result"
    }
   ],
   "source": [
    "a"
   ]
  },
  {
   "cell_type": "code",
   "execution_count": 53,
   "id": "fc0568c5-95b1-4b89-86da-ed07394d521d",
   "metadata": {},
   "outputs": [],
   "source": [
    "a /=2"
   ]
  },
  {
   "cell_type": "code",
   "execution_count": 54,
   "id": "bf825e7c-8885-47b1-b765-bb8c92a1c759",
   "metadata": {},
   "outputs": [
    {
     "data": {
      "text/plain": [
       "11.0"
      ]
     },
     "execution_count": 54,
     "metadata": {},
     "output_type": "execute_result"
    }
   ],
   "source": [
    "a"
   ]
  },
  {
   "cell_type": "code",
   "execution_count": 55,
   "id": "94d52277-07f0-4007-a202-418060e17dc2",
   "metadata": {},
   "outputs": [
    {
     "data": {
      "text/plain": [
       "float"
      ]
     },
     "execution_count": 55,
     "metadata": {},
     "output_type": "execute_result"
    }
   ],
   "source": [
    "type(a)"
   ]
  },
  {
   "cell_type": "code",
   "execution_count": 56,
   "id": "18a78c97-6494-4428-a9c2-c1bc5ed01490",
   "metadata": {},
   "outputs": [],
   "source": [
    "a %= 2"
   ]
  },
  {
   "cell_type": "code",
   "execution_count": 57,
   "id": "499ad466-1cbf-4945-87cd-5a27fd87fb15",
   "metadata": {},
   "outputs": [
    {
     "data": {
      "text/plain": [
       "1.0"
      ]
     },
     "execution_count": 57,
     "metadata": {},
     "output_type": "execute_result"
    }
   ],
   "source": [
    "a"
   ]
  },
  {
   "cell_type": "code",
   "execution_count": 58,
   "id": "10927a55-8f4c-4fcb-bba2-33f76c823791",
   "metadata": {},
   "outputs": [],
   "source": [
    "a //=2"
   ]
  },
  {
   "cell_type": "code",
   "execution_count": 59,
   "id": "2ba05ad3-551f-4bfe-9a4d-0ca69bda0c7b",
   "metadata": {},
   "outputs": [
    {
     "data": {
      "text/plain": [
       "0.0"
      ]
     },
     "execution_count": 59,
     "metadata": {},
     "output_type": "execute_result"
    }
   ],
   "source": [
    "a"
   ]
  },
  {
   "cell_type": "code",
   "execution_count": 60,
   "id": "2a66c75e-9a96-44a8-8012-a07b3c49462a",
   "metadata": {},
   "outputs": [],
   "source": [
    "a **= 2"
   ]
  },
  {
   "cell_type": "code",
   "execution_count": 61,
   "id": "efd7f7a3-60b1-442f-ab99-bb81d18cd9a9",
   "metadata": {},
   "outputs": [
    {
     "data": {
      "text/plain": [
       "0.0"
      ]
     },
     "execution_count": 61,
     "metadata": {},
     "output_type": "execute_result"
    }
   ],
   "source": [
    "a"
   ]
  },
  {
   "cell_type": "code",
   "execution_count": 62,
   "id": "a8e9c633-560a-4852-ab8e-b751c8e4eec2",
   "metadata": {},
   "outputs": [],
   "source": [
    "b = 2"
   ]
  },
  {
   "cell_type": "code",
   "execution_count": 63,
   "id": "8151351b-03ef-4f96-8f9d-21169a97839c",
   "metadata": {},
   "outputs": [],
   "source": [
    "\n",
    "b **= 3"
   ]
  },
  {
   "cell_type": "code",
   "execution_count": null,
   "id": "773ab8b4-a431-4423-82d3-be53fd73d69c",
   "metadata": {},
   "outputs": [],
   "source": []
  },
  {
   "cell_type": "code",
   "execution_count": null,
   "id": "68d77b70-4156-490f-b507-36b16d286129",
   "metadata": {},
   "outputs": [],
   "source": []
  },
  {
   "cell_type": "code",
   "execution_count": null,
   "id": "af3fe67f-fa16-46db-80be-87f9d315c12f",
   "metadata": {},
   "outputs": [],
   "source": []
  }
 ],
 "metadata": {
  "kernelspec": {
   "display_name": "Python [conda env:base] *",
   "language": "python",
   "name": "conda-base-py"
  },
  "language_info": {
   "codemirror_mode": {
    "name": "ipython",
    "version": 3
   },
   "file_extension": ".py",
   "mimetype": "text/x-python",
   "name": "python",
   "nbconvert_exporter": "python",
   "pygments_lexer": "ipython3",
   "version": "3.13.5"
  }
 },
 "nbformat": 4,
 "nbformat_minor": 5
}
