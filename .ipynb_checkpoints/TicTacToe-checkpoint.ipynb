{
 "cells": [
  {
   "cell_type": "markdown",
   "id": "efa5317f-8942-40be-8f6c-57b0cab806c7",
   "metadata": {},
   "source": [
    "# display"
   ]
  },
  {
   "cell_type": "code",
   "execution_count": 1,
   "id": "dc749599-afc6-4081-b913-4b2e2b07f3dc",
   "metadata": {},
   "outputs": [],
   "source": [
    "# this import helps to clear previous output display\n",
    "from IPython.display import clear_output"
   ]
  },
  {
   "cell_type": "code",
   "execution_count": 2,
   "id": "64238b89-0c23-401f-9fcd-070c57196701",
   "metadata": {},
   "outputs": [],
   "source": [
    "# for random players\n",
    "import random"
   ]
  },
  {
   "cell_type": "code",
   "execution_count": 3,
   "id": "a707f385-fdcc-41ca-b18e-9ea3b2eb84e4",
   "metadata": {},
   "outputs": [],
   "source": [
    "li = [\" \"]*10"
   ]
  },
  {
   "cell_type": "code",
   "execution_count": 4,
   "id": "a8fb0b43-5a74-480a-809c-a4c3c81f9fa5",
   "metadata": {
    "scrolled": true
   },
   "outputs": [
    {
     "data": {
      "text/plain": [
       "[' ', ' ', ' ', ' ', ' ', ' ', ' ', ' ', ' ', ' ']"
      ]
     },
     "execution_count": 4,
     "metadata": {},
     "output_type": "execute_result"
    }
   ],
   "source": [
    "li"
   ]
  },
  {
   "cell_type": "code",
   "execution_count": 5,
   "id": "396e74e8-0949-4fe4-91b9-242f86247707",
   "metadata": {},
   "outputs": [],
   "source": [
    "display()"
   ]
  },
  {
   "cell_type": "code",
   "execution_count": 6,
   "id": "fabc56df-f9a3-4740-a6de-8179c3e9faf2",
   "metadata": {},
   "outputs": [],
   "source": [
    "li[5] = \"O\""
   ]
  },
  {
   "cell_type": "code",
   "execution_count": 7,
   "id": "f4e09d20-3732-4a3a-be1d-20300127e4f1",
   "metadata": {},
   "outputs": [],
   "source": [
    "# This function is used to display structure of Tic-Tac-toe board\n",
    "def display():\n",
    "    print(li[7],\" | \",li[8],\" | \",li[9])\n",
    "    print(\"-\"*14)\n",
    "    print(li[4],\" | \",li[5],\" | \",li[6])\n",
    "    print(\"-\"*14)\n",
    "    print(li[1],\" | \",li[2],\" | \",li[3])"
   ]
  },
  {
   "cell_type": "code",
   "execution_count": 8,
   "id": "57d581c7-7105-41c0-b474-f0f357fe18e0",
   "metadata": {},
   "outputs": [],
   "source": [
    "# This function returns all the empty positions in the board\n",
    "def empty_positions():\n",
    "    ans = []\n",
    "    for i in range(1, len(li)):\n",
    "        if li[i] == \" \":\n",
    "            ans.append(i)\n",
    "    return ans"
   ]
  },
  {
   "cell_type": "code",
   "execution_count": 9,
   "id": "0b8292c2-5132-4eaf-ac1a-ede5406eb436",
   "metadata": {},
   "outputs": [],
   "source": [
    "# This function choose one of the position from empty_positions() list ans, and then take that position\n",
    "def take_position():\n",
    "    position = None\n",
    "    available = empty_positions()\n",
    "    while position is None:\n",
    "        try:\n",
    "            position = int(input(f'please chose among {available}'))\n",
    "        except ValueError:\n",
    "            print(f\"please provide a number among {available}\")\n",
    "        else:\n",
    "            if position in available:\n",
    "                return position\n",
    "            else:\n",
    "                print(f\"please provide a number among {available}\")\n",
    "                position = None"
   ]
  },
  {
   "cell_type": "code",
   "execution_count": 10,
   "id": "c8c77e89-7987-4a3d-bcfe-700cdce05533",
   "metadata": {},
   "outputs": [],
   "source": [
    "# This function helps putting markers on the available positions\n",
    "def put_marker(position, marker):\n",
    "    li[position] = marker"
   ]
  },
  {
   "cell_type": "code",
   "execution_count": 11,
   "id": "319186d1-76ea-4744-a974-0aad2c643d14",
   "metadata": {},
   "outputs": [],
   "source": [
    "# This function is used to check all the winning cases horizonatlly  or vertically  or diagonally\n",
    "# return ture if player wins and false if not\n",
    "def check_win():\n",
    "    if (li[7]==li[8]==li[9]!=\" \") or \\\n",
    "    (li[4]==li[5]==li[6]!=\" \") or \\\n",
    "    (li[1]==li[2]==li[3]!=\" \") or \\\n",
    "    (li[7]==li[4]==li[1]!=\" \") or \\\n",
    "    (li[8]==li[5]==li[2]!=\" \") or \\\n",
    "    (li[9]==li[6]==li[3]!=\" \") or \\\n",
    "    (li[7]==li[5]==li[3]!=\" \") or \\\n",
    "    (li[1]==li[5]==li[9]!=\" \"):\n",
    "        return True\n",
    "    else:\n",
    "        return False"
   ]
  },
  {
   "cell_type": "code",
   "execution_count": 12,
   "id": "b8616f8d-fac3-4b50-a0d3-8f785e5b021f",
   "metadata": {},
   "outputs": [],
   "source": [
    "# This function check if the bord is full or not\n",
    "def board_full():\n",
    "    if len(empty_positions())==0:\n",
    "        return True\n",
    "    else:\n",
    "        return False"
   ]
  },
  {
   "cell_type": "code",
   "execution_count": 13,
   "id": "9f91214e-bb6b-4023-b08e-cab2d6e4b802",
   "metadata": {},
   "outputs": [],
   "source": [
    "# This function Switch markers if X return O , if O return X\n",
    "def change_marker(marker):\n",
    "    if marker == \"O\":\n",
    "        return \"X\"\n",
    "    else:\n",
    "        return \"O\""
   ]
  },
  {
   "cell_type": "code",
   "execution_count": 14,
   "id": "ec649158-aae7-4a7c-b165-358cf8ab9097",
   "metadata": {},
   "outputs": [],
   "source": [
    "# this function checks if players want to play again \n",
    "\n",
    "def play_again():\n",
    "    while True:\n",
    "        playAgain = input(\"Do you want to play again? (Y/N): \")\n",
    "        try:\n",
    "            if playAgain[0].lower() == 'y':\n",
    "                print(\"New game\")\n",
    "                return True\n",
    "            elif playAgain[0].lower() == 'n':\n",
    "                print(\"Thanks for playing!\")\n",
    "                return False\n",
    "            else:\n",
    "                print(\"Please enter Y for yes or N for no\")\n",
    "                \n",
    "        except IndexError:   # jab user blank input dega\n",
    "            print(\"Please enter Y for yes or N for no\")\n",
    "\n",
    "    "
   ]
  },
  {
   "cell_type": "code",
   "execution_count": 15,
   "id": "031e289a-073c-42ed-8fd2-04dd2bfd81f0",
   "metadata": {},
   "outputs": [],
   "source": [
    "# this function choose random players\n",
    "def choose_player(p1, p2):\n",
    "    if random.randint(0,1):\n",
    "        return p1\n",
    "    else:\n",
    "        return p2"
   ]
  },
  {
   "cell_type": "code",
   "execution_count": 16,
   "id": "7eed7d25-1f1b-4e68-8ac3-4489bb5d0576",
   "metadata": {},
   "outputs": [
    {
     "data": {
      "text/plain": [
       "'r'"
      ]
     },
     "execution_count": 16,
     "metadata": {},
     "output_type": "execute_result"
    }
   ],
   "source": [
    "choose_player(\"p\",\"r\")"
   ]
  },
  {
   "cell_type": "code",
   "execution_count": 17,
   "id": "1939f6ae-bccd-4033-95ea-ead3cba1aa9d",
   "metadata": {},
   "outputs": [],
   "source": [
    "# this function used to take names of players \n",
    "\n",
    "def player_name():\n",
    "    player = None\n",
    "    while not player:\n",
    "        player = input('Enter your name here').strip()\n",
    "        if not player.isalpha():\n",
    "            print('please enter letters only')\n",
    "            player = None\n",
    "            \n",
    "    return player\n",
    "    "
   ]
  },
  {
   "cell_type": "code",
   "execution_count": 25,
   "id": "9940d2dc-49f7-4cd1-9a5e-b81a641d84f4",
   "metadata": {
    "scrolled": true
   },
   "outputs": [
    {
     "name": "stdin",
     "output_type": "stream",
     "text": [
      "Enter your name here p\n"
     ]
    },
    {
     "data": {
      "text/plain": [
       "'p'"
      ]
     },
     "execution_count": 25,
     "metadata": {},
     "output_type": "execute_result"
    }
   ],
   "source": [
    "player_name()"
   ]
  },
  {
   "cell_type": "code",
   "execution_count": 28,
   "id": "085870a8-5649-449f-b3a7-ac4068666129",
   "metadata": {},
   "outputs": [],
   "source": [
    "#switch players\n",
    "def player_switch(switch, p1, p2):\n",
    "    if switch == p1:\n",
    "        return p2\n",
    "    else:\n",
    "        return p1"
   ]
  },
  {
   "cell_type": "code",
   "execution_count": null,
   "id": "c9621228-ac86-4e98-a003-f1d265ce28f3",
   "metadata": {},
   "outputs": [],
   "source": [
    "###### Start game with empty board\n",
    "# reset board\n",
    "li = [\" \"] * 10\n",
    "game = True\n",
    "marker = \"O\"\n",
    "\n",
    "print(\"----- GAME START -----\")\n",
    "\n",
    "#players ko name assign krna \n",
    "print('player1')\n",
    "p1 = player_name()\n",
    "print('player2')\n",
    "p2 = player_name()\n",
    "clear_output()\n",
    "# welcome players name ke saath\n",
    "print(f\"welcome {p1} and {p2}\")\n",
    "current_player = choose_player(p1,p2)\n",
    "# yeh btaeyga ki pehle kon khelega \n",
    "print(f\"{current_player} plays first\")\n",
    "\n",
    "#empty scores dictionary \n",
    "scores = {p1 : 0 , p2: 0}\n",
    "\n",
    "display()\n",
    "\n",
    "while game:\n",
    "    \n",
    "    position = take_position()\n",
    "    put_marker(position, marker)\n",
    "    clear_output()\n",
    "    display()\n",
    "\n",
    "    \n",
    "    # Winner check\n",
    "    if check_win():\n",
    "        print(f\"🎉 Congratulations! {current_player} won the game 🎉\")\n",
    "        # increase score count of current playing player then stores it in a dictionary\n",
    "        scores[current_player] += 1\n",
    "        print(scores)\n",
    "        \n",
    "        # again play krna ja nhi\n",
    "        if not play_again():\n",
    "            print(\"----- GAME END -----\")\n",
    "            break\n",
    "        else:\n",
    "            li = [\" \"] * 10   \n",
    "            marker = \"O\"      \n",
    "            print(\"----- NEW GAME START -----\")\n",
    "            display()\n",
    "            continue\n",
    "    \n",
    "    #game draw hua ki nhi\n",
    "    elif board_full():\n",
    "        print(\"😮 Board full, Game Draw!\")\n",
    "        if not play_again():\n",
    "            print(\"----- GAME END -----\")\n",
    "            break\n",
    "        else:\n",
    "            li = [\" \"] * 10\n",
    "            marker = \"O\"\n",
    "            print(\"----- NEW GAME START -----\")\n",
    "            display()\n",
    "            continue\n",
    "    \n",
    "\n",
    "    else:\n",
    "        # marker switch hoga\n",
    "        marker = change_marker(marker)\n",
    "        # player switch hoga \n",
    "        current_player = player_switch(current_player, p1, p2) "
   ]
  },
  {
   "cell_type": "code",
   "execution_count": null,
   "id": "60008582-a16b-475e-9550-2a693f756004",
   "metadata": {},
   "outputs": [],
   "source": []
  },
  {
   "cell_type": "code",
   "execution_count": null,
   "id": "96929039-482b-47c2-9c04-a109abc4b13f",
   "metadata": {},
   "outputs": [],
   "source": []
  }
 ],
 "metadata": {
  "kernelspec": {
   "display_name": "Python [conda env:base] *",
   "language": "python",
   "name": "conda-base-py"
  },
  "language_info": {
   "codemirror_mode": {
    "name": "ipython",
    "version": 3
   },
   "file_extension": ".py",
   "mimetype": "text/x-python",
   "name": "python",
   "nbconvert_exporter": "python",
   "pygments_lexer": "ipython3",
   "version": "3.13.5"
  }
 },
 "nbformat": 4,
 "nbformat_minor": 5
}
