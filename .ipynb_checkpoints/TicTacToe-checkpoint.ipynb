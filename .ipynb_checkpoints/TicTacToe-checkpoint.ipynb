{
 "cells": [
  {
   "cell_type": "markdown",
   "id": "efa5317f-8942-40be-8f6c-57b0cab806c7",
   "metadata": {},
   "source": [
    "# display"
   ]
  },
  {
   "cell_type": "code",
   "execution_count": 14,
   "id": "a707f385-fdcc-41ca-b18e-9ea3b2eb84e4",
   "metadata": {},
   "outputs": [],
   "source": [
    "li = [\" \"]*10"
   ]
  },
  {
   "cell_type": "code",
   "execution_count": 15,
   "id": "a8fb0b43-5a74-480a-809c-a4c3c81f9fa5",
   "metadata": {
    "scrolled": true
   },
   "outputs": [
    {
     "data": {
      "text/plain": [
       "[' ', ' ', ' ', ' ', ' ', ' ', ' ', ' ', ' ', ' ']"
      ]
     },
     "execution_count": 15,
     "metadata": {},
     "output_type": "execute_result"
    }
   ],
   "source": [
    "li"
   ]
  },
  {
   "cell_type": "code",
   "execution_count": 16,
   "id": "fabc56df-f9a3-4740-a6de-8179c3e9faf2",
   "metadata": {},
   "outputs": [],
   "source": [
    "li[5] = \"O\""
   ]
  },
  {
   "cell_type": "code",
   "execution_count": 17,
   "id": "f4e09d20-3732-4a3a-be1d-20300127e4f1",
   "metadata": {},
   "outputs": [],
   "source": [
    "def display():\n",
    "    print(li[7],\" | \",li[8],\" | \",li[9])\n",
    "    print(\"-\"*14)\n",
    "    print(li[4],\" | \",li[5],\" | \",li[6])\n",
    "    print(\"-\"*14)\n",
    "    print(li[1],\" | \",li[2],\" | \",li[3])"
   ]
  },
  {
   "cell_type": "code",
   "execution_count": 18,
   "id": "396e74e8-0949-4fe4-91b9-242f86247707",
   "metadata": {},
   "outputs": [
    {
     "name": "stdout",
     "output_type": "stream",
     "text": [
      "   |     |   \n",
      "--------------\n",
      "   |  O  |   \n",
      "--------------\n",
      "   |     |   \n"
     ]
    }
   ],
   "source": [
    "display()"
   ]
  },
  {
   "cell_type": "code",
   "execution_count": 20,
   "id": "57d581c7-7105-41c0-b474-f0f357fe18e0",
   "metadata": {},
   "outputs": [],
   "source": [
    "li[7]='X'"
   ]
  },
  {
   "cell_type": "code",
   "execution_count": 21,
   "id": "0b8292c2-5132-4eaf-ac1a-ede5406eb436",
   "metadata": {},
   "outputs": [],
   "source": [
    "## markers lgane hai \n",
    "def put_marker(position, marker):\n",
    "    li[position] = marker"
   ]
  },
  {
   "cell_type": "code",
   "execution_count": 22,
   "id": "c8c77e89-7987-4a3d-bcfe-700cdce05533",
   "metadata": {},
   "outputs": [],
   "source": [
    "put_marker(3,'X')"
   ]
  },
  {
   "cell_type": "code",
   "execution_count": 23,
   "id": "8e04df3b-d79e-49a3-ae5b-8fa00e6052bc",
   "metadata": {},
   "outputs": [
    {
     "name": "stdout",
     "output_type": "stream",
     "text": [
      "X  |     |   \n",
      "--------------\n",
      "   |  O  |   \n",
      "--------------\n",
      "   |     |  X\n"
     ]
    }
   ],
   "source": [
    "display()"
   ]
  },
  {
   "cell_type": "code",
   "execution_count": 24,
   "id": "c5000593-a0e8-408b-8270-dc04ceec3a96",
   "metadata": {},
   "outputs": [],
   "source": [
    "# ## check if position is empty or not\n",
    "# def check_position_empty(position):\n",
    "#     if li[position] == \" \":\n",
    "#         return True\n",
    "#     else:\n",
    "#         return False"
   ]
  },
  {
   "cell_type": "code",
   "execution_count": 25,
   "id": "d3f61aae-350a-4de1-a348-8a183466b322",
   "metadata": {},
   "outputs": [],
   "source": [
    "# check_position_empty(6)"
   ]
  },
  {
   "cell_type": "code",
   "execution_count": 26,
   "id": "319186d1-76ea-4744-a974-0aad2c643d14",
   "metadata": {},
   "outputs": [],
   "source": [
    "def take_position():\n",
    "    position = None ##this is a placeholder... jab tkk data nhi hai tab tkk loop chlta rhega\n",
    "    available = empty_positions()\n",
    "    while position is None:\n",
    "        try:\n",
    "            position = int(input(f'please chose among{available}'))\n",
    "        except ValueError:\n",
    "            print(f'please provide a number among {available}')\n",
    "        else:\n",
    "            if position in available:\n",
    "                return position\n",
    "            else:\n",
    "                print(f'please provide a number among {available}')\n",
    "                position = None\n",
    "        "
   ]
  },
  {
   "cell_type": "code",
   "execution_count": 31,
   "id": "b8616f8d-fac3-4b50-a0d3-8f785e5b021f",
   "metadata": {},
   "outputs": [
    {
     "name": "stdin",
     "output_type": "stream",
     "text": [
      "please chose among[1, 2, 4, 6, 8, 9] 89\n"
     ]
    },
    {
     "name": "stdout",
     "output_type": "stream",
     "text": [
      "please provide a number among [1, 2, 4, 6, 8, 9]\n"
     ]
    },
    {
     "name": "stdin",
     "output_type": "stream",
     "text": [
      "please chose among[1, 2, 4, 6, 8, 9] \n"
     ]
    },
    {
     "name": "stdout",
     "output_type": "stream",
     "text": [
      "please provide a number among [1, 2, 4, 6, 8, 9]\n"
     ]
    },
    {
     "name": "stdin",
     "output_type": "stream",
     "text": [
      "please chose among[1, 2, 4, 6, 8, 9] jhbj\n"
     ]
    },
    {
     "name": "stdout",
     "output_type": "stream",
     "text": [
      "please provide a number among [1, 2, 4, 6, 8, 9]\n"
     ]
    },
    {
     "name": "stdin",
     "output_type": "stream",
     "text": [
      "please chose among[1, 2, 4, 6, 8, 9] huihg\n"
     ]
    },
    {
     "name": "stdout",
     "output_type": "stream",
     "text": [
      "please provide a number among [1, 2, 4, 6, 8, 9]\n"
     ]
    },
    {
     "name": "stdin",
     "output_type": "stream",
     "text": [
      "please chose among[1, 2, 4, 6, 8, 9] -8877\n"
     ]
    },
    {
     "name": "stdout",
     "output_type": "stream",
     "text": [
      "please provide a number among [1, 2, 4, 6, 8, 9]\n"
     ]
    },
    {
     "name": "stdin",
     "output_type": "stream",
     "text": [
      "please chose among[1, 2, 4, 6, 8, 9] -6\n"
     ]
    },
    {
     "name": "stdout",
     "output_type": "stream",
     "text": [
      "please provide a number among [1, 2, 4, 6, 8, 9]\n"
     ]
    },
    {
     "name": "stdin",
     "output_type": "stream",
     "text": [
      "please chose among[1, 2, 4, 6, 8, 9] 6\n"
     ]
    },
    {
     "data": {
      "text/plain": [
       "6"
      ]
     },
     "execution_count": 31,
     "metadata": {},
     "output_type": "execute_result"
    }
   ],
   "source": [
    "take_position()"
   ]
  },
  {
   "cell_type": "code",
   "execution_count": 32,
   "id": "4dea858e-d22f-496b-837b-59a9b043cf07",
   "metadata": {},
   "outputs": [],
   "source": [
    "## kosnis position khali hai mare pass unki list nikal lenge\n",
    "def empty_positions():\n",
    "    ans = []\n",
    "    for i in range(1, len(li)):\n",
    "        if li[i] == \" \":\n",
    "            ans.append(i)\n",
    "    return ans"
   ]
  },
  {
   "cell_type": "code",
   "execution_count": 34,
   "id": "9f91214e-bb6b-4023-b08e-cab2d6e4b802",
   "metadata": {},
   "outputs": [
    {
     "data": {
      "text/plain": [
       "False"
      ]
     },
     "execution_count": 34,
     "metadata": {},
     "output_type": "execute_result"
    }
   ],
   "source": [
    "5 in empty_positions()"
   ]
  },
  {
   "cell_type": "code",
   "execution_count": 33,
   "id": "c9621228-ac86-4e98-a003-f1d265ce28f3",
   "metadata": {},
   "outputs": [
    {
     "data": {
      "text/plain": [
       "[1, 2, 4, 6, 8, 9]"
      ]
     },
     "execution_count": 33,
     "metadata": {},
     "output_type": "execute_result"
    }
   ],
   "source": [
    "empty_positions()"
   ]
  },
  {
   "cell_type": "code",
   "execution_count": 35,
   "id": "60008582-a16b-475e-9550-2a693f756004",
   "metadata": {},
   "outputs": [
    {
     "data": {
      "text/plain": [
       "True"
      ]
     },
     "execution_count": 35,
     "metadata": {},
     "output_type": "execute_result"
    }
   ],
   "source": [
    "4 in empty_positions()"
   ]
  },
  {
   "cell_type": "code",
   "execution_count": null,
   "id": "d055cc8e-40fc-4151-a478-2cb03905025b",
   "metadata": {},
   "outputs": [],
   "source": []
  },
  {
   "cell_type": "code",
   "execution_count": null,
   "id": "dc5f3cf7-278c-47ff-b60d-b4f44420554d",
   "metadata": {},
   "outputs": [],
   "source": []
  },
  {
   "cell_type": "code",
   "execution_count": null,
   "id": "866926b7-1b30-4246-825e-0d34d815e840",
   "metadata": {},
   "outputs": [],
   "source": []
  }
 ],
 "metadata": {
  "kernelspec": {
   "display_name": "Python [conda env:base] *",
   "language": "python",
   "name": "conda-base-py"
  },
  "language_info": {
   "codemirror_mode": {
    "name": "ipython",
    "version": 3
   },
   "file_extension": ".py",
   "mimetype": "text/x-python",
   "name": "python",
   "nbconvert_exporter": "python",
   "pygments_lexer": "ipython3",
   "version": "3.13.5"
  }
 },
 "nbformat": 4,
 "nbformat_minor": 5
}
