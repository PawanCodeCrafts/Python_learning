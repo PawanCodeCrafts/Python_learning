{
 "cells": [
  {
   "cell_type": "markdown",
   "id": "a25b0cf7-d96a-4a5c-8b2d-b0e2ed4db9fd",
   "metadata": {},
   "source": [
    "# Class and object\n",
    "\n",
    "1.  Defining and binding variables and functions is known as class\n",
    "2. class is category ---- object is item\n",
    "3. variables ko attributes kehte hai\n",
    "4. two types of attributes --- i) class attributes ii) object attribute\n",
    "5. functions ko methods kehte hai\n",
    "6. two types of methos --- i)class methods ii)object methods\n",
    "\n",
    "### 4 pillars of object oriented programming -class\n",
    "1. encapsulation\n",
    "2. inheritance\n",
    "3. polymorphism\n",
    "4. abstract\n",
    "\n",
    "##### ENACPSULATION :\n",
    "block direct access of important variables and functions (like password , bank ddetails, balance etc.) of a class to any one and showing only necessary things <br>\n",
    "<b> to block access of anything use double underscore before any name or function ( __ balance)\n",
    "##### INHERITANCE :\n",
    "Child class me parents ki properties(variables, functions) ko access krna <br>\n",
    "<u><b>super()</b></u>\n",
    "to access parent class elements in child class use super() keyword\n",
    "##### POLYMORPHISM :\n",
    "Function da name same but functionality different \n",
    "<b>There are two common types:</b> <br>\n",
    "1.<u> Function/Method Overloading </u> → Same function name but different parameter list (compile-time polymorphism). <br>\n",
    "2.<u> Function/Method Overriding </u>→ A subclass provides a new implementation of a method already defined in its parent class (run-time polymorphism). <br>\n",
    "##### ABSTRACTION :\n",
    "Abstraction is the process of defining methods in a base class (abstract class or interface) in such a way that every child class is mandatory to implement or redefine those methods.\n",
    "\n"
   ]
  },
  {
   "cell_type": "markdown",
   "id": "87b1f6ce-de74-4b30-99fd-063ff9900278",
   "metadata": {},
   "source": [
    "# CLASS"
   ]
  },
  {
   "cell_type": "code",
   "execution_count": 10,
   "id": "30d2395c-6522-484b-a318-58c3bf42f874",
   "metadata": {},
   "outputs": [],
   "source": [
    "#functions and variables ko koi bhi use ya change kr sakta hai that's why we use class "
   ]
  },
  {
   "cell_type": "code",
   "execution_count": 11,
   "id": "85c587b2-fbd5-4b1f-af01-fef33c8b142f",
   "metadata": {},
   "outputs": [],
   "source": [
    "def makeCoffee():\n",
    "    print('making coffee')"
   ]
  },
  {
   "cell_type": "code",
   "execution_count": 12,
   "id": "d0437871-1d2a-4e72-946c-510572ac844a",
   "metadata": {},
   "outputs": [
    {
     "name": "stdout",
     "output_type": "stream",
     "text": [
      "making coffee\n"
     ]
    }
   ],
   "source": [
    "makeCoffee()"
   ]
  },
  {
   "cell_type": "code",
   "execution_count": 13,
   "id": "4a4d3dba-7465-4f05-b9ae-1ddcba4541ce",
   "metadata": {},
   "outputs": [
    {
     "name": "stdout",
     "output_type": "stream",
     "text": [
      "making coffee\n"
     ]
    }
   ],
   "source": [
    "makeCoffee()"
   ]
  },
  {
   "cell_type": "code",
   "execution_count": 8,
   "id": "3154a637-be4a-4283-81f8-25cf3147f4cf",
   "metadata": {},
   "outputs": [],
   "source": [
    "def fuelUp(a=None):\n",
    "    print('filling..')\n",
    "    print(\"full tank\")\n",
    "    print(\"bye\")"
   ]
  },
  {
   "cell_type": "code",
   "execution_count": 9,
   "id": "0b50e65a-7d13-4832-9bf5-504a907faeba",
   "metadata": {},
   "outputs": [
    {
     "name": "stdout",
     "output_type": "stream",
     "text": [
      "filling..\n",
      "full tank\n",
      "bye\n"
     ]
    }
   ],
   "source": [
    "fuelUp()"
   ]
  },
  {
   "cell_type": "code",
   "execution_count": 7,
   "id": "979e5c62-f5c7-49b6-830a-1fe7da5e57f3",
   "metadata": {},
   "outputs": [],
   "source": [
    "# class is defined using \"class\" keyword\n",
    "# try to use CamelCase naming always for class\n"
   ]
  },
  {
   "cell_type": "code",
   "execution_count": null,
   "id": "70174df7-8382-4f6e-a53d-27315a54a933",
   "metadata": {},
   "outputs": [],
   "source": []
  },
  {
   "cell_type": "code",
   "execution_count": 14,
   "id": "dd435e6f-fad6-4dd0-ad5a-371c10b6885e",
   "metadata": {},
   "outputs": [],
   "source": [
    "class Car():\n",
    "    tyre = 4\n",
    "\n",
    "    def move():\n",
    "        print(\"i am moving forward\")"
   ]
  },
  {
   "cell_type": "code",
   "execution_count": 15,
   "id": "a76649ac-787c-4544-804c-1ce5b7fb20ea",
   "metadata": {},
   "outputs": [
    {
     "data": {
      "text/plain": [
       "4"
      ]
     },
     "execution_count": 15,
     "metadata": {},
     "output_type": "execute_result"
    }
   ],
   "source": [
    "# accessing variables\n",
    "Car.tyre"
   ]
  },
  {
   "cell_type": "code",
   "execution_count": 16,
   "id": "fb9fab4d-c401-44dd-8eaa-412f30fe4c9f",
   "metadata": {},
   "outputs": [
    {
     "name": "stdout",
     "output_type": "stream",
     "text": [
      "i am moving forward\n"
     ]
    }
   ],
   "source": [
    "# accessing functions\n",
    "Car.move()"
   ]
  },
  {
   "cell_type": "code",
   "execution_count": 17,
   "id": "0ff0d4e1-10de-4740-811a-c8af9605c80d",
   "metadata": {},
   "outputs": [],
   "source": [
    "# categories ki baat ho rhi hai , koi  (objrct) human ya car define abhi nhi ki hai  \n",
    "class Human():\n",
    "    legs = 2\n",
    "\n",
    "    def eatUp():\n",
    "        print('i am eating')\n",
    "        print('thank you')"
   ]
  },
  {
   "cell_type": "code",
   "execution_count": 18,
   "id": "46df2c56-f095-4799-9de9-f5ab1d5e8f9b",
   "metadata": {},
   "outputs": [
    {
     "data": {
      "text/plain": [
       "2"
      ]
     },
     "execution_count": 18,
     "metadata": {},
     "output_type": "execute_result"
    }
   ],
   "source": [
    "Human.legs"
   ]
  },
  {
   "cell_type": "code",
   "execution_count": 19,
   "id": "fbc05a19-b255-4cc4-be6b-03730dc33e49",
   "metadata": {},
   "outputs": [
    {
     "name": "stdout",
     "output_type": "stream",
     "text": [
      "i am eating\n",
      "thank you\n"
     ]
    }
   ],
   "source": [
    "Human.eatUp()"
   ]
  },
  {
   "cell_type": "code",
   "execution_count": 20,
   "id": "22785a86-8199-4abb-b380-ffe3206be05b",
   "metadata": {},
   "outputs": [
    {
     "ename": "AttributeError",
     "evalue": "type object 'Human' has no attribute 'tyre'",
     "output_type": "error",
     "traceback": [
      "\u001b[1;31m---------------------------------------------------------------------------\u001b[0m",
      "\u001b[1;31mAttributeError\u001b[0m                            Traceback (most recent call last)",
      "Cell \u001b[1;32mIn[20], line 1\u001b[0m\n\u001b[1;32m----> 1\u001b[0m Human\u001b[38;5;241m.\u001b[39mtyre\n",
      "\u001b[1;31mAttributeError\u001b[0m: type object 'Human' has no attribute 'tyre'"
     ]
    }
   ],
   "source": [
    "Human.tyre"
   ]
  },
  {
   "cell_type": "code",
   "execution_count": 23,
   "id": "ad1e5bd3-dbaa-406c-92b5-640a8e896fc7",
   "metadata": {},
   "outputs": [
    {
     "ename": "AttributeError",
     "evalue": "type object 'Car' has no attribute 'legs'",
     "output_type": "error",
     "traceback": [
      "\u001b[1;31m---------------------------------------------------------------------------\u001b[0m",
      "\u001b[1;31mAttributeError\u001b[0m                            Traceback (most recent call last)",
      "Cell \u001b[1;32mIn[23], line 1\u001b[0m\n\u001b[1;32m----> 1\u001b[0m Car\u001b[38;5;241m.\u001b[39mlegs\n",
      "\u001b[1;31mAttributeError\u001b[0m: type object 'Car' has no attribute 'legs'"
     ]
    }
   ],
   "source": [
    "Car.legs"
   ]
  },
  {
   "cell_type": "raw",
   "id": "9005f421-d355-4a58-afc6-24fa30219d94",
   "metadata": {},
   "source": [
    "OBJECT CREATION"
   ]
  },
  {
   "cell_type": "code",
   "execution_count": 32,
   "id": "a68c35ce-5352-491b-873f-c5c5049b38c9",
   "metadata": {},
   "outputs": [],
   "source": [
    "# car ka behaviour\n",
    "class Car2():\n",
    "    tyre = 4\n",
    "\n",
    "    def move2():\n",
    "        print(\"i am moving forward\")"
   ]
  },
  {
   "cell_type": "code",
   "execution_count": 33,
   "id": "ddf36071-b0e5-46a3-ac97-2559457d83e3",
   "metadata": {},
   "outputs": [],
   "source": [
    "# actual car\n",
    "# completey separate itmes hote hai objects ek doosre se\n",
    "gadi = Car2()"
   ]
  },
  {
   "cell_type": "code",
   "execution_count": 34,
   "id": "77e2498d-8223-44af-b537-01da627e5f71",
   "metadata": {},
   "outputs": [],
   "source": [
    "gadi2 = Car2()"
   ]
  },
  {
   "cell_type": "code",
   "execution_count": 35,
   "id": "9b1add20-ec38-45fe-8831-a0c0846b0d96",
   "metadata": {},
   "outputs": [
    {
     "data": {
      "text/plain": [
       "4"
      ]
     },
     "execution_count": 35,
     "metadata": {},
     "output_type": "execute_result"
    }
   ],
   "source": [
    "gadi.tyre"
   ]
  },
  {
   "cell_type": "code",
   "execution_count": 36,
   "id": "6e049a7f-170b-457b-bb65-e48d9728bddb",
   "metadata": {},
   "outputs": [
    {
     "data": {
      "text/plain": [
       "4"
      ]
     },
     "execution_count": 36,
     "metadata": {},
     "output_type": "execute_result"
    }
   ],
   "source": [
    "gadi2.tyre"
   ]
  },
  {
   "cell_type": "code",
   "execution_count": 37,
   "id": "7a5995ad-bf30-4010-89ec-22d14cba25f6",
   "metadata": {},
   "outputs": [],
   "source": [
    "gadi.tyre = 3 "
   ]
  },
  {
   "cell_type": "code",
   "execution_count": 38,
   "id": "571d3d3a-c1d4-441a-9529-e649e33812cf",
   "metadata": {},
   "outputs": [],
   "source": [
    "# completey separate itmes hote hai objects "
   ]
  },
  {
   "cell_type": "code",
   "execution_count": 39,
   "id": "a6ee9c05-882a-4fa4-8ff3-a2591a134c33",
   "metadata": {},
   "outputs": [
    {
     "data": {
      "text/plain": [
       "3"
      ]
     },
     "execution_count": 39,
     "metadata": {},
     "output_type": "execute_result"
    }
   ],
   "source": [
    "gadi.tyre"
   ]
  },
  {
   "cell_type": "code",
   "execution_count": 40,
   "id": "f3b1967f-84e4-4fd1-9d1d-40fb6d007028",
   "metadata": {
    "scrolled": true
   },
   "outputs": [
    {
     "data": {
      "text/plain": [
       "4"
      ]
     },
     "execution_count": 40,
     "metadata": {},
     "output_type": "execute_result"
    }
   ],
   "source": [
    "gadi2.tyre "
   ]
  },
  {
   "cell_type": "code",
   "execution_count": 41,
   "id": "79772bc8-1622-4bd4-92b1-90b4a1711358",
   "metadata": {},
   "outputs": [
    {
     "ename": "TypeError",
     "evalue": "Car.move() takes 0 positional arguments but 1 was given",
     "output_type": "error",
     "traceback": [
      "\u001b[1;31m---------------------------------------------------------------------------\u001b[0m",
      "\u001b[1;31mTypeError\u001b[0m                                 Traceback (most recent call last)",
      "Cell \u001b[1;32mIn[41], line 2\u001b[0m\n\u001b[0;32m      1\u001b[0m \u001b[38;5;66;03m#we do not run move function using simple object ------ without self\u001b[39;00m\n\u001b[1;32m----> 2\u001b[0m gadi1\u001b[38;5;241m.\u001b[39mmove()\n\u001b[0;32m      3\u001b[0m gadi\u001b[38;5;241m.\u001b[39mmove2()\n",
      "\u001b[1;31mTypeError\u001b[0m: Car.move() takes 0 positional arguments but 1 was given"
     ]
    }
   ],
   "source": [
    "#we do not run move function using simple object ------ without self\n",
    "gadi1.move()\n",
    "gadi.move2()"
   ]
  },
  {
   "cell_type": "code",
   "execution_count": 43,
   "id": "79697311-5e9c-4d22-9c39-0b49cff1f41e",
   "metadata": {},
   "outputs": [
    {
     "name": "stdout",
     "output_type": "stream",
     "text": [
      "i am moving forward\n"
     ]
    }
   ],
   "source": [
    "## we move object using class name ---without self\n",
    "Car2.move2()"
   ]
  },
  {
   "cell_type": "code",
   "execution_count": 57,
   "id": "a6c41605-0838-4a23-9cf7-d66efee48fe8",
   "metadata": {},
   "outputs": [],
   "source": [
    "# self= to move the created item or object\n",
    "# when we use function we must write self (compulsory)\n",
    "class Car():\n",
    "    tyre=4\n",
    "    def move(self):\n",
    "        print(\" i am moving forward\")"
   ]
  },
  {
   "cell_type": "code",
   "execution_count": 58,
   "id": "1cad37cd-aadb-4dce-a6c6-644e9a2796de",
   "metadata": {},
   "outputs": [],
   "source": [
    "gadi =Car()"
   ]
  },
  {
   "cell_type": "code",
   "execution_count": 59,
   "id": "e2384cc7-55d5-4f0b-8f22-8a6d32bc1ad7",
   "metadata": {},
   "outputs": [],
   "source": [
    "gadi2 = Car()"
   ]
  },
  {
   "cell_type": "code",
   "execution_count": 60,
   "id": "bb5f987c-fa27-452e-a255-3dd891be1ce6",
   "metadata": {},
   "outputs": [
    {
     "data": {
      "text/plain": [
       "4"
      ]
     },
     "execution_count": 60,
     "metadata": {},
     "output_type": "execute_result"
    }
   ],
   "source": [
    "Car.tyre"
   ]
  },
  {
   "cell_type": "code",
   "execution_count": 61,
   "id": "5d8d92e3-9ab1-4d19-a02a-47fde15c63dc",
   "metadata": {},
   "outputs": [
    {
     "data": {
      "text/plain": [
       "4"
      ]
     },
     "execution_count": 61,
     "metadata": {},
     "output_type": "execute_result"
    }
   ],
   "source": [
    "gadi.tyre"
   ]
  },
  {
   "cell_type": "code",
   "execution_count": 62,
   "id": "4f957f33-596d-425b-b9da-8b0743fe157a",
   "metadata": {},
   "outputs": [
    {
     "name": "stdout",
     "output_type": "stream",
     "text": [
      " i am moving forward\n"
     ]
    }
   ],
   "source": [
    "## see we can access function with object here --- with self\n",
    "gadi.move()"
   ]
  },
  {
   "cell_type": "code",
   "execution_count": 63,
   "id": "0c9ffef8-0c31-4a15-a5e6-829756b95a05",
   "metadata": {},
   "outputs": [
    {
     "name": "stdout",
     "output_type": "stream",
     "text": [
      " i am moving forward\n"
     ]
    }
   ],
   "source": [
    "gadi2.move()"
   ]
  },
  {
   "cell_type": "code",
   "execution_count": 68,
   "id": "335ba4c2-ffbc-440d-825a-80d0dc0cc91a",
   "metadata": {},
   "outputs": [
    {
     "ename": "TypeError",
     "evalue": "Car.move() missing 1 required positional argument: 'self'",
     "output_type": "error",
     "traceback": [
      "\u001b[1;31m---------------------------------------------------------------------------\u001b[0m",
      "\u001b[1;31mTypeError\u001b[0m                                 Traceback (most recent call last)",
      "Cell \u001b[1;32mIn[68], line 2\u001b[0m\n\u001b[0;32m      1\u001b[0m \u001b[38;5;66;03m# but abhi ham move() class name se acess nhi kr sakte or na hi hame yeh krna hai \u001b[39;00m\n\u001b[1;32m----> 2\u001b[0m Car\u001b[38;5;241m.\u001b[39mmove()\n",
      "\u001b[1;31mTypeError\u001b[0m: Car.move() missing 1 required positional argument: 'self'"
     ]
    }
   ],
   "source": [
    "# but abhi ham move() class name se acess nhi kr sakte or na hi hame yeh krna hai \n",
    "Car.move()"
   ]
  },
  {
   "cell_type": "code",
   "execution_count": 64,
   "id": "e1f342cc-7fd1-437e-a077-edcbfbbb7e7e",
   "metadata": {},
   "outputs": [],
   "source": [
    "gadi.name = \"nano\""
   ]
  },
  {
   "cell_type": "code",
   "execution_count": 65,
   "id": "bba8f5ba-72db-4e35-94bc-a78145861e58",
   "metadata": {},
   "outputs": [],
   "source": [
    "gadi2.name = 'alto'"
   ]
  },
  {
   "cell_type": "code",
   "execution_count": 66,
   "id": "64e53843-667c-4f5b-b7ae-9d2717fd31e3",
   "metadata": {},
   "outputs": [
    {
     "data": {
      "text/plain": [
       "'nano'"
      ]
     },
     "execution_count": 66,
     "metadata": {},
     "output_type": "execute_result"
    }
   ],
   "source": [
    "gadi.name"
   ]
  },
  {
   "cell_type": "code",
   "execution_count": 67,
   "id": "a1fc5348-7182-489d-8495-bedf0fe7dacc",
   "metadata": {},
   "outputs": [
    {
     "data": {
      "text/plain": [
       "'alto'"
      ]
     },
     "execution_count": 67,
     "metadata": {},
     "output_type": "execute_result"
    }
   ],
   "source": [
    "gadi2.name"
   ]
  },
  {
   "cell_type": "code",
   "execution_count": 70,
   "id": "571aa0ab-f121-47bc-81a6-0190b631188e",
   "metadata": {},
   "outputs": [],
   "source": [
    "class Car():\n",
    "    tyre=4\n",
    "    def __init__(self): #init=initialize(special function after__ and they run automatically) we can see them by write def__ and click on tab\n",
    "        self.name=\"nano\"\n",
    "    def move():\n",
    "        print(\"moving forward\")       "
   ]
  },
  {
   "cell_type": "code",
   "execution_count": 71,
   "id": "f370b83f-48d6-4f92-b165-a0efb605e5bd",
   "metadata": {},
   "outputs": [],
   "source": [
    "# __init__ special function hai toh yeh apne aap run hoga isne name btane me help krta hai\n",
    "class Car():\n",
    "    #variable belonging to whole class\n",
    "    tyre = 4\n",
    "\n",
    "    def __init__(self, model, year =None): # automatically runs when object is created\n",
    "        #variable of the object\n",
    "        self.model = model\n",
    "        self.year =  year\n",
    "\n",
    "    def introduction(self):\n",
    "        print(f'hi am {self.model} and i was made in {self.year}')\n",
    "\n",
    "    def move(self):\n",
    "        print('moving forwrad')"
   ]
  },
  {
   "cell_type": "code",
   "execution_count": 37,
   "id": "cb506f21-01b0-4a0c-a34d-ba630a7615ca",
   "metadata": {},
   "outputs": [],
   "source": [
    "gadi = Car(\"Nano\", 2005)"
   ]
  },
  {
   "cell_type": "code",
   "execution_count": 38,
   "id": "225645ba-ead5-45f9-8071-4174058cabe5",
   "metadata": {},
   "outputs": [
    {
     "name": "stdout",
     "output_type": "stream",
     "text": [
      "hi am Nano and i was made in 2005\n"
     ]
    }
   ],
   "source": [
    "gadi.introduction()"
   ]
  },
  {
   "cell_type": "code",
   "execution_count": 39,
   "id": "f6f569ea-2578-43f3-a5a7-52ac4c642a38",
   "metadata": {},
   "outputs": [
    {
     "name": "stdout",
     "output_type": "stream",
     "text": [
      "moving forwrad\n"
     ]
    }
   ],
   "source": [
    "gadi.move()"
   ]
  },
  {
   "cell_type": "code",
   "execution_count": 40,
   "id": "b8a11340-ef3c-4d08-9893-d7d5d7786afe",
   "metadata": {},
   "outputs": [],
   "source": [
    "gadi2 = Car(\"alto\", 2010)"
   ]
  },
  {
   "cell_type": "code",
   "execution_count": 41,
   "id": "ddd35ed1-57eb-4daa-8d1e-3a284d19fb0e",
   "metadata": {},
   "outputs": [
    {
     "name": "stdout",
     "output_type": "stream",
     "text": [
      "hi am alto and i was made in 2010\n"
     ]
    }
   ],
   "source": [
    "gadi2.introduction()"
   ]
  },
  {
   "cell_type": "code",
   "execution_count": 43,
   "id": "eb407c94-6aee-4611-88aa-0f723cc4b89d",
   "metadata": {},
   "outputs": [
    {
     "name": "stdout",
     "output_type": "stream",
     "text": [
      "moving forwrad\n"
     ]
    }
   ],
   "source": [
    "gadi2.move()"
   ]
  },
  {
   "cell_type": "code",
   "execution_count": 72,
   "id": "30fe7b69-9570-43ad-936e-c90fb28326e7",
   "metadata": {},
   "outputs": [],
   "source": [
    "class Human():\n",
    "    legs = 2\n",
    "\n",
    "    def __init__(self, name, age=0):\n",
    "        self.name = name\n",
    "        self.age = age\n",
    "\n",
    "    def intro(self):\n",
    "        print(f\"hi i am {self.name} and my age is {self.age} \")\n",
    "\n",
    "    "
   ]
  },
  {
   "cell_type": "code",
   "execution_count": 73,
   "id": "5fd24590-3104-4889-8ad2-84bfa60da0d9",
   "metadata": {},
   "outputs": [],
   "source": [
    "insaan1 = Human(\"pawan\", 24)"
   ]
  },
  {
   "cell_type": "code",
   "execution_count": 74,
   "id": "2ed97e96-f041-499f-b32c-5bcb55ed4d3d",
   "metadata": {},
   "outputs": [
    {
     "name": "stdout",
     "output_type": "stream",
     "text": [
      "hi i am pawan and my age is 24 \n"
     ]
    }
   ],
   "source": [
    "insaan1.intro()"
   ]
  },
  {
   "cell_type": "code",
   "execution_count": 75,
   "id": "9695169b-f66a-489e-97a8-6ee815315b3d",
   "metadata": {},
   "outputs": [],
   "source": [
    "insaan2 = Human(\"raman\", 20)"
   ]
  },
  {
   "cell_type": "code",
   "execution_count": 76,
   "id": "76a21d0b-5dd3-4408-8c32-6bedb934e25b",
   "metadata": {},
   "outputs": [
    {
     "name": "stdout",
     "output_type": "stream",
     "text": [
      "hi i am raman and my age is 20 \n"
     ]
    }
   ],
   "source": [
    "insaan2.intro()"
   ]
  },
  {
   "cell_type": "markdown",
   "id": "8793c495-eb4f-422f-a4a5-1d52319bd0ac",
   "metadata": {},
   "source": [
    "## Magic functions or special"
   ]
  },
  {
   "cell_type": "code",
   "execution_count": 108,
   "id": "cb6613f1-7e8a-489f-b359-35e8527835d1",
   "metadata": {},
   "outputs": [],
   "source": [
    "class Account():\n",
    "    BANK_NAME=\"SBI\"\n",
    "    def __init__(self,name , initialDeposit=0):\n",
    "        self.name= name\n",
    "        self.Balance= initialDeposit\n",
    "        print(f\"{name} welcome to {self.BANK_NAME}\")\n",
    "        \n"
   ]
  },
  {
   "cell_type": "code",
   "execution_count": 109,
   "id": "7e922d14-e410-4474-8aa8-c64a5a5df964",
   "metadata": {},
   "outputs": [
    {
     "name": "stdout",
     "output_type": "stream",
     "text": [
      "komal welcome to SBI\n"
     ]
    }
   ],
   "source": [
    "pehlaAccount=Account(\"komal\",5000)"
   ]
  },
  {
   "cell_type": "code",
   "execution_count": 110,
   "id": "4880ffe3-7411-477a-8b23-c3fe30d49b89",
   "metadata": {
    "scrolled": true
   },
   "outputs": [
    {
     "data": {
      "text/plain": [
       "'komal'"
      ]
     },
     "execution_count": 110,
     "metadata": {},
     "output_type": "execute_result"
    }
   ],
   "source": [
    "pehlaAccount.name"
   ]
  },
  {
   "cell_type": "code",
   "execution_count": 111,
   "id": "1d453758-dcca-47c3-91e5-4e03137b4436",
   "metadata": {
    "scrolled": true
   },
   "outputs": [
    {
     "data": {
      "text/plain": [
       "5000"
      ]
     },
     "execution_count": 111,
     "metadata": {},
     "output_type": "execute_result"
    }
   ],
   "source": [
    "pehlaAccount.Balance"
   ]
  },
  {
   "cell_type": "code",
   "execution_count": 112,
   "id": "01108832-4add-41b4-8d32-306e019b5f66",
   "metadata": {},
   "outputs": [],
   "source": [
    "pehlaAccount.name=\"kirti\""
   ]
  },
  {
   "cell_type": "code",
   "execution_count": 114,
   "id": "dfeff61b-6b59-4b28-8f02-85fafc9f143e",
   "metadata": {},
   "outputs": [
    {
     "data": {
      "text/plain": [
       "'kirti'"
      ]
     },
     "execution_count": 114,
     "metadata": {},
     "output_type": "execute_result"
    }
   ],
   "source": [
    "pehlaAccount.name"
   ]
  },
  {
   "cell_type": "code",
   "execution_count": 115,
   "id": "29506608-ed02-47a6-9945-bf04b3776d8c",
   "metadata": {},
   "outputs": [],
   "source": [
    " class Account():\n",
    "    BANK_NAME=\"SBI\"\n",
    "    def __init__(self,name , initialDeposit=0):\n",
    "        self.name= name\n",
    "        self.Balance= initialDeposit\n",
    "        print(f\"{name} welcome to {self.BANK_NAME}\")\n",
    "\n",
    "     # str (use when function goes to print)\n",
    "    def __str__(self):\n",
    "        # mandatory to return a str\n",
    "        a= f\"\"\"\n",
    "             ======{self.BANK_NAME}======\n",
    "         Account Holder  : {self.name}\n",
    "         Account Balance : {self.Balance}\n",
    "        \"\"\"\n",
    "        return a"
   ]
  },
  {
   "cell_type": "code",
   "execution_count": 116,
   "id": "5e72ece4-9825-4ccf-848f-1e96ac9ef4e2",
   "metadata": {},
   "outputs": [
    {
     "name": "stdout",
     "output_type": "stream",
     "text": [
      "gupreet welcome to SBI\n"
     ]
    }
   ],
   "source": [
    "pehlaAccount=Account(\"gupreet\",5000)"
   ]
  },
  {
   "cell_type": "code",
   "execution_count": 118,
   "id": "b6a095f3-1997-4723-afdb-e12b7f2b5cca",
   "metadata": {},
   "outputs": [
    {
     "name": "stdout",
     "output_type": "stream",
     "text": [
      "\n",
      "            ======SBI======\n",
      "        Account Holder  : gupreet\n",
      "        Account Balance : 5000\n",
      "       \n"
     ]
    }
   ],
   "source": [
    "print(pehlaAccount)"
   ]
  },
  {
   "cell_type": "code",
   "execution_count": 119,
   "id": "f54813c9-7a0d-4544-aec8-37dacce5fb46",
   "metadata": {},
   "outputs": [],
   "source": [
    "class Account():\n",
    "    BANK_NAME = \"SBI\"\n",
    "    # self is object\n",
    "    # init runs when item is created\n",
    "    def __init__(self, name, initialDeposit = 0):\n",
    "        self.name = name\n",
    "        self.balance = initialDeposit\n",
    "        print(f\"{name} WELCOME TO {self.BANK_NAME}\")\n",
    "\n",
    "    # str runs when item is printed\n",
    "    def __str__(self):\n",
    "        # mandatory to return a str\n",
    "        # print(\"hi\") -- error\n",
    "        a = f\"\"\"\n",
    "             === {self.BANK_NAME} ===\n",
    "             Account Holder  : {self.name}\n",
    "             Account Balance : {self.balance}\n",
    "        \"\"\"\n",
    "        return a\n",
    "\n",
    "    def __del__(self):\n",
    "            # runs when memory location is cleared\n",
    "            # runs before object is deleted\n",
    "            b = f\"\"\"\n",
    "             === {self.BANK_NAME} ===\n",
    "             byee\n",
    "        \"\"\"\n",
    "            print(b)\n",
    "            print('item was deleted')\n",
    "        "
   ]
  },
  {
   "cell_type": "code",
   "execution_count": 120,
   "id": "aded0f4b-354e-4469-9f7b-d966cceca797",
   "metadata": {},
   "outputs": [
    {
     "name": "stdout",
     "output_type": "stream",
     "text": [
      "pawan WELCOME TO SBI\n"
     ]
    }
   ],
   "source": [
    "pehlaAccount = Account(\"pawan\", 50000)"
   ]
  },
  {
   "cell_type": "code",
   "execution_count": 121,
   "id": "72b67bc8-1fc3-4537-9e5e-363e45c16fb0",
   "metadata": {},
   "outputs": [
    {
     "name": "stdout",
     "output_type": "stream",
     "text": [
      "\n",
      "             === SBI ===\n",
      "             Account Holder  : pawan\n",
      "             Account Balance : 50000\n",
      "        \n"
     ]
    }
   ],
   "source": [
    "print(pehlaAccount)"
   ]
  },
  {
   "cell_type": "code",
   "execution_count": 122,
   "id": "f5ff6784-5d0c-443e-bb46-5b6a72a3819b",
   "metadata": {},
   "outputs": [
    {
     "name": "stdout",
     "output_type": "stream",
     "text": [
      "\n",
      "             === SBI ===\n",
      "             byee\n",
      "        \n",
      "item was deleted\n"
     ]
    }
   ],
   "source": [
    "del pehlaAccount"
   ]
  },
  {
   "cell_type": "code",
   "execution_count": 129,
   "id": "c8826fc4-d34e-4f0a-a5c6-8c5e213edbec",
   "metadata": {},
   "outputs": [],
   "source": [
    "class Car:\n",
    "    def __init__(self):\n",
    "        self.name=\"tata\"\n",
    "    def __str__(self):\n",
    "        print (\"hello\")\n",
    "        return \"runs when item is created\"\n",
    "    def __del__(self):\n",
    "        print(\"runs when memory location is cleared\")"
   ]
  },
  {
   "cell_type": "code",
   "execution_count": 130,
   "id": "57d995c1-bc2c-411d-80bf-f06128bbfba8",
   "metadata": {},
   "outputs": [],
   "source": [
    "gadi=Car()"
   ]
  },
  {
   "cell_type": "code",
   "execution_count": 131,
   "id": "576919bc-4f8f-45b1-9340-7f3891cd1227",
   "metadata": {},
   "outputs": [
    {
     "name": "stdout",
     "output_type": "stream",
     "text": [
      "hello\n",
      "runs when item is created\n"
     ]
    }
   ],
   "source": [
    "print(gadi)"
   ]
  },
  {
   "cell_type": "code",
   "execution_count": 132,
   "id": "44c1a398-bfcb-490f-87d9-4345f908f241",
   "metadata": {},
   "outputs": [
    {
     "name": "stdout",
     "output_type": "stream",
     "text": [
      "runs when memory location is cleared\n"
     ]
    }
   ],
   "source": [
    "del gadi"
   ]
  },
  {
   "cell_type": "markdown",
   "id": "f4e103e6-6da2-4fbb-b50b-f71c0286fee3",
   "metadata": {},
   "source": [
    "## Encapsulation"
   ]
  },
  {
   "cell_type": "code",
   "execution_count": null,
   "id": "c229ed29-504e-4df7-a019-ff330a716156",
   "metadata": {},
   "outputs": [],
   "source": [
    "# encapsulation works on both variables and functions"
   ]
  },
  {
   "cell_type": "code",
   "execution_count": 146,
   "id": "5fd619c5-eeb4-4d81-a924-5319e91c9aa3",
   "metadata": {},
   "outputs": [],
   "source": [
    "class Account():\n",
    "    BANK_NAME=\"SBI\"\n",
    "   # for encapsulation to balance use __balance by doing this nobody from outer can have access to change your balance \n",
    "    def __init__(self,name , initialDeposit=0):\n",
    "        self.name= name\n",
    "        self.__Balance= initialDeposit\n",
    "        print(f\"{name} welcome to {self.BANK_NAME}\")\n",
    "    # it runs when item goes to print\n",
    "    def __str__(self):\n",
    "    \n",
    "        a= f\"\"\"\n",
    "             ==={self.BANK_NAME}===\n",
    "         Account Holder  : {self.name}\n",
    "         Account Balance : {self.__Balance}\n",
    "        \"\"\"\n",
    "        return a\n",
    "\n",
    "    def __del__(self):\n",
    "        \n",
    "        a=f\"\"\"\n",
    "                     ==={self.BANK_NAME}===\n",
    "                     we are sorry to see you go \n",
    "        \"\"\"\n",
    "        print(a)\n"
   ]
  },
  {
   "cell_type": "code",
   "execution_count": 147,
   "id": "0a563fed-0731-4e29-b9e2-2771e0a07b26",
   "metadata": {},
   "outputs": [
    {
     "name": "stdout",
     "output_type": "stream",
     "text": [
      "radha welcome to SBI\n"
     ]
    }
   ],
   "source": [
    "pehlaAccount= Account(\"radha\",50000)"
   ]
  },
  {
   "cell_type": "code",
   "execution_count": 151,
   "id": "5c67a3d4-da19-4fb1-97be-0bafa5b65450",
   "metadata": {},
   "outputs": [
    {
     "name": "stdout",
     "output_type": "stream",
     "text": [
      "\n",
      "             ===SBI===\n",
      "         Account Holder  : radha\n",
      "         Account Balance : 50000\n",
      "        \n"
     ]
    }
   ],
   "source": [
    "print(pehlaAccount)"
   ]
  },
  {
   "cell_type": "code",
   "execution_count": 153,
   "id": "bdd77864-816e-423b-a981-b460e7556716",
   "metadata": {},
   "outputs": [
    {
     "ename": "AttributeError",
     "evalue": "'Account' object has no attribute 'Balance'",
     "output_type": "error",
     "traceback": [
      "\u001b[1;31m---------------------------------------------------------------------------\u001b[0m",
      "\u001b[1;31mAttributeError\u001b[0m                            Traceback (most recent call last)",
      "Cell \u001b[1;32mIn[153], line 2\u001b[0m\n\u001b[0;32m      1\u001b[0m \u001b[38;5;66;03m# encapsulation - block direct access\u001b[39;00m\n\u001b[1;32m----> 2\u001b[0m pehlaAccount\u001b[38;5;241m.\u001b[39mBalance\n",
      "\u001b[1;31mAttributeError\u001b[0m: 'Account' object has no attribute 'Balance'"
     ]
    }
   ],
   "source": [
    "# encapsulation - block direct access\n",
    "pehlaAccount.Balance"
   ]
  },
  {
   "cell_type": "code",
   "execution_count": 154,
   "id": "9eca228c-a34c-4f9a-94b2-6414fdc5b6d0",
   "metadata": {},
   "outputs": [],
   "source": [
    "pehlaAccount.Balance = 0"
   ]
  },
  {
   "cell_type": "code",
   "execution_count": 155,
   "id": "877f20d3-8e30-4215-a31d-43b725ef059b",
   "metadata": {},
   "outputs": [
    {
     "name": "stdout",
     "output_type": "stream",
     "text": [
      "\n",
      "             ===SBI===\n",
      "         Account Holder  : radha\n",
      "         Account Balance : 50000\n",
      "        \n"
     ]
    }
   ],
   "source": [
    "print(pehlaAccount)"
   ]
  },
  {
   "cell_type": "code",
   "execution_count": 156,
   "id": "a7989e43-c801-4c12-89d6-431d6a8a82a9",
   "metadata": {},
   "outputs": [],
   "source": [
    "class Account():\n",
    "    BANK_NAME=\"SBI\"\n",
    "    def __init__(self,name , initialDeposit=0):\n",
    "        self.name= name\n",
    "        self.__balance= initialDeposit\n",
    "        print(f\"{name} welcome to {self.BANK_NAME}\")\n",
    "    # it runs when item goes to print\n",
    "    def __str__(self):\n",
    "    \n",
    "        a= f\"\"\"\n",
    "             ======{self.BANK_NAME}======\n",
    "         Account Holder  : {self.name}\n",
    "         Account Balance : {self.__balance}\n",
    "        \"\"\"\n",
    "        return a\n",
    "\n",
    "    def __del__(self):\n",
    "        \n",
    "        a=f\"\"\"\n",
    "                     ======{self.BANK_NAME}======\n",
    "                     we are sorry to see you go \n",
    "        \"\"\"\n",
    "        print(a)\n",
    "# encapsulate transection\n",
    "    def __transection(self, ammount,T):\n",
    "        print(f\"{ammount} was {T}\")\n",
    "        print(f\" current balance {self.__balance}\")\n",
    "        if T== \"credit\":\n",
    "            print(f\" initial ammount {self.__balance - ammount}\")\n",
    "        else:\n",
    "            print(f\" initial ammount {self.__balance + ammount}\")\n",
    "        \n",
    "    # to add balance in the bank\n",
    "    def credit(self,ammount=0):\n",
    "        self.__balance+=ammount\n",
    "        self.__transection(ammount, \"credit\")\n",
    "\n",
    "    def debit(self, ammount =0):\n",
    "        if self.__balance > ammount and ammount < 10000:\n",
    "            self.__balance -= ammount\n",
    "            self.__transection(ammount, \"debit\")\n",
    "            return ammount\n",
    "        else:\n",
    "            print(\"insufficient balance\")"
   ]
  },
  {
   "cell_type": "code",
   "execution_count": 157,
   "id": "4aff9d21-0129-443f-b022-89233916d701",
   "metadata": {},
   "outputs": [
    {
     "name": "stdout",
     "output_type": "stream",
     "text": [
      "raman welcome to SBI\n"
     ]
    }
   ],
   "source": [
    "dosraAccount = Account(\"raman\", 5000)"
   ]
  },
  {
   "cell_type": "code",
   "execution_count": 158,
   "id": "95e0ab29-d3d7-49e1-b066-11e3865b63c0",
   "metadata": {},
   "outputs": [],
   "source": [
    "# problem  , anyone can access the balance , use __balance instead of balance,\n",
    "#isse sirf functions ke pass access rahega bakion ke pass nhi\n",
    "#Encapsulation -- use two underscores(__) before variables and functions\n",
    "dosraAccount.__balance = 0"
   ]
  },
  {
   "cell_type": "code",
   "execution_count": 159,
   "id": "361ed0b9-7c91-4431-aec5-6c265fccdd08",
   "metadata": {},
   "outputs": [
    {
     "name": "stdout",
     "output_type": "stream",
     "text": [
      "3000 was credit\n",
      " current balance 8000\n",
      " initial ammount 5000\n"
     ]
    }
   ],
   "source": [
    "dosraAccount.credit(3000)"
   ]
  },
  {
   "cell_type": "code",
   "execution_count": 140,
   "id": "992b5101-b887-49d0-a371-ec2a3120e451",
   "metadata": {},
   "outputs": [
    {
     "name": "stdout",
     "output_type": "stream",
     "text": [
      "\n",
      "             === SBI ===\n",
      "             Account Holder  : raman\n",
      "             Account Balance : 8000\n",
      "        \n"
     ]
    }
   ],
   "source": [
    "print(dosraAccount)"
   ]
  },
  {
   "cell_type": "code",
   "execution_count": 161,
   "id": "179efa30-464f-41c1-a3c8-bc017d2bf728",
   "metadata": {},
   "outputs": [
    {
     "ename": "AttributeError",
     "evalue": "'Account' object has no attribute 'transection'",
     "output_type": "error",
     "traceback": [
      "\u001b[1;31m---------------------------------------------------------------------------\u001b[0m",
      "\u001b[1;31mAttributeError\u001b[0m                            Traceback (most recent call last)",
      "Cell \u001b[1;32mIn[161], line 1\u001b[0m\n\u001b[1;32m----> 1\u001b[0m dosraAccount\u001b[38;5;241m.\u001b[39mtransection(\u001b[38;5;241m3000\u001b[39m,\u001b[38;5;124m\"\u001b[39m\u001b[38;5;124mhi\u001b[39m\u001b[38;5;124m\"\u001b[39m)\n",
      "\u001b[1;31mAttributeError\u001b[0m: 'Account' object has no attribute 'transection'"
     ]
    }
   ],
   "source": [
    "dosraAccount.transection(3000,\"hi\")"
   ]
  },
  {
   "cell_type": "code",
   "execution_count": 160,
   "id": "483b12df-e3db-45e8-9377-f84d6a0bcaa6",
   "metadata": {},
   "outputs": [
    {
     "name": "stdout",
     "output_type": "stream",
     "text": [
      "2000 was debit\n",
      " current balance 6000\n",
      " initial ammount 8000\n"
     ]
    },
    {
     "data": {
      "text/plain": [
       "2000"
      ]
     },
     "execution_count": 160,
     "metadata": {},
     "output_type": "execute_result"
    }
   ],
   "source": [
    "dosraAccount.debit(2000)"
   ]
  },
  {
   "cell_type": "markdown",
   "id": "9b65ecc2-1083-4875-b0ba-05ccc758c90e",
   "metadata": {},
   "source": [
    "## Inheritance"
   ]
  },
  {
   "cell_type": "code",
   "execution_count": 162,
   "id": "d97f3e7c-f45b-48c2-ba95-4bac8caaad8c",
   "metadata": {},
   "outputs": [],
   "source": [
    "class Car():\n",
    "    Tyre=4\n",
    "    \n",
    "    def __init__(self,company):\n",
    "        self.company=company\n",
    "        print(\"car was made\")\n",
    "\n",
    "    def __del__(self):\n",
    "        print(\"car was scraped\")\n",
    "\n",
    "    def __str__(self):\n",
    "        print(\"this is a car\")\n",
    "        \n",
    "    def intro(self):\n",
    "        print(\"hi this is a car\")\n",
    "          \n",
    "    def move(self):\n",
    "        print(\"moving forward\")\n",
    "\n",
    "    def fuelUp(self):\n",
    "        print(\" fuel up\")"
   ]
  },
  {
   "cell_type": "code",
   "execution_count": 165,
   "id": "ab0899ad-e01a-4144-a351-6944809156aa",
   "metadata": {},
   "outputs": [],
   "source": [
    "class CngCar(Car):\n",
    "    fuel=\"cng\"\n",
    "    \n",
    "# when we want to run both functions the upper one and the new open\n",
    "    def __init__(self,company,model):\n",
    "        super().__init__(company)\n",
    "        self.model=model\n",
    "        \n",
    "        \n",
    "# function overloading = rewriting a function (if we want a function to redefined)\n",
    "    def fuelUp(self):\n",
    "        print(\"filling cng\")\n",
    "\n",
    "    def intro(self):\n",
    "        print(\"this is a cng car\")\n",
    "        \n",
    "        # super means parent class\n",
    "    def discription(self):\n",
    "        print(\" this is cng car\")\n",
    "        super().fuelUp() # uper class da function chalan layi super use kardai\n",
    "        print(super().Tyre)\n",
    "        "
   ]
  },
  {
   "cell_type": "code",
   "execution_count": 166,
   "id": "57c4b7df-9a4d-4a5b-870e-b8ceaabf7ec9",
   "metadata": {},
   "outputs": [
    {
     "name": "stdout",
     "output_type": "stream",
     "text": [
      "car was made\n",
      "car was scraped\n"
     ]
    }
   ],
   "source": [
    "gadi = CngCar(\"tata\",\"2005\")"
   ]
  },
  {
   "cell_type": "code",
   "execution_count": 167,
   "id": "58c36049-d581-4aa5-94c8-ba59bc096717",
   "metadata": {},
   "outputs": [
    {
     "name": "stdout",
     "output_type": "stream",
     "text": [
      " this is cng car\n",
      " fuel up\n",
      "4\n"
     ]
    }
   ],
   "source": [
    "gadi.discription()"
   ]
  },
  {
   "cell_type": "code",
   "execution_count": 168,
   "id": "7bc3ba63-bff4-48c8-b676-4ab5ebd7b800",
   "metadata": {},
   "outputs": [
    {
     "name": "stdout",
     "output_type": "stream",
     "text": [
      "filling cng\n"
     ]
    }
   ],
   "source": [
    "gadi.fuelUp()"
   ]
  },
  {
   "cell_type": "code",
   "execution_count": 169,
   "id": "451a6710-cb38-4cd0-9227-f3d150f2b060",
   "metadata": {},
   "outputs": [
    {
     "name": "stdout",
     "output_type": "stream",
     "text": [
      "moving forward\n"
     ]
    }
   ],
   "source": [
    "gadi.move()"
   ]
  },
  {
   "cell_type": "code",
   "execution_count": 171,
   "id": "d4749801-a5cc-49c1-92e0-30208628ff27",
   "metadata": {},
   "outputs": [
    {
     "name": "stdout",
     "output_type": "stream",
     "text": [
      "this is a cng car\n"
     ]
    }
   ],
   "source": [
    "\n",
    "gadi.intro()"
   ]
  },
  {
   "cell_type": "code",
   "execution_count": 172,
   "id": "05f1c0a0-4b1a-4325-8ebc-3955ef4cfbec",
   "metadata": {},
   "outputs": [
    {
     "data": {
      "text/plain": [
       "'2005'"
      ]
     },
     "execution_count": 172,
     "metadata": {},
     "output_type": "execute_result"
    }
   ],
   "source": [
    "gadi.model"
   ]
  },
  {
   "cell_type": "code",
   "execution_count": 173,
   "id": "6332f5be-52f1-45fd-b37e-bcd2f636cb09",
   "metadata": {},
   "outputs": [
    {
     "data": {
      "text/plain": [
       "'tata'"
      ]
     },
     "execution_count": 173,
     "metadata": {},
     "output_type": "execute_result"
    }
   ],
   "source": [
    "gadi.company"
   ]
  },
  {
   "cell_type": "code",
   "execution_count": 174,
   "id": "1279136c-6aaa-4af2-9316-21e4a92ef996",
   "metadata": {},
   "outputs": [],
   "source": [
    "class PetrolCar(Car):\n",
    "    pass"
   ]
  },
  {
   "cell_type": "code",
   "execution_count": 175,
   "id": "c7952350-b346-4132-8156-aeb667572162",
   "metadata": {},
   "outputs": [
    {
     "data": {
      "text/plain": [
       "4"
      ]
     },
     "execution_count": 175,
     "metadata": {},
     "output_type": "execute_result"
    }
   ],
   "source": [
    "gadi.Tyre"
   ]
  },
  {
   "cell_type": "code",
   "execution_count": 182,
   "id": "5e43c3c4-8bad-4139-812e-6549acb51fb1",
   "metadata": {},
   "outputs": [],
   "source": [
    "class PetrolCar(Car):\n",
    "    fuel=\"petrol\"\n",
    "    \n",
    "# when we want to run both functions the upper one and the new open\n",
    "    def __init__(self,company,model):\n",
    "        super().__init__(company)\n",
    "        self.model=model\n",
    "        \n",
    "        \n",
    "# function overloading = rewriting a function (if we want a function to redefined)\n",
    "    def fuelUp(self):\n",
    "        print(\"filling petrol\")\n",
    "\n",
    "    def intro(self):\n",
    "        print(\"this is a petrol car\")\n",
    "        \n",
    "        # super means parent class\n",
    "    def discription(self):\n",
    "        print(\" this is petrol car\")\n",
    "        super().fuelUp() # uper class da function chalan layi super use krna\n",
    "        print(super().Tyre)\n",
    "        "
   ]
  },
  {
   "cell_type": "code",
   "execution_count": 177,
   "id": "930d184f-51a1-4026-adba-4d8ecfe41ed7",
   "metadata": {},
   "outputs": [
    {
     "name": "stdout",
     "output_type": "stream",
     "text": [
      "car was made\n"
     ]
    }
   ],
   "source": [
    "\n",
    "cngGadi = CngCar(\"tata\",2005)"
   ]
  },
  {
   "cell_type": "code",
   "execution_count": 178,
   "id": "0fc3a202-0aec-44bb-8f9a-16c89b45b6d8",
   "metadata": {},
   "outputs": [
    {
     "name": "stdout",
     "output_type": "stream",
     "text": [
      "car was made\n"
     ]
    }
   ],
   "source": [
    "petGadi=PetrolCar(\"nano\",2010)"
   ]
  },
  {
   "cell_type": "code",
   "execution_count": 179,
   "id": "490d0d76-ed33-403b-a880-9b5254512fd2",
   "metadata": {},
   "outputs": [
    {
     "name": "stdout",
     "output_type": "stream",
     "text": [
      "this is a petrol car\n"
     ]
    }
   ],
   "source": [
    "petGadi.intro()"
   ]
  },
  {
   "cell_type": "code",
   "execution_count": 180,
   "id": "51b207f7-31ce-4785-9b68-eedb31cdb869",
   "metadata": {},
   "outputs": [
    {
     "name": "stdout",
     "output_type": "stream",
     "text": [
      "this is a cng car\n"
     ]
    }
   ],
   "source": [
    "cngGadi.intro()"
   ]
  },
  {
   "cell_type": "markdown",
   "id": "abf555dd-4458-4076-8db6-505802a09228",
   "metadata": {},
   "source": [
    "## Polymorphism\n"
   ]
  },
  {
   "cell_type": "code",
   "execution_count": 181,
   "id": "71663af6-4e1c-4e95-be3f-7d08eead30cb",
   "metadata": {},
   "outputs": [],
   "source": [
    "class Car():\n",
    "    carType = \"simple\"\n",
    "    def intro(self):\n",
    "        print(f'this is a {self.carType}')"
   ]
  },
  {
   "cell_type": "code",
   "execution_count": 38,
   "id": "d121b5de-2f0d-48a3-b84d-30ae6729560f",
   "metadata": {},
   "outputs": [],
   "source": [
    "gadi = Car()"
   ]
  },
  {
   "cell_type": "code",
   "execution_count": 39,
   "id": "a720bba4-962a-4c44-bf2f-b94961274b80",
   "metadata": {},
   "outputs": [
    {
     "name": "stdout",
     "output_type": "stream",
     "text": [
      "this is a simple\n"
     ]
    }
   ],
   "source": [
    "gadi.intro()"
   ]
  },
  {
   "cell_type": "code",
   "execution_count": 40,
   "id": "81a188da-4bfa-4b83-aaab-d7fecd9d6471",
   "metadata": {},
   "outputs": [],
   "source": [
    "class ElectricCar(Car):\n",
    "\n",
    "    carType=\"electric\"\n",
    "\n",
    "    def intro(self):\n",
    "        print(f\"this is a {self.carType} car \")"
   ]
  },
  {
   "cell_type": "code",
   "execution_count": 41,
   "id": "90939d6e-aa23-47c1-8324-c4d276b56766",
   "metadata": {},
   "outputs": [],
   "source": [
    "egadi = ElectricCar()"
   ]
  },
  {
   "cell_type": "code",
   "execution_count": 42,
   "id": "3e91e2bc-db2a-4699-b45c-e99726b2120f",
   "metadata": {},
   "outputs": [
    {
     "name": "stdout",
     "output_type": "stream",
     "text": [
      "this is a electric car \n"
     ]
    }
   ],
   "source": [
    "egadi.intro()"
   ]
  },
  {
   "cell_type": "code",
   "execution_count": 43,
   "id": "9a2192c0-c00b-4e98-b3ac-bcc225d112b1",
   "metadata": {},
   "outputs": [],
   "source": [
    "class PetrolCar(Car):\n",
    "\n",
    "    carType=\"petrol\"\n",
    "\n",
    "    def intro(self):\n",
    "        print(f\"this is a {self.carType} car \")"
   ]
  },
  {
   "cell_type": "code",
   "execution_count": 44,
   "id": "efeaf867-aa45-4361-a3db-c518b341f237",
   "metadata": {},
   "outputs": [],
   "source": [
    "pgadi = PetrolCar()"
   ]
  },
  {
   "cell_type": "code",
   "execution_count": 45,
   "id": "acc50f8f-0324-49e7-8dc5-a2827312db0c",
   "metadata": {},
   "outputs": [
    {
     "name": "stdout",
     "output_type": "stream",
     "text": [
      "this is a petrol car \n"
     ]
    }
   ],
   "source": [
    "pgadi.intro()"
   ]
  },
  {
   "cell_type": "code",
   "execution_count": 46,
   "id": "f1b98bdf-a874-4dbe-a1a7-95b9ac1a8550",
   "metadata": {},
   "outputs": [],
   "source": [
    "class CngCar(Car):\n",
    "\n",
    "    pass"
   ]
  },
  {
   "cell_type": "code",
   "execution_count": 47,
   "id": "7d707290-84d1-451f-8d6a-79ce364a50b7",
   "metadata": {},
   "outputs": [],
   "source": [
    "cgadi = CngCar()"
   ]
  },
  {
   "cell_type": "code",
   "execution_count": 48,
   "id": "74fbb884-34e8-4108-accd-918f9e4ba76e",
   "metadata": {},
   "outputs": [
    {
     "name": "stdout",
     "output_type": "stream",
     "text": [
      "this is a simple\n"
     ]
    }
   ],
   "source": [
    "cgadi.intro()"
   ]
  },
  {
   "cell_type": "markdown",
   "id": "31f37a25-f143-4efc-a95c-131333c30032",
   "metadata": {},
   "source": [
    "## Abstract"
   ]
  },
  {
   "cell_type": "markdown",
   "id": "f4db137a-315c-49f4-99dd-e2487901c6f3",
   "metadata": {},
   "source": [
    "### if a child class is being created i want to make it mandatory to function overloading on a particular function"
   ]
  },
  {
   "cell_type": "code",
   "execution_count": 185,
   "id": "93c00876-1509-4f39-a79b-bdf09a223e57",
   "metadata": {},
   "outputs": [],
   "source": [
    "from abc import ABC, abstractmethod, abstractstaticmethod"
   ]
  },
  {
   "cell_type": "code",
   "execution_count": 186,
   "id": "c9b51721-8564-487b-bc08-f711cd7b01b6",
   "metadata": {},
   "outputs": [],
   "source": [
    "## decorators\n",
    "##a decorator changes functionality oof either inpuut/output or functions\n",
    "## a function that modifies the behavior of another function (or method or class ). It can change:\n",
    "## function ko redefine krna mandatory"
   ]
  },
  {
   "cell_type": "code",
   "execution_count": 187,
   "id": "bc5fb27d-db47-413a-8654-aefe34b23a92",
   "metadata": {},
   "outputs": [],
   "source": [
    "class Car(ABC):\n",
    "    carType = \"Simple\"\n",
    "\n",
    "    def hello(self):\n",
    "        print(\"hello everyone\")\n",
    "    # with use of abstractmethod it is mandatory to redefined intro\n",
    "#decorated (a function that modifies behaviour of another function)\n",
    "    @abstractmethod\n",
    "    def intro(self):\n",
    "        print(f\"this is { self.carType } car\")\n",
    "\n",
    "   \n",
    "        "
   ]
  },
  {
   "cell_type": "code",
   "execution_count": 190,
   "id": "143122e2-c322-4394-a139-bdc3442fa13a",
   "metadata": {},
   "outputs": [],
   "source": [
    "# error because we don't overloading intro\n",
    "class DieselCar(Car):\n",
    "    pass"
   ]
  },
  {
   "cell_type": "code",
   "execution_count": 191,
   "id": "f4d9e98a-5689-4b13-888e-2ad14c0791cd",
   "metadata": {},
   "outputs": [
    {
     "ename": "TypeError",
     "evalue": "Can't instantiate abstract class DieselCar without an implementation for abstract method 'intro'",
     "output_type": "error",
     "traceback": [
      "\u001b[1;31m---------------------------------------------------------------------------\u001b[0m",
      "\u001b[1;31mTypeError\u001b[0m                                 Traceback (most recent call last)",
      "Cell \u001b[1;32mIn[191], line 1\u001b[0m\n\u001b[1;32m----> 1\u001b[0m dgadi \u001b[38;5;241m=\u001b[39m DieselCar()\n",
      "\u001b[1;31mTypeError\u001b[0m: Can't instantiate abstract class DieselCar without an implementation for abstract method 'intro'"
     ]
    }
   ],
   "source": [
    "\n",
    "dgadi = DieselCar()"
   ]
  },
  {
   "cell_type": "code",
   "execution_count": 192,
   "id": "0b493694-2047-43f3-8fed-c643f188c2eb",
   "metadata": {},
   "outputs": [],
   "source": [
    "class DieselCar(Car):\n",
    "    def intro(self):\n",
    "        print('this is a diesel car')"
   ]
  },
  {
   "cell_type": "code",
   "execution_count": 193,
   "id": "a7771f08-9380-459c-95f9-49dd8bc425e7",
   "metadata": {},
   "outputs": [],
   "source": [
    "## decorator gives error ki mandatory hai intro function bnana\n",
    "dgadi = DieselCar()"
   ]
  },
  {
   "cell_type": "code",
   "execution_count": 194,
   "id": "a4f6e84f-5011-4036-a39f-da924130709e",
   "metadata": {},
   "outputs": [
    {
     "name": "stdout",
     "output_type": "stream",
     "text": [
      "hello everyone\n"
     ]
    }
   ],
   "source": [
    "dgadi.hello()"
   ]
  },
  {
   "cell_type": "code",
   "execution_count": 195,
   "id": "c368986c-1d3b-4228-acc8-6476f6a526e0",
   "metadata": {},
   "outputs": [
    {
     "name": "stdout",
     "output_type": "stream",
     "text": [
      "this is a diesel car\n"
     ]
    }
   ],
   "source": [
    "dgadi.intro()"
   ]
  },
  {
   "cell_type": "code",
   "execution_count": 196,
   "id": "dc956d18-84f7-4834-9b97-54d31e579bd9",
   "metadata": {},
   "outputs": [],
   "source": [
    "# # jis jgah pe self likha hai voh object based  hai or jispe nhi likha voh class based a "
   ]
  },
  {
   "cell_type": "code",
   "execution_count": 197,
   "id": "e8cac515-ae25-49eb-9bc8-9b94ec7cdd97",
   "metadata": {},
   "outputs": [],
   "source": [
    "\n",
    "class Animal():\n",
    "    # class based \n",
    "    good =\"yes\"\n",
    "    def __inint__(self):\n",
    "        # object based\n",
    "        self.name=\"Animal\"\n",
    "\n",
    "    def sayHello(self):\n",
    "        # object based\n",
    "        print(\" hello users\")\n",
    "# static method\n",
    "        ## yeh static method hai yeh bina decorator staticmethod ke run nhi hoga\n",
    "    @staticmethod\n",
    "    def sayHi():\n",
    "        # class based\n",
    "        print(\"hi nice to meet you\")\n"
   ]
  },
  {
   "cell_type": "code",
   "execution_count": 198,
   "id": "2ccbd3d8-1651-4387-b0ad-03a4fb065fa8",
   "metadata": {},
   "outputs": [],
   "source": [
    "dog = Animal()"
   ]
  },
  {
   "cell_type": "code",
   "execution_count": 199,
   "id": "67ecb1f6-c8a1-45e5-bd97-4b4ee94b717a",
   "metadata": {},
   "outputs": [
    {
     "name": "stdout",
     "output_type": "stream",
     "text": [
      "hi nice to meet you\n"
     ]
    }
   ],
   "source": [
    "dog.sayHi()"
   ]
  },
  {
   "cell_type": "code",
   "execution_count": 200,
   "id": "bed04165-113a-4d09-80a5-ccc3ca36f859",
   "metadata": {},
   "outputs": [],
   "source": [
    "cat = Animal()"
   ]
  },
  {
   "cell_type": "code",
   "execution_count": 201,
   "id": "ea18608f-40f1-4f48-8e39-f088f1b8f5ec",
   "metadata": {},
   "outputs": [
    {
     "name": "stdout",
     "output_type": "stream",
     "text": [
      " hello users\n"
     ]
    }
   ],
   "source": [
    "cat.sayHello()"
   ]
  },
  {
   "cell_type": "code",
   "execution_count": null,
   "id": "8d19df69-171c-4212-9118-01295ba79713",
   "metadata": {},
   "outputs": [],
   "source": []
  },
  {
   "cell_type": "code",
   "execution_count": null,
   "id": "14ae1f1d-31b3-4e5c-85b9-3873bd041fa6",
   "metadata": {},
   "outputs": [],
   "source": []
  },
  {
   "cell_type": "code",
   "execution_count": null,
   "id": "8475f143-5cae-4e73-8439-d39324994f7d",
   "metadata": {},
   "outputs": [],
   "source": []
  }
 ],
 "metadata": {
  "kernelspec": {
   "display_name": "Python [conda env:base] *",
   "language": "python",
   "name": "conda-base-py"
  },
  "language_info": {
   "codemirror_mode": {
    "name": "ipython",
    "version": 3
   },
   "file_extension": ".py",
   "mimetype": "text/x-python",
   "name": "python",
   "nbconvert_exporter": "python",
   "pygments_lexer": "ipython3",
   "version": "3.13.5"
  }
 },
 "nbformat": 4,
 "nbformat_minor": 5
}
