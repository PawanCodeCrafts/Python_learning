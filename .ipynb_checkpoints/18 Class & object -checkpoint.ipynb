{
 "cells": [
  {
   "cell_type": "markdown",
   "id": "a25b0cf7-d96a-4a5c-8b2d-b0e2ed4db9fd",
   "metadata": {},
   "source": [
    "# Class in python\n",
    "\n",
    "1.  Defining and binding variables and functions is known as class\n",
    "2. class is category ---- object is item\n",
    "3. variables ko attributes kehte hai\n",
    "4. two types of attributes --- i) class attributes ii) object attribute\n",
    "5. functions ko methods kehte hai\n",
    "6. two types of methos --- i)class methods ii)object methods"
   ]
  },
  {
   "cell_type": "code",
   "execution_count": null,
   "id": "a9791906-2407-42bc-a598-51854b7f6d03",
   "metadata": {},
   "outputs": [],
   "source": [
    "# approach with variables"
   ]
  },
  {
   "cell_type": "code",
   "execution_count": 1,
   "id": "234d4d41-b729-49c0-9b93-0506b74e0420",
   "metadata": {},
   "outputs": [],
   "source": [
    "wallet = 6000"
   ]
  },
  {
   "cell_type": "code",
   "execution_count": 2,
   "id": "88340172-aa67-443e-b5a4-da3ef6ef2835",
   "metadata": {},
   "outputs": [
    {
     "data": {
      "text/plain": [
       "6000"
      ]
     },
     "execution_count": 2,
     "metadata": {},
     "output_type": "execute_result"
    }
   ],
   "source": [
    "wallet"
   ]
  },
  {
   "cell_type": "code",
   "execution_count": 3,
   "id": "e26b46de-df16-45e6-bb99-d0c1f6add4d8",
   "metadata": {},
   "outputs": [],
   "source": [
    "wallet = 0"
   ]
  },
  {
   "cell_type": "code",
   "execution_count": 4,
   "id": "8a2b2907-d5d1-4c74-923d-51692f667068",
   "metadata": {},
   "outputs": [
    {
     "data": {
      "text/plain": [
       "0"
      ]
     },
     "execution_count": 4,
     "metadata": {},
     "output_type": "execute_result"
    }
   ],
   "source": [
    "wallet"
   ]
  },
  {
   "cell_type": "code",
   "execution_count": 5,
   "id": "30d2395c-6522-484b-a318-58c3bf42f874",
   "metadata": {},
   "outputs": [],
   "source": [
    "# with functions"
   ]
  },
  {
   "cell_type": "code",
   "execution_count": 6,
   "id": "85c587b2-fbd5-4b1f-af01-fef33c8b142f",
   "metadata": {},
   "outputs": [],
   "source": [
    "def makeCoffee():\n",
    "    print('making coffee')"
   ]
  },
  {
   "cell_type": "code",
   "execution_count": 8,
   "id": "d0437871-1d2a-4e72-946c-510572ac844a",
   "metadata": {},
   "outputs": [
    {
     "name": "stdout",
     "output_type": "stream",
     "text": [
      "making coffee\n"
     ]
    }
   ],
   "source": [
    "makeCoffee()"
   ]
  },
  {
   "cell_type": "code",
   "execution_count": 9,
   "id": "4a4d3dba-7465-4f05-b9ae-1ddcba4541ce",
   "metadata": {},
   "outputs": [
    {
     "name": "stdout",
     "output_type": "stream",
     "text": [
      "making coffee\n"
     ]
    }
   ],
   "source": [
    "makeCoffee()"
   ]
  },
  {
   "cell_type": "code",
   "execution_count": 16,
   "id": "979e5c62-f5c7-49b6-830a-1fe7da5e57f3",
   "metadata": {},
   "outputs": [],
   "source": [
    "# class is defined using \"class\" keyword\n",
    "# try to use CamelCase naming always\n"
   ]
  },
  {
   "cell_type": "code",
   "execution_count": 11,
   "id": "dd435e6f-fad6-4dd0-ad5a-371c10b6885e",
   "metadata": {},
   "outputs": [],
   "source": [
    "class Car():\n",
    "    tyre = 4\n",
    "\n",
    "    def move():\n",
    "        print(\"i am moving forward\")"
   ]
  },
  {
   "cell_type": "code",
   "execution_count": 13,
   "id": "a76649ac-787c-4544-804c-1ce5b7fb20ea",
   "metadata": {},
   "outputs": [
    {
     "data": {
      "text/plain": [
       "4"
      ]
     },
     "execution_count": 13,
     "metadata": {},
     "output_type": "execute_result"
    }
   ],
   "source": [
    "# accessing variables\n",
    "Car.tyre"
   ]
  },
  {
   "cell_type": "code",
   "execution_count": 15,
   "id": "fb9fab4d-c401-44dd-8eaa-412f30fe4c9f",
   "metadata": {},
   "outputs": [
    {
     "name": "stdout",
     "output_type": "stream",
     "text": [
      "i am moving forward\n"
     ]
    }
   ],
   "source": [
    "#accessing functions\n",
    "Car.move()"
   ]
  },
  {
   "cell_type": "code",
   "execution_count": 20,
   "id": "0ff0d4e1-10de-4740-811a-c8af9605c80d",
   "metadata": {},
   "outputs": [],
   "source": [
    "# category ki baat ho rhi hai\n",
    "class Human():\n",
    "    legs = 2\n",
    "\n",
    "    def eatUp():\n",
    "        print('i am eating')\n",
    "        print('thank you')"
   ]
  },
  {
   "cell_type": "code",
   "execution_count": 21,
   "id": "46df2c56-f095-4799-9de9-f5ab1d5e8f9b",
   "metadata": {},
   "outputs": [
    {
     "data": {
      "text/plain": [
       "2"
      ]
     },
     "execution_count": 21,
     "metadata": {},
     "output_type": "execute_result"
    }
   ],
   "source": [
    "Human.legs"
   ]
  },
  {
   "cell_type": "code",
   "execution_count": 22,
   "id": "fbc05a19-b255-4cc4-be6b-03730dc33e49",
   "metadata": {},
   "outputs": [
    {
     "name": "stdout",
     "output_type": "stream",
     "text": [
      "i am eating\n",
      "thank you\n"
     ]
    }
   ],
   "source": [
    "Human.eatUp()"
   ]
  },
  {
   "cell_type": "code",
   "execution_count": 22,
   "id": "1a66295b-d45c-4bab-861d-f8e6437ac149",
   "metadata": {},
   "outputs": [
    {
     "name": "stdout",
     "output_type": "stream",
     "text": [
      "i am eating\n",
      "thank you\n"
     ]
    }
   ],
   "source": [
    "Human.eatUp()"
   ]
  },
  {
   "cell_type": "code",
   "execution_count": 66,
   "id": "a68c35ce-5352-491b-873f-c5c5049b38c9",
   "metadata": {},
   "outputs": [],
   "source": [
    "# car ka behaviour\n",
    "class Car2():\n",
    "    tyre = 4\n",
    "\n",
    "    def move2():\n",
    "        print(\"i am moving forward\")"
   ]
  },
  {
   "cell_type": "code",
   "execution_count": 69,
   "id": "ddf36071-b0e5-46a3-ac97-2559457d83e3",
   "metadata": {},
   "outputs": [],
   "source": [
    "# actual car\n",
    "# completey separate itmes hote hai objects ek doosre se\n",
    "gadi = Car2()"
   ]
  },
  {
   "cell_type": "code",
   "execution_count": 70,
   "id": "77e2498d-8223-44af-b537-01da627e5f71",
   "metadata": {},
   "outputs": [],
   "source": [
    "gadi2 = Car2()"
   ]
  },
  {
   "cell_type": "code",
   "execution_count": 71,
   "id": "9b1add20-ec38-45fe-8831-a0c0846b0d96",
   "metadata": {},
   "outputs": [
    {
     "data": {
      "text/plain": [
       "4"
      ]
     },
     "execution_count": 71,
     "metadata": {},
     "output_type": "execute_result"
    }
   ],
   "source": [
    "gadi.tyre"
   ]
  },
  {
   "cell_type": "code",
   "execution_count": 72,
   "id": "6e049a7f-170b-457b-bb65-e48d9728bddb",
   "metadata": {},
   "outputs": [
    {
     "data": {
      "text/plain": [
       "4"
      ]
     },
     "execution_count": 72,
     "metadata": {},
     "output_type": "execute_result"
    }
   ],
   "source": [
    "gadi2.tyre"
   ]
  },
  {
   "cell_type": "code",
   "execution_count": 73,
   "id": "7a5995ad-bf30-4010-89ec-22d14cba25f6",
   "metadata": {},
   "outputs": [],
   "source": [
    "gadi.tyre = 3 "
   ]
  },
  {
   "cell_type": "code",
   "execution_count": 74,
   "id": "571d3d3a-c1d4-441a-9529-e649e33812cf",
   "metadata": {},
   "outputs": [],
   "source": [
    "# completey separate itmes hote hai objects "
   ]
  },
  {
   "cell_type": "code",
   "execution_count": 75,
   "id": "a6ee9c05-882a-4fa4-8ff3-a2591a134c33",
   "metadata": {},
   "outputs": [
    {
     "data": {
      "text/plain": [
       "3"
      ]
     },
     "execution_count": 75,
     "metadata": {},
     "output_type": "execute_result"
    }
   ],
   "source": [
    "gadi.tyre"
   ]
  },
  {
   "cell_type": "code",
   "execution_count": 76,
   "id": "f3b1967f-84e4-4fd1-9d1d-40fb6d007028",
   "metadata": {
    "scrolled": true
   },
   "outputs": [
    {
     "data": {
      "text/plain": [
       "4"
      ]
     },
     "execution_count": 76,
     "metadata": {},
     "output_type": "execute_result"
    }
   ],
   "source": [
    "gadi2.tyre "
   ]
  },
  {
   "cell_type": "code",
   "execution_count": 78,
   "id": "79772bc8-1622-4bd4-92b1-90b4a1711358",
   "metadata": {},
   "outputs": [
    {
     "ename": "TypeError",
     "evalue": "Car2.move2() takes 0 positional arguments but 1 was given",
     "output_type": "error",
     "traceback": [
      "\u001b[1;31m---------------------------------------------------------------------------\u001b[0m",
      "\u001b[1;31mTypeError\u001b[0m                                 Traceback (most recent call last)",
      "Cell \u001b[1;32mIn[78], line 1\u001b[0m\n\u001b[1;32m----> 1\u001b[0m gadi\u001b[38;5;241m.\u001b[39mmove2()\n",
      "\u001b[1;31mTypeError\u001b[0m: Car2.move2() takes 0 positional arguments but 1 was given"
     ]
    }
   ],
   "source": [
    "gadi.move2()"
   ]
  },
  {
   "cell_type": "code",
   "execution_count": 81,
   "id": "79697311-5e9c-4d22-9c39-0b49cff1f41e",
   "metadata": {},
   "outputs": [
    {
     "name": "stdout",
     "output_type": "stream",
     "text": [
      "i am moving forward\n"
     ]
    }
   ],
   "source": [
    "Car2.move2()"
   ]
  },
  {
   "cell_type": "code",
   "execution_count": 88,
   "id": "a6c41605-0838-4a23-9cf7-d66efee48fe8",
   "metadata": {},
   "outputs": [],
   "source": [
    "class Car():\n",
    "    tyre = 4\n",
    "\n",
    "    def move(self):\n",
    "        print('moving forward')"
   ]
  },
  {
   "cell_type": "code",
   "execution_count": 89,
   "id": "1cad37cd-aadb-4dce-a6c6-644e9a2796de",
   "metadata": {},
   "outputs": [],
   "source": [
    "gadi =Car()"
   ]
  },
  {
   "cell_type": "code",
   "execution_count": 94,
   "id": "e2384cc7-55d5-4f0b-8f22-8a6d32bc1ad7",
   "metadata": {},
   "outputs": [],
   "source": [
    "gadi2 = Car()"
   ]
  },
  {
   "cell_type": "code",
   "execution_count": 90,
   "id": "bb5f987c-fa27-452e-a255-3dd891be1ce6",
   "metadata": {},
   "outputs": [
    {
     "data": {
      "text/plain": [
       "4"
      ]
     },
     "execution_count": 90,
     "metadata": {},
     "output_type": "execute_result"
    }
   ],
   "source": [
    "Car.tyre"
   ]
  },
  {
   "cell_type": "code",
   "execution_count": 91,
   "id": "5d8d92e3-9ab1-4d19-a02a-47fde15c63dc",
   "metadata": {},
   "outputs": [
    {
     "data": {
      "text/plain": [
       "4"
      ]
     },
     "execution_count": 91,
     "metadata": {},
     "output_type": "execute_result"
    }
   ],
   "source": [
    "gadi.tyre"
   ]
  },
  {
   "cell_type": "code",
   "execution_count": 92,
   "id": "206ae2f1-6cc6-4e6b-b643-2b64885b36a7",
   "metadata": {},
   "outputs": [
    {
     "ename": "TypeError",
     "evalue": "Car.move() missing 1 required positional argument: 'self'",
     "output_type": "error",
     "traceback": [
      "\u001b[1;31m---------------------------------------------------------------------------\u001b[0m",
      "\u001b[1;31mTypeError\u001b[0m                                 Traceback (most recent call last)",
      "Cell \u001b[1;32mIn[92], line 1\u001b[0m\n\u001b[1;32m----> 1\u001b[0m Car\u001b[38;5;241m.\u001b[39mmove()\n",
      "\u001b[1;31mTypeError\u001b[0m: Car.move() missing 1 required positional argument: 'self'"
     ]
    }
   ],
   "source": [
    "Car.move()"
   ]
  },
  {
   "cell_type": "code",
   "execution_count": 97,
   "id": "4f957f33-596d-425b-b9da-8b0743fe157a",
   "metadata": {},
   "outputs": [
    {
     "name": "stdout",
     "output_type": "stream",
     "text": [
      "moving forward\n"
     ]
    }
   ],
   "source": [
    "gadi.move()"
   ]
  },
  {
   "cell_type": "code",
   "execution_count": 98,
   "id": "0c9ffef8-0c31-4a15-a5e6-829756b95a05",
   "metadata": {},
   "outputs": [
    {
     "name": "stdout",
     "output_type": "stream",
     "text": [
      "moving forward\n"
     ]
    }
   ],
   "source": [
    "gadi2.move()"
   ]
  },
  {
   "cell_type": "code",
   "execution_count": 106,
   "id": "e1f342cc-7fd1-437e-a077-edcbfbbb7e7e",
   "metadata": {},
   "outputs": [],
   "source": [
    "gadi.name = \"nano\""
   ]
  },
  {
   "cell_type": "code",
   "execution_count": 107,
   "id": "bba8f5ba-72db-4e35-94bc-a78145861e58",
   "metadata": {},
   "outputs": [],
   "source": [
    "gadi2.name = 'alto'"
   ]
  },
  {
   "cell_type": "code",
   "execution_count": 108,
   "id": "64e53843-667c-4f5b-b7ae-9d2717fd31e3",
   "metadata": {},
   "outputs": [
    {
     "data": {
      "text/plain": [
       "'nano'"
      ]
     },
     "execution_count": 108,
     "metadata": {},
     "output_type": "execute_result"
    }
   ],
   "source": [
    "gadi.name"
   ]
  },
  {
   "cell_type": "code",
   "execution_count": 110,
   "id": "a1fc5348-7182-489d-8495-bedf0fe7dacc",
   "metadata": {},
   "outputs": [
    {
     "data": {
      "text/plain": [
       "'alto'"
      ]
     },
     "execution_count": 110,
     "metadata": {},
     "output_type": "execute_result"
    }
   ],
   "source": [
    "gadi2.name"
   ]
  },
  {
   "cell_type": "code",
   "execution_count": 192,
   "id": "f370b83f-48d6-4f92-b165-a0efb605e5bd",
   "metadata": {},
   "outputs": [],
   "source": [
    "# __init__ special function hai toh yeh apne aap run hoga isne name btane me help krta hai\n",
    "class Car():\n",
    "    #variable belonging to whole class\n",
    "    tyre = 4\n",
    "\n",
    "    def __init__(self, model, year =None): # automatically runs when object is created\n",
    "        #variable of the object\n",
    "        self.model = model\n",
    "        self.year =  year\n",
    "\n",
    "    def introduction(self):\n",
    "        print(f'hi am {self.model} and i was made in {self.year}')\n",
    "\n",
    "    def move(self):\n",
    "        print('moving forwrad')"
   ]
  },
  {
   "cell_type": "code",
   "execution_count": 193,
   "id": "cb506f21-01b0-4a0c-a34d-ba630a7615ca",
   "metadata": {},
   "outputs": [],
   "source": [
    "gadi = Car(\"Nano\", 2005)"
   ]
  },
  {
   "cell_type": "code",
   "execution_count": 186,
   "id": "225645ba-ead5-45f9-8071-4174058cabe5",
   "metadata": {},
   "outputs": [
    {
     "name": "stdout",
     "output_type": "stream",
     "text": [
      "hi am Nano and i was made in 2005\n"
     ]
    }
   ],
   "source": [
    "gadi.introduction()"
   ]
  },
  {
   "cell_type": "code",
   "execution_count": 188,
   "id": "f6f569ea-2578-43f3-a5a7-52ac4c642a38",
   "metadata": {},
   "outputs": [
    {
     "name": "stdout",
     "output_type": "stream",
     "text": [
      "moving forwrad\n"
     ]
    }
   ],
   "source": [
    "gadi.move()"
   ]
  },
  {
   "cell_type": "code",
   "execution_count": 194,
   "id": "b8a11340-ef3c-4d08-9893-d7d5d7786afe",
   "metadata": {},
   "outputs": [],
   "source": [
    "gadi2 = Car(\"alto\", 2010)"
   ]
  },
  {
   "cell_type": "code",
   "execution_count": 195,
   "id": "ddd35ed1-57eb-4daa-8d1e-3a284d19fb0e",
   "metadata": {},
   "outputs": [
    {
     "name": "stdout",
     "output_type": "stream",
     "text": [
      "hi am alto and i was made in 2010\n"
     ]
    }
   ],
   "source": [
    "gadi2.introduction()"
   ]
  },
  {
   "cell_type": "code",
   "execution_count": 190,
   "id": "88545a45-ed00-4f91-94e9-306d38f94643",
   "metadata": {},
   "outputs": [
    {
     "ename": "AttributeError",
     "evalue": "'Car' object has no attribute 'name'",
     "output_type": "error",
     "traceback": [
      "\u001b[1;31m---------------------------------------------------------------------------\u001b[0m",
      "\u001b[1;31mAttributeError\u001b[0m                            Traceback (most recent call last)",
      "Cell \u001b[1;32mIn[190], line 1\u001b[0m\n\u001b[1;32m----> 1\u001b[0m gadi2\u001b[38;5;241m.\u001b[39mname\n",
      "\u001b[1;31mAttributeError\u001b[0m: 'Car' object has no attribute 'name'"
     ]
    }
   ],
   "source": [
    "gadi2.name"
   ]
  },
  {
   "cell_type": "code",
   "execution_count": 191,
   "id": "eb407c94-6aee-4611-88aa-0f723cc4b89d",
   "metadata": {},
   "outputs": [
    {
     "name": "stdout",
     "output_type": "stream",
     "text": [
      "moving forwrad\n"
     ]
    }
   ],
   "source": [
    "gadi2.move()"
   ]
  },
  {
   "cell_type": "code",
   "execution_count": 207,
   "id": "30fe7b69-9570-43ad-936e-c90fb28326e7",
   "metadata": {},
   "outputs": [],
   "source": [
    "class Human():\n",
    "    legs = 2\n",
    "\n",
    "    def __init__(self, name, age=0):\n",
    "        self.name = name\n",
    "        self.age = age\n",
    "\n",
    "    def intro(self):\n",
    "        print(f\"hi i am {self.name} and my age is {self.age} \")\n",
    "\n",
    "    "
   ]
  },
  {
   "cell_type": "code",
   "execution_count": 208,
   "id": "5fd24590-3104-4889-8ad2-84bfa60da0d9",
   "metadata": {},
   "outputs": [],
   "source": [
    "insaan1 = Human(\"pawan\", 24)"
   ]
  },
  {
   "cell_type": "code",
   "execution_count": 209,
   "id": "2ed97e96-f041-499f-b32c-5bcb55ed4d3d",
   "metadata": {},
   "outputs": [
    {
     "name": "stdout",
     "output_type": "stream",
     "text": [
      "hi i am pawan and my age is 24 \n"
     ]
    }
   ],
   "source": [
    "insaan1.intro()"
   ]
  },
  {
   "cell_type": "code",
   "execution_count": 210,
   "id": "9695169b-f66a-489e-97a8-6ee815315b3d",
   "metadata": {},
   "outputs": [],
   "source": [
    "insaan2 = Human(\"raman\", 20)"
   ]
  },
  {
   "cell_type": "code",
   "execution_count": 211,
   "id": "76a21d0b-5dd3-4408-8c32-6bedb934e25b",
   "metadata": {},
   "outputs": [
    {
     "name": "stdout",
     "output_type": "stream",
     "text": [
      "hi i am raman and my age is 20 \n"
     ]
    }
   ],
   "source": [
    "insaan2.intro()"
   ]
  },
  {
   "cell_type": "code",
   "execution_count": null,
   "id": "d51f89dd-f55f-445e-afa4-2f641c1909eb",
   "metadata": {},
   "outputs": [],
   "source": []
  }
 ],
 "metadata": {
  "kernelspec": {
   "display_name": "Python [conda env:base] *",
   "language": "python",
   "name": "conda-base-py"
  },
  "language_info": {
   "codemirror_mode": {
    "name": "ipython",
    "version": 3
   },
   "file_extension": ".py",
   "mimetype": "text/x-python",
   "name": "python",
   "nbconvert_exporter": "python",
   "pygments_lexer": "ipython3",
   "version": "3.13.5"
  }
 },
 "nbformat": 4,
 "nbformat_minor": 5
}
