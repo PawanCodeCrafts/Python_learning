{
 "cells": [
  {
   "cell_type": "markdown",
   "id": "f727da2e-95fc-44f4-a1c2-c5023789a93d",
   "metadata": {
    "jp-MarkdownHeadingCollapsed": true
   },
   "source": [
    "# While Loop\n",
    "\n",
    "## repeating a task again and agian until certain criteris is satisfied"
   ]
  },
  {
   "cell_type": "code",
   "execution_count": 1,
   "id": "c5a7d5a6-5af5-416c-8a94-25b2908948ea",
   "metadata": {},
   "outputs": [
    {
     "name": "stdout",
     "output_type": "stream",
     "text": [
      "hi\n",
      "hello\n",
      "your name is Pawan\n"
     ]
    }
   ],
   "source": [
    "# starting an infinite loop\n",
    "while True:\n",
    "    print('hi')\n",
    "    print('hello')\n",
    "    # exiting a loop\n",
    "    break\n",
    "    print('bye')\n",
    "\n",
    "# printing a value after while loop\n",
    "print('your name is Pawan')"
   ]
  },
  {
   "cell_type": "code",
   "execution_count": 2,
   "id": "14d1c31c-2008-4f8d-b650-d57a8afa8351",
   "metadata": {},
   "outputs": [
    {
     "name": "stdout",
     "output_type": "stream",
     "text": [
      "1\n",
      "2\n",
      "3\n",
      "4\n",
      "5\n"
     ]
    }
   ],
   "source": [
    "# starting a number\n",
    "i = 1\n",
    "# starting an infinite while loop\n",
    "while True:\n",
    "    # printing i value\n",
    "    print(i)\n",
    "    # i += 1\n",
    "    # checking i is equal to 5\n",
    "    if i == 5:\n",
    "        # breaking a loop\n",
    "         break\n",
    "    # increasing i\n",
    "    i += 1"
   ]
  },
  {
   "cell_type": "code",
   "execution_count": 3,
   "id": "70f18a54-a910-40a0-803c-447a0fd956b1",
   "metadata": {},
   "outputs": [
    {
     "data": {
      "text/plain": [
       "5"
      ]
     },
     "execution_count": 3,
     "metadata": {},
     "output_type": "execute_result"
    }
   ],
   "source": [
    "i"
   ]
  },
  {
   "cell_type": "code",
   "execution_count": 4,
   "id": "599028c6-3fb2-4663-9a65-8b7ba4aa1acf",
   "metadata": {},
   "outputs": [
    {
     "name": "stdout",
     "output_type": "stream",
     "text": [
      "0\n",
      "1\n",
      "2\n",
      "3\n",
      "4\n"
     ]
    }
   ],
   "source": [
    "i = 0\n",
    "while i < 5:\n",
    "    print(i)\n",
    "    i += 1"
   ]
  },
  {
   "cell_type": "code",
   "execution_count": 5,
   "id": "8a3585fa-67fc-4f93-a8a9-469371eb6013",
   "metadata": {},
   "outputs": [
    {
     "name": "stdout",
     "output_type": "stream",
     "text": [
      "2\n",
      "4\n",
      "6\n",
      "8\n",
      "10\n"
     ]
    }
   ],
   "source": [
    "i = 2\n",
    "while i <= 10:\n",
    "    print(i)\n",
    "    i += 2"
   ]
  },
  {
   "cell_type": "code",
   "execution_count": 6,
   "id": "71bc638d-31f8-419f-9249-7928d2aecdc0",
   "metadata": {},
   "outputs": [
    {
     "name": "stdout",
     "output_type": "stream",
     "text": [
      "0\n",
      "1\n",
      "2\n",
      "3\n",
      "4\n",
      "5\n",
      "6\n",
      "7\n"
     ]
    }
   ],
   "source": [
    "## main synatx of while loop\n",
    "i = 0\n",
    "n = 7\n",
    "while i <= n:\n",
    "    print(i)\n",
    "    i += 1"
   ]
  },
  {
   "cell_type": "code",
   "execution_count": 7,
   "id": "46af07fe-fdd2-48b4-88ea-56b42b3afa28",
   "metadata": {},
   "outputs": [
    {
     "name": "stdout",
     "output_type": "stream",
     "text": [
      "7 X 1 = 7\n",
      "7 X 2 = 14\n",
      "7 X 3 = 21\n",
      "7 X 4 = 28\n",
      "7 X 5 = 35\n",
      "7 X 6 = 42\n",
      "7 X 7 = 49\n",
      "7 X 8 = 56\n",
      "7 X 9 = 63\n",
      "7 X 10 = 70\n"
     ]
    }
   ],
   "source": [
    "# making table of 7 using loop\n",
    "i = 1\n",
    "n = 10\n",
    "while i <= n:\n",
    "    print( 7 , \"X\" , i , '=' , i*7 )\n",
    "    i += 1"
   ]
  },
  {
   "cell_type": "code",
   "execution_count": 8,
   "id": "e560d646-0b8f-483f-82c7-5cb0d87c6a9b",
   "metadata": {},
   "outputs": [
    {
     "name": "stdin",
     "output_type": "stream",
     "text": [
      "enter the table you want 89\n"
     ]
    },
    {
     "name": "stdout",
     "output_type": "stream",
     "text": [
      "89 X 1 = 89\n",
      "89 X 2 = 178\n",
      "89 X 3 = 267\n",
      "89 X 4 = 356\n",
      "89 X 5 = 445\n",
      "89 X 6 = 534\n",
      "89 X 7 = 623\n",
      "89 X 8 = 712\n",
      "89 X 9 = 801\n",
      "89 X 10 = 890\n"
     ]
    }
   ],
   "source": [
    "# making table by taking any number from user\n",
    "num = int(input('enter the table you want'))\n",
    "i = 1\n",
    "n = 10\n",
    "while i <= n:\n",
    "    print( num , \"X\" , i , '=' , i*num )\n",
    "    i += 1"
   ]
  },
  {
   "cell_type": "code",
   "execution_count": 9,
   "id": "808ddfc6-a1b0-40ec-a9eb-59345661787d",
   "metadata": {},
   "outputs": [
    {
     "name": "stdout",
     "output_type": "stream",
     "text": [
      "0 0\n",
      "1 1\n",
      "2 3\n",
      "3 6\n",
      "4 10\n",
      "hello 10\n"
     ]
    }
   ],
   "source": [
    "## find sum of numbers\n",
    "sum = 0\n",
    "i = 0\n",
    "n = 5\n",
    "while i < n :\n",
    "    sum += i\n",
    "    print(i , sum)\n",
    "    i += 1\n",
    "print(\"hello\",sum)"
   ]
  },
  {
   "cell_type": "code",
   "execution_count": 10,
   "id": "8dcf5e33-622b-4cf2-88b0-4cb8d8aaa544",
   "metadata": {},
   "outputs": [],
   "source": [
    "name = 'pawan'"
   ]
  },
  {
   "cell_type": "code",
   "execution_count": 11,
   "id": "7ff621bf-26e7-4d16-be73-55d1eff834f1",
   "metadata": {},
   "outputs": [
    {
     "data": {
      "text/plain": [
       "5"
      ]
     },
     "execution_count": 11,
     "metadata": {},
     "output_type": "execute_result"
    }
   ],
   "source": [
    "len(name)"
   ]
  },
  {
   "cell_type": "code",
   "execution_count": 12,
   "id": "c9216a5d-f931-4216-a0af-c1f4559be19f",
   "metadata": {},
   "outputs": [
    {
     "name": "stdout",
     "output_type": "stream",
     "text": [
      "0 5 pawan p wan\n",
      "1 5 pawan a wan\n",
      "2 5 pawan w wan\n",
      "3 5 pawan a wan\n",
      "4 5 pawan n wan\n"
     ]
    }
   ],
   "source": [
    "## indexing slicing\n",
    "name = 'pawan'\n",
    "i = 0\n",
    "n = len(name)\n",
    "while i < n:\n",
    "    print(i, n, name, name[i], name[2:5])\n",
    "    i +=1"
   ]
  },
  {
   "cell_type": "code",
   "execution_count": 13,
   "id": "83301b5f-1066-439a-9fda-a2b565b131af",
   "metadata": {},
   "outputs": [
    {
     "name": "stdout",
     "output_type": "stream",
     "text": [
      "50\n"
     ]
    }
   ],
   "source": [
    "## sum of list elements\n",
    "li = [8,4,6,1,2,3,5,7,9,5]\n",
    "i = 0\n",
    "n = len(li)\n",
    "total = 0\n",
    "while i < n :\n",
    "    # print( n,'i =' , i, total)\n",
    "    total += li[i]\n",
    "    i += 1\n",
    "print(total)"
   ]
  },
  {
   "cell_type": "markdown",
   "id": "5e0803d1-60a2-424f-929c-956736d9aab3",
   "metadata": {},
   "source": [
    "# Q1"
   ]
  },
  {
   "cell_type": "code",
   "execution_count": 13,
   "id": "78c8c3b1-bb0b-4603-8b3b-cc736ca73dca",
   "metadata": {},
   "outputs": [
    {
     "name": "stdout",
     "output_type": "stream",
     "text": [
      "maximum is : 9\n"
     ]
    }
   ],
   "source": [
    "########## MAXIMUM IN LIST ###############\n",
    "# Declare a variable say max_element and initialize it with a[0].\n",
    "# Run a loop for range a.len().\n",
    "# Check if(a[i]>max_element) then set max_element to a[i]\n",
    "# After complete iteration print(max_element)\n",
    "\n",
    "a = [8,4,6,1,2,3,5,7,9,5]\n",
    "i = 0\n",
    "n = len(a) \n",
    "maxi = a[0] \n",
    "while  i < n:\n",
    "    if a[i] > maxi: \n",
    "        maxi = a[i]\n",
    "    i += 1\n",
    "print(\"maximum is :\" , maxi)"
   ]
  },
  {
   "cell_type": "markdown",
   "id": "b0b664a0-e1ec-490b-bee6-883aba23ff12",
   "metadata": {},
   "source": [
    "# Q2"
   ]
  },
  {
   "cell_type": "code",
   "execution_count": 14,
   "id": "fb7fe506-549e-480a-b131-c46349c696cb",
   "metadata": {},
   "outputs": [
    {
     "name": "stdout",
     "output_type": "stream",
     "text": [
      "minimum is : 1\n"
     ]
    }
   ],
   "source": [
    "##### minimum in list #####\n",
    "a = [8,4,6,1,2,3,5,7,9,5]\n",
    "i = 0\n",
    "n = len(a) \n",
    "mini = a[0] \n",
    "while  i < n:\n",
    "    if a[i] < mini: \n",
    "        mini = a[i]\n",
    "    i += 1\n",
    "print(\"minimum is :\" , mini)"
   ]
  },
  {
   "cell_type": "markdown",
   "id": "b41e3452-b554-411a-8981-205c73b1778a",
   "metadata": {},
   "source": [
    "# Q3"
   ]
  },
  {
   "cell_type": "code",
   "execution_count": 26,
   "id": "ca53d7d1-27fb-4a96-8d17-9fbd20d667af",
   "metadata": {},
   "outputs": [
    {
     "name": "stdout",
     "output_type": "stream",
     "text": [
      "maximum is : 89\n",
      "minimum is : 4\n"
     ]
    }
   ],
   "source": [
    "##### find both largest and smallest element in array #####\n",
    "\n",
    "arr = [10, 89, 9, 56, 4, 80, 8]\n",
    "i = 1\n",
    "n = len(arr)\n",
    "mini = arr[0]\n",
    "maxi = arr[0]\n",
    "\n",
    "while i < n:\n",
    "    if arr[i] > maxi: \n",
    "        maxi = arr[i]\n",
    "\n",
    "    if arr[i] < mini:\n",
    "        mini = arr[i]\n",
    "        \n",
    "    i += 1\n",
    "\n",
    "print(\"maximum is :\" , maxi)\n",
    "print(\"minimum is :\" , mini)"
   ]
  },
  {
   "cell_type": "code",
   "execution_count": 18,
   "id": "c5d48a3d-afce-4d75-b404-2cb26bcb95b8",
   "metadata": {},
   "outputs": [
    {
     "name": "stdin",
     "output_type": "stream",
     "text": [
      "enter the lentgh of array 2\n",
      "Enter the Values–> 1\n",
      "Enter the Values–> 2\n"
     ]
    },
    {
     "name": "stdout",
     "output_type": "stream",
     "text": [
      "the smallest value 1 the gretaes value 2\n"
     ]
    }
   ],
   "source": [
    "##### MINIMUM AND MAXIMUM USING USER INPUT SIZE AND ARRAY #####\n",
    "\n",
    "size=int(input('enter the lentgh of array'))\n",
    "arr=[]\n",
    "for i in range(size):\n",
    "    arr.append(int(input('Enter the Values–>')))\n",
    "    arr.sort()\n",
    "print('the smallest value',min(arr),'the gretaes value',max(arr))"
   ]
  },
  {
   "cell_type": "markdown",
   "id": "07a42bf6-722d-45f8-97b7-eaccae9cd8a9",
   "metadata": {},
   "source": [
    "# Q4"
   ]
  },
  {
   "cell_type": "code",
   "execution_count": 42,
   "id": "149435ac-cf8f-4591-9ebb-7ea1d780f8c3",
   "metadata": {},
   "outputs": [
    {
     "name": "stdout",
     "output_type": "stream",
     "text": [
      "first smallest element : 1\n",
      "second smallest element : 2\n"
     ]
    }
   ],
   "source": [
    "##### find SECOND SMALLEST ELEMENT IN THE ARRAY #####\n",
    "# USING TWO ITERATION\n",
    "# Take a variable say first and set it to integer maximum value.\n",
    "# Run a loop for range (0, len(arr))\n",
    "# Check if first > arr[i], set first = arr[i]\n",
    "# Now, declare a variable say second and set it to integer maximum value.\n",
    "# Run a loop for range (0, len(arr))\n",
    "# Check if ( arr[i] != first and arr[i]<second), set second = arr[i]\n",
    "# Print(second)\n",
    "\n",
    "arr = [5, 2, 8, 1, 3]\n",
    "\n",
    "i = 0\n",
    "n = len(arr)\n",
    "mini = float('inf')\n",
    "second_mini = float('inf') \n",
    "\n",
    "while i < n :\n",
    "    if arr[i] < mini:\n",
    "        mini = arr[i]\n",
    "    i += 1\n",
    "\n",
    "i = 0 # reset i value for second loop\n",
    "while i < n:\n",
    "    if arr[i] != mini and arr[i] < second_mini:\n",
    "        second_mini = arr[i]\n",
    "    i += 1\n",
    "    \n",
    "print('first smallest element :' , mini)\n",
    "print('second smallest element :', second_mini)"
   ]
  },
  {
   "cell_type": "code",
   "execution_count": 50,
   "id": "a0a5edc1-7c05-4154-9a6e-24a7ec034789",
   "metadata": {},
   "outputs": [
    {
     "name": "stdout",
     "output_type": "stream",
     "text": [
      "first: 1\n",
      "second : 2\n"
     ]
    }
   ],
   "source": [
    "##### find second smallest using one iteration #####\n",
    "\n",
    "arr = [5, 2, 8, 1, 3]\n",
    "\n",
    "i = 0\n",
    "n = len(arr)\n",
    "mini = float('inf')\n",
    "second_mini = float('inf')\n",
    "\n",
    "while i < n:\n",
    "    if arr[i] < mini:\n",
    "        second_mini = mini\n",
    "        mini = arr[i]\n",
    "    elif arr[i] != mini and arr[i] < second_mini:\n",
    "        second_mini = arr[i]\n",
    "    i += 1\n",
    "    \n",
    "print('first:', mini)\n",
    "print('second :' , second_mini)"
   ]
  },
  {
   "cell_type": "markdown",
   "id": "f41f3daa-fa62-4d3c-bd99-341d416ac8f6",
   "metadata": {
    "jp-MarkdownHeadingCollapsed": true
   },
   "source": [
    "# Q5"
   ]
  },
  {
   "cell_type": "code",
   "execution_count": 12,
   "id": "a2683aee-446c-437b-95ab-c7257baf58cc",
   "metadata": {},
   "outputs": [
    {
     "name": "stdout",
     "output_type": "stream",
     "text": [
      "sum of elements is : 256\n"
     ]
    }
   ],
   "source": [
    "## FIND SUM OF All ELEMENTS OF ARRAY ###\n",
    "arr = [10, 89, 9, 56, 4, 80, 8]\n",
    "\n",
    "i = 0\n",
    "n = len(arr)\n",
    "total = 0\n",
    "while i < n:\n",
    "    total = total + arr[i]\n",
    "    i += 1\n",
    "print(\"sum of elements is :\", total)\n"
   ]
  },
  {
   "cell_type": "code",
   "execution_count": 2,
   "id": "01865ba3-92f7-4713-9bbc-f873e53f8af5",
   "metadata": {},
   "outputs": [
    {
     "name": "stdout",
     "output_type": "stream",
     "text": [
      "sum of all element is: 342\n"
     ]
    }
   ],
   "source": [
    "## using inbuilt function\n",
    "arr = [10, 89, 91, 56, 4, 84, 8]\n",
    "print('sum of all element is:', sum(arr))\n"
   ]
  },
  {
   "cell_type": "markdown",
   "id": "92454af2-c774-4360-82e6-79d6b37b4f13",
   "metadata": {
    "jp-MarkdownHeadingCollapsed": true
   },
   "source": [
    "# Q6"
   ]
  },
  {
   "cell_type": "code",
   "execution_count": 28,
   "id": "3cd8438b-e114-4049-bb96-1450b498cc84",
   "metadata": {},
   "outputs": [
    {
     "name": "stdout",
     "output_type": "stream",
     "text": [
      "original array is : [1, 2, 3, 4, 5, 6, 7, 8, 9]\n",
      "  sorted array is : [9, 8, 7, 6, 5, 4, 3, 2, 1]\n"
     ]
    }
   ],
   "source": [
    "### Reverse an Array using Python\n",
    "arr = [1, 2, 3, 4, 5, 6, 7, 8, 9]\n",
    "print('original array is :',arr)\n",
    "start = 0\n",
    "end = len(arr)-1\n",
    "while start < end:\n",
    "    arr[start] , arr[end] = arr[end] , arr[start]\n",
    "    start += 1\n",
    "    end -= 1\n",
    "print(\"  sorted array is :\",arr)"
   ]
  },
  {
   "cell_type": "code",
   "execution_count": 31,
   "id": "de9b53fe-b218-478f-a379-46ed31b8af08",
   "metadata": {},
   "outputs": [
    {
     "name": "stdout",
     "output_type": "stream",
     "text": [
      "[9, 8, 7, 6, 5, 4, 3, 2, 1]\n"
     ]
    }
   ],
   "source": [
    "### slicing method\n",
    "arr = [1, 2, 3, 4, 5, 6, 7, 8, 9]\n",
    "reverse = arr[::-1]\n",
    "print(reverse)"
   ]
  },
  {
   "cell_type": "markdown",
   "id": "9213c811-71f8-4bdf-acb2-61c055cf5c86",
   "metadata": {
    "jp-MarkdownHeadingCollapsed": true
   },
   "source": [
    "# Q7"
   ]
  },
  {
   "cell_type": "code",
   "execution_count": 21,
   "id": "c5a2fdfc-9138-4828-a37e-aeba680c7fa1",
   "metadata": {},
   "outputs": [
    {
     "name": "stdout",
     "output_type": "stream",
     "text": [
      "1 3 4 7 8 20  15  12  10  9  "
     ]
    }
   ],
   "source": [
    "### Sort First half in Ascending and Second half in descending order \n",
    "arr = [12, 4, 9, 1, 15, 7, 20, 3, 10, 8]\n",
    "arr.sort()\n",
    "\n",
    "i = 0\n",
    "mid = len(arr)//2\n",
    "\n",
    "## first half ascending\n",
    "while i < mid:\n",
    "    print(arr[i], end=\" \")\n",
    "    i += 1\n",
    "    \n",
    "## second half descending\n",
    "i = len(arr)-1\n",
    "while i >= mid:\n",
    "    print(arr[i],end=\"  \")\n",
    "    i -= 1"
   ]
  },
  {
   "cell_type": "code",
   "execution_count": 29,
   "id": "78f0e33b-00d5-4320-869b-9f7772cadf98",
   "metadata": {},
   "outputs": [
    {
     "name": "stdout",
     "output_type": "stream",
     "text": [
      "2 3 5 7 18 14 9 "
     ]
    }
   ],
   "source": [
    "arr2 = [14, 5, 2, 9, 18, 7, 3]\n",
    "arr2.sort()\n",
    "\n",
    "i = 0\n",
    "mid = len(arr2)//2\n",
    "\n",
    "while i <= mid:\n",
    "    print(arr2[i], end = \" \")\n",
    "    i += 1\n",
    "\n",
    "j = len(arr2)-1\n",
    "while j > mid:\n",
    "    print(arr2[j], end=\" \")\n",
    "    j -= 1"
   ]
  },
  {
   "cell_type": "code",
   "execution_count": 36,
   "id": "e3d1db8d-aaa0-40d7-94de-2e6bbf0fefc5",
   "metadata": {},
   "outputs": [
    {
     "name": "stdout",
     "output_type": "stream",
     "text": [
      "[33, 29, 17, 27, 31, 23]\n"
     ]
    }
   ],
   "source": [
    "## list generation\n",
    "import random\n",
    "arr = [random.randint(1,50) for x in range(random.randint(5,6))]\n",
    "print(arr)"
   ]
  },
  {
   "cell_type": "markdown",
   "id": "5280d104-ed4f-422a-b6e2-eabb527af9b5",
   "metadata": {},
   "source": [
    "# Q8"
   ]
  }
 ],
 "metadata": {
  "kernelspec": {
   "display_name": "Python [conda env:base] *",
   "language": "python",
   "name": "conda-base-py"
  },
  "language_info": {
   "codemirror_mode": {
    "name": "ipython",
    "version": 3
   },
   "file_extension": ".py",
   "mimetype": "text/x-python",
   "name": "python",
   "nbconvert_exporter": "python",
   "pygments_lexer": "ipython3",
   "version": "3.13.5"
  }
 },
 "nbformat": 4,
 "nbformat_minor": 5
}
