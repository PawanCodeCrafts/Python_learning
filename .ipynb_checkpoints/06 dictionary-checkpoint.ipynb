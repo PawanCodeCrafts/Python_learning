{
 "cells": [
  {
   "cell_type": "markdown",
   "id": "6c7bb129-0a4d-4c1b-aa6f-4dcf13b0417f",
   "metadata": {},
   "source": [
    "# DICTIONARY"
   ]
  },
  {
   "cell_type": "markdown",
   "id": "345fda7d-4bdc-4a5b-a0da-7f882c894a8e",
   "metadata": {},
   "source": [
    "### dictionary stores key value pairs\n",
    "### cannot do indexing slicing\n",
    "### it is collection of unordered items\n",
    "### we can change values means it is mutable"
   ]
  },
  {
   "cell_type": "code",
   "execution_count": 8,
   "id": "9a9f4932-37dd-41fa-99e7-09959f9e2190",
   "metadata": {},
   "outputs": [],
   "source": [
    "d = {'name': 'pawan', 'age':24, 'education':'btech'}"
   ]
  },
  {
   "cell_type": "code",
   "execution_count": 9,
   "id": "325bd07f-c05d-410c-bbbb-59031b1224ea",
   "metadata": {},
   "outputs": [
    {
     "data": {
      "text/plain": [
       "{'name': 'pawan', 'age': 24, 'education': 'btech'}"
      ]
     },
     "execution_count": 9,
     "metadata": {},
     "output_type": "execute_result"
    }
   ],
   "source": [
    "d"
   ]
  },
  {
   "cell_type": "code",
   "execution_count": 10,
   "id": "f3cea1c4-0fa8-4186-82cb-b4faf7c61524",
   "metadata": {},
   "outputs": [
    {
     "data": {
      "text/plain": [
       "3"
      ]
     },
     "execution_count": 10,
     "metadata": {},
     "output_type": "execute_result"
    }
   ],
   "source": [
    "len(d)"
   ]
  },
  {
   "cell_type": "code",
   "execution_count": 11,
   "id": "7fc5e1a4-6320-41e6-92cd-7cd1de3afe39",
   "metadata": {},
   "outputs": [
    {
     "data": {
      "text/plain": [
       "dict_keys(['name', 'age', 'education'])"
      ]
     },
     "execution_count": 11,
     "metadata": {},
     "output_type": "execute_result"
    }
   ],
   "source": [
    "d.keys()"
   ]
  },
  {
   "cell_type": "code",
   "execution_count": 12,
   "id": "0c64298a-4be2-42f8-93a5-c7e03f652799",
   "metadata": {},
   "outputs": [
    {
     "data": {
      "text/plain": [
       "dict_values(['pawan', 24, 'btech'])"
      ]
     },
     "execution_count": 12,
     "metadata": {},
     "output_type": "execute_result"
    }
   ],
   "source": [
    "d.values()"
   ]
  },
  {
   "cell_type": "code",
   "execution_count": 13,
   "id": "676e67ad-37ff-459f-be3c-9d951124a5ed",
   "metadata": {},
   "outputs": [
    {
     "data": {
      "text/plain": [
       "'pawan'"
      ]
     },
     "execution_count": 13,
     "metadata": {},
     "output_type": "execute_result"
    }
   ],
   "source": [
    "d['name']"
   ]
  },
  {
   "cell_type": "code",
   "execution_count": 14,
   "id": "dfbdaf84-b248-4554-9f2f-d5f88e9fa311",
   "metadata": {},
   "outputs": [
    {
     "data": {
      "text/plain": [
       "24"
      ]
     },
     "execution_count": 14,
     "metadata": {},
     "output_type": "execute_result"
    }
   ],
   "source": [
    "d['age']"
   ]
  },
  {
   "cell_type": "code",
   "execution_count": 15,
   "id": "2090d2fb-ab05-47f5-b0db-15644d61dd49",
   "metadata": {},
   "outputs": [
    {
     "data": {
      "text/plain": [
       "'btech'"
      ]
     },
     "execution_count": 15,
     "metadata": {},
     "output_type": "execute_result"
    }
   ],
   "source": [
    "d['education']"
   ]
  },
  {
   "cell_type": "code",
   "execution_count": 16,
   "id": "333e9085-2f09-4150-8e8b-3f43643db089",
   "metadata": {},
   "outputs": [],
   "source": [
    "## mutable\n",
    "d['name']= 'komal'"
   ]
  },
  {
   "cell_type": "code",
   "execution_count": 17,
   "id": "cd6f59a9-92e0-4507-8e56-3cbfe6ef279d",
   "metadata": {},
   "outputs": [
    {
     "data": {
      "text/plain": [
       "{'name': 'komal', 'age': 24, 'education': 'btech'}"
      ]
     },
     "execution_count": 17,
     "metadata": {},
     "output_type": "execute_result"
    }
   ],
   "source": [
    "d"
   ]
  },
  {
   "cell_type": "code",
   "execution_count": 18,
   "id": "2aff5381-5599-4b3a-878e-cc97d92bfbb6",
   "metadata": {},
   "outputs": [],
   "source": [
    "stu = {'name' : 'mehak' , 'age':24, 'dept' : 'cse'}"
   ]
  },
  {
   "cell_type": "code",
   "execution_count": 19,
   "id": "82511240-f3a0-4c26-b8ec-6f04494d5fcb",
   "metadata": {},
   "outputs": [
    {
     "data": {
      "text/plain": [
       "{'name': 'mehak', 'age': 24, 'dept': 'cse'}"
      ]
     },
     "execution_count": 19,
     "metadata": {},
     "output_type": "execute_result"
    }
   ],
   "source": [
    "stu"
   ]
  },
  {
   "cell_type": "code",
   "execution_count": 20,
   "id": "75414355-9324-45d9-abaa-8fefbfae5cef",
   "metadata": {},
   "outputs": [
    {
     "data": {
      "text/plain": [
       "'mehak'"
      ]
     },
     "execution_count": 20,
     "metadata": {},
     "output_type": "execute_result"
    }
   ],
   "source": [
    "stu['name']"
   ]
  },
  {
   "cell_type": "code",
   "execution_count": 21,
   "id": "4198cb2f-edee-4cc7-82a9-1c84867c4ef7",
   "metadata": {},
   "outputs": [
    {
     "data": {
      "text/plain": [
       "24"
      ]
     },
     "execution_count": 21,
     "metadata": {},
     "output_type": "execute_result"
    }
   ],
   "source": [
    "stu['age']"
   ]
  },
  {
   "cell_type": "code",
   "execution_count": 22,
   "id": "f58cb09b-2cfb-4346-af62-90ebb00e6904",
   "metadata": {},
   "outputs": [
    {
     "data": {
      "text/plain": [
       "'cse'"
      ]
     },
     "execution_count": 22,
     "metadata": {},
     "output_type": "execute_result"
    }
   ],
   "source": [
    "stu['dept']"
   ]
  },
  {
   "cell_type": "code",
   "execution_count": 23,
   "id": "3d0e8cdd-f48e-41fd-b34f-947d14d82b08",
   "metadata": {},
   "outputs": [
    {
     "data": {
      "text/plain": [
       "3"
      ]
     },
     "execution_count": 23,
     "metadata": {},
     "output_type": "execute_result"
    }
   ],
   "source": [
    "len(stu)"
   ]
  },
  {
   "cell_type": "code",
   "execution_count": 24,
   "id": "fd2d9348-c4b7-4a85-90aa-2f59023fe3df",
   "metadata": {},
   "outputs": [
    {
     "data": {
      "text/plain": [
       "dict_keys(['name', 'age', 'dept'])"
      ]
     },
     "execution_count": 24,
     "metadata": {},
     "output_type": "execute_result"
    }
   ],
   "source": [
    "stu.keys()"
   ]
  },
  {
   "cell_type": "code",
   "execution_count": 25,
   "id": "b213b4ea-7b0d-47fa-91bd-65988b3d15a9",
   "metadata": {},
   "outputs": [
    {
     "data": {
      "text/plain": [
       "dict_values(['mehak', 24, 'cse'])"
      ]
     },
     "execution_count": 25,
     "metadata": {},
     "output_type": "execute_result"
    }
   ],
   "source": [
    "stu.values()"
   ]
  },
  {
   "cell_type": "code",
   "execution_count": 26,
   "id": "f4435293-4d4e-4dc7-adc2-a25904c83a06",
   "metadata": {},
   "outputs": [
    {
     "ename": "KeyError",
     "evalue": "'marks'",
     "output_type": "error",
     "traceback": [
      "\u001b[1;31m---------------------------------------------------------------------------\u001b[0m",
      "\u001b[1;31mKeyError\u001b[0m                                  Traceback (most recent call last)",
      "Cell \u001b[1;32mIn[26], line 1\u001b[0m\n\u001b[1;32m----> 1\u001b[0m stu[\u001b[38;5;124m'\u001b[39m\u001b[38;5;124mmarks\u001b[39m\u001b[38;5;124m'\u001b[39m]\n",
      "\u001b[1;31mKeyError\u001b[0m: 'marks'"
     ]
    }
   ],
   "source": [
    "stu['marks']"
   ]
  },
  {
   "cell_type": "code",
   "execution_count": 27,
   "id": "b22dba27-8d23-473f-adf5-115947cd7cb9",
   "metadata": {},
   "outputs": [],
   "source": [
    "stu['marks'] = 80"
   ]
  },
  {
   "cell_type": "code",
   "execution_count": 28,
   "id": "efccd209-fd94-4be4-8b40-31d40d90f745",
   "metadata": {},
   "outputs": [
    {
     "data": {
      "text/plain": [
       "{'name': 'mehak', 'age': 24, 'dept': 'cse', 'marks': 80}"
      ]
     },
     "execution_count": 28,
     "metadata": {},
     "output_type": "execute_result"
    }
   ],
   "source": [
    "stu"
   ]
  },
  {
   "cell_type": "code",
   "execution_count": 29,
   "id": "8b3258d0-855c-4c94-80fc-1d511aa6fb0f",
   "metadata": {},
   "outputs": [],
   "source": [
    "# keys can only have strings or int\n",
    "## value can be of any types"
   ]
  },
  {
   "cell_type": "code",
   "execution_count": 30,
   "id": "50beae86-c15f-4433-bf5d-559faf4905a3",
   "metadata": {},
   "outputs": [
    {
     "data": {
      "text/plain": [
       "{1: 'pawan', 2: 'raman', 3: 'komal'}"
      ]
     },
     "execution_count": 30,
     "metadata": {},
     "output_type": "execute_result"
    }
   ],
   "source": [
    "{1:'pawan', 2:'raman', 3:'komal'}"
   ]
  },
  {
   "cell_type": "code",
   "execution_count": 37,
   "id": "456564b8-211b-4d4d-b6a1-70399ce91a33",
   "metadata": {},
   "outputs": [],
   "source": [
    "dic ={\n",
    "    1:{'name' :\"rohit\", 'age':'25'},\n",
    "    2:{'name' :\"akash\", 'age':'26'},\n",
    "    3:{'name' :\"kirti\", 'age':'23', 'fruits':['apple','mango','banana']}}"
   ]
  },
  {
   "cell_type": "code",
   "execution_count": 38,
   "id": "ac2dbcac-ceb4-486e-8daa-cb6cd08a30ed",
   "metadata": {},
   "outputs": [
    {
     "data": {
      "text/plain": [
       "{1: {'name': 'rohit', 'age': '25'},\n",
       " 2: {'name': 'akash', 'age': '26'},\n",
       " 3: {'name': 'kirti', 'age': '23', 'fruits': ['apple', 'mango', 'banana']}}"
      ]
     },
     "execution_count": 38,
     "metadata": {},
     "output_type": "execute_result"
    }
   ],
   "source": [
    "dic"
   ]
  },
  {
   "cell_type": "code",
   "execution_count": 39,
   "id": "10a0d660-ae03-4031-9673-efc6c6248000",
   "metadata": {},
   "outputs": [
    {
     "data": {
      "text/plain": [
       "dict_keys([1, 2, 3])"
      ]
     },
     "execution_count": 39,
     "metadata": {},
     "output_type": "execute_result"
    }
   ],
   "source": [
    "dic.keys()"
   ]
  },
  {
   "cell_type": "code",
   "execution_count": 40,
   "id": "ea72ad19-7f9a-4c99-bf9a-c515e65329aa",
   "metadata": {},
   "outputs": [
    {
     "data": {
      "text/plain": [
       "dict_values([{'name': 'rohit', 'age': '25'}, {'name': 'akash', 'age': '26'}, {'name': 'kirti', 'age': '23', 'fruits': ['apple', 'mango', 'banana']}])"
      ]
     },
     "execution_count": 40,
     "metadata": {},
     "output_type": "execute_result"
    }
   ],
   "source": [
    "dic.values()"
   ]
  },
  {
   "cell_type": "code",
   "execution_count": 43,
   "id": "1e66425a-cc76-4a71-aafc-cace81b636f5",
   "metadata": {},
   "outputs": [],
   "source": [
    "dic[3]['fruits'] = 'grapes'"
   ]
  },
  {
   "cell_type": "code",
   "execution_count": 44,
   "id": "662b67df-5cc5-4c69-8169-b883dfc766e2",
   "metadata": {},
   "outputs": [
    {
     "data": {
      "text/plain": [
       "{1: {'name': 'rohit', 'age': '25'},\n",
       " 2: {'name': 'akash', 'age': '26'},\n",
       " 3: {'name': 'kirti', 'age': '23', 'fruits': 'grapes'}}"
      ]
     },
     "execution_count": 44,
     "metadata": {},
     "output_type": "execute_result"
    }
   ],
   "source": [
    "dic"
   ]
  },
  {
   "cell_type": "code",
   "execution_count": 48,
   "id": "efd56ca0-b31a-4cb2-b117-14ddbe25654b",
   "metadata": {},
   "outputs": [
    {
     "data": {
      "text/plain": [
       "'grapes'"
      ]
     },
     "execution_count": 48,
     "metadata": {},
     "output_type": "execute_result"
    }
   ],
   "source": [
    "dic[3]['fruits'][0:6]"
   ]
  },
  {
   "cell_type": "code",
   "execution_count": 49,
   "id": "58dd6d9e-c16a-4776-a8c5-5138e791c52d",
   "metadata": {},
   "outputs": [],
   "source": [
    "dic[3]['fruits'] =['apple', 'mango', 'banana']"
   ]
  },
  {
   "cell_type": "code",
   "execution_count": 50,
   "id": "da05864c-83c2-45cf-874b-f8f7f8aa8e17",
   "metadata": {},
   "outputs": [
    {
     "data": {
      "text/plain": [
       "{1: {'name': 'rohit', 'age': '25'},\n",
       " 2: {'name': 'akash', 'age': '26'},\n",
       " 3: {'name': 'kirti', 'age': '23', 'fruits': ['apple', 'mango', 'banana']}}"
      ]
     },
     "execution_count": 50,
     "metadata": {},
     "output_type": "execute_result"
    }
   ],
   "source": [
    "dic"
   ]
  },
  {
   "cell_type": "code",
   "execution_count": 53,
   "id": "002fe205-c446-40b8-a199-5a0ce4dd1f19",
   "metadata": {},
   "outputs": [
    {
     "data": {
      "text/plain": [
       "dict"
      ]
     },
     "execution_count": 53,
     "metadata": {},
     "output_type": "execute_result"
    }
   ],
   "source": [
    "type(dic)"
   ]
  },
  {
   "cell_type": "code",
   "execution_count": 59,
   "id": "fe2a4cfc-4787-4f0d-89b6-36d08771790d",
   "metadata": {},
   "outputs": [],
   "source": [
    "dic[1] ['name']='abhira'"
   ]
  },
  {
   "cell_type": "code",
   "execution_count": 62,
   "id": "3886b816-bdbb-4444-b110-bb87cf0e68ec",
   "metadata": {},
   "outputs": [
    {
     "data": {
      "text/plain": [
       "'abhira'"
      ]
     },
     "execution_count": 62,
     "metadata": {},
     "output_type": "execute_result"
    }
   ],
   "source": [
    "dic.pop('name')"
   ]
  },
  {
   "cell_type": "code",
   "execution_count": 63,
   "id": "8ba33050-8e33-4eac-b271-407f1fb2a33f",
   "metadata": {},
   "outputs": [
    {
     "data": {
      "text/plain": [
       "{1: {'name': 'abhira', 'age': '25'},\n",
       " 2: {'name': 'akash', 'age': '26'},\n",
       " 3: {'name': 'kirti', 'age': '23', 'fruits': ['apple', 'mango', 'banana']}}"
      ]
     },
     "execution_count": 63,
     "metadata": {},
     "output_type": "execute_result"
    }
   ],
   "source": [
    "dic"
   ]
  },
  {
   "cell_type": "code",
   "execution_count": 71,
   "id": "9497ae9a-cf09-45c2-922e-cfe5b82bb666",
   "metadata": {},
   "outputs": [
    {
     "data": {
      "text/plain": [
       "{'name': 'kirti', 'age': '23', 'fruits': ['apple', 'mango', 'banana']}"
      ]
     },
     "execution_count": 71,
     "metadata": {},
     "output_type": "execute_result"
    }
   ],
   "source": [
    "dic.get(3)"
   ]
  },
  {
   "cell_type": "code",
   "execution_count": 74,
   "id": "f0228f10-8d2f-450f-ade9-af713d021e4d",
   "metadata": {},
   "outputs": [
    {
     "data": {
      "text/plain": [
       "{'name': 'kirti', 'age': '23', 'fruits': ['apple', 'mango', 'banana']}"
      ]
     },
     "execution_count": 74,
     "metadata": {},
     "output_type": "execute_result"
    }
   ],
   "source": [
    "dic[3]"
   ]
  },
  {
   "cell_type": "code",
   "execution_count": 75,
   "id": "08ce12e4-8dda-42bc-8284-00375b86cb3d",
   "metadata": {},
   "outputs": [
    {
     "data": {
      "text/plain": [
       "'kirti'"
      ]
     },
     "execution_count": 75,
     "metadata": {},
     "output_type": "execute_result"
    }
   ],
   "source": [
    "dic[3]['name']"
   ]
  },
  {
   "cell_type": "code",
   "execution_count": 76,
   "id": "1c97113c-e083-4c9a-b90d-e5ba3158f15b",
   "metadata": {},
   "outputs": [
    {
     "data": {
      "text/plain": [
       "['apple', 'mango', 'banana']"
      ]
     },
     "execution_count": 76,
     "metadata": {},
     "output_type": "execute_result"
    }
   ],
   "source": [
    "dic[3]['fruits']"
   ]
  },
  {
   "cell_type": "code",
   "execution_count": 85,
   "id": "cd011283-0e6a-43cf-ab78-c70b32955317",
   "metadata": {},
   "outputs": [
    {
     "data": {
      "text/plain": [
       "'ana'"
      ]
     },
     "execution_count": 85,
     "metadata": {},
     "output_type": "execute_result"
    }
   ],
   "source": [
    "dic[3]['fruits'][2][1:4]"
   ]
  },
  {
   "cell_type": "code",
   "execution_count": 87,
   "id": "2a92bfb9-3a92-4a2f-9f7a-a83ccb3ac4e9",
   "metadata": {},
   "outputs": [
    {
     "data": {
      "text/plain": [
       "(3, {'name': 'kirti', 'age': '23', 'fruits': ['apple', 'mango', 'banana']})"
      ]
     },
     "execution_count": 87,
     "metadata": {},
     "output_type": "execute_result"
    }
   ],
   "source": [
    "dic.popitem()"
   ]
  },
  {
   "cell_type": "code",
   "execution_count": 88,
   "id": "6ea6eb3e-605c-43ce-aeef-c5885aef623e",
   "metadata": {},
   "outputs": [
    {
     "data": {
      "text/plain": [
       "{1: {'name': 'abhira', 'age': '25'}, 2: {'name': 'akash', 'age': '26'}}"
      ]
     },
     "execution_count": 88,
     "metadata": {},
     "output_type": "execute_result"
    }
   ],
   "source": [
    "dic"
   ]
  },
  {
   "cell_type": "code",
   "execution_count": 93,
   "id": "7a4babf0-828e-4d88-9ad2-54e7095359c2",
   "metadata": {},
   "outputs": [
    {
     "data": {
      "text/plain": [
       "{1: {'name': 'abhira', 'age': '25'}, 2: {'name': 'akash', 'age': '26'}}"
      ]
     },
     "execution_count": 93,
     "metadata": {},
     "output_type": "execute_result"
    }
   ],
   "source": [
    "dic"
   ]
  },
  {
   "cell_type": "code",
   "execution_count": 94,
   "id": "683d7885-f4a6-4f41-89ee-e2df560b1729",
   "metadata": {},
   "outputs": [],
   "source": [
    "dic[3] ={'name': 'kirti', 'age': '23', 'fruits': ['apple', 'mango', 'banana']}"
   ]
  },
  {
   "cell_type": "code",
   "execution_count": 95,
   "id": "bc0935cb-c8f9-4531-acbc-4dcaecbb7b43",
   "metadata": {},
   "outputs": [
    {
     "data": {
      "text/plain": [
       "{1: {'name': 'abhira', 'age': '25'},\n",
       " 2: {'name': 'akash', 'age': '26'},\n",
       " 3: {'name': 'kirti', 'age': '23', 'fruits': ['apple', 'mango', 'banana']}}"
      ]
     },
     "execution_count": 95,
     "metadata": {},
     "output_type": "execute_result"
    }
   ],
   "source": [
    "dic"
   ]
  },
  {
   "cell_type": "code",
   "execution_count": 96,
   "id": "68d81fe1-3f32-453e-b773-1288226bc28f",
   "metadata": {},
   "outputs": [
    {
     "data": {
      "text/plain": [
       "dict_items([(1, {'name': 'abhira', 'age': '25'}), (2, {'name': 'akash', 'age': '26'}), (3, {'name': 'kirti', 'age': '23', 'fruits': ['apple', 'mango', 'banana']})])"
      ]
     },
     "execution_count": 96,
     "metadata": {},
     "output_type": "execute_result"
    }
   ],
   "source": [
    "dic.items()"
   ]
  },
  {
   "cell_type": "code",
   "execution_count": 97,
   "id": "2a0efe2f-7d61-493b-b0f4-426b138c507a",
   "metadata": {},
   "outputs": [
    {
     "data": {
      "text/plain": [
       "{'name': 'komal', 'age': 24, 'education': 'btech'}"
      ]
     },
     "execution_count": 97,
     "metadata": {},
     "output_type": "execute_result"
    }
   ],
   "source": [
    "d"
   ]
  },
  {
   "cell_type": "code",
   "execution_count": 98,
   "id": "a767cf33-66b6-46b9-9922-d1ad8022276c",
   "metadata": {},
   "outputs": [
    {
     "data": {
      "text/plain": [
       "['name', 'age', 'education']"
      ]
     },
     "execution_count": 98,
     "metadata": {},
     "output_type": "execute_result"
    }
   ],
   "source": [
    "list(d.keys())"
   ]
  },
  {
   "cell_type": "code",
   "execution_count": 101,
   "id": "8f416dcf-046c-40cf-ae5e-e46e05341cae",
   "metadata": {},
   "outputs": [
    {
     "data": {
      "text/plain": [
       "{'name': 'komal', 'age': 24, 'education': 'btech'}"
      ]
     },
     "execution_count": 101,
     "metadata": {},
     "output_type": "execute_result"
    }
   ],
   "source": [
    "d"
   ]
  },
  {
   "cell_type": "code",
   "execution_count": 102,
   "id": "5a31c75b-9d24-4339-852a-1e13773ed038",
   "metadata": {},
   "outputs": [
    {
     "data": {
      "text/plain": [
       "dict_keys(['name', 'age', 'education'])"
      ]
     },
     "execution_count": 102,
     "metadata": {},
     "output_type": "execute_result"
    }
   ],
   "source": [
    "d.keys()"
   ]
  },
  {
   "cell_type": "code",
   "execution_count": 104,
   "id": "933c4e53-e478-4251-b995-5d89f5be5140",
   "metadata": {},
   "outputs": [
    {
     "data": {
      "text/plain": [
       "dict_values(['komal', 24, 'btech'])"
      ]
     },
     "execution_count": 104,
     "metadata": {},
     "output_type": "execute_result"
    }
   ],
   "source": [
    "d.values()"
   ]
  },
  {
   "cell_type": "code",
   "execution_count": 107,
   "id": "14a6e608-ac31-40de-b61e-c8e08d9118fe",
   "metadata": {},
   "outputs": [
    {
     "data": {
      "text/plain": [
       "'m'"
      ]
     },
     "execution_count": 107,
     "metadata": {},
     "output_type": "execute_result"
    }
   ],
   "source": [
    "d['name'][1:4][1]"
   ]
  },
  {
   "cell_type": "code",
   "execution_count": 108,
   "id": "f5506c43-cf30-4129-a76d-4427ecd4f1be",
   "metadata": {},
   "outputs": [],
   "source": [
    "I = {'name' : 'pawan'}"
   ]
  },
  {
   "cell_type": "code",
   "execution_count": 109,
   "id": "d28adc78-89df-4dbb-b6ca-3c8db086b0c5",
   "metadata": {},
   "outputs": [],
   "source": [
    "I['age'] = 21"
   ]
  },
  {
   "cell_type": "code",
   "execution_count": 110,
   "id": "b9c5d3db-38be-4056-be5f-fed003f78f98",
   "metadata": {},
   "outputs": [
    {
     "data": {
      "text/plain": [
       "{'name': 'pawan', 'age': 21}"
      ]
     },
     "execution_count": 110,
     "metadata": {},
     "output_type": "execute_result"
    }
   ],
   "source": [
    "I"
   ]
  },
  {
   "cell_type": "code",
   "execution_count": 111,
   "id": "2f5fc95c-b845-4dc9-aa28-47940da11469",
   "metadata": {},
   "outputs": [],
   "source": [
    "I['city'] ='batala'"
   ]
  },
  {
   "cell_type": "code",
   "execution_count": 112,
   "id": "631aa072-30e9-4532-9e41-1d821a424337",
   "metadata": {},
   "outputs": [],
   "source": [
    "I['education']  = 'bca'"
   ]
  },
  {
   "cell_type": "code",
   "execution_count": 113,
   "id": "9c9c198f-7a48-46ca-ad14-250aa5105e0f",
   "metadata": {},
   "outputs": [],
   "source": [
    "I['fruits'] = ['apple','banana','grapes']"
   ]
  },
  {
   "cell_type": "code",
   "execution_count": 114,
   "id": "335adb9d-32aa-4c25-814a-2798c8f2c666",
   "metadata": {},
   "outputs": [
    {
     "data": {
      "text/plain": [
       "{'name': 'pawan',\n",
       " 'age': 21,\n",
       " 'city': 'batala',\n",
       " 'education': 'bca',\n",
       " 'fruits': ['apple', 'banana', 'grapes']}"
      ]
     },
     "execution_count": 114,
     "metadata": {},
     "output_type": "execute_result"
    }
   ],
   "source": [
    "I"
   ]
  },
  {
   "cell_type": "code",
   "execution_count": 115,
   "id": "2fa76e81-8527-408f-ad1b-05ec303e40c9",
   "metadata": {},
   "outputs": [],
   "source": [
    "I['color'] ={'red','black'}"
   ]
  },
  {
   "cell_type": "code",
   "execution_count": 116,
   "id": "30aea142-509d-494f-98fc-bbac4b38ae07",
   "metadata": {},
   "outputs": [
    {
     "data": {
      "text/plain": [
       "{'name': 'pawan',\n",
       " 'age': 21,\n",
       " 'city': 'batala',\n",
       " 'education': 'bca',\n",
       " 'fruits': ['apple', 'banana', 'grapes'],\n",
       " 'color': {'black', 'red'}}"
      ]
     },
     "execution_count": 116,
     "metadata": {},
     "output_type": "execute_result"
    }
   ],
   "source": [
    "I"
   ]
  },
  {
   "cell_type": "code",
   "execution_count": 118,
   "id": "3bb94829-b642-4df9-961f-034d3b2e4db0",
   "metadata": {},
   "outputs": [
    {
     "data": {
      "text/plain": [
       "'ana'"
      ]
     },
     "execution_count": 118,
     "metadata": {},
     "output_type": "execute_result"
    }
   ],
   "source": [
    "I['fruits'][1][1:4]"
   ]
  },
  {
   "cell_type": "code",
   "execution_count": 119,
   "id": "9b40dc30-332d-449e-8e74-0329eb18a5d4",
   "metadata": {},
   "outputs": [],
   "source": [
    "data ={\n",
    "    'info':[12,34.5, 'hello',{'key':[1,2,3,'world']}]\n",
    "}"
   ]
  },
  {
   "cell_type": "code",
   "execution_count": 120,
   "id": "636f982e-0105-46a0-a7cf-667430d63b57",
   "metadata": {},
   "outputs": [
    {
     "data": {
      "text/plain": [
       "dict"
      ]
     },
     "execution_count": 120,
     "metadata": {},
     "output_type": "execute_result"
    }
   ],
   "source": [
    "type(data)"
   ]
  },
  {
   "cell_type": "code",
   "execution_count": 121,
   "id": "a3f9525b-68f2-4f46-9076-8a12f74b0c62",
   "metadata": {},
   "outputs": [
    {
     "data": {
      "text/plain": [
       "dict_keys(['info'])"
      ]
     },
     "execution_count": 121,
     "metadata": {},
     "output_type": "execute_result"
    }
   ],
   "source": [
    "data.keys()"
   ]
  },
  {
   "cell_type": "code",
   "execution_count": 122,
   "id": "d29e1c52-02f3-4226-af7a-ff32fdeccf65",
   "metadata": {},
   "outputs": [
    {
     "data": {
      "text/plain": [
       "dict_values([[12, 34.5, 'hello', {'key': [1, 2, 3, 'world']}]])"
      ]
     },
     "execution_count": 122,
     "metadata": {},
     "output_type": "execute_result"
    }
   ],
   "source": [
    "data.values()"
   ]
  },
  {
   "cell_type": "code",
   "execution_count": 124,
   "id": "eb0dfbb6-0137-4217-9064-c51412b46348",
   "metadata": {},
   "outputs": [
    {
     "data": {
      "text/plain": [
       "'hello'"
      ]
     },
     "execution_count": 124,
     "metadata": {},
     "output_type": "execute_result"
    }
   ],
   "source": [
    "data['info'][2]"
   ]
  },
  {
   "cell_type": "code",
   "execution_count": 125,
   "id": "64d459b5-423a-4591-8594-bf2e0c1ed512",
   "metadata": {},
   "outputs": [
    {
     "data": {
      "text/plain": [
       "'world'"
      ]
     },
     "execution_count": 125,
     "metadata": {},
     "output_type": "execute_result"
    }
   ],
   "source": [
    "data['info'][3]['key'][3]"
   ]
  },
  {
   "cell_type": "code",
   "execution_count": null,
   "id": "63ef06eb-d649-4eb4-b359-79cbb9e41f46",
   "metadata": {},
   "outputs": [],
   "source": []
  }
 ],
 "metadata": {
  "kernelspec": {
   "display_name": "Python [conda env:base] *",
   "language": "python",
   "name": "conda-base-py"
  },
  "language_info": {
   "codemirror_mode": {
    "name": "ipython",
    "version": 3
   },
   "file_extension": ".py",
   "mimetype": "text/x-python",
   "name": "python",
   "nbconvert_exporter": "python",
   "pygments_lexer": "ipython3",
   "version": "3.13.5"
  }
 },
 "nbformat": 4,
 "nbformat_minor": 5
}
