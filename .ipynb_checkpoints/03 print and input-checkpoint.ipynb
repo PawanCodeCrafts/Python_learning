{
 "cells": [
  {
   "cell_type": "code",
   "execution_count": 1,
   "id": "7fa1caea-5743-46f3-b37e-0c975720f669",
   "metadata": {},
   "outputs": [
    {
     "data": {
      "text/plain": [
       "5"
      ]
     },
     "execution_count": 1,
     "metadata": {},
     "output_type": "execute_result"
    }
   ],
   "source": [
    "len('pawan')"
   ]
  },
  {
   "cell_type": "code",
   "execution_count": 2,
   "id": "3291f39d-9a12-4662-990c-3c9049abb6f7",
   "metadata": {},
   "outputs": [],
   "source": [
    "a = 5"
   ]
  },
  {
   "cell_type": "code",
   "execution_count": 3,
   "id": "36bedc63-2c44-408e-92c1-e7ded9be0117",
   "metadata": {},
   "outputs": [],
   "source": [
    "b=6"
   ]
  },
  {
   "cell_type": "code",
   "execution_count": 4,
   "id": "9324bc14-c126-41b4-8081-c9f2ecc7b305",
   "metadata": {},
   "outputs": [
    {
     "data": {
      "text/plain": [
       "5"
      ]
     },
     "execution_count": 4,
     "metadata": {},
     "output_type": "execute_result"
    }
   ],
   "source": [
    "a"
   ]
  },
  {
   "cell_type": "code",
   "execution_count": 5,
   "id": "d61843df-a46a-4c54-9838-5334a0c39926",
   "metadata": {},
   "outputs": [
    {
     "data": {
      "text/plain": [
       "6"
      ]
     },
     "execution_count": 5,
     "metadata": {},
     "output_type": "execute_result"
    }
   ],
   "source": [
    "b"
   ]
  },
  {
   "cell_type": "code",
   "execution_count": 6,
   "id": "8dd338ed-9726-46a9-8907-e72d1a0d3249",
   "metadata": {},
   "outputs": [
    {
     "data": {
      "text/plain": [
       "6"
      ]
     },
     "execution_count": 6,
     "metadata": {},
     "output_type": "execute_result"
    }
   ],
   "source": [
    "a\n",
    "b"
   ]
  },
  {
   "cell_type": "code",
   "execution_count": 7,
   "id": "a0bdb7c9-2523-4c93-8c61-3fa40b51ede1",
   "metadata": {},
   "outputs": [
    {
     "name": "stdout",
     "output_type": "stream",
     "text": [
      "5\n",
      "6\n"
     ]
    }
   ],
   "source": [
    "print(a)\n",
    "print(b)"
   ]
  },
  {
   "cell_type": "code",
   "execution_count": 8,
   "id": "0a8a3779-0933-4201-9d92-a56d445f51b9",
   "metadata": {},
   "outputs": [
    {
     "name": "stdout",
     "output_type": "stream",
     "text": [
      "5\n"
     ]
    },
    {
     "data": {
      "text/plain": [
       "8"
      ]
     },
     "execution_count": 8,
     "metadata": {},
     "output_type": "execute_result"
    }
   ],
   "source": [
    "print(5)\n",
    "8"
   ]
  },
  {
   "cell_type": "code",
   "execution_count": 9,
   "id": "64b3abd9-64ac-4ecd-b50a-33b710948667",
   "metadata": {},
   "outputs": [
    {
     "name": "stdout",
     "output_type": "stream",
     "text": [
      "5\n"
     ]
    }
   ],
   "source": [
    "a = print(5)"
   ]
  },
  {
   "cell_type": "code",
   "execution_count": 10,
   "id": "124e1689-9226-46c6-afc9-534f4951750a",
   "metadata": {},
   "outputs": [],
   "source": [
    "a"
   ]
  },
  {
   "cell_type": "code",
   "execution_count": 11,
   "id": "173cdf8e-1c8a-44a3-82ec-a84ff961b347",
   "metadata": {},
   "outputs": [
    {
     "name": "stdout",
     "output_type": "stream",
     "text": [
      "None\n"
     ]
    }
   ],
   "source": [
    "print(a)"
   ]
  },
  {
   "cell_type": "code",
   "execution_count": 12,
   "id": "5cc72ccf-c3f4-48fc-9912-6bb431cf413d",
   "metadata": {},
   "outputs": [
    {
     "data": {
      "text/plain": [
       "NoneType"
      ]
     },
     "execution_count": 12,
     "metadata": {},
     "output_type": "execute_result"
    }
   ],
   "source": [
    "type(a)"
   ]
  },
  {
   "cell_type": "code",
   "execution_count": 18,
   "id": "de6db49b-761c-49c7-b12f-7e21b239cc22",
   "metadata": {},
   "outputs": [
    {
     "name": "stdout",
     "output_type": "stream",
     "text": [
      "6\n"
     ]
    }
   ],
   "source": [
    "print(b)"
   ]
  },
  {
   "cell_type": "markdown",
   "id": "0f0e0334-8f4e-4131-99c5-0240756b4892",
   "metadata": {},
   "source": [
    "# INPUT"
   ]
  },
  {
   "cell_type": "code",
   "execution_count": 22,
   "id": "c4d24b89-3d77-4826-8273-634f937635d2",
   "metadata": {},
   "outputs": [
    {
     "name": "stdin",
     "output_type": "stream",
     "text": [
      "enter your name pawan\n"
     ]
    }
   ],
   "source": [
    "name = input(\"enter your name\")"
   ]
  },
  {
   "cell_type": "code",
   "execution_count": 23,
   "id": "5e88b770-630d-4d99-b5b5-f2377f4918f9",
   "metadata": {},
   "outputs": [
    {
     "data": {
      "text/plain": [
       "'pawan'"
      ]
     },
     "execution_count": 23,
     "metadata": {},
     "output_type": "execute_result"
    }
   ],
   "source": [
    "name"
   ]
  },
  {
   "cell_type": "code",
   "execution_count": 24,
   "id": "6c81715d-8161-4c85-be31-75601f18b3c5",
   "metadata": {},
   "outputs": [
    {
     "name": "stdin",
     "output_type": "stream",
     "text": [
      "enter your age  21\n"
     ]
    }
   ],
   "source": [
    "age = input(\"enter your age \")\n"
   ]
  },
  {
   "cell_type": "code",
   "execution_count": 25,
   "id": "f59568ef-7aa5-4eba-baab-12b6b05d67fa",
   "metadata": {},
   "outputs": [
    {
     "data": {
      "text/plain": [
       "'21'"
      ]
     },
     "execution_count": 25,
     "metadata": {},
     "output_type": "execute_result"
    }
   ],
   "source": [
    "age"
   ]
  },
  {
   "cell_type": "code",
   "execution_count": 26,
   "id": "444ca627-50e7-4af1-bdea-1307c10dca3f",
   "metadata": {},
   "outputs": [
    {
     "data": {
      "text/plain": [
       "str"
      ]
     },
     "execution_count": 26,
     "metadata": {},
     "output_type": "execute_result"
    }
   ],
   "source": [
    "type(age)"
   ]
  },
  {
   "cell_type": "code",
   "execution_count": 27,
   "id": "3557cf0b-e378-4082-869a-be74a9956370",
   "metadata": {},
   "outputs": [],
   "source": [
    "age = int(age)"
   ]
  },
  {
   "cell_type": "code",
   "execution_count": 28,
   "id": "4a2ab193-9fbd-479e-9a5f-7af4ad2d39c9",
   "metadata": {},
   "outputs": [
    {
     "data": {
      "text/plain": [
       "21"
      ]
     },
     "execution_count": 28,
     "metadata": {},
     "output_type": "execute_result"
    }
   ],
   "source": [
    "age"
   ]
  },
  {
   "cell_type": "code",
   "execution_count": 30,
   "id": "03b7c267-fe51-4c15-b0e8-d14d919f071e",
   "metadata": {},
   "outputs": [
    {
     "name": "stdin",
     "output_type": "stream",
     "text": [
      " 20\n"
     ]
    },
    {
     "data": {
      "text/plain": [
       "20"
      ]
     },
     "execution_count": 30,
     "metadata": {},
     "output_type": "execute_result"
    }
   ],
   "source": [
    "age = input()\n",
    "age = int(age)\n",
    "age"
   ]
  },
  {
   "cell_type": "code",
   "execution_count": 31,
   "id": "4768133b-256f-4ff2-bb49-21a0126ba06d",
   "metadata": {},
   "outputs": [
    {
     "data": {
      "text/plain": [
       "20"
      ]
     },
     "execution_count": 31,
     "metadata": {},
     "output_type": "execute_result"
    }
   ],
   "source": [
    "age"
   ]
  },
  {
   "cell_type": "code",
   "execution_count": 32,
   "id": "f82b0670-a072-4c3f-b5f9-4e162291fba1",
   "metadata": {},
   "outputs": [
    {
     "data": {
      "text/plain": [
       "int"
      ]
     },
     "execution_count": 32,
     "metadata": {},
     "output_type": "execute_result"
    }
   ],
   "source": [
    "type(age)"
   ]
  },
  {
   "cell_type": "code",
   "execution_count": 2,
   "id": "68d297dd-72cb-4c38-9a3e-b99ef5a46a6c",
   "metadata": {},
   "outputs": [
    {
     "name": "stdin",
     "output_type": "stream",
     "text": [
      "enter greeting message hello good afternoon \n"
     ]
    }
   ],
   "source": [
    "greet = input(\"enter greeting message\")\n",
    "l = len(greet)//2\n",
    "new = greet[:l] + \"\" + greet[l:][::-1]"
   ]
  },
  {
   "cell_type": "code",
   "execution_count": 3,
   "id": "4d7d3d3a-9378-4b3e-bb6c-1ca9cf07f754",
   "metadata": {},
   "outputs": [
    {
     "data": {
      "text/plain": [
       "'hello good noonretfa '"
      ]
     },
     "execution_count": 3,
     "metadata": {},
     "output_type": "execute_result"
    }
   ],
   "source": [
    "new"
   ]
  },
  {
   "cell_type": "markdown",
   "id": "2a5b59b5-09fd-45c5-9873-8651e4371510",
   "metadata": {},
   "source": [
    "## type casting"
   ]
  },
  {
   "cell_type": "code",
   "execution_count": 1,
   "id": "afa7c07d-84ee-462a-8fe7-ad88d2d1b304",
   "metadata": {},
   "outputs": [
    {
     "data": {
      "text/plain": [
       "50"
      ]
     },
     "execution_count": 1,
     "metadata": {},
     "output_type": "execute_result"
    }
   ],
   "source": [
    "int(50.6)"
   ]
  },
  {
   "cell_type": "code",
   "execution_count": 2,
   "id": "08d38ca9-b687-4e4d-b488-166fce20d4ca",
   "metadata": {},
   "outputs": [
    {
     "data": {
      "text/plain": [
       "50"
      ]
     },
     "execution_count": 2,
     "metadata": {},
     "output_type": "execute_result"
    }
   ],
   "source": [
    "int('50')"
   ]
  },
  {
   "cell_type": "code",
   "execution_count": 3,
   "id": "b979f92d-4b6e-44db-ac45-294c929ac9f5",
   "metadata": {
    "scrolled": true
   },
   "outputs": [
    {
     "data": {
      "text/plain": [
       "'50'"
      ]
     },
     "execution_count": 3,
     "metadata": {},
     "output_type": "execute_result"
    }
   ],
   "source": [
    "str(50)"
   ]
  },
  {
   "cell_type": "code",
   "execution_count": 12,
   "id": "0cd786c3-18f2-40aa-b88d-9acea5c00eda",
   "metadata": {},
   "outputs": [
    {
     "ename": "ValueError",
     "evalue": "invalid literal for int() with base 10: '50.6'",
     "output_type": "error",
     "traceback": [
      "\u001b[1;31m---------------------------------------------------------------------------\u001b[0m",
      "\u001b[1;31mValueError\u001b[0m                                Traceback (most recent call last)",
      "Cell \u001b[1;32mIn[12], line 1\u001b[0m\n\u001b[1;32m----> 1\u001b[0m \u001b[38;5;28mint\u001b[39m(\u001b[38;5;124m'\u001b[39m\u001b[38;5;124m50.6\u001b[39m\u001b[38;5;124m'\u001b[39m)\n",
      "\u001b[1;31mValueError\u001b[0m: invalid literal for int() with base 10: '50.6'"
     ]
    }
   ],
   "source": [
    "int('50.6')"
   ]
  },
  {
   "cell_type": "code",
   "execution_count": 13,
   "id": "95e9271a-4dc9-4403-adf1-843144342afd",
   "metadata": {
    "scrolled": true
   },
   "outputs": [
    {
     "data": {
      "text/plain": [
       "50"
      ]
     },
     "execution_count": 13,
     "metadata": {},
     "output_type": "execute_result"
    }
   ],
   "source": [
    "int(float('50.6'))"
   ]
  },
  {
   "cell_type": "code",
   "execution_count": 14,
   "id": "85bfe893-cae5-4631-aae6-f5f1d2c0ac34",
   "metadata": {},
   "outputs": [
    {
     "data": {
      "text/plain": [
       "48"
      ]
     },
     "execution_count": 14,
     "metadata": {},
     "output_type": "execute_result"
    }
   ],
   "source": [
    "int('48')"
   ]
  },
  {
   "cell_type": "markdown",
   "id": "5add14ac-4150-4f6f-8d20-f7de11723bf6",
   "metadata": {},
   "source": [
    "## print"
   ]
  },
  {
   "cell_type": "code",
   "execution_count": 4,
   "id": "a4f7088e-fd99-4ac3-855c-85db0aad57d6",
   "metadata": {},
   "outputs": [],
   "source": [
    "a = None"
   ]
  },
  {
   "cell_type": "code",
   "execution_count": 5,
   "id": "bbbc1c7a-0c76-472c-b883-47522de335bf",
   "metadata": {},
   "outputs": [],
   "source": [
    "a"
   ]
  },
  {
   "cell_type": "code",
   "execution_count": 7,
   "id": "c7204fa0-7171-4cc2-99c5-d3b099065f64",
   "metadata": {},
   "outputs": [
    {
     "data": {
      "text/plain": [
       "NoneType"
      ]
     },
     "execution_count": 7,
     "metadata": {},
     "output_type": "execute_result"
    }
   ],
   "source": [
    "type(a)"
   ]
  },
  {
   "cell_type": "code",
   "execution_count": 6,
   "id": "76329058-b2b1-4024-a7c6-f75b422afd1f",
   "metadata": {},
   "outputs": [
    {
     "name": "stdout",
     "output_type": "stream",
     "text": [
      "5 3 pawan singh\n"
     ]
    }
   ],
   "source": [
    "print(5,3, 'pawan', 'singh')"
   ]
  },
  {
   "cell_type": "code",
   "execution_count": 10,
   "id": "38281d62-3e78-4ab0-9448-1b71ad6114be",
   "metadata": {},
   "outputs": [
    {
     "name": "stdout",
     "output_type": "stream",
     "text": [
      "5  3  pawan  singh\n"
     ]
    }
   ],
   "source": [
    "print(5,3, 'pawan', 'singh', sep=\"  \") # sep is separator"
   ]
  },
  {
   "cell_type": "code",
   "execution_count": 11,
   "id": "a6847cad-3340-46b7-a24a-ea95d636c117",
   "metadata": {},
   "outputs": [
    {
     "name": "stdout",
     "output_type": "stream",
     "text": [
      "5 * 3 * pawan * singh\n"
     ]
    }
   ],
   "source": [
    "print(5,3, 'pawan', 'singh', sep=\" * \") "
   ]
  },
  {
   "cell_type": "code",
   "execution_count": 16,
   "id": "c852cafd-bd15-466d-a918-45bbac95aa62",
   "metadata": {},
   "outputs": [
    {
     "name": "stdout",
     "output_type": "stream",
     "text": [
      "30\n",
      "50 60 70\n",
      "40\n"
     ]
    }
   ],
   "source": [
    "print(30 , end=\"\\n\")\n",
    "print(50 , 60, 70)\n",
    "print(40)"
   ]
  },
  {
   "cell_type": "code",
   "execution_count": 17,
   "id": "9c6800bf-8004-42f9-b1d8-7a2c24c8e938",
   "metadata": {},
   "outputs": [
    {
     "name": "stdout",
     "output_type": "stream",
     "text": [
      "30 * 50 60 70 --40\n"
     ]
    }
   ],
   "source": [
    "print(30, end=\" * \")\n",
    "print(50 , 60, 70, end=\" --\")\n",
    "print(40)"
   ]
  },
  {
   "cell_type": "code",
   "execution_count": 18,
   "id": "5fc3296c-869b-4eed-b2c3-e4e33e32034f",
   "metadata": {},
   "outputs": [
    {
     "ename": "TypeError",
     "evalue": "can only concatenate str (not \"int\") to str",
     "output_type": "error",
     "traceback": [
      "\u001b[1;31m---------------------------------------------------------------------------\u001b[0m",
      "\u001b[1;31mTypeError\u001b[0m                                 Traceback (most recent call last)",
      "Cell \u001b[1;32mIn[18], line 1\u001b[0m\n\u001b[1;32m----> 1\u001b[0m \u001b[38;5;124m'\u001b[39m\u001b[38;5;124mpawan\u001b[39m\u001b[38;5;124m'\u001b[39m \u001b[38;5;241m+\u001b[39m \u001b[38;5;241m5000\u001b[39m\n",
      "\u001b[1;31mTypeError\u001b[0m: can only concatenate str (not \"int\") to str"
     ]
    }
   ],
   "source": [
    "'pawan' + 5000"
   ]
  },
  {
   "cell_type": "code",
   "execution_count": 20,
   "id": "f83be2ed-e5ea-455b-bbac-cee2ad19d61e",
   "metadata": {},
   "outputs": [
    {
     "name": "stdout",
     "output_type": "stream",
     "text": [
      " pawan 5000\n"
     ]
    }
   ],
   "source": [
    "print(\" pawan\" , 5000)"
   ]
  },
  {
   "cell_type": "code",
   "execution_count": 22,
   "id": "2cb2ba6f-ade6-433a-ba96-e15936ebf1c0",
   "metadata": {},
   "outputs": [
    {
     "data": {
      "text/plain": [
       "'pawan 28'"
      ]
     },
     "execution_count": 22,
     "metadata": {},
     "output_type": "execute_result"
    }
   ],
   "source": [
    "name = 'pawan'\n",
    "age= 28\n",
    "f'{name} {age}'"
   ]
  },
  {
   "cell_type": "code",
   "execution_count": 25,
   "id": "54025bf2-67c9-499a-8b53-dbac3b0c784e",
   "metadata": {},
   "outputs": [
    {
     "name": "stdout",
     "output_type": "stream",
     "text": [
      "pawan 28\n"
     ]
    }
   ],
   "source": [
    "name = 'pawan'\n",
    "age= 28\n",
    "print(f'{name} {age}') # concatenate"
   ]
  },
  {
   "cell_type": "code",
   "execution_count": 24,
   "id": "cb35e9f9-5ebc-450f-b363-64ec1044bfdb",
   "metadata": {},
   "outputs": [
    {
     "name": "stdout",
     "output_type": "stream",
     "text": [
      "pawan 28\n"
     ]
    }
   ],
   "source": [
    "print(name , age)"
   ]
  },
  {
   "cell_type": "code",
   "execution_count": 27,
   "id": "90a9f80f-f07c-45c8-be11-aa0b4546fa97",
   "metadata": {},
   "outputs": [
    {
     "data": {
      "text/plain": [
       "'zzzzzzzzzz'"
      ]
     },
     "execution_count": 27,
     "metadata": {},
     "output_type": "execute_result"
    }
   ],
   "source": [
    "\"z\"*10\n"
   ]
  },
  {
   "cell_type": "code",
   "execution_count": 28,
   "id": "1d5302b4-fe8c-41cb-85c3-2346c6444108",
   "metadata": {},
   "outputs": [
    {
     "data": {
      "text/plain": [
       "'pawam'"
      ]
     },
     "execution_count": 28,
     "metadata": {},
     "output_type": "execute_result"
    }
   ],
   "source": [
    "\"pawam\""
   ]
  },
  {
   "cell_type": "code",
   "execution_count": 29,
   "id": "e9502667-5366-40e5-b2c9-ef5dac2261cb",
   "metadata": {
    "scrolled": true
   },
   "outputs": [
    {
     "data": {
      "text/plain": [
       "'pawam'"
      ]
     },
     "execution_count": 29,
     "metadata": {},
     "output_type": "execute_result"
    }
   ],
   "source": [
    "'pawam'"
   ]
  },
  {
   "cell_type": "code",
   "execution_count": 35,
   "id": "097d8878-3fae-4241-a967-1f54dcf18a9b",
   "metadata": {},
   "outputs": [
    {
     "data": {
      "text/plain": [
       "'pawan\\npreet'"
      ]
     },
     "execution_count": 35,
     "metadata": {},
     "output_type": "execute_result"
    }
   ],
   "source": [
    "\"\"\"pawan\n",
    "preet\"\"\""
   ]
  },
  {
   "cell_type": "code",
   "execution_count": 32,
   "id": "0eb1e59f-befe-4d4d-87ea-f9a3071c3db0",
   "metadata": {},
   "outputs": [],
   "source": [
    " a = \"\"\"pawan\n",
    "preet\"\"\""
   ]
  },
  {
   "cell_type": "code",
   "execution_count": 33,
   "id": "2b4d8cd8-6c40-476f-9024-b50df4113689",
   "metadata": {},
   "outputs": [
    {
     "name": "stdout",
     "output_type": "stream",
     "text": [
      "pawan\n",
      "preet\n"
     ]
    }
   ],
   "source": [
    "print(a)"
   ]
  },
  {
   "cell_type": "markdown",
   "id": "98b337d1-873d-46c9-a6f1-f2609a85dbdf",
   "metadata": {},
   "source": [
    "### escape characters"
   ]
  },
  {
   "cell_type": "code",
   "execution_count": 36,
   "id": "47d7db64-8613-4d94-8dd9-8acac02a8e6b",
   "metadata": {},
   "outputs": [],
   "source": [
    "a = \"hello pa\\twan\""
   ]
  },
  {
   "cell_type": "code",
   "execution_count": 37,
   "id": "5b8c0b1d-1fa3-4628-aeb8-2dfddfd6cc6a",
   "metadata": {},
   "outputs": [
    {
     "name": "stdout",
     "output_type": "stream",
     "text": [
      "hello pa\twan\n"
     ]
    }
   ],
   "source": [
    "print(a)"
   ]
  },
  {
   "cell_type": "code",
   "execution_count": 39,
   "id": "caa78955-915a-4d1e-be81-f9824512b29e",
   "metadata": {},
   "outputs": [
    {
     "name": "stdout",
     "output_type": "stream",
     "text": [
      " pawan\n"
     ]
    }
   ],
   "source": [
    "print(\"hello \\r pawan\")"
   ]
  },
  {
   "cell_type": "code",
   "execution_count": 40,
   "id": "c6188501-6476-4ee4-bcba-fa0a718921f0",
   "metadata": {},
   "outputs": [
    {
     "name": "stdout",
     "output_type": "stream",
     "text": [
      "Help on built-in function print in module builtins:\n",
      "\n",
      "print(*args, sep=' ', end='\\n', file=None, flush=False)\n",
      "    Prints the values to a stream, or to sys.stdout by default.\n",
      "\n",
      "    sep\n",
      "      string inserted between values, default a space.\n",
      "    end\n",
      "      string appended after the last value, default a newline.\n",
      "    file\n",
      "      a file-like object (stream); defaults to the current sys.stdout.\n",
      "    flush\n",
      "      whether to forcibly flush the stream.\n",
      "\n"
     ]
    }
   ],
   "source": [
    "help(print)"
   ]
  },
  {
   "cell_type": "code",
   "execution_count": 41,
   "id": "d6f17041-97a8-460c-bd9e-1fc8b5af0701",
   "metadata": {},
   "outputs": [
    {
     "data": {
      "text/plain": [
       "140728800556072"
      ]
     },
     "execution_count": 41,
     "metadata": {},
     "output_type": "execute_result"
    }
   ],
   "source": [
    "id(5)"
   ]
  },
  {
   "cell_type": "code",
   "execution_count": 43,
   "id": "59bae7ff-4efb-4364-8673-3f4b7dbf03f1",
   "metadata": {},
   "outputs": [
    {
     "data": {
      "text/plain": [
       "0"
      ]
     },
     "execution_count": 43,
     "metadata": {},
     "output_type": "execute_result"
    }
   ],
   "source": [
    "0 \n",
    "# 1 bit"
   ]
  },
  {
   "cell_type": "code",
   "execution_count": 44,
   "id": "72680f62-c4d8-49ba-9ce2-9e26eab457a9",
   "metadata": {},
   "outputs": [
    {
     "data": {
      "text/plain": [
       "10010010"
      ]
     },
     "execution_count": 44,
     "metadata": {},
     "output_type": "execute_result"
    }
   ],
   "source": [
    "# byte - 8 bit\n",
    "10010010"
   ]
  },
  {
   "cell_type": "code",
   "execution_count": 46,
   "id": "20f10618-49bf-4a22-a14d-1214cf127ea1",
   "metadata": {},
   "outputs": [
    {
     "data": {
      "text/plain": [
       "b'\\x00\\x00\\x00\\x00\\x00\\x00\\x00\\x00\\x00\\x00'"
      ]
     },
     "execution_count": 46,
     "metadata": {},
     "output_type": "execute_result"
    }
   ],
   "source": [
    "bytes(10)"
   ]
  },
  {
   "cell_type": "markdown",
   "id": "9f6871b4-1c35-4110-b827-19b5921ea6bb",
   "metadata": {},
   "source": [
    "## 0 0r 1 -bit\n",
    "## 8 bit = 1 byte\n",
    "## 1024 byte = 1KB\n",
    "## 1024 kB = 1 MB megabyte\n",
    "## 1024 MB = 1 GB gigabyte\n",
    "## 1024 GB = 1 TB terabyte\n",
    "## 1024 TB = 1 PB petabyte"
   ]
  },
  {
   "cell_type": "code",
   "execution_count": 51,
   "id": "5c8d116d-0685-40b3-b300-f9998d12d3a0",
   "metadata": {},
   "outputs": [
    {
     "data": {
      "text/plain": [
       "128522"
      ]
     },
     "execution_count": 51,
     "metadata": {},
     "output_type": "execute_result"
    }
   ],
   "source": [
    "ord(\"😊\")# find the unicode characters"
   ]
  },
  {
   "cell_type": "code",
   "execution_count": 52,
   "id": "13f34010-4bb8-4c1f-aad2-05e0cf70a119",
   "metadata": {},
   "outputs": [
    {
     "data": {
      "text/plain": [
       "49"
      ]
     },
     "execution_count": 52,
     "metadata": {},
     "output_type": "execute_result"
    }
   ],
   "source": [
    "ord('1')"
   ]
  },
  {
   "cell_type": "code",
   "execution_count": 53,
   "id": "a83fa0dd-148b-48dd-9341-01aa6f55eda9",
   "metadata": {},
   "outputs": [
    {
     "data": {
      "text/plain": [
       "50"
      ]
     },
     "execution_count": 53,
     "metadata": {},
     "output_type": "execute_result"
    }
   ],
   "source": [
    "ord('2')"
   ]
  },
  {
   "cell_type": "code",
   "execution_count": 54,
   "id": "2285cf14-cb63-4f2d-b783-538da99ac1c0",
   "metadata": {},
   "outputs": [
    {
     "data": {
      "text/plain": [
       "97"
      ]
     },
     "execution_count": 54,
     "metadata": {},
     "output_type": "execute_result"
    }
   ],
   "source": [
    "ord('a')"
   ]
  },
  {
   "cell_type": "code",
   "execution_count": 55,
   "id": "02e4d07b-175c-44fb-8ab4-9fc0aec2fd2b",
   "metadata": {},
   "outputs": [
    {
     "data": {
      "text/plain": [
       "98"
      ]
     },
     "execution_count": 55,
     "metadata": {},
     "output_type": "execute_result"
    }
   ],
   "source": [
    "ord('b')"
   ]
  },
  {
   "cell_type": "code",
   "execution_count": 56,
   "id": "ec03c83a-7ce3-4d10-b76e-5a849abefcd2",
   "metadata": {},
   "outputs": [
    {
     "data": {
      "text/plain": [
       "65"
      ]
     },
     "execution_count": 56,
     "metadata": {},
     "output_type": "execute_result"
    }
   ],
   "source": [
    "ord('A')"
   ]
  },
  {
   "cell_type": "code",
   "execution_count": null,
   "id": "ae93d96e-dcf6-48ea-ac2b-92636ee27268",
   "metadata": {},
   "outputs": [],
   "source": []
  }
 ],
 "metadata": {
  "kernelspec": {
   "display_name": "Python [conda env:base] *",
   "language": "python",
   "name": "conda-base-py"
  },
  "language_info": {
   "codemirror_mode": {
    "name": "ipython",
    "version": 3
   },
   "file_extension": ".py",
   "mimetype": "text/x-python",
   "name": "python",
   "nbconvert_exporter": "python",
   "pygments_lexer": "ipython3",
   "version": "3.13.5"
  }
 },
 "nbformat": 4,
 "nbformat_minor": 5
}
