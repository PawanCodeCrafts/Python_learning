{
 "cells": [
  {
   "cell_type": "markdown",
   "id": "ac5c7060-7855-44d1-888e-d820e6f5f2f6",
   "metadata": {},
   "source": [
    "# working with strings\n",
    "<br>\n",
    "\n",
    "<p></p>\n",
    "<p>we can make sting using single , double and triple quotes</p>\n",
    "\n"
   ]
  },
  {
   "cell_type": "code",
   "execution_count": 2,
   "id": "681ce0b9-aa68-4421-92a3-973bf4943da1",
   "metadata": {},
   "outputs": [
    {
     "data": {
      "text/plain": [
       "'pawan'"
      ]
     },
     "execution_count": 2,
     "metadata": {},
     "output_type": "execute_result"
    }
   ],
   "source": [
    "'pawan'"
   ]
  },
  {
   "cell_type": "code",
   "execution_count": 3,
   "id": "b90135cf-87ea-4cb3-a0d2-6499570dc176",
   "metadata": {},
   "outputs": [
    {
     "data": {
      "text/plain": [
       "'pawan'"
      ]
     },
     "execution_count": 3,
     "metadata": {},
     "output_type": "execute_result"
    }
   ],
   "source": [
    "\"pawan\""
   ]
  },
  {
   "cell_type": "code",
   "execution_count": 4,
   "id": "4eac0da7-6fe7-426b-b0af-70b7d1919148",
   "metadata": {},
   "outputs": [
    {
     "data": {
      "text/plain": [
       "'pawan'"
      ]
     },
     "execution_count": 4,
     "metadata": {},
     "output_type": "execute_result"
    }
   ],
   "source": [
    "\"\"\"pawan\"\"\""
   ]
  },
  {
   "cell_type": "code",
   "execution_count": 5,
   "id": "10d90b7f-5711-4447-91a7-62388280c6ff",
   "metadata": {},
   "outputs": [
    {
     "ename": "SyntaxError",
     "evalue": "unterminated string literal (detected at line 1) (1009913922.py, line 1)",
     "output_type": "error",
     "traceback": [
      "\u001b[1;36m  Cell \u001b[1;32mIn[5], line 1\u001b[1;36m\u001b[0m\n\u001b[1;33m    \"that's mine'\u001b[0m\n\u001b[1;37m    ^\u001b[0m\n\u001b[1;31mSyntaxError\u001b[0m\u001b[1;31m:\u001b[0m unterminated string literal (detected at line 1)\n"
     ]
    }
   ],
   "source": [
    "\"that's mine'"
   ]
  },
  {
   "cell_type": "code",
   "execution_count": 6,
   "id": "77a94442-3dc8-45e3-851b-0ae353da3dbb",
   "metadata": {},
   "outputs": [
    {
     "data": {
      "text/plain": [
       "\"that's mine\""
      ]
     },
     "execution_count": 6,
     "metadata": {},
     "output_type": "execute_result"
    }
   ],
   "source": [
    "\"that's mine\""
   ]
  },
  {
   "cell_type": "code",
   "execution_count": 7,
   "id": "7c984ea8-3632-4175-8c44-d5e3d072c5d0",
   "metadata": {},
   "outputs": [
    {
     "ename": "SyntaxError",
     "evalue": "unterminated string literal (detected at line 1) (2794804761.py, line 1)",
     "output_type": "error",
     "traceback": [
      "\u001b[1;36m  Cell \u001b[1;32mIn[7], line 1\u001b[1;36m\u001b[0m\n\u001b[1;33m    \" hi nice to meet you\u001b[0m\n\u001b[1;37m    ^\u001b[0m\n\u001b[1;31mSyntaxError\u001b[0m\u001b[1;31m:\u001b[0m unterminated string literal (detected at line 1)\n"
     ]
    }
   ],
   "source": [
    "\" hi nice to meet you \n",
    "my name is pawan \""
   ]
  },
  {
   "cell_type": "code",
   "execution_count": 8,
   "id": "88265902-a41f-4111-850d-0bc4716b7c76",
   "metadata": {},
   "outputs": [
    {
     "data": {
      "text/plain": [
       "'\\nhi nice to meet you my name is pawan\\nmy name is pawan\\n'"
      ]
     },
     "execution_count": 8,
     "metadata": {},
     "output_type": "execute_result"
    }
   ],
   "source": [
    "\"\"\"\n",
    "hi nice to meet you my name is pawan\n",
    "my name is pawan\n",
    "\"\"\""
   ]
  },
  {
   "cell_type": "code",
   "execution_count": 9,
   "id": "0a27760f-e979-40bf-b918-45986ebd39e6",
   "metadata": {},
   "outputs": [
    {
     "name": "stdout",
     "output_type": "stream",
     "text": [
      "\n",
      "hi nice to meet you my name is pawan\n",
      "my name is pawan\n",
      "\n"
     ]
    }
   ],
   "source": [
    "print(\"\"\"\n",
    "hi nice to meet you my name is pawan\n",
    "my name is pawan\n",
    "\"\"\")"
   ]
  },
  {
   "cell_type": "code",
   "execution_count": 10,
   "id": "00ed2dca-76bb-44d0-a397-2016f82d7df2",
   "metadata": {},
   "outputs": [
    {
     "data": {
      "text/plain": [
       "str"
      ]
     },
     "execution_count": 10,
     "metadata": {},
     "output_type": "execute_result"
    }
   ],
   "source": [
    "type(\"pawan\")"
   ]
  },
  {
   "cell_type": "markdown",
   "id": "83657a04-0368-4d0b-82b0-fde73e8ba17f",
   "metadata": {},
   "source": [
    "## string methods"
   ]
  },
  {
   "cell_type": "code",
   "execution_count": 11,
   "id": "172be839-0cb1-4408-9756-19fc32c4ec2a",
   "metadata": {},
   "outputs": [
    {
     "data": {
      "text/plain": [
       "'Pawan'"
      ]
     },
     "execution_count": 11,
     "metadata": {},
     "output_type": "execute_result"
    }
   ],
   "source": [
    "\"pawan\".capitalize()"
   ]
  },
  {
   "cell_type": "code",
   "execution_count": 12,
   "id": "52b2bd11-feda-4a06-a49f-18c8326bb482",
   "metadata": {},
   "outputs": [
    {
     "data": {
      "text/plain": [
       "'PAWAN'"
      ]
     },
     "execution_count": 12,
     "metadata": {},
     "output_type": "execute_result"
    }
   ],
   "source": [
    "\"pawan\".upper()"
   ]
  },
  {
   "cell_type": "code",
   "execution_count": 16,
   "id": "c3b0bb88-1c3d-425d-b0d3-a77a29f54271",
   "metadata": {},
   "outputs": [
    {
     "data": {
      "text/plain": [
       "'pawan'"
      ]
     },
     "execution_count": 16,
     "metadata": {},
     "output_type": "execute_result"
    }
   ],
   "source": [
    "\"paWAn\".lower()"
   ]
  },
  {
   "cell_type": "code",
   "execution_count": 17,
   "id": "638c9fc0-f051-45e7-851a-057182d7794f",
   "metadata": {},
   "outputs": [
    {
     "data": {
      "text/plain": [
       "2"
      ]
     },
     "execution_count": 17,
     "metadata": {},
     "output_type": "execute_result"
    }
   ],
   "source": [
    "\"pawan\".count('a')"
   ]
  },
  {
   "cell_type": "code",
   "execution_count": 19,
   "id": "ed18a8a0-9861-4c06-b228-511cc3d94479",
   "metadata": {},
   "outputs": [],
   "source": [
    "name = \"pawan Preet\""
   ]
  },
  {
   "cell_type": "code",
   "execution_count": 20,
   "id": "475d6d23-4de3-4de4-8acc-ee676de5e507",
   "metadata": {},
   "outputs": [
    {
     "data": {
      "text/plain": [
       "'pawan Preet'"
      ]
     },
     "execution_count": 20,
     "metadata": {},
     "output_type": "execute_result"
    }
   ],
   "source": [
    "name"
   ]
  },
  {
   "cell_type": "code",
   "execution_count": 21,
   "id": "14b64033-6719-4e4b-9af2-56013ce107ec",
   "metadata": {},
   "outputs": [
    {
     "data": {
      "text/plain": [
       "7"
      ]
     },
     "execution_count": 21,
     "metadata": {},
     "output_type": "execute_result"
    }
   ],
   "source": [
    "name.find('r')"
   ]
  },
  {
   "cell_type": "code",
   "execution_count": 22,
   "id": "8bf34764-e77c-4057-bf5f-8350dd29f950",
   "metadata": {},
   "outputs": [],
   "source": [
    "# repeating letter mein first letter hi btayega "
   ]
  },
  {
   "cell_type": "code",
   "execution_count": 25,
   "id": "c3da4ee7-9972-4023-8207-3dc13051579e",
   "metadata": {},
   "outputs": [
    {
     "data": {
      "text/plain": [
       "1"
      ]
     },
     "execution_count": 25,
     "metadata": {},
     "output_type": "execute_result"
    }
   ],
   "source": [
    "name.find(\"a\")"
   ]
  },
  {
   "cell_type": "code",
   "execution_count": 26,
   "id": "8703f699-f620-4813-a9d4-64262e704c10",
   "metadata": {},
   "outputs": [
    {
     "data": {
      "text/plain": [
       "1"
      ]
     },
     "execution_count": 26,
     "metadata": {},
     "output_type": "execute_result"
    }
   ],
   "source": [
    "name.find(\"a\")"
   ]
  },
  {
   "cell_type": "code",
   "execution_count": 28,
   "id": "b9ba2abc-53db-4518-9613-66a2667b8281",
   "metadata": {},
   "outputs": [
    {
     "data": {
      "text/plain": [
       "-1"
      ]
     },
     "execution_count": 28,
     "metadata": {},
     "output_type": "execute_result"
    }
   ],
   "source": [
    "name.find(\"h\")"
   ]
  },
  {
   "cell_type": "code",
   "execution_count": 29,
   "id": "c123d583-3ba9-4c94-9707-6ecca250b7e5",
   "metadata": {},
   "outputs": [
    {
     "data": {
      "text/plain": [
       "11"
      ]
     },
     "execution_count": 29,
     "metadata": {},
     "output_type": "execute_result"
    }
   ],
   "source": [
    "len(name)"
   ]
  },
  {
   "cell_type": "code",
   "execution_count": 30,
   "id": "13721b9d-3fea-4f05-aa8e-873ba8930763",
   "metadata": {},
   "outputs": [
    {
     "ename": "TypeError",
     "evalue": "object of type 'int' has no len()",
     "output_type": "error",
     "traceback": [
      "\u001b[1;31m---------------------------------------------------------------------------\u001b[0m",
      "\u001b[1;31mTypeError\u001b[0m                                 Traceback (most recent call last)",
      "Cell \u001b[1;32mIn[30], line 1\u001b[0m\n\u001b[1;32m----> 1\u001b[0m \u001b[38;5;28mlen\u001b[39m(\u001b[38;5;241m123\u001b[39m)\n",
      "\u001b[1;31mTypeError\u001b[0m: object of type 'int' has no len()"
     ]
    }
   ],
   "source": [
    "len(123)"
   ]
  },
  {
   "cell_type": "code",
   "execution_count": 31,
   "id": "13817c3e-2822-44ab-95f1-c39b56f5d343",
   "metadata": {},
   "outputs": [
    {
     "data": {
      "text/plain": [
       "1"
      ]
     },
     "execution_count": 31,
     "metadata": {},
     "output_type": "execute_result"
    }
   ],
   "source": [
    "name.index('a')"
   ]
  },
  {
   "cell_type": "code",
   "execution_count": 32,
   "id": "64b46cb7-112a-42b4-87b5-4dd741e24169",
   "metadata": {},
   "outputs": [
    {
     "ename": "TypeError",
     "evalue": "find() argument 1 must be str, not int",
     "output_type": "error",
     "traceback": [
      "\u001b[1;31m---------------------------------------------------------------------------\u001b[0m",
      "\u001b[1;31mTypeError\u001b[0m                                 Traceback (most recent call last)",
      "Cell \u001b[1;32mIn[32], line 1\u001b[0m\n\u001b[1;32m----> 1\u001b[0m name\u001b[38;5;241m.\u001b[39mfind(\u001b[38;5;241m3\u001b[39m)\n",
      "\u001b[1;31mTypeError\u001b[0m: find() argument 1 must be str, not int"
     ]
    }
   ],
   "source": [
    "name.find(3)"
   ]
  },
  {
   "cell_type": "code",
   "execution_count": 33,
   "id": "87c0234c-f3be-4b98-b5b9-e2f601413f3c",
   "metadata": {},
   "outputs": [],
   "source": [
    "first_name = 'pawan'"
   ]
  },
  {
   "cell_type": "code",
   "execution_count": 34,
   "id": "cf4fbf17-9853-4d2d-8288-53f90b567dda",
   "metadata": {},
   "outputs": [],
   "source": [
    "last_name = 'preet'"
   ]
  },
  {
   "cell_type": "code",
   "execution_count": 35,
   "id": "d1af0da5-cc20-4d77-90c3-27794397cc1f",
   "metadata": {},
   "outputs": [
    {
     "data": {
      "text/plain": [
       "'pawan preet'"
      ]
     },
     "execution_count": 35,
     "metadata": {},
     "output_type": "execute_result"
    }
   ],
   "source": [
    "first_name + \" \" + last_name"
   ]
  },
  {
   "cell_type": "code",
   "execution_count": 37,
   "id": "350d5f26-f2d9-41d3-a15d-82890f4e5367",
   "metadata": {},
   "outputs": [],
   "source": [
    "# + is  used for concatenation"
   ]
  },
  {
   "cell_type": "markdown",
   "id": "081b3809-79e9-4612-9b9d-c6f6bbcaf1a6",
   "metadata": {},
   "source": [
    "5 + 5"
   ]
  },
  {
   "cell_type": "code",
   "execution_count": 38,
   "id": "3fd21dfb-2810-4166-8e7a-3e226eec8624",
   "metadata": {},
   "outputs": [
    {
     "data": {
      "text/plain": [
       "'55'"
      ]
     },
     "execution_count": 38,
     "metadata": {},
     "output_type": "execute_result"
    }
   ],
   "source": [
    "'5' + '5'"
   ]
  },
  {
   "cell_type": "code",
   "execution_count": 39,
   "id": "4ca01803-32ff-4912-83a2-88eae51b8395",
   "metadata": {},
   "outputs": [
    {
     "data": {
      "text/plain": [
       "str"
      ]
     },
     "execution_count": 39,
     "metadata": {},
     "output_type": "execute_result"
    }
   ],
   "source": [
    "type('55')"
   ]
  },
  {
   "cell_type": "code",
   "execution_count": 40,
   "id": "3fe739ac-0002-4c3f-9b9d-4829f6a4a26e",
   "metadata": {},
   "outputs": [
    {
     "data": {
      "text/plain": [
       "int"
      ]
     },
     "execution_count": 40,
     "metadata": {},
     "output_type": "execute_result"
    }
   ],
   "source": [
    "type(55)"
   ]
  },
  {
   "cell_type": "code",
   "execution_count": 41,
   "id": "48807a56-ade5-4008-ab02-f3fb0a231420",
   "metadata": {},
   "outputs": [
    {
     "ename": "TypeError",
     "evalue": "can only concatenate str (not \"int\") to str",
     "output_type": "error",
     "traceback": [
      "\u001b[1;31m---------------------------------------------------------------------------\u001b[0m",
      "\u001b[1;31mTypeError\u001b[0m                                 Traceback (most recent call last)",
      "Cell \u001b[1;32mIn[41], line 1\u001b[0m\n\u001b[1;32m----> 1\u001b[0m \u001b[38;5;124m\"\u001b[39m\u001b[38;5;124m5\u001b[39m\u001b[38;5;124m\"\u001b[39m \u001b[38;5;241m+\u001b[39m \u001b[38;5;241m5\u001b[39m\n",
      "\u001b[1;31mTypeError\u001b[0m: can only concatenate str (not \"int\") to str"
     ]
    }
   ],
   "source": [
    "\"5\" + 5"
   ]
  },
  {
   "cell_type": "code",
   "execution_count": 42,
   "id": "c71cb3ec-fa9f-4e27-9558-0e79c0f378ae",
   "metadata": {},
   "outputs": [
    {
     "ename": "TypeError",
     "evalue": "unsupported operand type(s) for +: 'int' and 'str'",
     "output_type": "error",
     "traceback": [
      "\u001b[1;31m---------------------------------------------------------------------------\u001b[0m",
      "\u001b[1;31mTypeError\u001b[0m                                 Traceback (most recent call last)",
      "Cell \u001b[1;32mIn[42], line 1\u001b[0m\n\u001b[1;32m----> 1\u001b[0m \u001b[38;5;241m5\u001b[39m \u001b[38;5;241m+\u001b[39m \u001b[38;5;124m'\u001b[39m\u001b[38;5;124m5\u001b[39m\u001b[38;5;124m'\u001b[39m\n",
      "\u001b[1;31mTypeError\u001b[0m: unsupported operand type(s) for +: 'int' and 'str'"
     ]
    }
   ],
   "source": [
    "5 + '5'"
   ]
  },
  {
   "cell_type": "code",
   "execution_count": 44,
   "id": "44f80bb6-0e9b-4539-bc43-97e361e2ee21",
   "metadata": {},
   "outputs": [],
   "source": [
    "name = 'raman'\n",
    "salary = 80000"
   ]
  },
  {
   "cell_type": "code",
   "execution_count": 46,
   "id": "29bd833e-b822-41df-8257-6822e32164ee",
   "metadata": {},
   "outputs": [
    {
     "data": {
      "text/plain": [
       "' hi my name is raman and my salary is '"
      ]
     },
     "execution_count": 46,
     "metadata": {},
     "output_type": "execute_result"
    }
   ],
   "source": [
    "\" hi my name is \"+ name + \" and my salary is \" "
   ]
  },
  {
   "cell_type": "code",
   "execution_count": 47,
   "id": "69c52b48-e3c7-410f-9218-6d5ab914ba02",
   "metadata": {},
   "outputs": [
    {
     "ename": "TypeError",
     "evalue": "can only concatenate str (not \"int\") to str",
     "output_type": "error",
     "traceback": [
      "\u001b[1;31m---------------------------------------------------------------------------\u001b[0m",
      "\u001b[1;31mTypeError\u001b[0m                                 Traceback (most recent call last)",
      "Cell \u001b[1;32mIn[47], line 1\u001b[0m\n\u001b[1;32m----> 1\u001b[0m \u001b[38;5;124m\"\u001b[39m\u001b[38;5;124m hi my name is \u001b[39m\u001b[38;5;124m\"\u001b[39m\u001b[38;5;241m+\u001b[39m name \u001b[38;5;241m+\u001b[39m \u001b[38;5;124m\"\u001b[39m\u001b[38;5;124m and my salary is \u001b[39m\u001b[38;5;124m\"\u001b[39m \u001b[38;5;241m+\u001b[39m salary\n",
      "\u001b[1;31mTypeError\u001b[0m: can only concatenate str (not \"int\") to str"
     ]
    }
   ],
   "source": [
    "\" hi my name is \"+ name + \" and my salary is \" + salary"
   ]
  },
  {
   "cell_type": "code",
   "execution_count": 52,
   "id": "530b3830-68a8-48f7-be5e-f31db7072605",
   "metadata": {},
   "outputs": [
    {
     "data": {
      "text/plain": [
       "' hi my name is raman jr and my salary is 80000. I am of raman and I live in punjab'"
      ]
     },
     "execution_count": 52,
     "metadata": {},
     "output_type": "execute_result"
    }
   ],
   "source": [
    "\" hi my name is {0} jr and my salary is {1}. I am of {0} and I live in {2}\".format('raman', 80000, 'punjab')"
   ]
  },
  {
   "cell_type": "code",
   "execution_count": 54,
   "id": "88612e71-da3c-4f8c-a117-ec3fd6413fae",
   "metadata": {},
   "outputs": [
    {
     "data": {
      "text/plain": [
       "' hi my name is raman jr and my salary is 80000. I am of raman and I live in punjab'"
      ]
     },
     "execution_count": 54,
     "metadata": {},
     "output_type": "execute_result"
    }
   ],
   "source": [
    "\" hi my name is {name} jr and my salary is {salary}. I am of {name} and I live in {place}\".format(name ='raman', salary =80000, place= 'punjab')"
   ]
  },
  {
   "cell_type": "code",
   "execution_count": 55,
   "id": "39237e50-2ddb-4763-801b-7b0ddce6fd55",
   "metadata": {},
   "outputs": [],
   "source": [
    "name = 'pawan'\n",
    "age = 50\n",
    "salary = 75000\n",
    "place = 'punjab'"
   ]
  },
  {
   "cell_type": "code",
   "execution_count": 56,
   "id": "70d116d4-0034-4455-8100-2c4f744a075f",
   "metadata": {},
   "outputs": [
    {
     "data": {
      "text/plain": [
       "'hi my name is pawan , and my age is 50 , and my salary is 75000 , and I live in punjab'"
      ]
     },
     "execution_count": 56,
     "metadata": {},
     "output_type": "execute_result"
    }
   ],
   "source": [
    "f'hi my name is {name} , and my age is {age} , and my salary is {salary} , and I live in {place}'"
   ]
  },
  {
   "cell_type": "code",
   "execution_count": 57,
   "id": "7c9be1a5-0ea3-4f0c-b9c9-01d45f52a6bc",
   "metadata": {},
   "outputs": [
    {
     "data": {
      "text/plain": [
       "['pawan', 'preet']"
      ]
     },
     "execution_count": 57,
     "metadata": {},
     "output_type": "execute_result"
    }
   ],
   "source": [
    "'pawan preet'.split()"
   ]
  },
  {
   "cell_type": "code",
   "execution_count": 58,
   "id": "b58f6664-c8fd-4a8c-b6f4-f801bff9730e",
   "metadata": {},
   "outputs": [
    {
     "data": {
      "text/plain": [
       "['pawan,', 'raman,', 'komal,', 'nav']"
      ]
     },
     "execution_count": 58,
     "metadata": {},
     "output_type": "execute_result"
    }
   ],
   "source": [
    "\"pawan, raman, komal, nav\".split()"
   ]
  },
  {
   "cell_type": "code",
   "execution_count": 60,
   "id": "5e1d06aa-953b-44b5-9e1a-56e70d5862c3",
   "metadata": {},
   "outputs": [
    {
     "data": {
      "text/plain": [
       "'PAWAN'"
      ]
     },
     "execution_count": 60,
     "metadata": {},
     "output_type": "execute_result"
    }
   ],
   "source": [
    "name.upper()"
   ]
  },
  {
   "cell_type": "code",
   "execution_count": 61,
   "id": "5f7e119a-63a5-4b7d-bf03-561ed7cc97a5",
   "metadata": {},
   "outputs": [
    {
     "data": {
      "text/plain": [
       "'pawan'"
      ]
     },
     "execution_count": 61,
     "metadata": {},
     "output_type": "execute_result"
    }
   ],
   "source": [
    "name "
   ]
  },
  {
   "cell_type": "code",
   "execution_count": 62,
   "id": "04a8389f-fb83-4a9a-8742-41db02ea837e",
   "metadata": {},
   "outputs": [
    {
     "data": {
      "text/plain": [
       "'PAWAN'"
      ]
     },
     "execution_count": 62,
     "metadata": {},
     "output_type": "execute_result"
    }
   ],
   "source": [
    "name = name.upper()\n",
    "name"
   ]
  },
  {
   "cell_type": "code",
   "execution_count": 64,
   "id": "406eb0c7-5101-4cc3-8bb0-c2d0537cc8ce",
   "metadata": {},
   "outputs": [
    {
     "data": {
      "text/plain": [
       "['p', 'w', 'npreet']"
      ]
     },
     "execution_count": 64,
     "metadata": {},
     "output_type": "execute_result"
    }
   ],
   "source": [
    "\"pawanpreet\".split('a')"
   ]
  },
  {
   "cell_type": "code",
   "execution_count": 65,
   "id": "dd294daa-6f9a-40da-b021-f7f484273f84",
   "metadata": {},
   "outputs": [
    {
     "data": {
      "text/plain": [
       "['hi', 'my', 'name', 'is', 'Pawan']"
      ]
     },
     "execution_count": 65,
     "metadata": {},
     "output_type": "execute_result"
    }
   ],
   "source": [
    "\"hi my name is Pawan \".split()"
   ]
  },
  {
   "cell_type": "code",
   "execution_count": 68,
   "id": "392b66e1-9db8-4b11-bde1-c18996b15534",
   "metadata": {},
   "outputs": [
    {
     "data": {
      "text/plain": [
       "['2025', '07', '25']"
      ]
     },
     "execution_count": 68,
     "metadata": {},
     "output_type": "execute_result"
    }
   ],
   "source": [
    "\"2025-07-25\".split('-')"
   ]
  },
  {
   "cell_type": "code",
   "execution_count": 71,
   "id": "2455200d-51c8-49a2-8d03-2aa4e33748d1",
   "metadata": {},
   "outputs": [
    {
     "data": {
      "text/plain": [
       "'pawanpreet'"
      ]
     },
     "execution_count": 71,
     "metadata": {},
     "output_type": "execute_result"
    }
   ],
   "source": [
    "'     pawanpreet       '.strip() # remomve whitespace on sides"
   ]
  },
  {
   "cell_type": "code",
   "execution_count": 72,
   "id": "a9432e32-c4ab-49ea-9f95-0521152c4c22",
   "metadata": {},
   "outputs": [
    {
     "data": {
      "text/plain": [
       "True"
      ]
     },
     "execution_count": 72,
     "metadata": {},
     "output_type": "execute_result"
    }
   ],
   "source": [
    "'pawanpreet'.islower()"
   ]
  },
  {
   "cell_type": "code",
   "execution_count": 74,
   "id": "d534a9b7-baf9-41d1-8a22-c27152584ad0",
   "metadata": {},
   "outputs": [
    {
     "data": {
      "text/plain": [
       "False"
      ]
     },
     "execution_count": 74,
     "metadata": {},
     "output_type": "execute_result"
    }
   ],
   "source": [
    "'pawanpreet'.isupper()"
   ]
  },
  {
   "cell_type": "code",
   "execution_count": 75,
   "id": "55a853fc-717f-4f21-aeae-b8dbf86f07c9",
   "metadata": {},
   "outputs": [
    {
     "data": {
      "text/plain": [
       "False"
      ]
     },
     "execution_count": 75,
     "metadata": {},
     "output_type": "execute_result"
    }
   ],
   "source": [
    "\"PAWAN\".islower()"
   ]
  },
  {
   "cell_type": "code",
   "execution_count": 76,
   "id": "e702acf5-bfd2-4500-b23d-d2e3924625ee",
   "metadata": {},
   "outputs": [
    {
     "data": {
      "text/plain": [
       "False"
      ]
     },
     "execution_count": 76,
     "metadata": {},
     "output_type": "execute_result"
    }
   ],
   "source": [
    "\"Pawan\".islower()"
   ]
  },
  {
   "cell_type": "code",
   "execution_count": 77,
   "id": "1e61550e-17a1-4338-86eb-88b062877736",
   "metadata": {},
   "outputs": [
    {
     "data": {
      "text/plain": [
       "False"
      ]
     },
     "execution_count": 77,
     "metadata": {},
     "output_type": "execute_result"
    }
   ],
   "source": [
    "\"Pawan\".isupper()"
   ]
  },
  {
   "cell_type": "code",
   "execution_count": 78,
   "id": "0b3004e7-7fb7-4419-ae20-4249729e4c59",
   "metadata": {},
   "outputs": [
    {
     "data": {
      "text/plain": [
       "True"
      ]
     },
     "execution_count": 78,
     "metadata": {},
     "output_type": "execute_result"
    }
   ],
   "source": [
    "'pawanpreet'.isalpha()"
   ]
  },
  {
   "cell_type": "code",
   "execution_count": 80,
   "id": "230b7903-134d-407b-b825-6abd60addb87",
   "metadata": {},
   "outputs": [
    {
     "data": {
      "text/plain": [
       "True"
      ]
     },
     "execution_count": 80,
     "metadata": {},
     "output_type": "execute_result"
    }
   ],
   "source": [
    "\"677888\".isdigit()"
   ]
  },
  {
   "cell_type": "code",
   "execution_count": 81,
   "id": "c445a1ed-f5fd-4a10-8e29-f8e0315fdd99",
   "metadata": {},
   "outputs": [
    {
     "data": {
      "text/plain": [
       "False"
      ]
     },
     "execution_count": 81,
     "metadata": {},
     "output_type": "execute_result"
    }
   ],
   "source": [
    "'pawanpreet'.isdigit()"
   ]
  },
  {
   "cell_type": "code",
   "execution_count": 82,
   "id": "1e1ca681-e020-4102-8662-f437bc1f5a2a",
   "metadata": {},
   "outputs": [
    {
     "data": {
      "text/plain": [
       "True"
      ]
     },
     "execution_count": 82,
     "metadata": {},
     "output_type": "execute_result"
    }
   ],
   "source": [
    "'pawanpreet50'.isalnum()"
   ]
  },
  {
   "cell_type": "code",
   "execution_count": 83,
   "id": "5d885820-878a-49e0-bbe0-59ea6473aa8e",
   "metadata": {},
   "outputs": [
    {
     "data": {
      "text/plain": [
       "True"
      ]
     },
     "execution_count": 83,
     "metadata": {},
     "output_type": "execute_result"
    }
   ],
   "source": [
    "\" \".isspace()"
   ]
  },
  {
   "cell_type": "code",
   "execution_count": 85,
   "id": "3d9425e5-fe57-4d8f-a4c5-f38bfdfe7b66",
   "metadata": {},
   "outputs": [
    {
     "name": "stdout",
     "output_type": "stream",
     "text": [
      "Help on built-in function replace:\n",
      "\n",
      "replace(old, new, /, count=-1) method of builtins.str instance\n",
      "    Return a copy with all occurrences of substring old replaced by new.\n",
      "\n",
      "      count\n",
      "        Maximum number of occurrences to replace.\n",
      "        -1 (the default value) means replace all occurrences.\n",
      "\n",
      "    If the optional argument count is given, only the first count occurrences are\n",
      "    replaced.\n",
      "\n"
     ]
    }
   ],
   "source": [
    "help(\"pawan \".replace)"
   ]
  },
  {
   "cell_type": "code",
   "execution_count": 86,
   "id": "2db50ac6-5c13-4708-83e8-fa9e35c66aac",
   "metadata": {},
   "outputs": [
    {
     "data": {
      "text/plain": [
       "'pawanpriit'"
      ]
     },
     "execution_count": 86,
     "metadata": {},
     "output_type": "execute_result"
    }
   ],
   "source": [
    "'pawanpreet'.replace(\"e\", \"i\")"
   ]
  },
  {
   "cell_type": "code",
   "execution_count": 88,
   "id": "514690be-48c2-4aa7-96ad-fd4be93ed760",
   "metadata": {},
   "outputs": [
    {
     "data": {
      "text/plain": [
       "'pawanpr88t'"
      ]
     },
     "execution_count": 88,
     "metadata": {},
     "output_type": "execute_result"
    }
   ],
   "source": [
    "'pawanpreet'.replace(\"e\", \"8\")"
   ]
  },
  {
   "cell_type": "code",
   "execution_count": 89,
   "id": "51881581-b1da-47a9-8904-559f30c6ee61",
   "metadata": {},
   "outputs": [
    {
     "data": {
      "text/plain": [
       "'pawanpriet'"
      ]
     },
     "execution_count": 89,
     "metadata": {},
     "output_type": "execute_result"
    }
   ],
   "source": [
    "'pawanpreet'.replace(\"e\",\"i\",1)"
   ]
  },
  {
   "cell_type": "code",
   "execution_count": 90,
   "id": "9fcb007d-7da7-4977-b8de-6ef788cff48e",
   "metadata": {},
   "outputs": [
    {
     "data": {
      "text/plain": [
       "'pawanpriit'"
      ]
     },
     "execution_count": 90,
     "metadata": {},
     "output_type": "execute_result"
    }
   ],
   "source": [
    "'pawanpreet'.replace(\"e\",\"i\",2)"
   ]
  },
  {
   "cell_type": "code",
   "execution_count": 93,
   "id": "5c82e35a-2df0-44bb-a1ec-cef546a873ea",
   "metadata": {},
   "outputs": [
    {
     "data": {
      "text/plain": [
       "'PAWAN'"
      ]
     },
     "execution_count": 93,
     "metadata": {},
     "output_type": "execute_result"
    }
   ],
   "source": [
    "name"
   ]
  },
  {
   "cell_type": "markdown",
   "id": "8802a652-879c-444c-91b4-20e195b2f026",
   "metadata": {},
   "source": [
    "## String Indexing"
   ]
  },
  {
   "cell_type": "code",
   "execution_count": 94,
   "id": "8720821b-d9df-41c2-919e-35a5e31f3cd5",
   "metadata": {},
   "outputs": [],
   "source": [
    "name = \"pawan preet\""
   ]
  },
  {
   "cell_type": "code",
   "execution_count": 95,
   "id": "0728dad6-796b-4262-9b26-9c7a8769113a",
   "metadata": {},
   "outputs": [
    {
     "data": {
      "text/plain": [
       "'p'"
      ]
     },
     "execution_count": 95,
     "metadata": {},
     "output_type": "execute_result"
    }
   ],
   "source": [
    "name[0]"
   ]
  },
  {
   "cell_type": "code",
   "execution_count": 97,
   "id": "76148215-7af4-4201-b27a-526667c9e8ee",
   "metadata": {},
   "outputs": [
    {
     "data": {
      "text/plain": [
       "'e'"
      ]
     },
     "execution_count": 97,
     "metadata": {},
     "output_type": "execute_result"
    }
   ],
   "source": [
    "name[8]"
   ]
  },
  {
   "cell_type": "code",
   "execution_count": 100,
   "id": "4a9cfa8d-daab-4431-b876-0465a2420cef",
   "metadata": {},
   "outputs": [
    {
     "ename": "IndexError",
     "evalue": "string index out of range",
     "output_type": "error",
     "traceback": [
      "\u001b[1;31m---------------------------------------------------------------------------\u001b[0m",
      "\u001b[1;31mIndexError\u001b[0m                                Traceback (most recent call last)",
      "Cell \u001b[1;32mIn[100], line 1\u001b[0m\n\u001b[1;32m----> 1\u001b[0m name[\u001b[38;5;241m11\u001b[39m]\n",
      "\u001b[1;31mIndexError\u001b[0m: string index out of range"
     ]
    }
   ],
   "source": [
    "name[11]"
   ]
  },
  {
   "cell_type": "code",
   "execution_count": 102,
   "id": "cd9a4c50-3d52-41b6-b756-3364155e72fb",
   "metadata": {},
   "outputs": [
    {
     "data": {
      "text/plain": [
       "11"
      ]
     },
     "execution_count": 102,
     "metadata": {},
     "output_type": "execute_result"
    }
   ],
   "source": [
    "len(name)"
   ]
  },
  {
   "cell_type": "code",
   "execution_count": 103,
   "id": "6a2c07ca-d458-43e6-bd30-f9f128879298",
   "metadata": {},
   "outputs": [
    {
     "data": {
      "text/plain": [
       "'t'"
      ]
     },
     "execution_count": 103,
     "metadata": {},
     "output_type": "execute_result"
    }
   ],
   "source": [
    "name[-1]"
   ]
  },
  {
   "cell_type": "code",
   "execution_count": 104,
   "id": "e54e064a-3e0c-47c4-a475-d6531624522e",
   "metadata": {},
   "outputs": [
    {
     "data": {
      "text/plain": [
       "'e'"
      ]
     },
     "execution_count": 104,
     "metadata": {},
     "output_type": "execute_result"
    }
   ],
   "source": [
    "name[-2]"
   ]
  },
  {
   "cell_type": "code",
   "execution_count": 105,
   "id": "d315dd2d-e9f5-44bc-bd57-cc0913e555f1",
   "metadata": {},
   "outputs": [
    {
     "data": {
      "text/plain": [
       "'a'"
      ]
     },
     "execution_count": 105,
     "metadata": {},
     "output_type": "execute_result"
    }
   ],
   "source": [
    "name[-10]"
   ]
  },
  {
   "cell_type": "code",
   "execution_count": 106,
   "id": "a84c444e-47e6-47ed-b393-204c564246dd",
   "metadata": {},
   "outputs": [
    {
     "data": {
      "text/plain": [
       "'p'"
      ]
     },
     "execution_count": 106,
     "metadata": {},
     "output_type": "execute_result"
    }
   ],
   "source": [
    "name[-11]"
   ]
  },
  {
   "cell_type": "markdown",
   "id": "1c66809d-365b-4992-943b-c5d2875685dc",
   "metadata": {},
   "source": [
    "## slicing "
   ]
  },
  {
   "cell_type": "code",
   "execution_count": 4,
   "id": "67166079-f155-4734-b652-b29b5246db06",
   "metadata": {},
   "outputs": [],
   "source": [
    "name = \"Pawanpreet Kaur\""
   ]
  },
  {
   "cell_type": "code",
   "execution_count": 5,
   "id": "254f2f6d-5ccb-4ca7-a692-d8d200e3fecc",
   "metadata": {},
   "outputs": [
    {
     "data": {
      "text/plain": [
       "'Pawanpreet Kaur'"
      ]
     },
     "execution_count": 5,
     "metadata": {},
     "output_type": "execute_result"
    }
   ],
   "source": [
    "name"
   ]
  },
  {
   "cell_type": "code",
   "execution_count": 8,
   "id": "d65187c2-1656-4724-bd44-82c4e8603411",
   "metadata": {},
   "outputs": [
    {
     "data": {
      "text/plain": [
       "'et Kaur'"
      ]
     },
     "execution_count": 8,
     "metadata": {},
     "output_type": "execute_result"
    }
   ],
   "source": [
    "name[8:] # 8 wala index value and uske aage ke sare items (end tk) show honge"
   ]
  },
  {
   "cell_type": "code",
   "execution_count": 9,
   "id": "a99adc90-dce6-4caf-87d1-326f399c8f8a",
   "metadata": {},
   "outputs": [
    {
     "data": {
      "text/plain": [
       "'preet Kaur'"
      ]
     },
     "execution_count": 9,
     "metadata": {},
     "output_type": "execute_result"
    }
   ],
   "source": [
    "name[5:]"
   ]
  },
  {
   "cell_type": "code",
   "execution_count": 10,
   "id": "4b67c365-85d2-4e36-8c88-b45ae68eddb6",
   "metadata": {},
   "outputs": [
    {
     "data": {
      "text/plain": [
       "'Pawanpr'"
      ]
     },
     "execution_count": 10,
     "metadata": {},
     "output_type": "execute_result"
    }
   ],
   "source": [
    "name[:7]"
   ]
  },
  {
   "cell_type": "code",
   "execution_count": 14,
   "id": "211ae3e5-64e3-4e77-84bf-102a3ff92280",
   "metadata": {},
   "outputs": [
    {
     "data": {
      "text/plain": [
       "'Pawanpreet'"
      ]
     },
     "execution_count": 14,
     "metadata": {},
     "output_type": "execute_result"
    }
   ],
   "source": [
    "name[:10] # after colon value is not inclueded\n"
   ]
  },
  {
   "cell_type": "code",
   "execution_count": 15,
   "id": "2028aeaf-a01f-4b1e-9138-9954d58f401d",
   "metadata": {},
   "outputs": [],
   "source": [
    "greet = \"hello pawan nice to meet you\""
   ]
  },
  {
   "cell_type": "code",
   "execution_count": 18,
   "id": "b533b64d-fa85-4a3e-b4a3-7487daa2a3c7",
   "metadata": {},
   "outputs": [
    {
     "data": {
      "text/plain": [
       "'hello pawan nice to meet you'"
      ]
     },
     "execution_count": 18,
     "metadata": {},
     "output_type": "execute_result"
    }
   ],
   "source": [
    "greet"
   ]
  },
  {
   "cell_type": "code",
   "execution_count": 17,
   "id": "921d05de-dbaf-41a4-aceb-9c2699bc2765",
   "metadata": {},
   "outputs": [
    {
     "data": {
      "text/plain": [
       "'pawan nice to meet you'"
      ]
     },
     "execution_count": 17,
     "metadata": {},
     "output_type": "execute_result"
    }
   ],
   "source": [
    "greet [6 :]"
   ]
  },
  {
   "cell_type": "code",
   "execution_count": 19,
   "id": "833f579c-89ea-42e3-a6c1-a6ff91901d6c",
   "metadata": {},
   "outputs": [
    {
     "data": {
      "text/plain": [
       "'pawan n'"
      ]
     },
     "execution_count": 19,
     "metadata": {},
     "output_type": "execute_result"
    }
   ],
   "source": [
    "greet[6:13]"
   ]
  },
  {
   "cell_type": "code",
   "execution_count": 20,
   "id": "2831f082-182e-47e2-a4cc-1e174435ec7f",
   "metadata": {},
   "outputs": [
    {
     "data": {
      "text/plain": [
       "'0123456789'"
      ]
     },
     "execution_count": 20,
     "metadata": {},
     "output_type": "execute_result"
    }
   ],
   "source": [
    "\"0123456789\""
   ]
  },
  {
   "cell_type": "code",
   "execution_count": 21,
   "id": "79428581-1b9a-4c78-80f2-7ffe48f1b9ca",
   "metadata": {},
   "outputs": [
    {
     "data": {
      "text/plain": [
       "'456'"
      ]
     },
     "execution_count": 21,
     "metadata": {},
     "output_type": "execute_result"
    }
   ],
   "source": [
    "\"0123456789\"[4:7]"
   ]
  },
  {
   "cell_type": "code",
   "execution_count": 25,
   "id": "f0d10b00-2d06-447c-bb19-0bf864d11bf8",
   "metadata": {},
   "outputs": [],
   "source": [
    "s = \"the fox ran\""
   ]
  },
  {
   "cell_type": "code",
   "execution_count": 26,
   "id": "e494f33b-d4a3-4a84-ad2b-65c5a39b3bce",
   "metadata": {},
   "outputs": [
    {
     "data": {
      "text/plain": [
       "'f'"
      ]
     },
     "execution_count": 26,
     "metadata": {},
     "output_type": "execute_result"
    }
   ],
   "source": [
    "s[4]"
   ]
  },
  {
   "cell_type": "code",
   "execution_count": 27,
   "id": "72172cde-8626-4494-a73d-89372276e0ea",
   "metadata": {},
   "outputs": [
    {
     "data": {
      "text/plain": [
       "'fox'"
      ]
     },
     "execution_count": 27,
     "metadata": {},
     "output_type": "execute_result"
    }
   ],
   "source": [
    "s[4:7]"
   ]
  },
  {
   "cell_type": "code",
   "execution_count": 28,
   "id": "37e5d587-4b31-46e7-87cc-1aafbfe56fec",
   "metadata": {},
   "outputs": [],
   "source": [
    "p= \"hello i am learning python slicing\""
   ]
  },
  {
   "cell_type": "code",
   "execution_count": 31,
   "id": "29d4f42e-eeab-4560-9bed-e80cdbf8d50e",
   "metadata": {},
   "outputs": [
    {
     "data": {
      "text/plain": [
       "'learning python slicing'"
      ]
     },
     "execution_count": 31,
     "metadata": {},
     "output_type": "execute_result"
    }
   ],
   "source": [
    "p[11:]"
   ]
  },
  {
   "cell_type": "code",
   "execution_count": 33,
   "id": "3bae0c0e-4036-4dfd-9db6-9f6712547874",
   "metadata": {},
   "outputs": [
    {
     "data": {
      "text/plain": [
       "'learning'"
      ]
     },
     "execution_count": 33,
     "metadata": {},
     "output_type": "execute_result"
    }
   ],
   "source": [
    "p[11:19]"
   ]
  },
  {
   "cell_type": "code",
   "execution_count": 35,
   "id": "0408ca6a-f444-42cd-ba2f-8ce45f182ca9",
   "metadata": {},
   "outputs": [
    {
     "data": {
      "text/plain": [
       "34"
      ]
     },
     "execution_count": 35,
     "metadata": {},
     "output_type": "execute_result"
    }
   ],
   "source": [
    "len(p)"
   ]
  },
  {
   "cell_type": "code",
   "execution_count": 36,
   "id": "96b43708-c9c7-42d4-8e91-a64f46e68cab",
   "metadata": {},
   "outputs": [
    {
     "data": {
      "text/plain": [
       "'hello i am learning python slicing'"
      ]
     },
     "execution_count": 36,
     "metadata": {},
     "output_type": "execute_result"
    }
   ],
   "source": [
    "p[:]"
   ]
  },
  {
   "cell_type": "code",
   "execution_count": 37,
   "id": "4d68ded0-2a87-45ae-b30c-869c8b77982a",
   "metadata": {},
   "outputs": [
    {
     "data": {
      "text/plain": [
       "'hello i am learning python slicin'"
      ]
     },
     "execution_count": 37,
     "metadata": {},
     "output_type": "execute_result"
    }
   ],
   "source": [
    "p[:33]"
   ]
  },
  {
   "cell_type": "code",
   "execution_count": 38,
   "id": "51059e49-153a-4168-bd3b-ada5e1580354",
   "metadata": {},
   "outputs": [],
   "source": [
    "Name ='Dhyanendar pratap singh'"
   ]
  },
  {
   "cell_type": "code",
   "execution_count": 43,
   "id": "410f4529-2cb2-438e-936e-a8d724024177",
   "metadata": {},
   "outputs": [
    {
     "data": {
      "text/plain": [
       "'Dynna rtpsnh'"
      ]
     },
     "execution_count": 43,
     "metadata": {},
     "output_type": "execute_result"
    }
   ],
   "source": [
    "Name[::2] # you can add step size using 2 colons "
   ]
  },
  {
   "cell_type": "code",
   "execution_count": 44,
   "id": "378d4fa2-85a9-4580-9a46-9cc51a0e59b4",
   "metadata": {},
   "outputs": [
    {
     "data": {
      "text/plain": [
       "'Danrrasg'"
      ]
     },
     "execution_count": 44,
     "metadata": {},
     "output_type": "execute_result"
    }
   ],
   "source": [
    "Name[::3]"
   ]
  },
  {
   "cell_type": "code",
   "execution_count": 48,
   "id": "0b1a6e08-921e-41b5-9fe3-260aaf2e4fd0",
   "metadata": {},
   "outputs": [
    {
     "data": {
      "text/plain": [
       "'Dynna'"
      ]
     },
     "execution_count": 48,
     "metadata": {},
     "output_type": "execute_result"
    }
   ],
   "source": [
    "Name[0:10:2]  ##[start value : end value : step-size ]"
   ]
  },
  {
   "cell_type": "code",
   "execution_count": 49,
   "id": "fe415513-e60d-4ba5-8127-1f57281023f5",
   "metadata": {},
   "outputs": [
    {
     "data": {
      "text/plain": [
       "'endar pratap'"
      ]
     },
     "execution_count": 49,
     "metadata": {},
     "output_type": "execute_result"
    }
   ],
   "source": [
    "Name[5:-6] # use negative indexing"
   ]
  },
  {
   "cell_type": "code",
   "execution_count": 50,
   "id": "1ae64438-6e2c-4f9d-99eb-928c0f0ee4f0",
   "metadata": {},
   "outputs": [
    {
     "data": {
      "text/plain": [
       "'edrpaa'"
      ]
     },
     "execution_count": 50,
     "metadata": {},
     "output_type": "execute_result"
    }
   ],
   "source": [
    "Name[5:-6:2] "
   ]
  },
  {
   "cell_type": "code",
   "execution_count": 52,
   "id": "51ad5247-590b-490c-b0bb-ec6d2d14aa1a",
   "metadata": {},
   "outputs": [
    {
     "data": {
      "text/plain": [
       "'endar pratap'"
      ]
     },
     "execution_count": 52,
     "metadata": {},
     "output_type": "execute_result"
    }
   ],
   "source": [
    "Name[5:-6]"
   ]
  },
  {
   "cell_type": "code",
   "execution_count": 55,
   "id": "745a93f0-e344-4826-9816-ec491ec4611e",
   "metadata": {},
   "outputs": [
    {
     "data": {
      "text/plain": [
       "'pratap'"
      ]
     },
     "execution_count": 55,
     "metadata": {},
     "output_type": "execute_result"
    }
   ],
   "source": [
    "# result prr index slicing lga sakte hai\n",
    "Name[5:-6][6:]"
   ]
  },
  {
   "cell_type": "code",
   "execution_count": 57,
   "id": "f0d33fa3-0aef-4b71-9043-182ec8333f1c",
   "metadata": {},
   "outputs": [
    {
     "data": {
      "text/plain": [
       "'tap'"
      ]
     },
     "execution_count": 57,
     "metadata": {},
     "output_type": "execute_result"
    }
   ],
   "source": [
    "Name[5:-6][6:][3:]"
   ]
  },
  {
   "cell_type": "code",
   "execution_count": 58,
   "id": "dfa471e4-515b-43ac-ab23-073b5a5278d1",
   "metadata": {},
   "outputs": [
    {
     "data": {
      "text/plain": [
       "'Dhyanendar pratap singh'"
      ]
     },
     "execution_count": 58,
     "metadata": {},
     "output_type": "execute_result"
    }
   ],
   "source": [
    "Name"
   ]
  },
  {
   "cell_type": "code",
   "execution_count": 59,
   "id": "f8ececd1-8e7a-4a91-8637-fddf36806b28",
   "metadata": {},
   "outputs": [
    {
     "data": {
      "text/plain": [
       "'hgnis patarp radnenayhD'"
      ]
     },
     "execution_count": 59,
     "metadata": {},
     "output_type": "execute_result"
    }
   ],
   "source": [
    "Name[::-1] # negative step size make your sentense revered"
   ]
  },
  {
   "cell_type": "code",
   "execution_count": 68,
   "id": "ff8969a0-9d3c-4237-866f-e2129591722c",
   "metadata": {},
   "outputs": [
    {
     "data": {
      "text/plain": [
       "'patarp'"
      ]
     },
     "execution_count": 68,
     "metadata": {},
     "output_type": "execute_result"
    }
   ],
   "source": [
    "Name[11:17][::-1] # make only one spelling reversed"
   ]
  },
  {
   "cell_type": "code",
   "execution_count": 69,
   "id": "598e2507-fa5d-4343-88d8-9e23c917c217",
   "metadata": {},
   "outputs": [
    {
     "data": {
      "text/plain": [
       "'Dhyanendar pratap singh'"
      ]
     },
     "execution_count": 69,
     "metadata": {},
     "output_type": "execute_result"
    }
   ],
   "source": [
    "Name"
   ]
  },
  {
   "cell_type": "code",
   "execution_count": 72,
   "id": "8cc70f37-434c-403f-abb8-8973ce09cf89",
   "metadata": {},
   "outputs": [
    {
     "data": {
      "text/plain": [
       "'adnenayhD'"
      ]
     },
     "execution_count": 72,
     "metadata": {},
     "output_type": "execute_result"
    }
   ],
   "source": [
    "Name[:9][::-1]"
   ]
  },
  {
   "cell_type": "code",
   "execution_count": 73,
   "id": "3b7fedc0-f6ab-4632-b040-5ddd776c6702",
   "metadata": {},
   "outputs": [
    {
     "data": {
      "text/plain": [
       "'r pratap singh'"
      ]
     },
     "execution_count": 73,
     "metadata": {},
     "output_type": "execute_result"
    }
   ],
   "source": [
    "Name[9:]"
   ]
  },
  {
   "cell_type": "code",
   "execution_count": 74,
   "id": "c48790e4-b2c3-41fb-9963-66ef1af25d1e",
   "metadata": {},
   "outputs": [
    {
     "data": {
      "text/plain": [
       "'adnenayhDr pratap singh'"
      ]
     },
     "execution_count": 74,
     "metadata": {},
     "output_type": "execute_result"
    }
   ],
   "source": [
    "Name[:9][::-1] +  Name[9:]"
   ]
  },
  {
   "cell_type": "code",
   "execution_count": 84,
   "id": "27039952-feb0-4e0d-8f25-843a84677ec1",
   "metadata": {},
   "outputs": [],
   "source": [
    " b =len(Name)//2"
   ]
  },
  {
   "cell_type": "code",
   "execution_count": 85,
   "id": "571dc205-6c1c-472e-896d-7d406ff7852b",
   "metadata": {},
   "outputs": [
    {
     "data": {
      "text/plain": [
       "11"
      ]
     },
     "execution_count": 85,
     "metadata": {},
     "output_type": "execute_result"
    }
   ],
   "source": [
    "b"
   ]
  },
  {
   "cell_type": "code",
   "execution_count": 89,
   "id": "b73aee0e-dda7-45c7-844c-b6a50d71f405",
   "metadata": {},
   "outputs": [
    {
     "data": {
      "text/plain": [
       "' radnenayhDpratap singh'"
      ]
     },
     "execution_count": 89,
     "metadata": {},
     "output_type": "execute_result"
    }
   ],
   "source": [
    "Name[:b][::-1]  + Name[a:]"
   ]
  },
  {
   "cell_type": "code",
   "execution_count": null,
   "id": "ee6a71fa-4994-41c3-9870-491ec112781f",
   "metadata": {},
   "outputs": [],
   "source": []
  }
 ],
 "metadata": {
  "kernelspec": {
   "display_name": "Python [conda env:base] *",
   "language": "python",
   "name": "conda-base-py"
  },
  "language_info": {
   "codemirror_mode": {
    "name": "ipython",
    "version": 3
   },
   "file_extension": ".py",
   "mimetype": "text/x-python",
   "name": "python",
   "nbconvert_exporter": "python",
   "pygments_lexer": "ipython3",
   "version": "3.13.5"
  }
 },
 "nbformat": 4,
 "nbformat_minor": 5
}
