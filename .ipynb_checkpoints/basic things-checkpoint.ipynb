{
 "cells": [
  {
   "cell_type": "code",
   "execution_count": 1,
   "id": "67488e8e-0319-4e19-b15a-131864c023d4",
   "metadata": {},
   "outputs": [
    {
     "data": {
      "text/plain": [
       "5"
      ]
     },
     "execution_count": 1,
     "metadata": {},
     "output_type": "execute_result"
    }
   ],
   "source": [
    "5\n"
   ]
  },
  {
   "cell_type": "code",
   "execution_count": 2,
   "id": "f8bd1e69-5854-4248-b4ac-8b04b16a8ec8",
   "metadata": {},
   "outputs": [
    {
     "data": {
      "text/plain": [
       "25"
      ]
     },
     "execution_count": 2,
     "metadata": {},
     "output_type": "execute_result"
    }
   ],
   "source": [
    "5*5"
   ]
  },
  {
   "cell_type": "code",
   "execution_count": 3,
   "id": "d842acce-d942-4973-983f-6990fb710e43",
   "metadata": {},
   "outputs": [
    {
     "data": {
      "text/plain": [
       "10"
      ]
     },
     "execution_count": 3,
     "metadata": {},
     "output_type": "execute_result"
    }
   ],
   "source": [
    "5+5"
   ]
  },
  {
   "cell_type": "code",
   "execution_count": 4,
   "id": "ff36436e-bd2a-454b-9f23-a3bde8f32df2",
   "metadata": {},
   "outputs": [
    {
     "data": {
      "text/plain": [
       "-3"
      ]
     },
     "execution_count": 4,
     "metadata": {},
     "output_type": "execute_result"
    }
   ],
   "source": [
    "5-8\n"
   ]
  },
  {
   "cell_type": "code",
   "execution_count": 5,
   "id": "23a50bd5-cb3d-4755-bf64-2ea6226b71da",
   "metadata": {},
   "outputs": [
    {
     "data": {
      "text/plain": [
       "2"
      ]
     },
     "execution_count": 5,
     "metadata": {},
     "output_type": "execute_result"
    }
   ],
   "source": [
    "5-3"
   ]
  },
  {
   "cell_type": "code",
   "execution_count": 6,
   "id": "2b54e1bc-6ce2-40b3-bd19-68c77cef4347",
   "metadata": {},
   "outputs": [
    {
     "data": {
      "text/plain": [
       "0.8333333333333334"
      ]
     },
     "execution_count": 6,
     "metadata": {},
     "output_type": "execute_result"
    }
   ],
   "source": [
    "5/6"
   ]
  },
  {
   "cell_type": "code",
   "execution_count": 7,
   "id": "b720874d-5ff5-43b6-8e10-40b6aae6abe1",
   "metadata": {},
   "outputs": [
    {
     "data": {
      "text/plain": [
       "1"
      ]
     },
     "execution_count": 7,
     "metadata": {},
     "output_type": "execute_result"
    }
   ],
   "source": [
    "5%2"
   ]
  },
  {
   "cell_type": "code",
   "execution_count": 8,
   "id": "9878d1e7-0339-4e9e-b255-ce0d3012a379",
   "metadata": {},
   "outputs": [],
   "source": [
    "name = 'pawan'\n"
   ]
  },
  {
   "cell_type": "markdown",
   "id": "75cae791-cc56-4021-8c57-d32d8e950b7a",
   "metadata": {},
   "source": [
    "name"
   ]
  },
  {
   "cell_type": "code",
   "execution_count": 9,
   "id": "2c5c48e4-eb5b-4e5b-8ff6-d1c48c119507",
   "metadata": {},
   "outputs": [
    {
     "data": {
      "text/plain": [
       "'pawan'"
      ]
     },
     "execution_count": 9,
     "metadata": {},
     "output_type": "execute_result"
    }
   ],
   "source": [
    "name"
   ]
  },
  {
   "cell_type": "code",
   "execution_count": 10,
   "id": "a4b3922d-7305-4c98-8b53-4e3be2d0e22d",
   "metadata": {},
   "outputs": [
    {
     "name": "stdout",
     "output_type": "stream",
     "text": [
      "pawan\n"
     ]
    }
   ],
   "source": [
    "print('pawan')\n"
   ]
  },
  {
   "cell_type": "code",
   "execution_count": 12,
   "id": "2b85bdb7-cc71-4b0a-860b-127ebe38df85",
   "metadata": {},
   "outputs": [
    {
     "name": "stdin",
     "output_type": "stream",
     "text": [
      "enter your name hello\n"
     ]
    }
   ],
   "source": [
    "user = int (input('enter your name')"
   ]
  },
  {
   "cell_type": "code",
   "execution_count": 13,
   "id": "6afce8cc-9dbc-44ae-9b01-fda992fab39a",
   "metadata": {},
   "outputs": [
    {
     "data": {
      "text/plain": [
       "'hello'"
      ]
     },
     "execution_count": 13,
     "metadata": {},
     "output_type": "execute_result"
    }
   ],
   "source": [
    "user"
   ]
  },
  {
   "cell_type": "code",
   "execution_count": 17,
   "id": "0a7dd497-2c1b-4924-abf3-c51ef73930dd",
   "metadata": {},
   "outputs": [
    {
     "name": "stdin",
     "output_type": "stream",
     "text": [
      "enter your age please 23\n"
     ]
    }
   ],
   "source": [
    "user_age = int(input('enter your age please'))"
   ]
  },
  {
   "cell_type": "code",
   "execution_count": 18,
   "id": "101818ac-2663-41aa-ae31-950f936caf1e",
   "metadata": {},
   "outputs": [
    {
     "name": "stdout",
     "output_type": "stream",
     "text": [
      "23\n"
     ]
    }
   ],
   "source": [
    "print(user_age)"
   ]
  },
  {
   "cell_type": "code",
   "execution_count": 3,
   "id": "23cb2bb3-e4b2-4e3e-a6f5-68a3b446d74f",
   "metadata": {},
   "outputs": [],
   "source": [
    "salary = 500000"
   ]
  },
  {
   "cell_type": "code",
   "execution_count": 4,
   "id": "4c9ecd10-a66d-42de-a85f-9ff4d078975b",
   "metadata": {},
   "outputs": [],
   "source": [
    "tax = 12/100"
   ]
  },
  {
   "cell_type": "code",
   "execution_count": 5,
   "id": "89f8e04d-97b0-40d9-a92d-37b611d55aa2",
   "metadata": {},
   "outputs": [],
   "source": [
    "amount = salary * tax"
   ]
  },
  {
   "cell_type": "code",
   "execution_count": 6,
   "id": "1c9f66e0-e73f-4185-a232-08d026f6332a",
   "metadata": {},
   "outputs": [
    {
     "data": {
      "text/plain": [
       "60000.0"
      ]
     },
     "execution_count": 6,
     "metadata": {},
     "output_type": "execute_result"
    }
   ],
   "source": [
    "amount"
   ]
  },
  {
   "cell_type": "code",
   "execution_count": 7,
   "id": "d9696493-9336-4acc-8b53-0c1fca5c726e",
   "metadata": {},
   "outputs": [
    {
     "data": {
      "text/plain": [
       "0.12"
      ]
     },
     "execution_count": 7,
     "metadata": {},
     "output_type": "execute_result"
    }
   ],
   "source": [
    "tax"
   ]
  },
  {
   "cell_type": "code",
   "execution_count": 5,
   "id": "ff7e8fb9-7485-4745-bd15-e395fa1626ed",
   "metadata": {},
   "outputs": [],
   "source": [
    "salary = 750000\n"
   ]
  },
  {
   "cell_type": "code",
   "execution_count": 6,
   "id": "78218811-bdcb-4a6a-a4f3-39491df21c3a",
   "metadata": {},
   "outputs": [
    {
     "data": {
      "text/plain": [
       "750000"
      ]
     },
     "execution_count": 6,
     "metadata": {},
     "output_type": "execute_result"
    }
   ],
   "source": [
    "salary"
   ]
  },
  {
   "cell_type": "code",
   "execution_count": 7,
   "id": "289051b8-9043-4eb3-850e-f208ea38ae6b",
   "metadata": {},
   "outputs": [],
   "source": [
    "## floor division"
   ]
  },
  {
   "cell_type": "code",
   "execution_count": 8,
   "id": "16430ecc-c291-4731-b3e0-e17291880bcf",
   "metadata": {},
   "outputs": [
    {
     "data": {
      "text/plain": [
       "4.0"
      ]
     },
     "execution_count": 8,
     "metadata": {},
     "output_type": "execute_result"
    }
   ],
   "source": [
    "20/5"
   ]
  },
  {
   "cell_type": "code",
   "execution_count": 9,
   "id": "005b5b96-9b98-4938-bc35-83754f1e26f8",
   "metadata": {},
   "outputs": [
    {
     "data": {
      "text/plain": [
       "4"
      ]
     },
     "execution_count": 9,
     "metadata": {},
     "output_type": "execute_result"
    }
   ],
   "source": [
    "20//5"
   ]
  },
  {
   "cell_type": "code",
   "execution_count": null,
   "id": "8ea1ed57-62d6-4b57-aefb-8ab9872b059e",
   "metadata": {},
   "outputs": [],
   "source": []
  }
 ],
 "metadata": {
  "kernelspec": {
   "display_name": "Python [conda env:base] *",
   "language": "python",
   "name": "conda-base-py"
  },
  "language_info": {
   "codemirror_mode": {
    "name": "ipython",
    "version": 3
   },
   "file_extension": ".py",
   "mimetype": "text/x-python",
   "name": "python",
   "nbconvert_exporter": "python",
   "pygments_lexer": "ipython3",
   "version": "3.13.5"
  }
 },
 "nbformat": 4,
 "nbformat_minor": 5
}
