{
 "cells": [
  {
   "cell_type": "markdown",
   "id": "b7090ca7-14d9-40ab-8a77-e47a5b21b76d",
   "metadata": {},
   "source": [
    "# FUNCTIONS\n",
    "\n",
    "\n",
    "## funtions store code , and it executes when needed\n",
    "\n",
    "\n"
   ]
  },
  {
   "cell_type": "raw",
   "id": "b2747102-d56f-4610-a7ba-c2eb6a122af9",
   "metadata": {},
   "source": [
    "#### Functions are reusable blocks of code for specific tasks.\n",
    "#### Defined using the def keyword.\n",
    "#### Called using the function name followed by parentheses.\n",
    "#### Two types: built-in functions and user-defined functions.\n",
    "#### Parameters allow input to functions.\n",
    "#### Arguments can be positional, default, keyword, *args (tuple), **kwargs (dict).\n",
    "#### return statement sends values back from a function.\n",
    "#### Variables have local scope (inside function) or global scope (outside).\n",
    "#### Lambda functions are one-line anonymous functions.\n",
    "#### Docstrings (\"\"\" \"\"\") describe the purpose of functions.\n",
    "#### Higher-order functions accept or return other functions.\n",
    "#### Examples of higher-order functions: map(), filter(), reduce().\n",
    "#### Best practices: meaningful names, small & focused, use docstrings, return values instead of printing."
   ]
  },
  {
   "cell_type": "code",
   "execution_count": 11,
   "id": "cd774347-38c6-40fe-8749-cd0338c944d3",
   "metadata": {},
   "outputs": [],
   "source": [
    "# define a function\n",
    "\n",
    "def greeting():\n",
    "    print('hello everyone')\n",
    "    "
   ]
  },
  {
   "cell_type": "code",
   "execution_count": 12,
   "id": "6694eb77-5bee-417c-9087-adf45cb21db4",
   "metadata": {},
   "outputs": [
    {
     "name": "stdout",
     "output_type": "stream",
     "text": [
      "hello everyone\n"
     ]
    }
   ],
   "source": [
    "# call a funtion\n",
    "\n",
    "greeting()"
   ]
  },
  {
   "cell_type": "markdown",
   "id": "401540d4-f66e-47f5-bf03-c0c6cb408173",
   "metadata": {},
   "source": [
    "## TYPES OF FUNCTIONS"
   ]
  },
  {
   "cell_type": "markdown",
   "id": "ea8afe06-77bc-427c-8a8f-1ca92953aa13",
   "metadata": {},
   "source": [
    "### built in functions"
   ]
  },
  {
   "cell_type": "code",
   "execution_count": 13,
   "id": "79888633-87d1-4b98-ad76-d4674db3eccf",
   "metadata": {},
   "outputs": [
    {
     "name": "stdout",
     "output_type": "stream",
     "text": [
      "hi\n",
      "me\n"
     ]
    }
   ],
   "source": [
    "print('hi')\n",
    "print('me')"
   ]
  },
  {
   "cell_type": "code",
   "execution_count": 14,
   "id": "10804272-d345-4f09-a795-4287e8621e65",
   "metadata": {},
   "outputs": [
    {
     "data": {
      "text/plain": [
       "6"
      ]
     },
     "execution_count": 14,
     "metadata": {},
     "output_type": "execute_result"
    }
   ],
   "source": [
    "min([8,6,7])\n"
   ]
  },
  {
   "cell_type": "code",
   "execution_count": 15,
   "id": "d21b3ab7-09d6-4322-9c82-07a8a8733017",
   "metadata": {},
   "outputs": [
    {
     "data": {
      "text/plain": [
       "8"
      ]
     },
     "execution_count": 15,
     "metadata": {},
     "output_type": "execute_result"
    }
   ],
   "source": [
    "max([8,6,7])"
   ]
  },
  {
   "cell_type": "markdown",
   "id": "ec9b601e-65d6-4465-9b92-b1a77898324b",
   "metadata": {},
   "source": [
    "### User defined functions"
   ]
  },
  {
   "cell_type": "code",
   "execution_count": 16,
   "id": "2834d258-0cf0-45c6-9d24-8fcc2d1a4b58",
   "metadata": {},
   "outputs": [],
   "source": [
    "# SIMPLE FUNCTIONS\n",
    "\n",
    "def greeting():\n",
    "    print('you are doing great')"
   ]
  },
  {
   "cell_type": "code",
   "execution_count": 17,
   "id": "e559d5ad-5b0e-45ba-ab35-4ba39cd54099",
   "metadata": {},
   "outputs": [
    {
     "name": "stdout",
     "output_type": "stream",
     "text": [
      "you are doing great\n"
     ]
    }
   ],
   "source": [
    "greeting()"
   ]
  },
  {
   "cell_type": "code",
   "execution_count": 18,
   "id": "1f16efe0-337a-4e01-bdbe-6dc7097b6319",
   "metadata": {},
   "outputs": [],
   "source": [
    "# INPUT FUNCTIONS\n",
    "\n",
    "def greeting(name):\n",
    "    print(f'hello {name} nice to meet you .')"
   ]
  },
  {
   "cell_type": "code",
   "execution_count": 19,
   "id": "6b06bde2-7112-4668-b016-7b30d08cc743",
   "metadata": {},
   "outputs": [
    {
     "name": "stdout",
     "output_type": "stream",
     "text": [
      "hello Ishita nice to meet you .\n"
     ]
    }
   ],
   "source": [
    "greeting('Ishita')"
   ]
  },
  {
   "cell_type": "code",
   "execution_count": 20,
   "id": "d6c03c4f-6a2f-456f-82f1-a7e96701ded0",
   "metadata": {},
   "outputs": [
    {
     "ename": "TypeError",
     "evalue": "greeting() missing 1 required positional argument: 'name'",
     "output_type": "error",
     "traceback": [
      "\u001b[1;31m---------------------------------------------------------------------------\u001b[0m",
      "\u001b[1;31mTypeError\u001b[0m                                 Traceback (most recent call last)",
      "Cell \u001b[1;32mIn[20], line 1\u001b[0m\n\u001b[1;32m----> 1\u001b[0m greeting()\n",
      "\u001b[1;31mTypeError\u001b[0m: greeting() missing 1 required positional argument: 'name'"
     ]
    }
   ],
   "source": [
    "greeting() # understand errors"
   ]
  },
  {
   "cell_type": "code",
   "execution_count": 21,
   "id": "679c47fb-68db-465b-9053-ad3e521cf747",
   "metadata": {},
   "outputs": [],
   "source": [
    "def area_of_circle(r):\n",
    "    print((22/7)*r*r)"
   ]
  },
  {
   "cell_type": "code",
   "execution_count": 22,
   "id": "95b93e14-412d-425c-bf40-2e26a30f1a56",
   "metadata": {},
   "outputs": [
    {
     "name": "stdout",
     "output_type": "stream",
     "text": [
      "50.285714285714285\n"
     ]
    }
   ],
   "source": [
    "area_of_circle(4)"
   ]
  },
  {
   "cell_type": "code",
   "execution_count": 23,
   "id": "bb88f5a5-c7fe-4669-bce7-e88d50a5b141",
   "metadata": {},
   "outputs": [],
   "source": [
    "def sum_of_numbers(a,b):\n",
    "    total = a + b\n",
    "    print(total)"
   ]
  },
  {
   "cell_type": "code",
   "execution_count": 24,
   "id": "a3ee1583-7b93-4cf5-83b2-306aff2e3152",
   "metadata": {},
   "outputs": [
    {
     "name": "stdout",
     "output_type": "stream",
     "text": [
      "13\n"
     ]
    }
   ],
   "source": [
    "sum_of_numbers(5,8)"
   ]
  },
  {
   "cell_type": "code",
   "execution_count": 25,
   "id": "39a62851-1b75-470d-b37f-627489786baa",
   "metadata": {},
   "outputs": [
    {
     "name": "stdin",
     "output_type": "stream",
     "text": [
      "enter number you want 8\n"
     ]
    },
    {
     "name": "stdout",
     "output_type": "stream",
     "text": [
      "8 x 0 = 0\n",
      "8 x 1 = 8\n",
      "8 x 2 = 16\n",
      "8 x 3 = 24\n",
      "8 x 4 = 32\n",
      "8 x 5 = 40\n",
      "8 x 6 = 48\n",
      "8 x 7 = 56\n",
      "8 x 8 = 64\n",
      "8 x 9 = 72\n",
      "8 x 10 = 80\n"
     ]
    }
   ],
   "source": [
    "def table(num):\n",
    "    for i in range(11):\n",
    "        print(num , \"x\" , i , '=', num*i )\n",
    "table(int(input('enter number you want')))"
   ]
  },
  {
   "cell_type": "markdown",
   "id": "cec26aa0-f5d2-4b11-ae7c-c022337e937f",
   "metadata": {},
   "source": [
    "## SCOPE"
   ]
  },
  {
   "cell_type": "code",
   "execution_count": 26,
   "id": "18c98c08-0a3c-4415-a90d-b886d0183670",
   "metadata": {},
   "outputs": [],
   "source": [
    "# SCOPE\n",
    "\n",
    "## GLOBAL SCOPE : Access variable everywhere \n",
    "## LOCAL SCOPE : access variable within the function they craeted\n"
   ]
  },
  {
   "cell_type": "code",
   "execution_count": 27,
   "id": "6d984845-e3ae-4326-bbcf-df8d85db2820",
   "metadata": {},
   "outputs": [],
   "source": [
    "#globall scope\n",
    "age = 25\n",
    "job = \"netmax\"\n",
    "def my_profile():\n",
    "    # local scope\n",
    "    name = 'pawan'\n",
    "    age = 24\n",
    "    job = \"hunting\"\n",
    "    print(name, age, job)"
   ]
  },
  {
   "cell_type": "code",
   "execution_count": 28,
   "id": "53df7c1d-fae3-4e1b-8af1-c6b5f7a58fba",
   "metadata": {},
   "outputs": [
    {
     "name": "stdout",
     "output_type": "stream",
     "text": [
      "pawan 24 hunting\n"
     ]
    }
   ],
   "source": [
    "my_profile()"
   ]
  },
  {
   "cell_type": "code",
   "execution_count": 29,
   "id": "de6cf40e-dc52-4e12-901b-64795b927fbd",
   "metadata": {},
   "outputs": [
    {
     "data": {
      "text/plain": [
       "25"
      ]
     },
     "execution_count": 29,
     "metadata": {},
     "output_type": "execute_result"
    }
   ],
   "source": [
    "age"
   ]
  },
  {
   "cell_type": "code",
   "execution_count": 30,
   "id": "3d7efd83-53a3-41d7-ba75-9c84d30a927c",
   "metadata": {},
   "outputs": [
    {
     "data": {
      "text/plain": [
       "'netmax'"
      ]
     },
     "execution_count": 30,
     "metadata": {},
     "output_type": "execute_result"
    }
   ],
   "source": [
    "job"
   ]
  },
  {
   "cell_type": "code",
   "execution_count": 31,
   "id": "46f54524-5ab7-42aa-9e45-a486bb3912e0",
   "metadata": {},
   "outputs": [],
   "source": [
    "# DEFAULT FUNCTION\n",
    "\n",
    "\n",
    "def greeting(name = \"USER\"):\n",
    "    print(f\"hello {name} nice to meet you\")\n"
   ]
  },
  {
   "cell_type": "code",
   "execution_count": 32,
   "id": "2f10ce0b-cc51-4fbe-b7dc-cd71aab3390f",
   "metadata": {},
   "outputs": [
    {
     "name": "stdout",
     "output_type": "stream",
     "text": [
      "hello USER nice to meet you\n"
     ]
    }
   ],
   "source": [
    "greeting()"
   ]
  },
  {
   "cell_type": "code",
   "execution_count": 33,
   "id": "ea1f8705-e9c0-4f9b-b0af-494efc9c7e56",
   "metadata": {},
   "outputs": [
    {
     "name": "stdout",
     "output_type": "stream",
     "text": [
      "hello raman nice to meet you\n"
     ]
    }
   ],
   "source": [
    "greeting('raman')"
   ]
  },
  {
   "cell_type": "code",
   "execution_count": 34,
   "id": "79107e85-49fb-4b32-8522-b94820ad5174",
   "metadata": {},
   "outputs": [],
   "source": [
    "# RETURN FUNCTION\n",
    "# default values sabhi piche rakhna hai , bina default aage rakhni hai\n",
    "\n",
    "\n",
    "def salary_structure(Salary, tax_rate): # parameters\n",
    "    tax = Salary*tax_rate\n",
    "    return tax"
   ]
  },
  {
   "cell_type": "code",
   "execution_count": 35,
   "id": "eca580aa-dae7-4d52-b82c-7218c9ec97e5",
   "metadata": {},
   "outputs": [],
   "source": [
    "tax = salary_structure(80000, 0.12) # arguments"
   ]
  },
  {
   "cell_type": "code",
   "execution_count": 36,
   "id": "9899c0c4-adb2-412e-9272-647d235c9f05",
   "metadata": {},
   "outputs": [
    {
     "data": {
      "text/plain": [
       "9600.0"
      ]
     },
     "execution_count": 36,
     "metadata": {},
     "output_type": "execute_result"
    }
   ],
   "source": [
    "tax"
   ]
  },
  {
   "cell_type": "code",
   "execution_count": 37,
   "id": "44524452-174b-444d-9fd3-c7a52569fbd0",
   "metadata": {},
   "outputs": [
    {
     "name": "stdout",
     "output_type": "stream",
     "text": [
      "9600.0\n"
     ]
    }
   ],
   "source": [
    "print(tax)"
   ]
  },
  {
   "cell_type": "code",
   "execution_count": 38,
   "id": "e7eaa122-797b-47f0-ab19-cf1e25b78477",
   "metadata": {},
   "outputs": [],
   "source": [
    "def volume_of_cuboid(length,  width, height):\n",
    "    \"\"\"\n",
    "    this function calculates volume of cuboid \n",
    "    it takes length , width, height, as input and multiplies them\n",
    "    (this doc string is printed in help and position defines length, width, height)\n",
    "    \"\"\"\n",
    "    dimensions = f\"\"\"\n",
    "        length  : {length}\n",
    "        width  :  {width}\n",
    "        height : {height}\n",
    "    \"\"\"\n",
    "    print(dimensions)\n",
    "    return length * width * height"
   ]
  },
  {
   "cell_type": "code",
   "execution_count": 39,
   "id": "74ba81d5-017c-443c-8d02-4fe3de69f2f0",
   "metadata": {},
   "outputs": [
    {
     "name": "stdout",
     "output_type": "stream",
     "text": [
      "\n",
      "        length  : 50\n",
      "        width  :  60\n",
      "        height : 70\n",
      "    \n"
     ]
    },
    {
     "data": {
      "text/plain": [
       "210000"
      ]
     },
     "execution_count": 39,
     "metadata": {},
     "output_type": "execute_result"
    }
   ],
   "source": [
    "# posional arguments position ke according automatically values pick kr lete hai\n",
    "volume_of_cuboid(50,60,70) "
   ]
  },
  {
   "cell_type": "code",
   "execution_count": 40,
   "id": "3d1c10f7-ada2-4783-988b-b9650ed50ced",
   "metadata": {},
   "outputs": [
    {
     "name": "stdout",
     "output_type": "stream",
     "text": [
      "Help on function volume_of_cuboid in module __main__:\n",
      "\n",
      "volume_of_cuboid(length, width, height)\n",
      "    this function calculates volume of cuboid\n",
      "    it takes length , width, height, as input and multiplies them\n",
      "    (this doc string is printed in help and position defines length, width, height)\n",
      "\n"
     ]
    }
   ],
   "source": [
    "help(volume_of_cuboid)"
   ]
  },
  {
   "cell_type": "code",
   "execution_count": 41,
   "id": "00617ee7-48ab-404c-9395-b85e8ab85bba",
   "metadata": {},
   "outputs": [
    {
     "name": "stdout",
     "output_type": "stream",
     "text": [
      "\n",
      "        length  : 60\n",
      "        width  :  70\n",
      "        height : 50\n",
      "    \n"
     ]
    },
    {
     "data": {
      "text/plain": [
       "210000"
      ]
     },
     "execution_count": 41,
     "metadata": {},
     "output_type": "execute_result"
    }
   ],
   "source": [
    "# KEYWORD ARGUMENTS --- Arguments can be passed by name\n",
    "\n",
    "volume_of_cuboid(height=50, length=60, width=70) "
   ]
  },
  {
   "cell_type": "code",
   "execution_count": 42,
   "id": "8f5c362e-de1c-439e-8ffc-c4c4f4962987",
   "metadata": {},
   "outputs": [],
   "source": [
    "li = [8,6,4,9,8,2,1,3,5,5,7,1]"
   ]
  },
  {
   "cell_type": "code",
   "execution_count": 43,
   "id": "bb425984-bef3-4c4c-b2b9-da2fdfeea4ee",
   "metadata": {},
   "outputs": [],
   "source": [
    "def Sorthalf(li : list):\n",
    "    length = len(li)\n",
    "    li.sort()\n",
    "\n",
    "    firsthalf = li[:length//2]\n",
    "    secondhalf = li[length//2 :]\n",
    "    secondhalf.sort(reverse=True)\n",
    "\n",
    "    return firsthalf + secondhalf\n",
    "    "
   ]
  },
  {
   "cell_type": "code",
   "execution_count": 44,
   "id": "07aafbcd-5140-494e-bff4-2e9fa9f3e615",
   "metadata": {},
   "outputs": [
    {
     "data": {
      "text/plain": [
       "[1, 1, 2, 3, 4, 5, 9, 8, 8, 7, 6, 5]"
      ]
     },
     "execution_count": 44,
     "metadata": {},
     "output_type": "execute_result"
    }
   ],
   "source": [
    "Sorthalf(li)"
   ]
  },
  {
   "cell_type": "code",
   "execution_count": 45,
   "id": "9b046ee3-08e5-4f16-a1c4-d16a7951e7c5",
   "metadata": {},
   "outputs": [],
   "source": [
    "## Check palindrome\n",
    "\n",
    "def check_palindrome(n):\n",
    "    return str(n).strip().lower() == str(n)[::-1].strip().lower()"
   ]
  },
  {
   "cell_type": "code",
   "execution_count": 46,
   "id": "7e48b5f7-af2d-4956-a71d-342a25e88e43",
   "metadata": {},
   "outputs": [
    {
     "data": {
      "text/plain": [
       "True"
      ]
     },
     "execution_count": 46,
     "metadata": {},
     "output_type": "execute_result"
    }
   ],
   "source": [
    "check_palindrome('shs')"
   ]
  },
  {
   "cell_type": "code",
   "execution_count": 47,
   "id": "14f54035-c4b7-47bf-a3d6-3160ebb999b3",
   "metadata": {},
   "outputs": [
    {
     "data": {
      "text/plain": [
       "True"
      ]
     },
     "execution_count": 47,
     "metadata": {},
     "output_type": "execute_result"
    }
   ],
   "source": [
    "check_palindrome(133101331)"
   ]
  },
  {
   "cell_type": "code",
   "execution_count": 48,
   "id": "855299ac-3e44-44a5-9c2a-92bbae37d3a1",
   "metadata": {},
   "outputs": [
    {
     "data": {
      "text/plain": [
       "9"
      ]
     },
     "execution_count": 48,
     "metadata": {},
     "output_type": "execute_result"
    }
   ],
   "source": [
    "\"\" or 9"
   ]
  },
  {
   "cell_type": "code",
   "execution_count": 49,
   "id": "f9ea8fa6-4d8d-4af4-b41f-95e10eaf5261",
   "metadata": {},
   "outputs": [],
   "source": [
    "def check_palindrome(n = None):\n",
    "    n = n or input()\n",
    "    return str(n).strip().lower() == str(n)[::-1].strip().lower()"
   ]
  },
  {
   "cell_type": "code",
   "execution_count": 50,
   "id": "fea07f6f-8fa6-49f9-9806-b027961d054e",
   "metadata": {},
   "outputs": [
    {
     "data": {
      "text/plain": [
       "False"
      ]
     },
     "execution_count": 50,
     "metadata": {},
     "output_type": "execute_result"
    }
   ],
   "source": [
    "check_palindrome('132')"
   ]
  },
  {
   "cell_type": "code",
   "execution_count": 51,
   "id": "0b2ecb4f-ae95-41b2-b646-652ac44184b0",
   "metadata": {},
   "outputs": [],
   "source": [
    "def checkPrime():\n",
    "    pass\n",
    "## if want to skip that code or leave it blank"
   ]
  },
  {
   "cell_type": "code",
   "execution_count": 52,
   "id": "dc99ebdf-bd81-4028-b7a6-418922b23770",
   "metadata": {},
   "outputs": [],
   "source": [
    "def check_prime(n):\n",
    "    for i in range(2, n):\n",
    "        if n % i == 0:\n",
    "            return f'{n} is not a prime number'\n",
    "    \n",
    "    return f'{n} is a prime number'"
   ]
  },
  {
   "cell_type": "code",
   "execution_count": 53,
   "id": "f4110fa1-6046-4018-8a75-464fb9a9e342",
   "metadata": {},
   "outputs": [
    {
     "data": {
      "text/plain": [
       "'7 is a prime number'"
      ]
     },
     "execution_count": 53,
     "metadata": {},
     "output_type": "execute_result"
    }
   ],
   "source": [
    "check_prime(7)"
   ]
  },
  {
   "cell_type": "code",
   "execution_count": 54,
   "id": "e7c53ef1-f451-4dec-96a5-ed554e7f9893",
   "metadata": {},
   "outputs": [],
   "source": [
    "# do not check all numbers till n only check till sqroot n \n",
    "\n",
    "def check_prime(n):\n",
    "    if n < 2:\n",
    "        return False\n",
    "    for i in range(2, int(n**(1/2))+1):\n",
    "        if n % i == 0:\n",
    "            return False\n",
    "    return True"
   ]
  },
  {
   "cell_type": "code",
   "execution_count": 55,
   "id": "3f5257c6-e4c3-491b-9d7d-f72190470580",
   "metadata": {},
   "outputs": [
    {
     "data": {
      "text/plain": [
       "False"
      ]
     },
     "execution_count": 55,
     "metadata": {},
     "output_type": "execute_result"
    }
   ],
   "source": [
    "check_prime(25)"
   ]
  },
  {
   "cell_type": "code",
   "execution_count": 56,
   "id": "0e3f9ee5-5026-4417-98d4-ffdacb3f9086",
   "metadata": {},
   "outputs": [],
   "source": [
    "# prime in range\n",
    "def primeInRange(Range):\n",
    "    l = []\n",
    "    for n in range(Range):\n",
    "        if check_prime(n):\n",
    "            l.append(n)\n",
    "    return l"
   ]
  },
  {
   "cell_type": "code",
   "execution_count": 57,
   "id": "0100b9fd-7290-4a67-b08f-4b62b0a58da6",
   "metadata": {},
   "outputs": [
    {
     "data": {
      "text/plain": [
       "[2, 3, 5, 7]"
      ]
     },
     "execution_count": 57,
     "metadata": {},
     "output_type": "execute_result"
    }
   ],
   "source": [
    "primeInRange(10)"
   ]
  },
  {
   "cell_type": "code",
   "execution_count": 58,
   "id": "1ef082bd-88e8-4496-ae50-13c814a1bb87",
   "metadata": {},
   "outputs": [],
   "source": [
    "def prime_in_range(start, end =0):\n",
    "    if start > end:\n",
    "        start , end = end , start\n",
    "    l = []\n",
    "    for n in range(start, end):\n",
    "        if check_prime(n):\n",
    "            l.append(n)\n",
    "    return l"
   ]
  },
  {
   "cell_type": "code",
   "execution_count": 59,
   "id": "e662fe47-2f7c-4422-9920-a8684c93c2b4",
   "metadata": {},
   "outputs": [
    {
     "data": {
      "text/plain": [
       "[2, 3, 5, 7, 11]"
      ]
     },
     "execution_count": 59,
     "metadata": {},
     "output_type": "execute_result"
    }
   ],
   "source": [
    "prime_in_range(12)"
   ]
  },
  {
   "cell_type": "code",
   "execution_count": 60,
   "id": "a85eda1d-5e4a-4cf6-9751-0ced5ec53425",
   "metadata": {},
   "outputs": [],
   "source": [
    "def primeInRange(Range):\n",
    "    l = []\n",
    "    for n in range(Range):\n",
    "        if n < 2:\n",
    "            continue\n",
    "        for i in range(2, int(n**(1/2)) + 1):\n",
    "            if n % i == 0:\n",
    "                break          # factor mil gaya → prime nahi\n",
    "        else:\n",
    "            l.append(n)        # loop break NAHI hua → n prime hai\n",
    "    return l\n"
   ]
  },
  {
   "cell_type": "code",
   "execution_count": 61,
   "id": "50922e0f-e6ba-439c-ae6b-de1a2cda8d76",
   "metadata": {},
   "outputs": [
    {
     "data": {
      "text/plain": [
       "[2, 3, 5, 7]"
      ]
     },
     "execution_count": 61,
     "metadata": {},
     "output_type": "execute_result"
    }
   ],
   "source": [
    "primeInRange(11)"
   ]
  },
  {
   "cell_type": "code",
   "execution_count": 30,
   "id": "3751828b-ec72-4539-a90d-7019faaff4c6",
   "metadata": {},
   "outputs": [],
   "source": [
    "\n",
    "## algorithm to sort an array in ascending order\n",
    "\n",
    "a = [3,6,8,7,9,2,1,5,0]\n",
    "\n",
    "def ascSort():\n",
    "    if a == []:\n",
    "        return 'empty list'\n",
    "    for i in range(len(a)):\n",
    "        for j in range(len(a)-1):\n",
    "            if a[j] > a[j+1]:\n",
    "                a[j] , a[j+1] = a[j+1], a[j]\n",
    "    return a"
   ]
  },
  {
   "cell_type": "code",
   "execution_count": 31,
   "id": "bb44c5f2-a6e9-48c9-9f27-99b15b4cbd73",
   "metadata": {},
   "outputs": [
    {
     "data": {
      "text/plain": [
       "[0, 1, 2, 3, 5, 6, 7, 8, 9]"
      ]
     },
     "execution_count": 31,
     "metadata": {},
     "output_type": "execute_result"
    }
   ],
   "source": [
    "ascSort()"
   ]
  },
  {
   "cell_type": "code",
   "execution_count": 17,
   "id": "a3774cc7-f0d3-4f3f-ae5d-521006608c2a",
   "metadata": {},
   "outputs": [],
   "source": [
    "# map function\n",
    "a = [1,2,3,4]\n",
    "def makeSquare(n):\n",
    "    return n**2\n",
    "ans = list(map(makeSquare, a))"
   ]
  },
  {
   "cell_type": "code",
   "execution_count": 18,
   "id": "2e10cc0a-b41b-475a-9516-677c946cd3c8",
   "metadata": {},
   "outputs": [
    {
     "data": {
      "text/plain": [
       "[1, 4, 9, 16]"
      ]
     },
     "execution_count": 18,
     "metadata": {},
     "output_type": "execute_result"
    }
   ],
   "source": [
    "ans"
   ]
  },
  {
   "cell_type": "code",
   "execution_count": 19,
   "id": "0a35ecd5-9767-4bb2-8f68-ce94c3f0b1de",
   "metadata": {},
   "outputs": [
    {
     "name": "stdout",
     "output_type": "stream",
     "text": [
      "1 s\n",
      "2 h\n",
      "3 u\n"
     ]
    }
   ],
   "source": [
    "# ZIP function\n",
    "\n",
    "for i , j in zip([1,2,3],\"shu\"):\n",
    "    print(i,j)"
   ]
  },
  {
   "cell_type": "code",
   "execution_count": 20,
   "id": "357e2364-e29f-47ce-b654-cbc07dee18e5",
   "metadata": {},
   "outputs": [
    {
     "data": {
      "text/plain": [
       "['pawanpreet', 'kaur']"
      ]
     },
     "execution_count": 20,
     "metadata": {},
     "output_type": "execute_result"
    }
   ],
   "source": [
    "'pawanpreet kaur'.split()"
   ]
  },
  {
   "cell_type": "raw",
   "id": "25c1708d-9bc4-4e0e-83c2-bf10b0caa773",
   "metadata": {},
   "source": [
    "MAP function"
   ]
  },
  {
   "cell_type": "code",
   "execution_count": 29,
   "id": "bc9beb5b-0967-4122-9b78-34a03b7e5c21",
   "metadata": {},
   "outputs": [],
   "source": [
    "b = '1 2 3 4 5 7 9 8'.split()"
   ]
  },
  {
   "cell_type": "code",
   "execution_count": 30,
   "id": "3b4b3040-3936-4a3a-8e32-9e9db8ea290a",
   "metadata": {},
   "outputs": [
    {
     "data": {
      "text/plain": [
       "['1', '2', '3', '4', '5', '7', '9', '8']"
      ]
     },
     "execution_count": 30,
     "metadata": {},
     "output_type": "execute_result"
    }
   ],
   "source": [
    "b"
   ]
  },
  {
   "cell_type": "code",
   "execution_count": 31,
   "id": "47fb39fb-12e6-47d2-bf83-cdc9cf30d4cc",
   "metadata": {},
   "outputs": [],
   "source": [
    "ans = list(map(int, b))"
   ]
  },
  {
   "cell_type": "code",
   "execution_count": 32,
   "id": "b210c6f7-f7bd-483e-b33d-54e609c3968a",
   "metadata": {},
   "outputs": [
    {
     "data": {
      "text/plain": [
       "[1, 2, 3, 4, 5, 7, 9, 8]"
      ]
     },
     "execution_count": 32,
     "metadata": {},
     "output_type": "execute_result"
    }
   ],
   "source": [
    "ans"
   ]
  },
  {
   "cell_type": "code",
   "execution_count": 54,
   "id": "27695034-bbd0-4a7c-96f5-d465e0d925fa",
   "metadata": {},
   "outputs": [],
   "source": [
    "temps_c = [0, 12, 25, 30, 40]"
   ]
  },
  {
   "cell_type": "code",
   "execution_count": 55,
   "id": "ae8ca71f-fc3d-4fad-b71f-caba4bbaa536",
   "metadata": {},
   "outputs": [],
   "source": [
    "def tofahrnheit(c):\n",
    "    return (c*9/5)+32"
   ]
  },
  {
   "cell_type": "code",
   "execution_count": 56,
   "id": "3da0c3b1-ab1b-4b74-b6a0-8ebb141b7a71",
   "metadata": {},
   "outputs": [
    {
     "data": {
      "text/plain": [
       "[32.0, 53.6, 77.0, 86.0, 104.0]"
      ]
     },
     "execution_count": 56,
     "metadata": {},
     "output_type": "execute_result"
    }
   ],
   "source": [
    "l = list(map(tofahrnheit, temps_c))\n",
    "l"
   ]
  },
  {
   "cell_type": "markdown",
   "id": "df2e7feb-9680-40de-a54b-24f95e0c31ff",
   "metadata": {},
   "source": [
    "### LAMBDA functions"
   ]
  },
  {
   "cell_type": "code",
   "execution_count": 43,
   "id": "ecc7d734-e11b-4fd3-9266-a35c025159a8",
   "metadata": {},
   "outputs": [],
   "source": [
    "z = lambda x, y: x*y"
   ]
  },
  {
   "cell_type": "code",
   "execution_count": 45,
   "id": "fb349e2d-7961-4e75-accc-251a44273f83",
   "metadata": {},
   "outputs": [
    {
     "data": {
      "text/plain": [
       "30"
      ]
     },
     "execution_count": 45,
     "metadata": {},
     "output_type": "execute_result"
    }
   ],
   "source": [
    "z(5,6)"
   ]
  },
  {
   "cell_type": "code",
   "execution_count": 57,
   "id": "eda14540-b2b4-447b-b203-328a3c1622b1",
   "metadata": {},
   "outputs": [],
   "source": [
    "z = lambda x: x**3"
   ]
  },
  {
   "cell_type": "code",
   "execution_count": 58,
   "id": "994f5d2e-249a-464d-a249-e6dad77f2b87",
   "metadata": {},
   "outputs": [
    {
     "data": {
      "text/plain": [
       "[1, 8, 27, 64]"
      ]
     },
     "execution_count": 58,
     "metadata": {},
     "output_type": "execute_result"
    }
   ],
   "source": [
    "list(map(z,a))"
   ]
  },
  {
   "cell_type": "code",
   "execution_count": 60,
   "id": "0eb04df2-4a9f-4968-aaa4-f27fd09b078f",
   "metadata": {},
   "outputs": [],
   "source": [
    "n = [1, 2, 3, 4, 5]"
   ]
  },
  {
   "cell_type": "code",
   "execution_count": 73,
   "id": "e101b056-0833-46b3-afc4-f7acdb037027",
   "metadata": {},
   "outputs": [],
   "source": [
    "#squares\n",
    "def tosq(n):\n",
    "    return n**2\n",
    "s = list(map(tosq, n))\n",
    "\n",
    "#cubes\n",
    "def toCube(n):\n",
    "    return n**3\n",
    "c = list(map(toCube, n))\n"
   ]
  },
  {
   "cell_type": "code",
   "execution_count": 74,
   "id": "ce21e89c-820f-4fc8-b466-ef2fd565f9ea",
   "metadata": {
    "scrolled": true
   },
   "outputs": [
    {
     "data": {
      "text/plain": [
       "[1, 4, 9, 16, 25]"
      ]
     },
     "execution_count": 74,
     "metadata": {},
     "output_type": "execute_result"
    }
   ],
   "source": [
    "s"
   ]
  },
  {
   "cell_type": "code",
   "execution_count": 75,
   "id": "ba4d2124-b241-43a6-86fa-4989ced766da",
   "metadata": {},
   "outputs": [
    {
     "data": {
      "text/plain": [
       "[1, 8, 27, 64, 125]"
      ]
     },
     "execution_count": 75,
     "metadata": {},
     "output_type": "execute_result"
    }
   ],
   "source": [
    "c"
   ]
  },
  {
   "cell_type": "code",
   "execution_count": 79,
   "id": "70e71b96-7666-4ce7-b525-be1fc4a1ef95",
   "metadata": {},
   "outputs": [
    {
     "name": "stdout",
     "output_type": "stream",
     "text": [
      "Squares: [1, 4, 9, 64, 25]\n",
      "Cubes: [1, 8, 27, 512, 125]\n"
     ]
    }
   ],
   "source": [
    "n = [1, 2, 3, 8, 5]\n",
    "\n",
    "# Squares\n",
    "s = list(map(lambda x: x**2, n))\n",
    "print(\"Squares:\", s)\n",
    "\n",
    "# Cubes\n",
    "c = list(map(lambda x: x**3, n))\n",
    "print(\"Cubes:\", c)\n"
   ]
  },
  {
   "cell_type": "code",
   "execution_count": null,
   "id": "8e30c4c3-de1f-4380-880f-650ef0b52a47",
   "metadata": {},
   "outputs": [],
   "source": []
  }
 ],
 "metadata": {
  "kernelspec": {
   "display_name": "Python [conda env:base] *",
   "language": "python",
   "name": "conda-base-py"
  },
  "language_info": {
   "codemirror_mode": {
    "name": "ipython",
    "version": 3
   },
   "file_extension": ".py",
   "mimetype": "text/x-python",
   "name": "python",
   "nbconvert_exporter": "python",
   "pygments_lexer": "ipython3",
   "version": "3.13.5"
  }
 },
 "nbformat": 4,
 "nbformat_minor": 5
}
