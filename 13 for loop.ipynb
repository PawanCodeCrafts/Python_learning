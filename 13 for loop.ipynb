{
 "cells": [
  {
   "cell_type": "markdown",
   "id": "99ebfced-0276-4b3a-aeb7-681e667c57f0",
   "metadata": {},
   "source": [
    "# FOR LOOP"
   ]
  },
  {
   "cell_type": "code",
   "execution_count": 3,
   "id": "49a4355d-a440-49b6-baeb-e759f266d29d",
   "metadata": {},
   "outputs": [
    {
     "name": "stdout",
     "output_type": "stream",
     "text": [
      "5\n",
      "4\n",
      "3\n",
      "2\n",
      "1\n"
     ]
    }
   ],
   "source": [
    "#reverse loop\n",
    "i = 5\n",
    "n = 0\n",
    "while i > n:\n",
    "    print(i)\n",
    "    i -= 1"
   ]
  },
  {
   "cell_type": "code",
   "execution_count": 5,
   "id": "4af12579-7b9a-42ec-a80f-328b7489940f",
   "metadata": {},
   "outputs": [
    {
     "name": "stdout",
     "output_type": "stream",
     "text": [
      "5\n",
      "4\n",
      "3\n",
      "2\n",
      "1\n"
     ]
    }
   ],
   "source": [
    "#3 best way to reverse loop\n",
    "i = 0\n",
    "n = 5\n",
    "while i < n:\n",
    "    print(n-i)\n",
    "    i += 1"
   ]
  },
  {
   "cell_type": "code",
   "execution_count": 7,
   "id": "e2b129d7-1853-4cdd-b3e3-8ee2db7366e4",
   "metadata": {},
   "outputs": [
    {
     "name": "stdout",
     "output_type": "stream",
     "text": [
      "hi\n",
      "hi\n",
      "hi\n",
      "hi\n",
      "hi\n"
     ]
    }
   ],
   "source": [
    "name = \"pawan\"\n",
    "for alphabet in name:\n",
    "    print('hi')\n"
   ]
  },
  {
   "cell_type": "code",
   "execution_count": 9,
   "id": "d7ecd51a-b85a-45d2-ac57-361bac4363d7",
   "metadata": {},
   "outputs": [
    {
     "name": "stdout",
     "output_type": "stream",
     "text": [
      "p\n",
      "a\n",
      "w\n",
      "a\n",
      "n\n"
     ]
    }
   ],
   "source": [
    "name = \"pawan\"\n",
    "for alphabet in name:\n",
    "    print(alphabet)\n"
   ]
  },
  {
   "cell_type": "code",
   "execution_count": 12,
   "id": "2ffee365-69cc-412c-8e08-2c95e3e89416",
   "metadata": {},
   "outputs": [
    {
     "name": "stdout",
     "output_type": "stream",
     "text": [
      "tamatar\n",
      "pyaz\n",
      "aloo\n",
      "bhindi\n"
     ]
    }
   ],
   "source": [
    "parchi =  ['tamatar', 'pyaz','aloo','bhindi']\n",
    "\n",
    "for sabzi in parchi:\n",
    "    print(sabzi)"
   ]
  },
  {
   "cell_type": "code",
   "execution_count": 23,
   "id": "40154713-f22e-4d33-a47d-3ee7398f5838",
   "metadata": {},
   "outputs": [
    {
     "name": "stdout",
     "output_type": "stream",
     "text": [
      "eat mango\n",
      "eat apple\n",
      "eat banana\n",
      "eat litchi\n"
     ]
    }
   ],
   "source": [
    "fruits = ('mango','apple','banana','litchi')\n",
    "\n",
    "for f in fruits:\n",
    "    print('eat',f)"
   ]
  },
  {
   "cell_type": "code",
   "execution_count": 30,
   "id": "eeb0e88c-110f-417e-86cb-24f6e6382056",
   "metadata": {},
   "outputs": [
    {
     "name": "stdout",
     "output_type": "stream",
     "text": [
      "('name', 'pawan')\n",
      "('age', 24)\n",
      "('city', 'batala')\n"
     ]
    }
   ],
   "source": [
    "student = {'name' : 'pawan' , 'age' : 24, 'city' : 'batala'}\n",
    "\n",
    "for s in student.items():\n",
    "    print(s)"
   ]
  },
  {
   "cell_type": "code",
   "execution_count": 28,
   "id": "a920bf87-797a-4a34-ba86-53d368bfd98d",
   "metadata": {},
   "outputs": [
    {
     "name": "stdout",
     "output_type": "stream",
     "text": [
      "name\n",
      "age\n",
      "city\n"
     ]
    }
   ],
   "source": [
    "student = {'name' : 'pawan' , 'age' : 24, 'city' : 'batala'}\n",
    "\n",
    "for key in student.keys():\n",
    "    print(key)"
   ]
  },
  {
   "cell_type": "code",
   "execution_count": 29,
   "id": "9d07f872-77a8-4b3e-b486-9cdd14df3c4d",
   "metadata": {},
   "outputs": [
    {
     "name": "stdout",
     "output_type": "stream",
     "text": [
      "pawan\n",
      "24\n",
      "batala\n"
     ]
    }
   ],
   "source": [
    "student = {'name' : 'pawan' , 'age' : 24, 'city' : 'batala'}\n",
    "\n",
    "for value in student.values():\n",
    "    print( value)"
   ]
  },
  {
   "cell_type": "code",
   "execution_count": 31,
   "id": "ca6a5f7e-13c1-4b0d-9962-cc1e1d862265",
   "metadata": {},
   "outputs": [
    {
     "name": "stdout",
     "output_type": "stream",
     "text": [
      "4\n",
      "5\n",
      "6\n",
      "8\n",
      "9\n"
     ]
    }
   ],
   "source": [
    "S = {8,5,6,8,8,9,4}\n",
    "\n",
    "for i in S:\n",
    "    print(i)"
   ]
  },
  {
   "cell_type": "code",
   "execution_count": 32,
   "id": "64f4da65-77e2-4c35-84c0-590fa9b2c358",
   "metadata": {},
   "outputs": [
    {
     "name": "stdout",
     "output_type": "stream",
     "text": [
      "0\n",
      "1\n",
      "2\n",
      "3\n",
      "4\n"
     ]
    }
   ],
   "source": [
    "for i in range(5):\n",
    "    print(i)"
   ]
  },
  {
   "cell_type": "code",
   "execution_count": 34,
   "id": "c6d7b6a5-5d4a-4c13-9249-af79e1292163",
   "metadata": {},
   "outputs": [
    {
     "name": "stdout",
     "output_type": "stream",
     "text": [
      "1\n",
      "3\n",
      "5\n",
      "7\n",
      "9\n"
     ]
    }
   ],
   "source": [
    "for i in range(1,10,2):\n",
    "    print(i)"
   ]
  },
  {
   "cell_type": "code",
   "execution_count": 35,
   "id": "9c4a0ec2-4f2c-4881-b588-5ba07003e05f",
   "metadata": {},
   "outputs": [
    {
     "name": "stdout",
     "output_type": "stream",
     "text": [
      "2 x 1 = 2\n",
      "2 x 2 = 4\n",
      "2 x 3 = 6\n",
      "2 x 4 = 8\n",
      "2 x 5 = 10\n",
      "2 x 6 = 12\n",
      "2 x 7 = 14\n",
      "2 x 8 = 16\n",
      "2 x 9 = 18\n"
     ]
    }
   ],
   "source": [
    "n = 2\n",
    "for i in range(1, 10):\n",
    "    print(n, 'x' , i, '=', n*i )"
   ]
  },
  {
   "cell_type": "code",
   "execution_count": 1,
   "id": "ab15323f-e79a-4dc1-97ee-08b8f82ca883",
   "metadata": {},
   "outputs": [
    {
     "name": "stdout",
     "output_type": "stream",
     "text": [
      "A\n",
      "n\n",
      "s\n",
      "h\n",
      "u\n"
     ]
    }
   ],
   "source": [
    "name = \"Anshu\"\n",
    "\n",
    "for i in range(len(name)):\n",
    "    # print(i)\n",
    "    print(name[i])"
   ]
  },
  {
   "cell_type": "code",
   "execution_count": 2,
   "id": "0332fa98-cd87-4ec6-aab3-3ef139c6808f",
   "metadata": {},
   "outputs": [],
   "source": [
    "## random number generation  using random library"
   ]
  },
  {
   "cell_type": "code",
   "execution_count": 3,
   "id": "f90bfdd9-7a96-4eb1-a0d6-15c9eee19ae8",
   "metadata": {},
   "outputs": [],
   "source": [
    "import random"
   ]
  },
  {
   "cell_type": "code",
   "execution_count": 4,
   "id": "b4af2cc3-5825-4711-9ccf-bbb7e601056f",
   "metadata": {},
   "outputs": [],
   "source": [
    "### install library  * pip install pandas *"
   ]
  },
  {
   "cell_type": "code",
   "execution_count": 20,
   "id": "8caae6fc-23f1-4b3e-8c6b-e96c8242c739",
   "metadata": {},
   "outputs": [
    {
     "data": {
      "text/plain": [
       "2"
      ]
     },
     "execution_count": 20,
     "metadata": {},
     "output_type": "execute_result"
    }
   ],
   "source": [
    "random.randint(1,20)"
   ]
  },
  {
   "cell_type": "code",
   "execution_count": 51,
   "id": "cfa60d54-98d6-4171-8587-38dbcc9fdcb2",
   "metadata": {},
   "outputs": [
    {
     "name": "stdout",
     "output_type": "stream",
     "text": [
      "4 2 1 6 3 2 8 4 3 6 5 2 9 5 2 \n",
      "[4, 2, 1, 6, 3, 2, 8, 4, 3, 6, 5, 2, 9, 5, 2]\n"
     ]
    }
   ],
   "source": [
    "li = []\n",
    "\n",
    "for i in range(15):\n",
    "    num = random.randint(1,10)\n",
    "    print(num, end = \" \")\n",
    "    li.append(num)\n",
    "    \n",
    "print()   \n",
    "print(li)"
   ]
  },
  {
   "cell_type": "code",
   "execution_count": 57,
   "id": "ed55c5c4-0c5b-456d-a97a-2b59f86aaa0c",
   "metadata": {},
   "outputs": [
    {
     "name": "stdout",
     "output_type": "stream",
     "text": [
      "[2, 3, 4, 5]\n",
      "[4, 9, 16, 25]\n"
     ]
    }
   ],
   "source": [
    "li = [2,3,4,5]\n",
    "a = []\n",
    "for i in li:\n",
    "    s = i ** 2 \n",
    "    a.append(s)\n",
    "print(li)\n",
    "print(a)"
   ]
  },
  {
   "cell_type": "code",
   "execution_count": 65,
   "id": "3d76f868-955f-4f26-8cb7-b08929770a24",
   "metadata": {},
   "outputs": [
    {
     "data": {
      "text/plain": [
       "[6, 1, 9, 7, 1]"
      ]
     },
     "execution_count": 65,
     "metadata": {},
     "output_type": "execute_result"
    }
   ],
   "source": [
    "a = []\n",
    "for i in range(5):\n",
    "    a.append(random.randint(1,10))\n",
    "a"
   ]
  },
  {
   "cell_type": "code",
   "execution_count": 77,
   "id": "b7c0747d-6e6c-48dd-bdfa-6b30dc880117",
   "metadata": {},
   "outputs": [
    {
     "name": "stdout",
     "output_type": "stream",
     "text": [
      "[10, 6, 1, 7, 2]\n"
     ]
    }
   ],
   "source": [
    "## list  omprehension\n",
    "\n",
    "l = [ random.randint(1,10) for i in range(5)]\n",
    "print(l)"
   ]
  },
  {
   "cell_type": "code",
   "execution_count": 78,
   "id": "945d1c15-1017-47fc-bada-e0a7828d3277",
   "metadata": {},
   "outputs": [
    {
     "name": "stdout",
     "output_type": "stream",
     "text": [
      "[10, 6, 1, 7, 2]\n",
      "[100, 36, 1, 49, 4]\n"
     ]
    }
   ],
   "source": [
    "b = [ l[i] ** 2 for i in range(len(l))]\n",
    "print(l)\n",
    "print(b)"
   ]
  },
  {
   "cell_type": "code",
   "execution_count": 81,
   "id": "9834f25c-f7bd-4f5a-a87b-18636ac7766e",
   "metadata": {},
   "outputs": [
    {
     "name": "stdout",
     "output_type": "stream",
     "text": [
      "[25, 81, 81, 81, 49]\n",
      "[625, 6561, 6561, 6561, 2401]\n"
     ]
    }
   ],
   "source": [
    "print(l)\n",
    "\n",
    "p = []\n",
    "for i in range(len(l)):\n",
    "    p.append(l[i]**2)\n",
    "print(p)"
   ]
  },
  {
   "cell_type": "code",
   "execution_count": 82,
   "id": "96c45da5-a531-4764-85d0-52365b1a14a2",
   "metadata": {},
   "outputs": [],
   "source": [
    "##  zip ---> items ko saath me le aata hai"
   ]
  },
  {
   "cell_type": "code",
   "execution_count": 83,
   "id": "79ac6843-5f7e-4c0c-9994-12825515294d",
   "metadata": {},
   "outputs": [],
   "source": [
    "name=[\"shubham\",\"akash\",'abhi']\n",
    "age = [20,26,30]"
   ]
  },
  {
   "cell_type": "code",
   "execution_count": 87,
   "id": "97e5f393-7e69-4f95-b32d-1c9e2ef09678",
   "metadata": {},
   "outputs": [
    {
     "name": "stdout",
     "output_type": "stream",
     "text": [
      "{'shubham': 20, 'akash': 26, 'abhi': 30}\n"
     ]
    }
   ],
   "source": [
    "d = {}\n",
    "for i , j in zip(name, age):\n",
    "    d[i] = j\n",
    "print(d)"
   ]
  },
  {
   "cell_type": "code",
   "execution_count": 90,
   "id": "ff044ff9-7ee8-4a65-ae37-a391c0482dbe",
   "metadata": {},
   "outputs": [
    {
     "data": {
      "text/plain": [
       "{'shubham': 20, 'akash': 26, 'abhi': 30}"
      ]
     },
     "execution_count": 90,
     "metadata": {},
     "output_type": "execute_result"
    }
   ],
   "source": [
    "di = {i:j for i,j in zip(name , age)}\n",
    "di"
   ]
  },
  {
   "cell_type": "code",
   "execution_count": null,
   "id": "4f1a407c-df36-4c8d-acbc-3d2fb85c2ad1",
   "metadata": {},
   "outputs": [],
   "source": []
  }
 ],
 "metadata": {
  "kernelspec": {
   "display_name": "Python [conda env:base] *",
   "language": "python",
   "name": "conda-base-py"
  },
  "language_info": {
   "codemirror_mode": {
    "name": "ipython",
    "version": 3
   },
   "file_extension": ".py",
   "mimetype": "text/x-python",
   "name": "python",
   "nbconvert_exporter": "python",
   "pygments_lexer": "ipython3",
   "version": "3.13.5"
  }
 },
 "nbformat": 4,
 "nbformat_minor": 5
}
