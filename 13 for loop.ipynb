{
 "cells": [
  {
   "cell_type": "markdown",
   "id": "99ebfced-0276-4b3a-aeb7-681e667c57f0",
   "metadata": {},
   "source": [
    "# FOR LOOP"
   ]
  },
  {
   "cell_type": "code",
   "execution_count": 3,
   "id": "49a4355d-a440-49b6-baeb-e759f266d29d",
   "metadata": {},
   "outputs": [
    {
     "name": "stdout",
     "output_type": "stream",
     "text": [
      "5\n",
      "4\n",
      "3\n",
      "2\n",
      "1\n"
     ]
    }
   ],
   "source": [
    "#reverse loop\n",
    "i = 5\n",
    "n = 0\n",
    "while i > n:\n",
    "    print(i)\n",
    "    i -= 1"
   ]
  },
  {
   "cell_type": "code",
   "execution_count": 5,
   "id": "4af12579-7b9a-42ec-a80f-328b7489940f",
   "metadata": {},
   "outputs": [
    {
     "name": "stdout",
     "output_type": "stream",
     "text": [
      "5\n",
      "4\n",
      "3\n",
      "2\n",
      "1\n"
     ]
    }
   ],
   "source": [
    "#3 best way to reverse loop\n",
    "i = 0\n",
    "n = 5\n",
    "while i < n:\n",
    "    print(n-i)\n",
    "    i += 1"
   ]
  },
  {
   "cell_type": "code",
   "execution_count": 7,
   "id": "e2b129d7-1853-4cdd-b3e3-8ee2db7366e4",
   "metadata": {},
   "outputs": [
    {
     "name": "stdout",
     "output_type": "stream",
     "text": [
      "hi\n",
      "hi\n",
      "hi\n",
      "hi\n",
      "hi\n"
     ]
    }
   ],
   "source": [
    "name = \"pawan\"\n",
    "for alphabet in name:\n",
    "    print('hi')\n"
   ]
  },
  {
   "cell_type": "code",
   "execution_count": 9,
   "id": "d7ecd51a-b85a-45d2-ac57-361bac4363d7",
   "metadata": {},
   "outputs": [
    {
     "name": "stdout",
     "output_type": "stream",
     "text": [
      "p\n",
      "a\n",
      "w\n",
      "a\n",
      "n\n"
     ]
    }
   ],
   "source": [
    "name = \"pawan\"\n",
    "for alphabet in name:\n",
    "    print(alphabet)\n"
   ]
  },
  {
   "cell_type": "code",
   "execution_count": 12,
   "id": "2ffee365-69cc-412c-8e08-2c95e3e89416",
   "metadata": {},
   "outputs": [
    {
     "name": "stdout",
     "output_type": "stream",
     "text": [
      "tamatar\n",
      "pyaz\n",
      "aloo\n",
      "bhindi\n"
     ]
    }
   ],
   "source": [
    "parchi =  ['tamatar', 'pyaz','aloo','bhindi']\n",
    "\n",
    "for sabzi in parchi:\n",
    "    print(sabzi)"
   ]
  },
  {
   "cell_type": "code",
   "execution_count": 23,
   "id": "40154713-f22e-4d33-a47d-3ee7398f5838",
   "metadata": {},
   "outputs": [
    {
     "name": "stdout",
     "output_type": "stream",
     "text": [
      "eat mango\n",
      "eat apple\n",
      "eat banana\n",
      "eat litchi\n"
     ]
    }
   ],
   "source": [
    "fruits = ('mango','apple','banana','litchi')\n",
    "\n",
    "for f in fruits:\n",
    "    print('eat',f)"
   ]
  },
  {
   "cell_type": "code",
   "execution_count": 30,
   "id": "eeb0e88c-110f-417e-86cb-24f6e6382056",
   "metadata": {},
   "outputs": [
    {
     "name": "stdout",
     "output_type": "stream",
     "text": [
      "('name', 'pawan')\n",
      "('age', 24)\n",
      "('city', 'batala')\n"
     ]
    }
   ],
   "source": [
    "student = {'name' : 'pawan' , 'age' : 24, 'city' : 'batala'}\n",
    "\n",
    "for s in student.items():\n",
    "    print(s)"
   ]
  },
  {
   "cell_type": "code",
   "execution_count": 28,
   "id": "a920bf87-797a-4a34-ba86-53d368bfd98d",
   "metadata": {},
   "outputs": [
    {
     "name": "stdout",
     "output_type": "stream",
     "text": [
      "name\n",
      "age\n",
      "city\n"
     ]
    }
   ],
   "source": [
    "student = {'name' : 'pawan' , 'age' : 24, 'city' : 'batala'}\n",
    "\n",
    "for key in student.keys():\n",
    "    print(key)"
   ]
  },
  {
   "cell_type": "code",
   "execution_count": 29,
   "id": "9d07f872-77a8-4b3e-b486-9cdd14df3c4d",
   "metadata": {},
   "outputs": [
    {
     "name": "stdout",
     "output_type": "stream",
     "text": [
      "pawan\n",
      "24\n",
      "batala\n"
     ]
    }
   ],
   "source": [
    "student = {'name' : 'pawan' , 'age' : 24, 'city' : 'batala'}\n",
    "\n",
    "for value in student.values():\n",
    "    print( value)"
   ]
  },
  {
   "cell_type": "code",
   "execution_count": 31,
   "id": "ca6a5f7e-13c1-4b0d-9962-cc1e1d862265",
   "metadata": {},
   "outputs": [
    {
     "name": "stdout",
     "output_type": "stream",
     "text": [
      "4\n",
      "5\n",
      "6\n",
      "8\n",
      "9\n"
     ]
    }
   ],
   "source": [
    "S = {8,5,6,8,8,9,4}\n",
    "\n",
    "for i in S:\n",
    "    print(i)"
   ]
  },
  {
   "cell_type": "code",
   "execution_count": 32,
   "id": "64f4da65-77e2-4c35-84c0-590fa9b2c358",
   "metadata": {},
   "outputs": [
    {
     "name": "stdout",
     "output_type": "stream",
     "text": [
      "0\n",
      "1\n",
      "2\n",
      "3\n",
      "4\n"
     ]
    }
   ],
   "source": [
    "for i in range(5):\n",
    "    print(i)"
   ]
  },
  {
   "cell_type": "code",
   "execution_count": 34,
   "id": "c6d7b6a5-5d4a-4c13-9249-af79e1292163",
   "metadata": {},
   "outputs": [
    {
     "name": "stdout",
     "output_type": "stream",
     "text": [
      "1\n",
      "3\n",
      "5\n",
      "7\n",
      "9\n"
     ]
    }
   ],
   "source": [
    "for i in range(1,10,2):\n",
    "    print(i)"
   ]
  },
  {
   "cell_type": "code",
   "execution_count": 35,
   "id": "9c4a0ec2-4f2c-4881-b588-5ba07003e05f",
   "metadata": {},
   "outputs": [
    {
     "name": "stdout",
     "output_type": "stream",
     "text": [
      "2 x 1 = 2\n",
      "2 x 2 = 4\n",
      "2 x 3 = 6\n",
      "2 x 4 = 8\n",
      "2 x 5 = 10\n",
      "2 x 6 = 12\n",
      "2 x 7 = 14\n",
      "2 x 8 = 16\n",
      "2 x 9 = 18\n"
     ]
    }
   ],
   "source": [
    "n = 2\n",
    "for i in range(1, 10):\n",
    "    print(n, 'x' , i, '=', n*i )"
   ]
  },
  {
   "cell_type": "code",
   "execution_count": 37,
   "id": "ab15323f-e79a-4dc1-97ee-08b8f82ca883",
   "metadata": {},
   "outputs": [
    {
     "name": "stdout",
     "output_type": "stream",
     "text": [
      "p\n",
      "a\n",
      "w\n",
      "a\n",
      "n\n"
     ]
    }
   ],
   "source": [
    "name = \"pawan\"\n",
    "\n",
    "for i in range(len(name)):\n",
    "    # print(i)\n",
    "    print(name[i])"
   ]
  },
  {
   "cell_type": "code",
   "execution_count": null,
   "id": "0332fa98-cd87-4ec6-aab3-3ef139c6808f",
   "metadata": {},
   "outputs": [],
   "source": []
  }
 ],
 "metadata": {
  "kernelspec": {
   "display_name": "Python [conda env:base] *",
   "language": "python",
   "name": "conda-base-py"
  },
  "language_info": {
   "codemirror_mode": {
    "name": "ipython",
    "version": 3
   },
   "file_extension": ".py",
   "mimetype": "text/x-python",
   "name": "python",
   "nbconvert_exporter": "python",
   "pygments_lexer": "ipython3",
   "version": "3.13.5"
  }
 },
 "nbformat": 4,
 "nbformat_minor": 5
}
