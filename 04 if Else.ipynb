{
 "cells": [
  {
   "cell_type": "markdown",
   "id": "b7b9952b-4078-4ca8-a46f-e7c8af85bd74",
   "metadata": {
    "jp-MarkdownHeadingCollapsed": true
   },
   "source": [
    "# working with boolean"
   ]
  },
  {
   "cell_type": "code",
   "execution_count": 2,
   "id": "b2708b1f-9da9-4249-a8db-c48f842db2ea",
   "metadata": {},
   "outputs": [
    {
     "data": {
      "text/plain": [
       "True"
      ]
     },
     "execution_count": 2,
     "metadata": {},
     "output_type": "execute_result"
    }
   ],
   "source": [
    "# boolean data type\n",
    "True"
   ]
  },
  {
   "cell_type": "code",
   "execution_count": 3,
   "id": "05845c8b-a9a5-4358-9600-ddfa1024799d",
   "metadata": {},
   "outputs": [
    {
     "data": {
      "text/plain": [
       "False"
      ]
     },
     "execution_count": 3,
     "metadata": {},
     "output_type": "execute_result"
    }
   ],
   "source": [
    "False"
   ]
  },
  {
   "cell_type": "code",
   "execution_count": 4,
   "id": "4cab0ca4-4655-4a71-9421-8d5bcc751be0",
   "metadata": {},
   "outputs": [
    {
     "data": {
      "text/plain": [
       "1"
      ]
     },
     "execution_count": 4,
     "metadata": {},
     "output_type": "execute_result"
    }
   ],
   "source": [
    "int(True)"
   ]
  },
  {
   "cell_type": "code",
   "execution_count": 5,
   "id": "44863852-7698-4fc9-a9bf-fa38797d5ac2",
   "metadata": {},
   "outputs": [
    {
     "data": {
      "text/plain": [
       "0"
      ]
     },
     "execution_count": 5,
     "metadata": {},
     "output_type": "execute_result"
    }
   ],
   "source": [
    "int(False)"
   ]
  },
  {
   "cell_type": "code",
   "execution_count": 6,
   "id": "0f3c0abf-df86-488d-9461-fabffa146fe7",
   "metadata": {},
   "outputs": [
    {
     "data": {
      "text/plain": [
       "True"
      ]
     },
     "execution_count": 6,
     "metadata": {},
     "output_type": "execute_result"
    }
   ],
   "source": [
    "bool(5)"
   ]
  },
  {
   "cell_type": "code",
   "execution_count": 7,
   "id": "c9c5ad99-fe03-4a36-affc-e49b262fe200",
   "metadata": {},
   "outputs": [
    {
     "data": {
      "text/plain": [
       "True"
      ]
     },
     "execution_count": 7,
     "metadata": {},
     "output_type": "execute_result"
    }
   ],
   "source": [
    "bool(-5)"
   ]
  },
  {
   "cell_type": "code",
   "execution_count": 8,
   "id": "69e75954-6e5b-4e59-93f7-4d2fb0d4a7d7",
   "metadata": {},
   "outputs": [
    {
     "data": {
      "text/plain": [
       "False"
      ]
     },
     "execution_count": 8,
     "metadata": {},
     "output_type": "execute_result"
    }
   ],
   "source": [
    "bool(0)"
   ]
  },
  {
   "cell_type": "code",
   "execution_count": 9,
   "id": "63427e39-6afe-4b04-90dd-7ff87f4c98dc",
   "metadata": {},
   "outputs": [
    {
     "data": {
      "text/plain": [
       "True"
      ]
     },
     "execution_count": 9,
     "metadata": {},
     "output_type": "execute_result"
    }
   ],
   "source": [
    "bool(\" \")"
   ]
  },
  {
   "cell_type": "code",
   "execution_count": 10,
   "id": "7ebbb27b-ed5a-4afa-a33f-c0b1ed8ffb21",
   "metadata": {},
   "outputs": [
    {
     "data": {
      "text/plain": [
       "1"
      ]
     },
     "execution_count": 10,
     "metadata": {},
     "output_type": "execute_result"
    }
   ],
   "source": [
    "0 or 1"
   ]
  },
  {
   "cell_type": "code",
   "execution_count": 11,
   "id": "1be3fc9d-6f1a-4542-b290-eebabe4d3844",
   "metadata": {},
   "outputs": [
    {
     "data": {
      "text/plain": [
       "False"
      ]
     },
     "execution_count": 11,
     "metadata": {},
     "output_type": "execute_result"
    }
   ],
   "source": [
    "bool(None)"
   ]
  },
  {
   "cell_type": "code",
   "execution_count": 12,
   "id": "d6d198b4-b870-49c3-bd26-c6dfe46fac8d",
   "metadata": {},
   "outputs": [
    {
     "data": {
      "text/plain": [
       "True"
      ]
     },
     "execution_count": 12,
     "metadata": {},
     "output_type": "execute_result"
    }
   ],
   "source": [
    "bool(int(45))"
   ]
  },
  {
   "cell_type": "code",
   "execution_count": 13,
   "id": "3c9b41cf-9b80-43cc-986e-a2e69f63af68",
   "metadata": {},
   "outputs": [
    {
     "data": {
      "text/plain": [
       "True"
      ]
     },
     "execution_count": 13,
     "metadata": {},
     "output_type": "execute_result"
    }
   ],
   "source": [
    "bool(-577)"
   ]
  },
  {
   "cell_type": "code",
   "execution_count": 14,
   "id": "a6d2097d-79cc-4128-aa76-f8734d5322fb",
   "metadata": {},
   "outputs": [
    {
     "data": {
      "text/plain": [
       "True"
      ]
     },
     "execution_count": 14,
     "metadata": {},
     "output_type": "execute_result"
    }
   ],
   "source": [
    "bool(\"T\")"
   ]
  },
  {
   "cell_type": "code",
   "execution_count": 15,
   "id": "afd25db5-0500-4e41-80b6-6e4ccc3ff85a",
   "metadata": {},
   "outputs": [
    {
     "data": {
      "text/plain": [
       "True"
      ]
     },
     "execution_count": 15,
     "metadata": {},
     "output_type": "execute_result"
    }
   ],
   "source": [
    "bool('t')"
   ]
  },
  {
   "cell_type": "code",
   "execution_count": 16,
   "id": "ded16aff-7904-49fe-969f-253de1030455",
   "metadata": {},
   "outputs": [
    {
     "data": {
      "text/plain": [
       "True"
      ]
     },
     "execution_count": 16,
     "metadata": {},
     "output_type": "execute_result"
    }
   ],
   "source": [
    "bool(\"false\")"
   ]
  },
  {
   "cell_type": "code",
   "execution_count": 17,
   "id": "0c32e795-2407-46c6-8354-9f5f48790446",
   "metadata": {},
   "outputs": [
    {
     "data": {
      "text/plain": [
       "bool"
      ]
     },
     "execution_count": 17,
     "metadata": {},
     "output_type": "execute_result"
    }
   ],
   "source": [
    "type(True)"
   ]
  },
  {
   "cell_type": "code",
   "execution_count": 18,
   "id": "b29a86d1-9285-4834-a20d-138e2f05bd69",
   "metadata": {},
   "outputs": [
    {
     "data": {
      "text/plain": [
       "bool"
      ]
     },
     "execution_count": 18,
     "metadata": {},
     "output_type": "execute_result"
    }
   ],
   "source": [
    "type(False)"
   ]
  },
  {
   "cell_type": "code",
   "execution_count": 19,
   "id": "2b406c8e-ce29-41bb-a987-a96843c7aeff",
   "metadata": {},
   "outputs": [
    {
     "data": {
      "text/plain": [
       "False"
      ]
     },
     "execution_count": 19,
     "metadata": {},
     "output_type": "execute_result"
    }
   ],
   "source": [
    "bool('')"
   ]
  },
  {
   "cell_type": "code",
   "execution_count": 20,
   "id": "d1835a44-02af-4f16-b4ba-f1ef1646b5c4",
   "metadata": {},
   "outputs": [
    {
     "data": {
      "text/plain": [
       "False"
      ]
     },
     "execution_count": 20,
     "metadata": {},
     "output_type": "execute_result"
    }
   ],
   "source": [
    "bool([])"
   ]
  },
  {
   "cell_type": "code",
   "execution_count": 21,
   "id": "83ab81b0-e7bd-443e-91d6-b987cd5b1a94",
   "metadata": {},
   "outputs": [
    {
     "data": {
      "text/plain": [
       "False"
      ]
     },
     "execution_count": 21,
     "metadata": {},
     "output_type": "execute_result"
    }
   ],
   "source": [
    "bool({})"
   ]
  },
  {
   "cell_type": "code",
   "execution_count": 22,
   "id": "2892382b-fd6e-451c-bbd8-79689bfece8b",
   "metadata": {},
   "outputs": [
    {
     "data": {
      "text/plain": [
       "True"
      ]
     },
     "execution_count": 22,
     "metadata": {},
     "output_type": "execute_result"
    }
   ],
   "source": [
    "bool([6])"
   ]
  },
  {
   "cell_type": "code",
   "execution_count": 23,
   "id": "ffbdf84a-78aa-4010-acfa-7b3818a849f0",
   "metadata": {},
   "outputs": [
    {
     "data": {
      "text/plain": [
       "False"
      ]
     },
     "execution_count": 23,
     "metadata": {},
     "output_type": "execute_result"
    }
   ],
   "source": [
    "bool(())"
   ]
  },
  {
   "cell_type": "code",
   "execution_count": 24,
   "id": "e439deee-885c-4153-941f-c924afef5615",
   "metadata": {},
   "outputs": [
    {
     "data": {
      "text/plain": [
       "True"
      ]
     },
     "execution_count": 24,
     "metadata": {},
     "output_type": "execute_result"
    }
   ],
   "source": [
    "bool((6))"
   ]
  },
  {
   "cell_type": "code",
   "execution_count": 25,
   "id": "f8ee390b-0625-4c57-a20e-8b94c03a3ef1",
   "metadata": {
    "scrolled": true
   },
   "outputs": [
    {
     "data": {
      "text/plain": [
       "True"
      ]
     },
     "execution_count": 25,
     "metadata": {},
     "output_type": "execute_result"
    }
   ],
   "source": [
    "a = \"pawan\"\n",
    "bool(a)"
   ]
  },
  {
   "cell_type": "markdown",
   "id": "f900c9fe-65d8-4609-8916-3ea52fe0e71f",
   "metadata": {
    "jp-MarkdownHeadingCollapsed": true
   },
   "source": [
    "# comparison operators"
   ]
  },
  {
   "cell_type": "code",
   "execution_count": 26,
   "id": "e22b7d5c-41be-4a0b-bb3c-9497d212e14b",
   "metadata": {},
   "outputs": [
    {
     "data": {
      "text/plain": [
       "False"
      ]
     },
     "execution_count": 26,
     "metadata": {},
     "output_type": "execute_result"
    }
   ],
   "source": [
    "5 >10"
   ]
  },
  {
   "cell_type": "code",
   "execution_count": 27,
   "id": "90e1ce25-06f3-4588-bfe7-761dd76869ae",
   "metadata": {},
   "outputs": [
    {
     "data": {
      "text/plain": [
       "True"
      ]
     },
     "execution_count": 27,
     "metadata": {},
     "output_type": "execute_result"
    }
   ],
   "source": [
    "10 > 5 "
   ]
  },
  {
   "cell_type": "code",
   "execution_count": 28,
   "id": "498a4dbe-ae65-4c63-9d57-152e70665a5f",
   "metadata": {},
   "outputs": [
    {
     "data": {
      "text/plain": [
       "False"
      ]
     },
     "execution_count": 28,
     "metadata": {},
     "output_type": "execute_result"
    }
   ],
   "source": [
    "5 > 5"
   ]
  },
  {
   "cell_type": "code",
   "execution_count": 29,
   "id": "1844688f-498f-404e-8229-059783f4cde7",
   "metadata": {},
   "outputs": [
    {
     "data": {
      "text/plain": [
       "False"
      ]
     },
     "execution_count": 29,
     "metadata": {},
     "output_type": "execute_result"
    }
   ],
   "source": [
    "18 == 15"
   ]
  },
  {
   "cell_type": "code",
   "execution_count": 30,
   "id": "aafd0438-bc1c-4841-a663-cee9d15dbfb5",
   "metadata": {},
   "outputs": [
    {
     "data": {
      "text/plain": [
       "True"
      ]
     },
     "execution_count": 30,
     "metadata": {},
     "output_type": "execute_result"
    }
   ],
   "source": [
    "5 == 5"
   ]
  },
  {
   "cell_type": "code",
   "execution_count": 31,
   "id": "13b0f43d-546c-4b9f-8d40-b0d75c635edc",
   "metadata": {},
   "outputs": [
    {
     "data": {
      "text/plain": [
       "True"
      ]
     },
     "execution_count": 31,
     "metadata": {},
     "output_type": "execute_result"
    }
   ],
   "source": [
    "5 < 10"
   ]
  },
  {
   "cell_type": "code",
   "execution_count": 32,
   "id": "def89a0f-1a78-459d-9c29-a49e4278f403",
   "metadata": {},
   "outputs": [
    {
     "data": {
      "text/plain": [
       "False"
      ]
     },
     "execution_count": 32,
     "metadata": {},
     "output_type": "execute_result"
    }
   ],
   "source": [
    "10 < 10"
   ]
  },
  {
   "cell_type": "code",
   "execution_count": 33,
   "id": "edcf70eb-b07a-42c9-96e1-40b6ec2af205",
   "metadata": {},
   "outputs": [
    {
     "data": {
      "text/plain": [
       "True"
      ]
     },
     "execution_count": 33,
     "metadata": {},
     "output_type": "execute_result"
    }
   ],
   "source": [
    "10 == 10"
   ]
  },
  {
   "cell_type": "code",
   "execution_count": 34,
   "id": "a0d69f2f-4daf-4e4b-90bb-d74d87ea5f43",
   "metadata": {},
   "outputs": [
    {
     "data": {
      "text/plain": [
       "True"
      ]
     },
     "execution_count": 34,
     "metadata": {},
     "output_type": "execute_result"
    }
   ],
   "source": [
    "5 >= 5"
   ]
  },
  {
   "cell_type": "code",
   "execution_count": 35,
   "id": "e51d536a-c108-48e1-93da-8a3151854987",
   "metadata": {},
   "outputs": [
    {
     "data": {
      "text/plain": [
       "False"
      ]
     },
     "execution_count": 35,
     "metadata": {},
     "output_type": "execute_result"
    }
   ],
   "source": [
    "5 >= 15"
   ]
  },
  {
   "cell_type": "code",
   "execution_count": 36,
   "id": "b789c2ee-49b9-4c6f-bdbd-2b69a23c8a91",
   "metadata": {},
   "outputs": [
    {
     "data": {
      "text/plain": [
       "True"
      ]
     },
     "execution_count": 36,
     "metadata": {},
     "output_type": "execute_result"
    }
   ],
   "source": [
    "5 <= 15"
   ]
  },
  {
   "cell_type": "code",
   "execution_count": 37,
   "id": "8484e986-caa1-4884-9b34-064e84a4bc43",
   "metadata": {},
   "outputs": [],
   "source": [
    "age = 17"
   ]
  },
  {
   "cell_type": "code",
   "execution_count": 38,
   "id": "43acd1e8-3f27-4362-93d8-63820259485e",
   "metadata": {},
   "outputs": [
    {
     "data": {
      "text/plain": [
       "False"
      ]
     },
     "execution_count": 38,
     "metadata": {},
     "output_type": "execute_result"
    }
   ],
   "source": [
    "age >= 18"
   ]
  },
  {
   "cell_type": "code",
   "execution_count": 39,
   "id": "00b466d6-45ed-47ac-8aad-80660e4cc2b3",
   "metadata": {},
   "outputs": [],
   "source": [
    "age = 15"
   ]
  },
  {
   "cell_type": "code",
   "execution_count": 40,
   "id": "d9053d3d-88dd-44b6-b1f7-7dbf2211abc1",
   "metadata": {
    "scrolled": true
   },
   "outputs": [
    {
     "data": {
      "text/plain": [
       "True"
      ]
     },
     "execution_count": 40,
     "metadata": {},
     "output_type": "execute_result"
    }
   ],
   "source": [
    "age <= 18"
   ]
  },
  {
   "cell_type": "code",
   "execution_count": 41,
   "id": "6f85a615-dd71-4274-85aa-741c8364462b",
   "metadata": {},
   "outputs": [
    {
     "data": {
      "text/plain": [
       "True"
      ]
     },
     "execution_count": 41,
     "metadata": {},
     "output_type": "execute_result"
    }
   ],
   "source": [
    "age != 19"
   ]
  },
  {
   "cell_type": "code",
   "execution_count": 42,
   "id": "a7058a9f-0c8f-4f4e-949a-38bb3dace90d",
   "metadata": {},
   "outputs": [],
   "source": [
    "age = 19"
   ]
  },
  {
   "cell_type": "code",
   "execution_count": 43,
   "id": "25ccdcd7-b9c8-47f7-b79c-e9be8b456408",
   "metadata": {},
   "outputs": [
    {
     "data": {
      "text/plain": [
       "True"
      ]
     },
     "execution_count": 43,
     "metadata": {},
     "output_type": "execute_result"
    }
   ],
   "source": [
    "age != 18"
   ]
  },
  {
   "cell_type": "markdown",
   "id": "49aa4fc9-c77e-41b9-b87b-6b8212ee7528",
   "metadata": {
    "jp-MarkdownHeadingCollapsed": true
   },
   "source": [
    "# IF elif else"
   ]
  },
  {
   "cell_type": "code",
   "execution_count": 44,
   "id": "956f3e51-af90-4288-b1aa-abf9238ef528",
   "metadata": {},
   "outputs": [
    {
     "name": "stdout",
     "output_type": "stream",
     "text": [
      "welcome\n"
     ]
    }
   ],
   "source": [
    "age = 20\n",
    "if age > 18:\n",
    "    print(\"welcome\")"
   ]
  },
  {
   "cell_type": "code",
   "execution_count": 45,
   "id": "4864ae03-89ff-4c51-a440-99ab4527ce1c",
   "metadata": {},
   "outputs": [],
   "source": [
    "age = 5\n",
    "if age > 18:\n",
    "    print(\"welcome\")"
   ]
  },
  {
   "cell_type": "code",
   "execution_count": 46,
   "id": "a96b48d2-e2e8-4f36-b8b5-2f74deb4b981",
   "metadata": {},
   "outputs": [
    {
     "name": "stdout",
     "output_type": "stream",
     "text": [
      "bye bye\n"
     ]
    }
   ],
   "source": [
    "age = 14\n",
    "if age > 18:\n",
    "    print(\"welcome\")\n",
    "else:\n",
    "    print(\"bye bye\")"
   ]
  },
  {
   "cell_type": "code",
   "execution_count": 47,
   "id": "d8dc09de-7e0f-4ee0-8305-ed5d3474b9c9",
   "metadata": {},
   "outputs": [
    {
     "data": {
      "text/plain": [
       "False"
      ]
     },
     "execution_count": 47,
     "metadata": {},
     "output_type": "execute_result"
    }
   ],
   "source": [
    "age > 18"
   ]
  },
  {
   "cell_type": "code",
   "execution_count": 48,
   "id": "035769d5-cbbd-4679-a4af-b4700d9a2488",
   "metadata": {},
   "outputs": [
    {
     "name": "stdout",
     "output_type": "stream",
     "text": [
      "welcome\n"
     ]
    }
   ],
   "source": [
    "if True:\n",
    "    print('welcome')"
   ]
  },
  {
   "cell_type": "code",
   "execution_count": 49,
   "id": "c3a60df1-be07-43e1-9e77-6cbf04ea8c57",
   "metadata": {},
   "outputs": [],
   "source": [
    "marks = 35"
   ]
  },
  {
   "cell_type": "code",
   "execution_count": 50,
   "id": "8be88592-b98a-42b6-924a-1a4699a2c77c",
   "metadata": {},
   "outputs": [
    {
     "name": "stdout",
     "output_type": "stream",
     "text": [
      "Fail\n"
     ]
    }
   ],
   "source": [
    "if marks >= 90:\n",
    "    print(\"A\")\n",
    "elif marks >= 75:\n",
    "    print(\"B\")\n",
    "elif marks >= 60:\n",
    "    print(\"C\")\n",
    "elif marks >= 40:\n",
    "    print(\"D\")\n",
    "else:\n",
    "    print(\"Fail\")\n"
   ]
  },
  {
   "cell_type": "code",
   "execution_count": 51,
   "id": "7050b944-e35f-429c-9955-f056cb8c0080",
   "metadata": {},
   "outputs": [
    {
     "name": "stdout",
     "output_type": "stream",
     "text": [
      "hello\n"
     ]
    }
   ],
   "source": [
    "if True:\n",
    "    print('hello')\n",
    "else:\n",
    "    print(\"bye\")"
   ]
  },
  {
   "cell_type": "code",
   "execution_count": 52,
   "id": "61a1a204-9367-4920-ae29-a44a569facba",
   "metadata": {},
   "outputs": [
    {
     "name": "stdout",
     "output_type": "stream",
     "text": [
      "bye\n"
     ]
    }
   ],
   "source": [
    "if False:\n",
    "    print('hello')\n",
    "else:\n",
    "    print(\"bye\")"
   ]
  },
  {
   "cell_type": "code",
   "execution_count": 53,
   "id": "e24fa5c8-b299-4e6d-acf0-981f99cc2c44",
   "metadata": {},
   "outputs": [
    {
     "name": "stdout",
     "output_type": "stream",
     "text": [
      "hello\n"
     ]
    }
   ],
   "source": [
    "if True:\n",
    "    print('hello')\n",
    "elif False:\n",
    "    print('hi')\n",
    "else:\n",
    "    print(\"bye\")"
   ]
  },
  {
   "cell_type": "code",
   "execution_count": 54,
   "id": "a5e6850a-e613-4801-984a-80552634b092",
   "metadata": {},
   "outputs": [],
   "source": [
    "#2,3,5"
   ]
  },
  {
   "cell_type": "code",
   "execution_count": 55,
   "id": "324da219-3dec-444a-b959-b1ed9fe016cc",
   "metadata": {},
   "outputs": [],
   "source": [
    "# positive or negative"
   ]
  },
  {
   "cell_type": "code",
   "execution_count": 56,
   "id": "fd8aa41b-a81a-46dc-be45-c9fda22d39a0",
   "metadata": {},
   "outputs": [
    {
     "name": "stdout",
     "output_type": "stream",
     "text": [
      "positive\n"
     ]
    }
   ],
   "source": [
    "n =5 \n",
    "\n",
    "if n > 0 :\n",
    "    print(\"positive\")\n",
    "elif n < 0:\n",
    "    print(\"negative\")\n",
    "else:\n",
    "    print(\"zero\")"
   ]
  },
  {
   "cell_type": "code",
   "execution_count": 57,
   "id": "50fe04c9-1d3a-4e8c-8be7-ce2486f03660",
   "metadata": {},
   "outputs": [
    {
     "name": "stdout",
     "output_type": "stream",
     "text": [
      "hello\n",
      "hi\n"
     ]
    }
   ],
   "source": [
    "n = 10\n",
    "m = 15\n",
    "\n",
    "if m > n :\n",
    "    print (\"hello\")\n",
    "    print(\"hi\")"
   ]
  },
  {
   "cell_type": "code",
   "execution_count": 58,
   "id": "3ce6668c-ef81-482f-85e3-daa0f629b521",
   "metadata": {},
   "outputs": [
    {
     "ename": "SyntaxError",
     "evalue": "invalid syntax (1533079000.py, line 7)",
     "output_type": "error",
     "traceback": [
      "\u001b[1;36m  Cell \u001b[1;32mIn[58], line 7\u001b[1;36m\u001b[0m\n\u001b[1;33m    else:\u001b[0m\n\u001b[1;37m    ^\u001b[0m\n\u001b[1;31mSyntaxError\u001b[0m\u001b[1;31m:\u001b[0m invalid syntax\n"
     ]
    }
   ],
   "source": [
    "n = 10\n",
    "m =15\n",
    "\n",
    "if m > n :\n",
    "    print (\"hello\")\n",
    "print(\"hi\")\n",
    "else:\n",
    "    print('bye')\n"
   ]
  },
  {
   "cell_type": "code",
   "execution_count": null,
   "id": "03e16408-d315-4eeb-a7f3-b2e53ec9013d",
   "metadata": {},
   "outputs": [],
   "source": [
    "m = 10\n",
    "n = 20\n",
    "o = 15\n",
    "\n",
    "if o >n:\n",
    "    print(\"hi\")\n",
    "elif o > m:\n",
    "    print(\"hello\")"
   ]
  },
  {
   "cell_type": "code",
   "execution_count": null,
   "id": "91bc36e0-1733-42bf-9421-1194ec216af7",
   "metadata": {},
   "outputs": [],
   "source": [
    "m = 10\n",
    "n = 20\n",
    "o = 30\n",
    "\n",
    "if o > n:\n",
    "    print(\"hi\")\n",
    "if o > m:\n",
    "    print(\"hello\")"
   ]
  },
  {
   "cell_type": "code",
   "execution_count": null,
   "id": "59f71ad7-093a-4172-8f08-f6de2003eb0e",
   "metadata": {},
   "outputs": [],
   "source": [
    "25%5\n"
   ]
  },
  {
   "cell_type": "code",
   "execution_count": null,
   "id": "94f36316-e936-4012-8516-4437c057b936",
   "metadata": {},
   "outputs": [],
   "source": [
    "if 25 % 7 == 0:\n",
    "    print(\"division\")"
   ]
  },
  {
   "cell_type": "code",
   "execution_count": 59,
   "id": "d025960a-9508-4b2f-b7ca-a027d3ed3628",
   "metadata": {},
   "outputs": [
    {
     "name": "stdout",
     "output_type": "stream",
     "text": [
      "even\n"
     ]
    }
   ],
   "source": [
    "if 22 % 2 == 0:\n",
    "    print('even')"
   ]
  },
  {
   "cell_type": "code",
   "execution_count": 60,
   "id": "cbaa4ad3-f237-4239-b2c0-63437ba3b0e7",
   "metadata": {},
   "outputs": [
    {
     "name": "stdout",
     "output_type": "stream",
     "text": [
      "odd\n"
     ]
    }
   ],
   "source": [
    "n = 21\n",
    "if n % 2 == 0:\n",
    "    print('even')\n",
    "else:\n",
    "    print('odd')"
   ]
  },
  {
   "cell_type": "code",
   "execution_count": 64,
   "id": "379dc01a-d3b1-4fcb-97ae-7bf23d5cf4b2",
   "metadata": {},
   "outputs": [
    {
     "name": "stdin",
     "output_type": "stream",
     "text": [
      "enter any number :  78\n"
     ]
    },
    {
     "name": "stdout",
     "output_type": "stream",
     "text": [
      "even\n"
     ]
    }
   ],
   "source": [
    "n = int(input(\"enter any number : \"))\n",
    "if n % 2 == 0:\n",
    "    print('even')\n",
    "else:\n",
    "    print('odd')"
   ]
  },
  {
   "cell_type": "code",
   "execution_count": 65,
   "id": "5469fd23-958f-4005-bad7-4b51602748a1",
   "metadata": {},
   "outputs": [
    {
     "name": "stdout",
     "output_type": "stream",
     "text": [
      "hello\n"
     ]
    }
   ],
   "source": [
    "if 0:\n",
    "    print('hi')\n",
    "if 5:\n",
    "    print('hello')"
   ]
  },
  {
   "cell_type": "markdown",
   "id": "d1441be0-2b9b-4af2-8928-492f06f0159f",
   "metadata": {
    "jp-MarkdownHeadingCollapsed": true
   },
   "source": [
    "# Nested if-else"
   ]
  },
  {
   "cell_type": "code",
   "execution_count": 66,
   "id": "862fb6e0-8660-4563-b205-7c90c2775da0",
   "metadata": {},
   "outputs": [
    {
     "name": "stdout",
     "output_type": "stream",
     "text": [
      "even\n"
     ]
    }
   ],
   "source": [
    "if n % 2:\n",
    "    print(\"odd\")\n",
    "else:\n",
    "    print('even')"
   ]
  },
  {
   "cell_type": "code",
   "execution_count": 67,
   "id": "2fbceb70-dfe6-45a9-aa48-58c1de061fa2",
   "metadata": {},
   "outputs": [],
   "source": [
    "n = 19\n",
    "m = 21\n",
    "o = 22"
   ]
  },
  {
   "cell_type": "code",
   "execution_count": 68,
   "id": "06dd1bc7-7d9d-4c68-9202-37973f8c62d2",
   "metadata": {},
   "outputs": [
    {
     "data": {
      "text/plain": [
       "1"
      ]
     },
     "execution_count": 68,
     "metadata": {},
     "output_type": "execute_result"
    }
   ],
   "source": [
    "n % 3"
   ]
  },
  {
   "cell_type": "code",
   "execution_count": 69,
   "id": "4020208f-a007-4500-9876-27e54d58be24",
   "metadata": {},
   "outputs": [
    {
     "data": {
      "text/plain": [
       "0"
      ]
     },
     "execution_count": 69,
     "metadata": {},
     "output_type": "execute_result"
    }
   ],
   "source": [
    "m % 3"
   ]
  },
  {
   "cell_type": "code",
   "execution_count": 70,
   "id": "a1cb498d-cf06-468a-940b-acc2af397ce4",
   "metadata": {},
   "outputs": [
    {
     "data": {
      "text/plain": [
       "1"
      ]
     },
     "execution_count": 70,
     "metadata": {},
     "output_type": "execute_result"
    }
   ],
   "source": [
    "o % 3"
   ]
  },
  {
   "cell_type": "code",
   "execution_count": 71,
   "id": "6f56420e-3b5d-4fa0-8237-0fb5032b22c6",
   "metadata": {},
   "outputs": [
    {
     "name": "stdout",
     "output_type": "stream",
     "text": [
      "divisibl by 2\n"
     ]
    }
   ],
   "source": [
    "n = 20\n",
    "\n",
    "if n % 2 ==0:\n",
    "    print('divisibl by 2')\n",
    "else:\n",
    "    print('not divisible by 2')"
   ]
  },
  {
   "cell_type": "code",
   "execution_count": 72,
   "id": "70c9cb6e-a279-4c0d-b8b3-7fa389a9661b",
   "metadata": {},
   "outputs": [
    {
     "name": "stdout",
     "output_type": "stream",
     "text": [
      "not divisible by 2\n"
     ]
    }
   ],
   "source": [
    "n = 23\n",
    "\n",
    "if n % 2 ==0:\n",
    "    print('divisibl by 2')\n",
    "else:\n",
    "    print('not divisible by 2')"
   ]
  },
  {
   "cell_type": "code",
   "execution_count": 73,
   "id": "2019784c-f904-48d9-8242-19f2e52d8fa9",
   "metadata": {},
   "outputs": [
    {
     "name": "stdout",
     "output_type": "stream",
     "text": [
      "divisibl by 3\n"
     ]
    }
   ],
   "source": [
    "n = 27\n",
    "\n",
    "if n % 3 ==0:\n",
    "    print('divisibl by 3')\n",
    "else:\n",
    "    print('not divisible by 3')"
   ]
  },
  {
   "cell_type": "code",
   "execution_count": 74,
   "id": "e78669ec-9b55-42be-b30e-0df4ef93f344",
   "metadata": {},
   "outputs": [
    {
     "name": "stdout",
     "output_type": "stream",
     "text": [
      "not divisible by 2 and 3\n"
     ]
    }
   ],
   "source": [
    "n = 31\n",
    "\n",
    "if n % 2 ==0:\n",
    "    # divisible by 2\n",
    "    if n % 3 == 0:\n",
    "        # divisible by 3\n",
    "        print('divisible by 2 and 3')\n",
    "    else:\n",
    "        print('divisible by 2 not 3')\n",
    "        \n",
    "elif n % 3 == 0:\n",
    "    print('divisible by 3 not 2')\n",
    "else:\n",
    "    print('not divisible by 2 and 3')"
   ]
  },
  {
   "cell_type": "code",
   "execution_count": 75,
   "id": "d0a4ca3e-9fac-4971-95aa-0d0eb91b19f7",
   "metadata": {},
   "outputs": [],
   "source": [
    "age = 60"
   ]
  },
  {
   "cell_type": "code",
   "execution_count": 76,
   "id": "3cb9b4b0-36d4-46b8-a83c-1906f9934f50",
   "metadata": {},
   "outputs": [],
   "source": [
    "city = \"chd\""
   ]
  },
  {
   "cell_type": "code",
   "execution_count": 77,
   "id": "af7f77e3-ddb7-4c02-9a21-b7dd60e807cc",
   "metadata": {},
   "outputs": [
    {
     "name": "stdout",
     "output_type": "stream",
     "text": [
      "welcome to city of retirement\n"
     ]
    }
   ],
   "source": [
    "if city == \"delhi\":\n",
    "    if age < 30:\n",
    "        print('welcome to delhi young man')\n",
    "    else:\n",
    "        print('welcome to delhi')\n",
    "    \n",
    "elif city == 'chd':\n",
    "    if  age > 50:\n",
    "        print(\"welcome to city of retirement\")\n",
    "    else:\n",
    "      print(\" welcome to chd\")\n",
    "else:\n",
    "    print('khan gum gae')"
   ]
  },
  {
   "cell_type": "code",
   "execution_count": 78,
   "id": "900906b8-9fae-4aca-b77a-c30c8278363a",
   "metadata": {},
   "outputs": [],
   "source": [
    "n = 77"
   ]
  },
  {
   "cell_type": "code",
   "execution_count": 79,
   "id": "de972f6d-36b5-4cc3-bb14-622596fc41e2",
   "metadata": {},
   "outputs": [
    {
     "name": "stdout",
     "output_type": "stream",
     "text": [
      "divisible by !2, !3, !5\n"
     ]
    }
   ],
   "source": [
    "if n % 2 == 0:\n",
    "    if n % 3 == 0:\n",
    "        if n % 5  == 0:\n",
    "            print('divisible by 2 , 3, 5')\n",
    "        else:\n",
    "            print('divisible by 2, 3, !5')\n",
    "    elif n % 5 == 0:\n",
    "        print('divisible by 2, 5, !3')\n",
    "    else:\n",
    "        print('divisible by 2 , !3, !5')\n",
    "\n",
    "elif n % 3 == 0:\n",
    "    if n % 5 == 0:\n",
    "        print('divisible by 3 , 5')\n",
    "    else:\n",
    "        print('divisible by 3 , !5 , !2')\n",
    "\n",
    "elif n % 5 == 0:\n",
    "    print('divisible by 5')\n",
    "    \n",
    "else:\n",
    "    print('divisible by !2, !3, !5')"
   ]
  },
  {
   "cell_type": "markdown",
   "id": "5fbb01dc-fcc4-4b68-a2ba-055ba61ba821",
   "metadata": {},
   "source": [
    "## HACKER RANK QUESTION SOLVED \n"
   ]
  },
  {
   "cell_type": "code",
   "execution_count": 80,
   "id": "f59dfeb7-b190-451e-ad2e-abe868871a34",
   "metadata": {},
   "outputs": [],
   "source": [
    "n = 2"
   ]
  },
  {
   "cell_type": "code",
   "execution_count": 81,
   "id": "389d4393-ae7a-4881-bb2f-f87b7d7f7e85",
   "metadata": {},
   "outputs": [],
   "source": [
    "n = 3"
   ]
  },
  {
   "cell_type": "code",
   "execution_count": 82,
   "id": "dbca6396-4a80-4c15-983f-789d03e8b7f0",
   "metadata": {},
   "outputs": [],
   "source": [
    "n = 5"
   ]
  },
  {
   "cell_type": "code",
   "execution_count": 83,
   "id": "ba5ee254-1ae0-45ed-b5f1-bbf9e4ee723d",
   "metadata": {},
   "outputs": [],
   "source": [
    "n = 17"
   ]
  },
  {
   "cell_type": "code",
   "execution_count": 84,
   "id": "a3cd411e-96c5-4c6f-917c-860900f82284",
   "metadata": {},
   "outputs": [],
   "source": [
    "n = 24"
   ]
  },
  {
   "cell_type": "code",
   "execution_count": 85,
   "id": "de835bb0-4c6b-46f2-abfe-9783dabd0e95",
   "metadata": {},
   "outputs": [
    {
     "name": "stdout",
     "output_type": "stream",
     "text": [
      "Not Weird\n"
     ]
    }
   ],
   "source": [
    "if n % 2 != 0: \n",
    "    print('Weird')\n",
    "elif n % 2 == 0 and 2 <= n <= 5:\n",
    "    print(\"Not Weird\")\n",
    "elif n % 2 == 0 and 6 <= n <= 20:\n",
    "    print(\"Weird\")\n",
    "elif n % 2 == 0 and n > 20:\n",
    "    print(\"Not Weird\")"
   ]
  },
  {
   "cell_type": "markdown",
   "id": "1688b809-ac4a-4766-825e-154e1c484dc4",
   "metadata": {},
   "source": [
    "# Logical operations"
   ]
  },
  {
   "cell_type": "markdown",
   "id": "11e59053-2e7d-4de5-8c9f-24ab3ea6eef3",
   "metadata": {
    "jp-MarkdownHeadingCollapsed": true
   },
   "source": [
    "## NOT"
   ]
  },
  {
   "cell_type": "code",
   "execution_count": 89,
   "id": "42d9a501-3552-4dca-ad73-e082f8c982ee",
   "metadata": {},
   "outputs": [],
   "source": [
    "## NOT is used to reverse the value"
   ]
  },
  {
   "cell_type": "code",
   "execution_count": 90,
   "id": "1b3eacf7-09ef-4d5c-8ff1-ba489c35051b",
   "metadata": {},
   "outputs": [
    {
     "data": {
      "text/plain": [
       "False"
      ]
     },
     "execution_count": 90,
     "metadata": {},
     "output_type": "execute_result"
    }
   ],
   "source": [
    "not True"
   ]
  },
  {
   "cell_type": "code",
   "execution_count": 91,
   "id": "78b36a7f-9463-43db-b02f-f95357ef0fea",
   "metadata": {},
   "outputs": [
    {
     "data": {
      "text/plain": [
       "True"
      ]
     },
     "execution_count": 91,
     "metadata": {},
     "output_type": "execute_result"
    }
   ],
   "source": [
    "not False"
   ]
  },
  {
   "cell_type": "code",
   "execution_count": 92,
   "id": "01e04849-f5f8-4621-b8b8-9a69ecb6509c",
   "metadata": {},
   "outputs": [],
   "source": [
    "if not True:\n",
    "    print('hello')"
   ]
  },
  {
   "cell_type": "code",
   "execution_count": 93,
   "id": "4a1db5e5-1e67-4a6a-9f33-7709a16f7a6f",
   "metadata": {},
   "outputs": [
    {
     "name": "stdout",
     "output_type": "stream",
     "text": [
      "hi\n"
     ]
    }
   ],
   "source": [
    "if not False:\n",
    "    print('hi')"
   ]
  },
  {
   "cell_type": "code",
   "execution_count": 94,
   "id": "38730998-fc39-45d3-8813-21af372cf267",
   "metadata": {},
   "outputs": [
    {
     "name": "stdout",
     "output_type": "stream",
     "text": [
      "hi pawan\n"
     ]
    }
   ],
   "source": [
    "name = \"pawan\"\n",
    "\n",
    "if name:\n",
    "    print('hi', name)"
   ]
  },
  {
   "cell_type": "code",
   "execution_count": 97,
   "id": "7dc45af8-28d1-475d-bcc3-4b234dcb7227",
   "metadata": {},
   "outputs": [
    {
     "data": {
      "text/plain": [
       "False"
      ]
     },
     "execution_count": 97,
     "metadata": {},
     "output_type": "execute_result"
    }
   ],
   "source": [
    "name  = \"\"\n",
    "bool(name)"
   ]
  },
  {
   "cell_type": "code",
   "execution_count": 103,
   "id": "e67d92e1-aa83-4eaa-aa4b-b379fb3c0c67",
   "metadata": {},
   "outputs": [
    {
     "data": {
      "text/plain": [
       "True"
      ]
     },
     "execution_count": 103,
     "metadata": {},
     "output_type": "execute_result"
    }
   ],
   "source": [
    "name  = \"pawan\"\n",
    "bool(name)"
   ]
  },
  {
   "cell_type": "code",
   "execution_count": 1,
   "id": "d2a4e0c0-a395-4ca9-959a-f75bb22646e5",
   "metadata": {},
   "outputs": [],
   "source": [
    "first = True"
   ]
  },
  {
   "cell_type": "code",
   "execution_count": 4,
   "id": "0df3036b-3a18-49ee-b00c-ed87782fa385",
   "metadata": {},
   "outputs": [
    {
     "name": "stdout",
     "output_type": "stream",
     "text": [
      "Hi pawanpreet\n"
     ]
    }
   ],
   "source": [
    "if first:\n",
    "    print(\"Hi user nice to  meet  you\")\n",
    "    user =input('enter your name')\n",
    "    first = False\n",
    "else:\n",
    "    print(f'Hi {user}')"
   ]
  },
  {
   "cell_type": "code",
   "execution_count": 10,
   "id": "6f039052-18b8-45d3-ba72-55f85fa04bd2",
   "metadata": {},
   "outputs": [],
   "source": [
    "count = 8"
   ]
  },
  {
   "cell_type": "code",
   "execution_count": 11,
   "id": "183b0e93-2105-47d5-ae43-18914d62719e",
   "metadata": {},
   "outputs": [
    {
     "name": "stdout",
     "output_type": "stream",
     "text": [
      "you are out of game\n"
     ]
    }
   ],
   "source": [
    "if count:\n",
    "    print('you are out of game')"
   ]
  },
  {
   "cell_type": "code",
   "execution_count": 12,
   "id": "08f1d249-6db5-48d2-92fd-49e7bd2f669a",
   "metadata": {},
   "outputs": [
    {
     "name": "stdout",
     "output_type": "stream",
     "text": [
      "you are out of game\n"
     ]
    }
   ],
   "source": [
    "count2 = 0\n",
    "if not count2:\n",
    "    print('you are out of game')"
   ]
  },
  {
   "cell_type": "code",
   "execution_count": 15,
   "id": "710e668a-13fc-4e94-8846-2c6b1f177989",
   "metadata": {},
   "outputs": [],
   "source": [
    "count3 = 8\n",
    "if not count:\n",
    "    print('you are out of game') # this will not give anything because of false condtion"
   ]
  },
  {
   "cell_type": "markdown",
   "id": "f76ed6f3-fcc3-4dbb-9a61-21aa481f55cc",
   "metadata": {
    "jp-MarkdownHeadingCollapsed": true
   },
   "source": [
    "## AND"
   ]
  },
  {
   "cell_type": "code",
   "execution_count": 20,
   "id": "03b82c52-15ca-4b97-a5a4-ec73076862bc",
   "metadata": {},
   "outputs": [],
   "source": [
    "attendence = 80"
   ]
  },
  {
   "cell_type": "code",
   "execution_count": 23,
   "id": "40eaff40-8724-418f-9863-01864083f8a9",
   "metadata": {},
   "outputs": [],
   "source": [
    "marks = 50"
   ]
  },
  {
   "cell_type": "code",
   "execution_count": 24,
   "id": "def834f2-5faa-49e4-8dcb-14bb7f51ab93",
   "metadata": {},
   "outputs": [
    {
     "name": "stdout",
     "output_type": "stream",
     "text": [
      "pass\n"
     ]
    }
   ],
   "source": [
    "if attendence > 75:\n",
    "    print('pass')"
   ]
  },
  {
   "cell_type": "code",
   "execution_count": 25,
   "id": "c01e94dd-c404-4c00-8be9-19f60a250059",
   "metadata": {},
   "outputs": [
    {
     "name": "stdout",
     "output_type": "stream",
     "text": [
      "pass\n"
     ]
    }
   ],
   "source": [
    "if marks > 35:\n",
    "    print('pass')"
   ]
  },
  {
   "cell_type": "code",
   "execution_count": 28,
   "id": "d330ba5d-5f49-46e3-bf35-0706bba9820b",
   "metadata": {},
   "outputs": [
    {
     "name": "stdout",
     "output_type": "stream",
     "text": [
      "pass\n"
     ]
    }
   ],
   "source": [
    "if (attendence > 75) and (marks > 35):\n",
    "    print('pass')\n",
    "else:\n",
    "    print('fail')"
   ]
  },
  {
   "cell_type": "code",
   "execution_count": 31,
   "id": "660f2799-a5fa-4f12-95b6-688fd0f6bd4c",
   "metadata": {},
   "outputs": [],
   "source": [
    "# ticket = True\n",
    "ticket = False\n",
    "age = 20"
   ]
  },
  {
   "cell_type": "code",
   "execution_count": 34,
   "id": "63d4e6be-849e-42de-b03b-69fc56ed21c1",
   "metadata": {},
   "outputs": [
    {
     "name": "stdout",
     "output_type": "stream",
     "text": [
      "welcome\n"
     ]
    }
   ],
   "source": [
    "if age >= 18 and not ticket:\n",
    "    print('welcome')\n",
    "else:\n",
    "    print('bye')"
   ]
  },
  {
   "cell_type": "markdown",
   "id": "23562d0b-9f20-4372-9f50-7bcf79cba6fb",
   "metadata": {
    "jp-MarkdownHeadingCollapsed": true
   },
   "source": [
    "## OR"
   ]
  },
  {
   "cell_type": "code",
   "execution_count": 35,
   "id": "83ac420d-aa20-42fe-9f08-c2c0b51c99c5",
   "metadata": {},
   "outputs": [
    {
     "data": {
      "text/plain": [
       "True"
      ]
     },
     "execution_count": 35,
     "metadata": {},
     "output_type": "execute_result"
    }
   ],
   "source": [
    "True and True"
   ]
  },
  {
   "cell_type": "code",
   "execution_count": 36,
   "id": "21615118-0375-4941-8822-65ac5f6eff69",
   "metadata": {},
   "outputs": [
    {
     "data": {
      "text/plain": [
       "False"
      ]
     },
     "execution_count": 36,
     "metadata": {},
     "output_type": "execute_result"
    }
   ],
   "source": [
    "False and False"
   ]
  },
  {
   "cell_type": "code",
   "execution_count": 37,
   "id": "1b37d1a0-b53b-4bae-9906-6f250d5b0867",
   "metadata": {},
   "outputs": [
    {
     "data": {
      "text/plain": [
       "False"
      ]
     },
     "execution_count": 37,
     "metadata": {},
     "output_type": "execute_result"
    }
   ],
   "source": [
    "False and True"
   ]
  },
  {
   "cell_type": "code",
   "execution_count": 38,
   "id": "5030098c-77cd-4321-a87c-962b2d9081dd",
   "metadata": {},
   "outputs": [
    {
     "data": {
      "text/plain": [
       "True"
      ]
     },
     "execution_count": 38,
     "metadata": {},
     "output_type": "execute_result"
    }
   ],
   "source": [
    "True or True"
   ]
  },
  {
   "cell_type": "code",
   "execution_count": 39,
   "id": "34eff5ec-c3ab-4dbc-8e75-c700d19279f2",
   "metadata": {
    "scrolled": true
   },
   "outputs": [
    {
     "data": {
      "text/plain": [
       "False"
      ]
     },
     "execution_count": 39,
     "metadata": {},
     "output_type": "execute_result"
    }
   ],
   "source": [
    "False or False"
   ]
  },
  {
   "cell_type": "code",
   "execution_count": 40,
   "id": "5d12c7be-481a-4b7f-92b0-e90d6ce29de3",
   "metadata": {},
   "outputs": [
    {
     "data": {
      "text/plain": [
       "True"
      ]
     },
     "execution_count": 40,
     "metadata": {},
     "output_type": "execute_result"
    }
   ],
   "source": [
    "False or True"
   ]
  },
  {
   "cell_type": "code",
   "execution_count": 42,
   "id": "1dd022ec-db77-4b08-a97a-deb8049a1232",
   "metadata": {},
   "outputs": [],
   "source": [
    "marks = 20"
   ]
  },
  {
   "cell_type": "code",
   "execution_count": 43,
   "id": "5f4c61c4-b26f-43ac-875a-e7a6a4627aa8",
   "metadata": {},
   "outputs": [],
   "source": [
    "donation = 5000"
   ]
  },
  {
   "cell_type": "code",
   "execution_count": 44,
   "id": "886b316e-0056-48e0-852c-ce20735ecfbd",
   "metadata": {},
   "outputs": [
    {
     "name": "stdout",
     "output_type": "stream",
     "text": [
      "bahr me jao\n"
     ]
    }
   ],
   "source": [
    "if marks > 80 or donation > 80000:\n",
    "    print('welcome to the school')\n",
    "else:\n",
    "    print(\"bahr me jao\")"
   ]
  },
  {
   "cell_type": "code",
   "execution_count": 56,
   "id": "807f2d62-47fc-4492-bf96-1540867752b1",
   "metadata": {},
   "outputs": [],
   "source": [
    "email = False\n",
    "number = True"
   ]
  },
  {
   "cell_type": "code",
   "execution_count": 59,
   "id": "eeaaf302-53b2-44e7-aba8-fe679c9797bd",
   "metadata": {},
   "outputs": [],
   "source": [
    "password = True"
   ]
  },
  {
   "cell_type": "code",
   "execution_count": 60,
   "id": "d3b322a7-b293-420a-9e75-e5aa4509b2e7",
   "metadata": {},
   "outputs": [
    {
     "name": "stdin",
     "output_type": "stream",
     "text": [
      "enter your name ishita\n"
     ]
    },
    {
     "name": "stdout",
     "output_type": "stream",
     "text": [
      "welocome ishita\n"
     ]
    }
   ],
   "source": [
    "if (email or number) and password:\n",
    "    user=input('enter your name')\n",
    "    print(f'welocome {user}')\n",
    "else:\n",
    "    print('login krke ao')"
   ]
  },
  {
   "cell_type": "code",
   "execution_count": 66,
   "id": "59a72b31-74f4-4157-b0b4-925bc0dd0a4a",
   "metadata": {},
   "outputs": [],
   "source": [
    "hindi= 50\n",
    "eng=50\n",
    "math=50\n",
    "sci=50"
   ]
  },
  {
   "cell_type": "code",
   "execution_count": 67,
   "id": "322a794c-2aa2-4a28-9723-a49ce70b8c07",
   "metadata": {},
   "outputs": [],
   "source": [
    "avg = (hindi + eng + math + sci) // 4"
   ]
  },
  {
   "cell_type": "code",
   "execution_count": 69,
   "id": "0e2b4737-adac-4609-b802-8dfa64320284",
   "metadata": {},
   "outputs": [
    {
     "name": "stdout",
     "output_type": "stream",
     "text": [
      "pass\n"
     ]
    }
   ],
   "source": [
    "if (hindi > 35) and (eng > 35) and (sci > 35):\n",
    "    print('pass')\n",
    "\n",
    "else:\n",
    "    print('fail')"
   ]
  },
  {
   "cell_type": "code",
   "execution_count": 71,
   "id": "10f6716b-1353-491d-8f51-961e91fbd173",
   "metadata": {},
   "outputs": [
    {
     "data": {
      "text/plain": [
       "50"
      ]
     },
     "execution_count": 71,
     "metadata": {},
     "output_type": "execute_result"
    }
   ],
   "source": [
    "avg"
   ]
  },
  {
   "cell_type": "code",
   "execution_count": 72,
   "id": "2d51e879-1179-422a-9653-9f23a072361f",
   "metadata": {},
   "outputs": [],
   "source": [
    "username = \"komal\"\n",
    "password = 12345"
   ]
  },
  {
   "cell_type": "code",
   "execution_count": 73,
   "id": "b5b5b6b8-1019-43fc-aaf0-444dd8b544e1",
   "metadata": {},
   "outputs": [
    {
     "name": "stdout",
     "output_type": "stream",
     "text": [
      "login\n"
     ]
    }
   ],
   "source": [
    "if username and password:\n",
    "    if not username == 'komal' or not password == 12345:\n",
    "        print('incorrect input')\n",
    "    else:\n",
    "        print('login')\n",
    "else:\n",
    "    print('incomplete input')"
   ]
  },
  {
   "cell_type": "markdown",
   "id": "ed00102d-aead-4495-a9f9-a057d6aa29ec",
   "metadata": {},
   "source": [
    "## IN"
   ]
  },
  {
   "cell_type": "code",
   "execution_count": 106,
   "id": "fc22ae5e-de29-4249-8060-808813e228d3",
   "metadata": {},
   "outputs": [
    {
     "data": {
      "text/plain": [
       "True"
      ]
     },
     "execution_count": 106,
     "metadata": {},
     "output_type": "execute_result"
    }
   ],
   "source": [
    "\"p\" in \"pawan\""
   ]
  },
  {
   "cell_type": "code",
   "execution_count": 107,
   "id": "711390f8-486e-4c09-946b-b4ffc600da55",
   "metadata": {},
   "outputs": [
    {
     "data": {
      "text/plain": [
       "False"
      ]
     },
     "execution_count": 107,
     "metadata": {},
     "output_type": "execute_result"
    }
   ],
   "source": [
    "\"p \" in \"pawan\""
   ]
  },
  {
   "cell_type": "code",
   "execution_count": 1,
   "id": "177df556-53a0-4bc7-a09f-982008907a86",
   "metadata": {},
   "outputs": [
    {
     "data": {
      "text/plain": [
       "False"
      ]
     },
     "execution_count": 1,
     "metadata": {},
     "output_type": "execute_result"
    }
   ],
   "source": [
    "\"P\" in \"raman\""
   ]
  },
  {
   "cell_type": "code",
   "execution_count": null,
   "id": "118b7b31-9b7c-4973-8d6b-a397213ade30",
   "metadata": {},
   "outputs": [],
   "source": []
  }
 ],
 "metadata": {
  "kernelspec": {
   "display_name": "Python [conda env:base] *",
   "language": "python",
   "name": "conda-base-py"
  },
  "language_info": {
   "codemirror_mode": {
    "name": "ipython",
    "version": 3
   },
   "file_extension": ".py",
   "mimetype": "text/x-python",
   "name": "python",
   "nbconvert_exporter": "python",
   "pygments_lexer": "ipython3",
   "version": "3.13.5"
  }
 },
 "nbformat": 4,
 "nbformat_minor": 5
}
