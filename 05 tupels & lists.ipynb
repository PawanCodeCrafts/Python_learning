{
 "cells": [
  {
   "cell_type": "markdown",
   "id": "4c779946-e039-4ac5-89f4-c35f2ff75241",
   "metadata": {},
   "source": [
    "# TUPLES --- symbol ()"
   ]
  },
  {
   "cell_type": "code",
   "execution_count": 5,
   "id": "8b91c933-b978-44a9-b21b-6c132cec183b",
   "metadata": {},
   "outputs": [],
   "source": [
    "dogs =('tom', 'sheru','doggy')"
   ]
  },
  {
   "cell_type": "code",
   "execution_count": 6,
   "id": "f5d17399-71d5-409a-87fa-980ef41157c7",
   "metadata": {},
   "outputs": [
    {
     "data": {
      "text/plain": [
       "('tom', 'sheru', 'doggy')"
      ]
     },
     "execution_count": 6,
     "metadata": {},
     "output_type": "execute_result"
    }
   ],
   "source": [
    "dogs"
   ]
  },
  {
   "cell_type": "code",
   "execution_count": 7,
   "id": "daf9e7e6-7068-459e-a21a-007f37cbc7ed",
   "metadata": {},
   "outputs": [
    {
     "data": {
      "text/plain": [
       "(2, 8, 3)"
      ]
     },
     "execution_count": 7,
     "metadata": {},
     "output_type": "execute_result"
    }
   ],
   "source": [
    "2,8,3"
   ]
  },
  {
   "cell_type": "code",
   "execution_count": 8,
   "id": "1c40d88a-58ac-4a89-bc63-a2090db98de3",
   "metadata": {},
   "outputs": [
    {
     "data": {
      "text/plain": [
       "('tom', 'sheru', 'doggy', 8, 9)"
      ]
     },
     "execution_count": 8,
     "metadata": {},
     "output_type": "execute_result"
    }
   ],
   "source": [
    "('tom', 'sheru','doggy', 8, 9)"
   ]
  },
  {
   "cell_type": "code",
   "execution_count": 9,
   "id": "d5c5fae5-1db8-4dcf-bbea-c9c1ca301692",
   "metadata": {},
   "outputs": [],
   "source": [
    "# Tuple unpacking\n",
    "a, b = 5, 8"
   ]
  },
  {
   "cell_type": "code",
   "execution_count": 10,
   "id": "daefc9ee-57f1-4d6d-907c-b28540dd35c5",
   "metadata": {},
   "outputs": [],
   "source": [
    "a, b, c = 5, 8, 6"
   ]
  },
  {
   "cell_type": "code",
   "execution_count": 11,
   "id": "7463eefa-3abd-4a10-9411-bb4c6baf5062",
   "metadata": {},
   "outputs": [
    {
     "data": {
      "text/plain": [
       "5"
      ]
     },
     "execution_count": 11,
     "metadata": {},
     "output_type": "execute_result"
    }
   ],
   "source": [
    "a\n"
   ]
  },
  {
   "cell_type": "code",
   "execution_count": 12,
   "id": "8e2d7b82-a92a-4733-a844-e16729672522",
   "metadata": {},
   "outputs": [
    {
     "data": {
      "text/plain": [
       "8"
      ]
     },
     "execution_count": 12,
     "metadata": {},
     "output_type": "execute_result"
    }
   ],
   "source": [
    "b"
   ]
  },
  {
   "cell_type": "code",
   "execution_count": 13,
   "id": "9390d565-2123-4725-806c-9a31718ea4c9",
   "metadata": {},
   "outputs": [
    {
     "data": {
      "text/plain": [
       "6"
      ]
     },
     "execution_count": 13,
     "metadata": {},
     "output_type": "execute_result"
    }
   ],
   "source": [
    "c"
   ]
  },
  {
   "cell_type": "code",
   "execution_count": 14,
   "id": "655e69c3-7f91-4328-a56b-b3a52d86fef3",
   "metadata": {
    "scrolled": true
   },
   "outputs": [
    {
     "data": {
      "text/plain": [
       "(10, 12)"
      ]
     },
     "execution_count": 14,
     "metadata": {},
     "output_type": "execute_result"
    }
   ],
   "source": [
    "# use tuples to swap value\n",
    "a=10\n",
    "b =12\n",
    "a,b\n"
   ]
  },
  {
   "cell_type": "code",
   "execution_count": 15,
   "id": "973f2f4c-8107-4a24-9d40-33edb21ea2c7",
   "metadata": {},
   "outputs": [],
   "source": [
    "a, b = b, a"
   ]
  },
  {
   "cell_type": "code",
   "execution_count": 16,
   "id": "85e882d5-6adc-4094-801c-5f4f5820cab9",
   "metadata": {
    "scrolled": true
   },
   "outputs": [
    {
     "data": {
      "text/plain": [
       "(12, 10)"
      ]
     },
     "execution_count": 16,
     "metadata": {},
     "output_type": "execute_result"
    }
   ],
   "source": [
    "a , b"
   ]
  },
  {
   "cell_type": "markdown",
   "id": "d6ecf99d-745f-4583-9ca5-6479560ea52f",
   "metadata": {},
   "source": [
    "## Tuple understanding\n",
    "\n",
    "### tuples are ordered sequence (we can do indexing and slicing on tuples)\n",
    "### items change nahi  hote tuples mein\n",
    "###  new items add or remove bhi nhi kr sakte hain\n",
    "#### ham tuples mein add or remove nhi kr sakte but tuple reassign kr sakte hai(pura tuple change krna)\n",
    "\n"
   ]
  },
  {
   "cell_type": "code",
   "execution_count": 17,
   "id": "e1b0fcc6-2d8f-47cb-b114-daf65608e8db",
   "metadata": {},
   "outputs": [
    {
     "data": {
      "text/plain": [
       "('tom', 'sheru', 'doggy')"
      ]
     },
     "execution_count": 17,
     "metadata": {},
     "output_type": "execute_result"
    }
   ],
   "source": [
    "dogs"
   ]
  },
  {
   "cell_type": "code",
   "execution_count": 18,
   "id": "8bd6488f-72f5-424b-aa17-019ddc58dc1b",
   "metadata": {},
   "outputs": [
    {
     "data": {
      "text/plain": [
       "('tom', 'sheru', 'doggy')"
      ]
     },
     "execution_count": 18,
     "metadata": {},
     "output_type": "execute_result"
    }
   ],
   "source": [
    "dogs[0] , dogs[1] , dogs[2]"
   ]
  },
  {
   "cell_type": "code",
   "execution_count": 19,
   "id": "dbfd0d4c-94ab-4cad-b884-7e4f391d335c",
   "metadata": {},
   "outputs": [
    {
     "data": {
      "text/plain": [
       "'sheru'"
      ]
     },
     "execution_count": 19,
     "metadata": {},
     "output_type": "execute_result"
    }
   ],
   "source": [
    "dogs[1]"
   ]
  },
  {
   "cell_type": "code",
   "execution_count": 20,
   "id": "925852ab-acc4-4c18-8351-c4f63c5f893a",
   "metadata": {},
   "outputs": [
    {
     "data": {
      "text/plain": [
       "'e'"
      ]
     },
     "execution_count": 20,
     "metadata": {},
     "output_type": "execute_result"
    }
   ],
   "source": [
    "dogs[1][2]"
   ]
  },
  {
   "cell_type": "code",
   "execution_count": 21,
   "id": "4eb910a6-c34f-43ed-9739-f63b9dd5c525",
   "metadata": {},
   "outputs": [
    {
     "data": {
      "text/plain": [
       "'eru'"
      ]
     },
     "execution_count": 21,
     "metadata": {},
     "output_type": "execute_result"
    }
   ],
   "source": [
    "dogs[1][2:5]"
   ]
  },
  {
   "cell_type": "code",
   "execution_count": 22,
   "id": "a985cafd-654c-408d-af81-90308c2d23f8",
   "metadata": {},
   "outputs": [
    {
     "ename": "TypeError",
     "evalue": "'tuple' object does not support item assignment",
     "output_type": "error",
     "traceback": [
      "\u001b[1;31m---------------------------------------------------------------------------\u001b[0m",
      "\u001b[1;31mTypeError\u001b[0m                                 Traceback (most recent call last)",
      "Cell \u001b[1;32mIn[22], line 2\u001b[0m\n\u001b[0;32m      1\u001b[0m \u001b[38;5;66;03m# we cannot change value\u001b[39;00m\n\u001b[1;32m----> 2\u001b[0m dogs[\u001b[38;5;241m0\u001b[39m] \u001b[38;5;241m=\u001b[39m \u001b[38;5;124m\"\u001b[39m\u001b[38;5;124mbilli\u001b[39m\u001b[38;5;124m\"\u001b[39m\n",
      "\u001b[1;31mTypeError\u001b[0m: 'tuple' object does not support item assignment"
     ]
    }
   ],
   "source": [
    "# we cannot change value\n",
    "dogs[0] = \"billi\""
   ]
  },
  {
   "cell_type": "code",
   "execution_count": 23,
   "id": "728bebd6-2236-43be-ad3a-a9b827a4ffed",
   "metadata": {},
   "outputs": [
    {
     "data": {
      "text/plain": [
       "('tom', 'sheru', 'doggy')"
      ]
     },
     "execution_count": 23,
     "metadata": {},
     "output_type": "execute_result"
    }
   ],
   "source": [
    "dogs"
   ]
  },
  {
   "cell_type": "code",
   "execution_count": 24,
   "id": "5f5b2e91-937e-4be1-a231-5a97238340e7",
   "metadata": {},
   "outputs": [
    {
     "data": {
      "text/plain": [
       "1"
      ]
     },
     "execution_count": 24,
     "metadata": {},
     "output_type": "execute_result"
    }
   ],
   "source": [
    "dogs.count('tom')"
   ]
  },
  {
   "cell_type": "markdown",
   "id": "ea4192b4-b065-4de4-ade2-82b3415f4f60",
   "metadata": {},
   "source": [
    "### two methods count and index"
   ]
  },
  {
   "cell_type": "code",
   "execution_count": 25,
   "id": "b55dc9f7-8d74-4763-abc0-ac30164f5e61",
   "metadata": {},
   "outputs": [],
   "source": [
    "tu =(1,1,2,2,2,3,4,5,6,7,6,5,4,3,2,6,7,8,9)"
   ]
  },
  {
   "cell_type": "code",
   "execution_count": 26,
   "id": "65491f63-7217-46bf-b92e-ec0f6695f314",
   "metadata": {},
   "outputs": [
    {
     "data": {
      "text/plain": [
       "4"
      ]
     },
     "execution_count": 26,
     "metadata": {},
     "output_type": "execute_result"
    }
   ],
   "source": [
    "tu.count(2)"
   ]
  },
  {
   "cell_type": "code",
   "execution_count": 27,
   "id": "a811b7c6-f26b-4958-a6aa-37b8a19feee5",
   "metadata": {},
   "outputs": [
    {
     "data": {
      "text/plain": [
       "3"
      ]
     },
     "execution_count": 27,
     "metadata": {},
     "output_type": "execute_result"
    }
   ],
   "source": [
    "tu.count(6)"
   ]
  },
  {
   "cell_type": "code",
   "execution_count": 28,
   "id": "ad94a969-e566-4dba-966f-c398b9de71ac",
   "metadata": {},
   "outputs": [
    {
     "data": {
      "text/plain": [
       "7"
      ]
     },
     "execution_count": 28,
     "metadata": {},
     "output_type": "execute_result"
    }
   ],
   "source": [
    "tu.index(5)"
   ]
  },
  {
   "cell_type": "code",
   "execution_count": 29,
   "id": "1da1b032-6d52-4420-a158-c4d6c6065f0f",
   "metadata": {},
   "outputs": [
    {
     "data": {
      "text/plain": [
       "(2, 3, 4, 5)"
      ]
     },
     "execution_count": 29,
     "metadata": {},
     "output_type": "execute_result"
    }
   ],
   "source": [
    "tu[4:8]"
   ]
  },
  {
   "cell_type": "markdown",
   "id": "70a4742a-3a6c-44d3-a115-f703cfedbec0",
   "metadata": {},
   "source": [
    "### indexing and slicing"
   ]
  },
  {
   "cell_type": "code",
   "execution_count": 30,
   "id": "343825c6-d0bd-4282-81a7-0648f390b2ac",
   "metadata": {},
   "outputs": [],
   "source": [
    "# ham tuples mein add or remove nhi kr sakte but tuple reassign kr sakte hai\n",
    "tu = tu[4:8]"
   ]
  },
  {
   "cell_type": "code",
   "execution_count": 31,
   "id": "6e773637-3368-4360-a034-edebcba550f2",
   "metadata": {
    "scrolled": true
   },
   "outputs": [
    {
     "data": {
      "text/plain": [
       "(2, 3, 4, 5)"
      ]
     },
     "execution_count": 31,
     "metadata": {},
     "output_type": "execute_result"
    }
   ],
   "source": [
    "tu"
   ]
  },
  {
   "cell_type": "code",
   "execution_count": 32,
   "id": "246accef-048d-49fc-8d9b-07b9c5dd5546",
   "metadata": {},
   "outputs": [
    {
     "data": {
      "text/plain": [
       "'sheru'"
      ]
     },
     "execution_count": 32,
     "metadata": {},
     "output_type": "execute_result"
    }
   ],
   "source": [
    "dogs[1]"
   ]
  },
  {
   "cell_type": "code",
   "execution_count": 33,
   "id": "580b725e-9bf7-4d5b-975b-d855bf5d4324",
   "metadata": {},
   "outputs": [
    {
     "data": {
      "text/plain": [
       "'her'"
      ]
     },
     "execution_count": 33,
     "metadata": {},
     "output_type": "execute_result"
    }
   ],
   "source": [
    "dogs[1][1:4]"
   ]
  },
  {
   "cell_type": "code",
   "execution_count": 34,
   "id": "13729a4f-bec5-4c8c-bfad-25317159d93a",
   "metadata": {},
   "outputs": [
    {
     "data": {
      "text/plain": [
       "('sheru',)"
      ]
     },
     "execution_count": 34,
     "metadata": {},
     "output_type": "execute_result"
    }
   ],
   "source": [
    "# slicing se tuples mein se item nikal sakte hain\n",
    "dogs[1:2]"
   ]
  },
  {
   "cell_type": "code",
   "execution_count": 35,
   "id": "99420e61-3e01-4b32-8d69-d149c2e69aa9",
   "metadata": {},
   "outputs": [
    {
     "data": {
      "text/plain": [
       "'sheru'"
      ]
     },
     "execution_count": 35,
     "metadata": {},
     "output_type": "execute_result"
    }
   ],
   "source": [
    "#indexing mein konse index pe kya value hai pta kr sakte hai \n",
    "dogs[1]"
   ]
  },
  {
   "cell_type": "markdown",
   "id": "4c67aaec-28d5-4ed7-ab81-aafacc08448f",
   "metadata": {},
   "source": [
    "# LISTS --- symbol []\n",
    "\n"
   ]
  },
  {
   "cell_type": "markdown",
   "id": "fc790b99-0227-429b-aaad-3e85d91cd13f",
   "metadata": {},
   "source": [
    "### List is also an ordered sequence \n",
    "### we can add or remove new  items in the list\n",
    "### strings and tuples mein item change nhi hote \n",
    "### but in lists we can change items \n",
    "### We can and all types of data in the lists"
   ]
  },
  {
   "cell_type": "code",
   "execution_count": 36,
   "id": "11b2f69e-3e20-4295-a6d7-e1b18cb953fa",
   "metadata": {},
   "outputs": [
    {
     "data": {
      "text/plain": [
       "[8, 4, 5, 6]"
      ]
     },
     "execution_count": 36,
     "metadata": {},
     "output_type": "execute_result"
    }
   ],
   "source": [
    "[8,4,5,6]"
   ]
  },
  {
   "cell_type": "code",
   "execution_count": 37,
   "id": "8dc32bc7-76ac-4e8d-bf62-3ae793c430f3",
   "metadata": {},
   "outputs": [],
   "source": [
    "dogs = ['tom', 'kutta', 'doggy']"
   ]
  },
  {
   "cell_type": "code",
   "execution_count": 38,
   "id": "3b3ea071-011a-4329-b352-d5114487d70c",
   "metadata": {},
   "outputs": [
    {
     "data": {
      "text/plain": [
       "['tom', 'kutta', 'doggy']"
      ]
     },
     "execution_count": 38,
     "metadata": {},
     "output_type": "execute_result"
    }
   ],
   "source": [
    "dogs"
   ]
  },
  {
   "cell_type": "code",
   "execution_count": 39,
   "id": "9f358e14-e6bf-4e2d-b38e-613b16c17551",
   "metadata": {},
   "outputs": [],
   "source": [
    "# we can change items withihn list\n",
    "dogs[1] = 'sheru'"
   ]
  },
  {
   "cell_type": "code",
   "execution_count": 40,
   "id": "f7d92605-a855-4ec1-a235-3cea68f058b1",
   "metadata": {},
   "outputs": [
    {
     "data": {
      "text/plain": [
       "['tom', 'sheru', 'doggy']"
      ]
     },
     "execution_count": 40,
     "metadata": {},
     "output_type": "execute_result"
    }
   ],
   "source": [
    "dogs\n"
   ]
  },
  {
   "cell_type": "code",
   "execution_count": 41,
   "id": "c9f30000-cfdb-4c55-8701-577b909110d4",
   "metadata": {},
   "outputs": [
    {
     "data": {
      "text/plain": [
       "'tom'"
      ]
     },
     "execution_count": 41,
     "metadata": {},
     "output_type": "execute_result"
    }
   ],
   "source": [
    "# indexing\n",
    "dogs[0]"
   ]
  },
  {
   "cell_type": "code",
   "execution_count": 42,
   "id": "f7d4763e-750e-4904-b900-8e923c9688c8",
   "metadata": {},
   "outputs": [
    {
     "data": {
      "text/plain": [
       "['tom', 'sheru']"
      ]
     },
     "execution_count": 42,
     "metadata": {},
     "output_type": "execute_result"
    }
   ],
   "source": [
    "# slicing\n",
    "dogs[0:2]"
   ]
  },
  {
   "cell_type": "code",
   "execution_count": 43,
   "id": "824ef9b7-1cad-4360-8bf5-d3c17e85365c",
   "metadata": {},
   "outputs": [
    {
     "data": {
      "text/plain": [
       "['tom', 'sheru', 'doggy']"
      ]
     },
     "execution_count": 43,
     "metadata": {},
     "output_type": "execute_result"
    }
   ],
   "source": [
    "dogs\n"
   ]
  },
  {
   "cell_type": "code",
   "execution_count": 44,
   "id": "1a7ae368-18f3-4d0d-acec-00dd41ae375a",
   "metadata": {},
   "outputs": [],
   "source": [
    "### We can add every type of data in lists"
   ]
  },
  {
   "cell_type": "code",
   "execution_count": 45,
   "id": "f87a80c0-9996-4e28-8558-c8a1056cd913",
   "metadata": {},
   "outputs": [],
   "source": [
    "li = [5, 5.3, 6+3, 'pawan preet', (8,5,6,7,4), [\"pawan\", 4,6], True, False]"
   ]
  },
  {
   "cell_type": "code",
   "execution_count": 46,
   "id": "d4f3b2e0-5cab-492b-bbbb-78708d14e134",
   "metadata": {},
   "outputs": [
    {
     "data": {
      "text/plain": [
       "[5, 5.3, 9, 'pawan preet', (8, 5, 6, 7, 4), ['pawan', 4, 6], True, False]"
      ]
     },
     "execution_count": 46,
     "metadata": {},
     "output_type": "execute_result"
    }
   ],
   "source": [
    "li"
   ]
  },
  {
   "cell_type": "code",
   "execution_count": 47,
   "id": "2b46dbf0-1546-465d-a3ef-8fba29cde4ce",
   "metadata": {},
   "outputs": [
    {
     "data": {
      "text/plain": [
       "5"
      ]
     },
     "execution_count": 47,
     "metadata": {},
     "output_type": "execute_result"
    }
   ],
   "source": [
    "li[0]"
   ]
  },
  {
   "cell_type": "code",
   "execution_count": 48,
   "id": "5619d145-5f67-4ead-97f3-bc3bcd7976f3",
   "metadata": {},
   "outputs": [
    {
     "data": {
      "text/plain": [
       "(8, 5, 6, 7, 4)"
      ]
     },
     "execution_count": 48,
     "metadata": {},
     "output_type": "execute_result"
    }
   ],
   "source": [
    "li[4]"
   ]
  },
  {
   "cell_type": "code",
   "execution_count": 49,
   "id": "64c9eeb5-3962-4ac5-86c3-1ce6cf29430b",
   "metadata": {},
   "outputs": [
    {
     "data": {
      "text/plain": [
       "7"
      ]
     },
     "execution_count": 49,
     "metadata": {},
     "output_type": "execute_result"
    }
   ],
   "source": [
    "li[4][3]"
   ]
  },
  {
   "cell_type": "code",
   "execution_count": 50,
   "id": "f84b3daa-3b0e-40ad-be9a-0c7ebf510906",
   "metadata": {},
   "outputs": [
    {
     "data": {
      "text/plain": [
       "'pawan preet'"
      ]
     },
     "execution_count": 50,
     "metadata": {},
     "output_type": "execute_result"
    }
   ],
   "source": [
    "li[3]"
   ]
  },
  {
   "cell_type": "code",
   "execution_count": 51,
   "id": "19dc7280-4411-42c9-805f-12d4e27944ca",
   "metadata": {},
   "outputs": [
    {
     "data": {
      "text/plain": [
       "'pape'"
      ]
     },
     "execution_count": 51,
     "metadata": {},
     "output_type": "execute_result"
    }
   ],
   "source": [
    "## jo index 3 ki value ayi hai ham uspar bhi indexing slicing kr sakte hain\n",
    "li[3][0:10:3]"
   ]
  },
  {
   "cell_type": "code",
   "execution_count": 52,
   "id": "6d7f8648-4b27-4af1-98f2-2241a8a6fbf1",
   "metadata": {},
   "outputs": [
    {
     "data": {
      "text/plain": [
       "['pawan', 4, 6]"
      ]
     },
     "execution_count": 52,
     "metadata": {},
     "output_type": "execute_result"
    }
   ],
   "source": [
    "li[5]"
   ]
  },
  {
   "cell_type": "code",
   "execution_count": 53,
   "id": "ced4e5d4-e0b3-4e75-900a-27b0e0879fd0",
   "metadata": {},
   "outputs": [
    {
     "data": {
      "text/plain": [
       "'pawan'"
      ]
     },
     "execution_count": 53,
     "metadata": {},
     "output_type": "execute_result"
    }
   ],
   "source": [
    "li[5][0]"
   ]
  },
  {
   "cell_type": "code",
   "execution_count": 54,
   "id": "ceac755b-93c1-4a95-b43b-df7d9e526284",
   "metadata": {},
   "outputs": [
    {
     "data": {
      "text/plain": [
       "'p'"
      ]
     },
     "execution_count": 54,
     "metadata": {},
     "output_type": "execute_result"
    }
   ],
   "source": [
    "li[5][0][0]"
   ]
  },
  {
   "cell_type": "code",
   "execution_count": 55,
   "id": "fd43f241-d113-49bf-8e83-1fd9f8c9ca21",
   "metadata": {},
   "outputs": [
    {
     "data": {
      "text/plain": [
       "[5, 5.3, 9, 'pawan preet', (8, 5, 6, 7, 4), ['pawan', 4, 6], True, False]"
      ]
     },
     "execution_count": 55,
     "metadata": {},
     "output_type": "execute_result"
    }
   ],
   "source": [
    "li"
   ]
  },
  {
   "cell_type": "code",
   "execution_count": 56,
   "id": "abc57224-3f49-4b80-923d-f4c7b7187eaa",
   "metadata": {},
   "outputs": [
    {
     "data": {
      "text/plain": [
       "['tom', 'sheru', 'doggy']"
      ]
     },
     "execution_count": 56,
     "metadata": {},
     "output_type": "execute_result"
    }
   ],
   "source": [
    "dogs"
   ]
  },
  {
   "cell_type": "code",
   "execution_count": 57,
   "id": "9d6d177b-140d-4fb1-ae6a-e3b30533399f",
   "metadata": {},
   "outputs": [],
   "source": [
    "\n",
    "# items dalne ke  liye\n",
    "dogs.append('jerry')"
   ]
  },
  {
   "cell_type": "code",
   "execution_count": 58,
   "id": "81d096a7-1d02-4cc7-ab8c-c83d2ec64958",
   "metadata": {},
   "outputs": [
    {
     "data": {
      "text/plain": [
       "['tom', 'sheru', 'doggy', 'jerry']"
      ]
     },
     "execution_count": 58,
     "metadata": {},
     "output_type": "execute_result"
    }
   ],
   "source": [
    "dogs"
   ]
  },
  {
   "cell_type": "code",
   "execution_count": 59,
   "id": "b00eb83e-0763-4e74-a60f-89f4354b81e1",
   "metadata": {},
   "outputs": [],
   "source": [
    "stu = ['a', 'b', 'c','d','e']"
   ]
  },
  {
   "cell_type": "code",
   "execution_count": 60,
   "id": "0810572b-0dd0-403c-80b6-3e01ce8c485c",
   "metadata": {},
   "outputs": [],
   "source": [
    "fail =stu"
   ]
  },
  {
   "cell_type": "code",
   "execution_count": 61,
   "id": "64b92b7d-6cd5-461d-bb8c-563a6d876b5a",
   "metadata": {},
   "outputs": [
    {
     "data": {
      "text/plain": [
       "['a', 'b', 'c', 'd', 'e']"
      ]
     },
     "execution_count": 61,
     "metadata": {},
     "output_type": "execute_result"
    }
   ],
   "source": [
    "fail.copy()"
   ]
  },
  {
   "cell_type": "code",
   "execution_count": 62,
   "id": "122ba9c6-6327-42cf-8b39-6f47e9e05aea",
   "metadata": {},
   "outputs": [],
   "source": [
    "fail[0] ='pawan'"
   ]
  },
  {
   "cell_type": "code",
   "execution_count": 63,
   "id": "cc8ce15f-b71b-4c74-b187-5a30ffed3147",
   "metadata": {},
   "outputs": [
    {
     "data": {
      "text/plain": [
       "['pawan', 'b', 'c', 'd', 'e']"
      ]
     },
     "execution_count": 63,
     "metadata": {},
     "output_type": "execute_result"
    }
   ],
   "source": [
    "# fail me krdo chahe stu mein dono change ho jayenge kioki woh reference rakhte hain \n",
    "fail"
   ]
  },
  {
   "cell_type": "code",
   "execution_count": 64,
   "id": "e148e08b-d453-47dc-90fd-782d7534d08e",
   "metadata": {},
   "outputs": [
    {
     "data": {
      "text/plain": [
       "['pawan', 'b', 'c', 'd', 'e']"
      ]
     },
     "execution_count": 64,
     "metadata": {},
     "output_type": "execute_result"
    }
   ],
   "source": [
    "stu"
   ]
  },
  {
   "cell_type": "code",
   "execution_count": 65,
   "id": "e23dceda-95ef-497e-9890-965daa0b5f87",
   "metadata": {},
   "outputs": [],
   "source": [
    "a = [1,50,67]\n"
   ]
  },
  {
   "cell_type": "code",
   "execution_count": 66,
   "id": "264d8887-ce12-408f-a0b5-8fbd459b83a8",
   "metadata": {},
   "outputs": [],
   "source": [
    "# we make the copy of list using this function \n",
    "## agar abhi app b mein change kroge toh sirf  b mein change hoga and original  a wese hi rhega\n",
    "b = a.copy()"
   ]
  },
  {
   "cell_type": "code",
   "execution_count": 67,
   "id": "00249fc1-201b-49fb-a2b5-c7fd8409c146",
   "metadata": {},
   "outputs": [
    {
     "data": {
      "text/plain": [
       "[1, 50, 67]"
      ]
     },
     "execution_count": 67,
     "metadata": {},
     "output_type": "execute_result"
    }
   ],
   "source": [
    "b"
   ]
  },
  {
   "cell_type": "code",
   "execution_count": 68,
   "id": "a0ba750d-c42c-499f-a46d-8efb8d583d07",
   "metadata": {},
   "outputs": [],
   "source": [
    "b[0] = 40000"
   ]
  },
  {
   "cell_type": "code",
   "execution_count": 69,
   "id": "6db1e3e0-3eba-4535-b553-9b49d2c23de4",
   "metadata": {},
   "outputs": [
    {
     "data": {
      "text/plain": [
       "[40000, 50, 67]"
      ]
     },
     "execution_count": 69,
     "metadata": {},
     "output_type": "execute_result"
    }
   ],
   "source": [
    "b"
   ]
  },
  {
   "cell_type": "code",
   "execution_count": 70,
   "id": "b1701a2b-9586-4d2b-b15b-810bb8021854",
   "metadata": {},
   "outputs": [
    {
     "data": {
      "text/plain": [
       "[1, 50, 67]"
      ]
     },
     "execution_count": 70,
     "metadata": {},
     "output_type": "execute_result"
    }
   ],
   "source": [
    "a"
   ]
  },
  {
   "cell_type": "code",
   "execution_count": 71,
   "id": "1b04e1cf-5ade-444d-a901-da9b2c402924",
   "metadata": {},
   "outputs": [],
   "source": [
    "dogs.append('tom')"
   ]
  },
  {
   "cell_type": "code",
   "execution_count": 72,
   "id": "79237fff-05eb-4746-bb8a-50e50a92bbbb",
   "metadata": {},
   "outputs": [
    {
     "data": {
      "text/plain": [
       "['tom', 'sheru', 'doggy', 'jerry', 'tom']"
      ]
     },
     "execution_count": 72,
     "metadata": {},
     "output_type": "execute_result"
    }
   ],
   "source": [
    "dogs"
   ]
  },
  {
   "cell_type": "code",
   "execution_count": 73,
   "id": "cf246c64-e4e1-4e16-a451-1a581a46348a",
   "metadata": {},
   "outputs": [
    {
     "data": {
      "text/plain": [
       "2"
      ]
     },
     "execution_count": 73,
     "metadata": {},
     "output_type": "execute_result"
    }
   ],
   "source": [
    "dogs.count(\"tom\")"
   ]
  },
  {
   "cell_type": "code",
   "execution_count": 74,
   "id": "12fb6e7d-889c-48fa-97f8-256987bdf60b",
   "metadata": {},
   "outputs": [
    {
     "data": {
      "text/plain": [
       "2"
      ]
     },
     "execution_count": 74,
     "metadata": {},
     "output_type": "execute_result"
    }
   ],
   "source": [
    "dogs.index('doggy')"
   ]
  },
  {
   "cell_type": "code",
   "execution_count": 75,
   "id": "1b4ae44d-42ed-40c6-af65-65f67398289f",
   "metadata": {},
   "outputs": [],
   "source": [
    "friend = ['pawan', 'raman', 'komal']"
   ]
  },
  {
   "cell_type": "code",
   "execution_count": 76,
   "id": "cdcfe428-834f-4b88-9870-360128a306b7",
   "metadata": {},
   "outputs": [],
   "source": [
    "# ek list ke elements ko alag alag krke dalta hai doosri  list mein \n",
    "dogs.extend(friend)"
   ]
  },
  {
   "cell_type": "code",
   "execution_count": 77,
   "id": "1bf4628e-2abc-4d93-90db-c57ec3c80c73",
   "metadata": {},
   "outputs": [
    {
     "data": {
      "text/plain": [
       "['tom', 'sheru', 'doggy', 'jerry', 'tom', 'pawan', 'raman', 'komal']"
      ]
     },
     "execution_count": 77,
     "metadata": {},
     "output_type": "execute_result"
    }
   ],
   "source": [
    "dogs"
   ]
  },
  {
   "cell_type": "code",
   "execution_count": 78,
   "id": "0a8fd7c4-f1ef-414f-9c7a-c7d811b9d50c",
   "metadata": {},
   "outputs": [],
   "source": [
    "dogs.append(friend)"
   ]
  },
  {
   "cell_type": "code",
   "execution_count": 79,
   "id": "c3638dd8-28d9-4675-a97e-b172abf9d681",
   "metadata": {},
   "outputs": [
    {
     "data": {
      "text/plain": [
       "['tom',\n",
       " 'sheru',\n",
       " 'doggy',\n",
       " 'jerry',\n",
       " 'tom',\n",
       " 'pawan',\n",
       " 'raman',\n",
       " 'komal',\n",
       " ['pawan', 'raman', 'komal']]"
      ]
     },
     "execution_count": 79,
     "metadata": {},
     "output_type": "execute_result"
    }
   ],
   "source": [
    "dogs"
   ]
  },
  {
   "cell_type": "code",
   "execution_count": 80,
   "id": "c704d6e4-bac9-493b-8637-3adf86e74218",
   "metadata": {},
   "outputs": [
    {
     "data": {
      "text/plain": [
       "['pawan', 'raman', 'komal']"
      ]
     },
     "execution_count": 80,
     "metadata": {},
     "output_type": "execute_result"
    }
   ],
   "source": [
    "dogs.pop()"
   ]
  },
  {
   "cell_type": "code",
   "execution_count": 81,
   "id": "875cec5d-5d3a-41b9-9eaf-434381434422",
   "metadata": {},
   "outputs": [
    {
     "data": {
      "text/plain": [
       "['tom', 'sheru', 'doggy', 'jerry', 'tom', 'pawan', 'raman', 'komal']"
      ]
     },
     "execution_count": 81,
     "metadata": {},
     "output_type": "execute_result"
    }
   ],
   "source": [
    "dogs"
   ]
  },
  {
   "cell_type": "code",
   "execution_count": 82,
   "id": "265b1abf-1c89-496d-8505-68d0a69db603",
   "metadata": {},
   "outputs": [
    {
     "data": {
      "text/plain": [
       "'komal'"
      ]
     },
     "execution_count": 82,
     "metadata": {},
     "output_type": "execute_result"
    }
   ],
   "source": [
    "dogs.pop()"
   ]
  },
  {
   "cell_type": "code",
   "execution_count": 83,
   "id": "79db5dba-2bb0-4c31-881b-d5cb8c0cf141",
   "metadata": {},
   "outputs": [
    {
     "data": {
      "text/plain": [
       "'raman'"
      ]
     },
     "execution_count": 83,
     "metadata": {},
     "output_type": "execute_result"
    }
   ],
   "source": [
    "dogs.pop()"
   ]
  },
  {
   "cell_type": "code",
   "execution_count": 84,
   "id": "58cbf9ba-df6b-4e1b-9dc3-f5ad714a5438",
   "metadata": {},
   "outputs": [
    {
     "data": {
      "text/plain": [
       "'pawan'"
      ]
     },
     "execution_count": 84,
     "metadata": {},
     "output_type": "execute_result"
    }
   ],
   "source": [
    "dogs.pop()"
   ]
  },
  {
   "cell_type": "code",
   "execution_count": 85,
   "id": "74133c2c-e10e-4597-8099-59409c430fc7",
   "metadata": {},
   "outputs": [
    {
     "data": {
      "text/plain": [
       "'tom'"
      ]
     },
     "execution_count": 85,
     "metadata": {},
     "output_type": "execute_result"
    }
   ],
   "source": [
    "dogs.pop()"
   ]
  },
  {
   "cell_type": "code",
   "execution_count": 86,
   "id": "102d914f-0e74-49b5-8b21-0e7dd706b6ec",
   "metadata": {},
   "outputs": [
    {
     "data": {
      "text/plain": [
       "['tom', 'sheru', 'doggy', 'jerry']"
      ]
     },
     "execution_count": 86,
     "metadata": {},
     "output_type": "execute_result"
    }
   ],
   "source": [
    "dogs"
   ]
  },
  {
   "cell_type": "code",
   "execution_count": 87,
   "id": "aa2adb33-c65d-4172-b4bb-67f2c46d84cf",
   "metadata": {},
   "outputs": [
    {
     "ename": "IndexError",
     "evalue": "pop index out of range",
     "output_type": "error",
     "traceback": [
      "\u001b[1;31m---------------------------------------------------------------------------\u001b[0m",
      "\u001b[1;31mIndexError\u001b[0m                                Traceback (most recent call last)",
      "Cell \u001b[1;32mIn[87], line 1\u001b[0m\n\u001b[1;32m----> 1\u001b[0m dogs\u001b[38;5;241m.\u001b[39mpop(\u001b[38;5;241m5\u001b[39m)\n",
      "\u001b[1;31mIndexError\u001b[0m: pop index out of range"
     ]
    }
   ],
   "source": [
    "dogs.pop(5)"
   ]
  },
  {
   "cell_type": "code",
   "execution_count": 88,
   "id": "e7404425-837b-4bf0-9f6a-4bded6e17a6e",
   "metadata": {},
   "outputs": [
    {
     "data": {
      "text/plain": [
       "['tom', 'sheru', 'doggy', 'jerry']"
      ]
     },
     "execution_count": 88,
     "metadata": {},
     "output_type": "execute_result"
    }
   ],
   "source": [
    "dogs"
   ]
  },
  {
   "cell_type": "code",
   "execution_count": 89,
   "id": "fa69a298-812e-4090-b022-b0461283544d",
   "metadata": {},
   "outputs": [
    {
     "ename": "IndexError",
     "evalue": "pop index out of range",
     "output_type": "error",
     "traceback": [
      "\u001b[1;31m---------------------------------------------------------------------------\u001b[0m",
      "\u001b[1;31mIndexError\u001b[0m                                Traceback (most recent call last)",
      "Cell \u001b[1;32mIn[89], line 1\u001b[0m\n\u001b[1;32m----> 1\u001b[0m dogs\u001b[38;5;241m.\u001b[39mpop(\u001b[38;5;241m4\u001b[39m)\n",
      "\u001b[1;31mIndexError\u001b[0m: pop index out of range"
     ]
    }
   ],
   "source": [
    "dogs.pop(4)"
   ]
  },
  {
   "cell_type": "code",
   "execution_count": 90,
   "id": "362d5d90-7e83-4ca3-aef7-57e9b5530797",
   "metadata": {},
   "outputs": [
    {
     "data": {
      "text/plain": [
       "'jerry'"
      ]
     },
     "execution_count": 90,
     "metadata": {},
     "output_type": "execute_result"
    }
   ],
   "source": [
    "## by default last item nikalta hai\n",
    "dogs.pop()"
   ]
  },
  {
   "cell_type": "code",
   "execution_count": 91,
   "id": "07046fbf-0d7e-465e-a5a6-3aebeb21c513",
   "metadata": {},
   "outputs": [],
   "source": [
    "dogs.append('jerry')"
   ]
  },
  {
   "cell_type": "code",
   "execution_count": 92,
   "id": "d1a45b48-3079-4040-b3a6-c1ec396f18f4",
   "metadata": {},
   "outputs": [
    {
     "data": {
      "text/plain": [
       "['tom', 'sheru', 'doggy', 'jerry']"
      ]
     },
     "execution_count": 92,
     "metadata": {},
     "output_type": "execute_result"
    }
   ],
   "source": [
    "dogs"
   ]
  },
  {
   "cell_type": "code",
   "execution_count": 93,
   "id": "a03b21b0-a3e0-41eb-9d95-177fd331f347",
   "metadata": {},
   "outputs": [
    {
     "data": {
      "text/plain": [
       "'jerry'"
      ]
     },
     "execution_count": 93,
     "metadata": {},
     "output_type": "execute_result"
    }
   ],
   "source": [
    "dogs.pop(3)"
   ]
  },
  {
   "cell_type": "code",
   "execution_count": 94,
   "id": "a5df347e-9333-4ed6-b3be-6d2985d5979f",
   "metadata": {},
   "outputs": [
    {
     "data": {
      "text/plain": [
       "['tom', 'sheru', 'doggy']"
      ]
     },
     "execution_count": 94,
     "metadata": {},
     "output_type": "execute_result"
    }
   ],
   "source": [
    "dogs"
   ]
  },
  {
   "cell_type": "code",
   "execution_count": 95,
   "id": "9d95b323-6f54-409f-b91c-0fd8d35258cd",
   "metadata": {},
   "outputs": [],
   "source": [
    "dogs.insert(4, 'hello')"
   ]
  },
  {
   "cell_type": "code",
   "execution_count": 96,
   "id": "9e8481d3-c958-4c2c-9314-4a2857b5553f",
   "metadata": {},
   "outputs": [
    {
     "data": {
      "text/plain": [
       "['tom', 'sheru', 'doggy', 'hello']"
      ]
     },
     "execution_count": 96,
     "metadata": {},
     "output_type": "execute_result"
    }
   ],
   "source": [
    "dogs"
   ]
  },
  {
   "cell_type": "code",
   "execution_count": 97,
   "id": "3aab6627-2fd1-4d76-89b1-12c212014660",
   "metadata": {},
   "outputs": [],
   "source": [
    "dogs.remove('hello')"
   ]
  },
  {
   "cell_type": "code",
   "execution_count": 98,
   "id": "9fed37a8-e097-47d9-b737-c6585de4ebed",
   "metadata": {},
   "outputs": [
    {
     "data": {
      "text/plain": [
       "['tom', 'sheru', 'doggy']"
      ]
     },
     "execution_count": 98,
     "metadata": {},
     "output_type": "execute_result"
    }
   ],
   "source": [
    "dogs"
   ]
  },
  {
   "cell_type": "code",
   "execution_count": 99,
   "id": "b96c778d-fa66-4f6f-9982-66e07d3d0429",
   "metadata": {},
   "outputs": [],
   "source": [
    "dogs.reverse()"
   ]
  },
  {
   "cell_type": "code",
   "execution_count": 100,
   "id": "b478dfd0-363c-43b3-8880-ffdd99feaacb",
   "metadata": {},
   "outputs": [
    {
     "data": {
      "text/plain": [
       "['doggy', 'sheru', 'tom']"
      ]
     },
     "execution_count": 100,
     "metadata": {},
     "output_type": "execute_result"
    }
   ],
   "source": [
    "dogs"
   ]
  },
  {
   "cell_type": "code",
   "execution_count": 101,
   "id": "027fc0e6-4e2f-4f6d-9a97-0eb1bbe25e97",
   "metadata": {},
   "outputs": [],
   "source": [
    "dogs.reverse()"
   ]
  },
  {
   "cell_type": "code",
   "execution_count": 102,
   "id": "f4f3b1ce-9ce4-4299-bb6e-3fc73b911f20",
   "metadata": {},
   "outputs": [
    {
     "data": {
      "text/plain": [
       "['tom', 'sheru', 'doggy']"
      ]
     },
     "execution_count": 102,
     "metadata": {},
     "output_type": "execute_result"
    }
   ],
   "source": [
    "dogs"
   ]
  },
  {
   "cell_type": "code",
   "execution_count": 103,
   "id": "deeaf357-57d8-4de4-bd3c-2021e0cd0067",
   "metadata": {},
   "outputs": [],
   "source": [
    "counters = [1,2,3,4,5,6,7,8,9]"
   ]
  },
  {
   "cell_type": "code",
   "execution_count": 104,
   "id": "d271d767-18d8-4e92-8cbd-0a29264706b8",
   "metadata": {},
   "outputs": [],
   "source": [
    "counters.reverse()"
   ]
  },
  {
   "cell_type": "code",
   "execution_count": 105,
   "id": "cf62fcf7-4c64-4aa0-b59b-a228ad5a74bd",
   "metadata": {},
   "outputs": [
    {
     "data": {
      "text/plain": [
       "[9, 8, 7, 6, 5, 4, 3, 2, 1]"
      ]
     },
     "execution_count": 105,
     "metadata": {},
     "output_type": "execute_result"
    }
   ],
   "source": [
    "counters"
   ]
  },
  {
   "cell_type": "code",
   "execution_count": 106,
   "id": "5a5876c8-97c6-4d2e-bbf5-7f85a9f29fcc",
   "metadata": {},
   "outputs": [
    {
     "data": {
      "text/plain": [
       "['tom', 'sheru', 'doggy']"
      ]
     },
     "execution_count": 106,
     "metadata": {},
     "output_type": "execute_result"
    }
   ],
   "source": [
    "dogs"
   ]
  },
  {
   "cell_type": "code",
   "execution_count": 107,
   "id": "5c864584-6241-4817-8b49-6c41e54db96c",
   "metadata": {},
   "outputs": [],
   "source": [
    "dogs.sort()"
   ]
  },
  {
   "cell_type": "code",
   "execution_count": 108,
   "id": "99863b5d-324f-49aa-ab83-ddd8759c1093",
   "metadata": {},
   "outputs": [
    {
     "data": {
      "text/plain": [
       "['doggy', 'sheru', 'tom']"
      ]
     },
     "execution_count": 108,
     "metadata": {},
     "output_type": "execute_result"
    }
   ],
   "source": [
    "dogs"
   ]
  },
  {
   "cell_type": "code",
   "execution_count": 109,
   "id": "e55e6c99-ff83-45b0-bd48-cab69ef93a45",
   "metadata": {},
   "outputs": [],
   "source": [
    " sorting =[4,2,9,5,0,6]"
   ]
  },
  {
   "cell_type": "code",
   "execution_count": 110,
   "id": "86524b26-01b9-421c-8ff7-fdd454076c8f",
   "metadata": {},
   "outputs": [],
   "source": [
    "## by default ascending order ke  liye\n",
    "sorting.sort()"
   ]
  },
  {
   "cell_type": "code",
   "execution_count": 111,
   "id": "edaa65ad-7890-412a-98e2-34fc884fb8ec",
   "metadata": {},
   "outputs": [
    {
     "data": {
      "text/plain": [
       "[0, 2, 4, 5, 6, 9]"
      ]
     },
     "execution_count": 111,
     "metadata": {},
     "output_type": "execute_result"
    }
   ],
   "source": [
    "sorting"
   ]
  },
  {
   "cell_type": "code",
   "execution_count": 112,
   "id": "36b56a84-182c-4f5c-ac43-e84056824534",
   "metadata": {},
   "outputs": [],
   "source": [
    "## descending order ke liye reverse ko true krenge\n",
    "sorting.sort(reverse = True)"
   ]
  },
  {
   "cell_type": "code",
   "execution_count": 113,
   "id": "570fac85-ed37-4208-a67c-0457d37471cf",
   "metadata": {},
   "outputs": [
    {
     "data": {
      "text/plain": [
       "[9, 6, 5, 4, 2, 0]"
      ]
     },
     "execution_count": 113,
     "metadata": {},
     "output_type": "execute_result"
    }
   ],
   "source": [
    "sorting"
   ]
  },
  {
   "cell_type": "code",
   "execution_count": 114,
   "id": "5302bf25-0f51-4ed9-8628-203c80490325",
   "metadata": {},
   "outputs": [],
   "source": [
    "sorting.clear()"
   ]
  },
  {
   "cell_type": "code",
   "execution_count": 115,
   "id": "f43c63db-43d8-4e58-a281-43d6a82832d4",
   "metadata": {},
   "outputs": [
    {
     "data": {
      "text/plain": [
       "[]"
      ]
     },
     "execution_count": 115,
     "metadata": {},
     "output_type": "execute_result"
    }
   ],
   "source": [
    "sorting"
   ]
  },
  {
   "cell_type": "code",
   "execution_count": null,
   "id": "94b5be7d-47a4-42a1-87e9-68e4b61cf256",
   "metadata": {},
   "outputs": [],
   "source": []
  }
 ],
 "metadata": {
  "kernelspec": {
   "display_name": "Python [conda env:base] *",
   "language": "python",
   "name": "conda-base-py"
  },
  "language_info": {
   "codemirror_mode": {
    "name": "ipython",
    "version": 3
   },
   "file_extension": ".py",
   "mimetype": "text/x-python",
   "name": "python",
   "nbconvert_exporter": "python",
   "pygments_lexer": "ipython3",
   "version": "3.13.5"
  }
 },
 "nbformat": 4,
 "nbformat_minor": 5
}
