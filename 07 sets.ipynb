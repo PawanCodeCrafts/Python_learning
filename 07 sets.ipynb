{
 "cells": [
  {
   "cell_type": "markdown",
   "id": "6c0765a6-572e-4122-acf7-3d25a6fe5ebd",
   "metadata": {},
   "source": [
    "# Work with SETS "
   ]
  },
  {
   "cell_type": "raw",
   "id": "5df16716-01fa-4a31-a2bf-d97856562d8b",
   "metadata": {},
   "source": [
    "#  symbol {} same as dictionary but do not contain key:value\n",
    "#  Do not allow repeating elements\n",
    "#  give us unique elements from set\n",
    "#  sets are unordered sequence"
   ]
  },
  {
   "cell_type": "code",
   "execution_count": 4,
   "id": "227eb82a-ba06-4078-85d3-c1a4ff26d685",
   "metadata": {},
   "outputs": [
    {
     "data": {
      "text/plain": [
       "{1, 2, 3, 4, 5}"
      ]
     },
     "execution_count": 4,
     "metadata": {},
     "output_type": "execute_result"
    }
   ],
   "source": [
    "{2,2,3,3,3,4,4,5,5,1,1}"
   ]
  },
  {
   "cell_type": "code",
   "execution_count": 5,
   "id": "0c91154a-0482-4d6a-bfb0-982b74e7c509",
   "metadata": {},
   "outputs": [],
   "source": [
    "a ={1,2,3}"
   ]
  },
  {
   "cell_type": "code",
   "execution_count": 6,
   "id": "d5c34b11-ec9f-4a42-bf93-3acbc1c76cd1",
   "metadata": {},
   "outputs": [],
   "source": [
    "b ={2,3}"
   ]
  },
  {
   "cell_type": "code",
   "execution_count": 7,
   "id": "5161bdd8-8285-4d17-9eab-c714645e9dc6",
   "metadata": {},
   "outputs": [
    {
     "data": {
      "text/plain": [
       "True"
      ]
     },
     "execution_count": 7,
     "metadata": {},
     "output_type": "execute_result"
    }
   ],
   "source": [
    "a.issuperset(b)"
   ]
  },
  {
   "cell_type": "code",
   "execution_count": 8,
   "id": "4a0fee58-7193-4b1e-86bd-84ef82f27c26",
   "metadata": {},
   "outputs": [
    {
     "data": {
      "text/plain": [
       "True"
      ]
     },
     "execution_count": 8,
     "metadata": {},
     "output_type": "execute_result"
    }
   ],
   "source": [
    "b.issubset(a)"
   ]
  },
  {
   "cell_type": "code",
   "execution_count": 10,
   "id": "41884106-11cc-45cc-bfb1-d734318a13b6",
   "metadata": {},
   "outputs": [
    {
     "data": {
      "text/plain": [
       "False"
      ]
     },
     "execution_count": 10,
     "metadata": {},
     "output_type": "execute_result"
    }
   ],
   "source": [
    "a.issubset(b)"
   ]
  },
  {
   "cell_type": "code",
   "execution_count": 11,
   "id": "bac699a1-8dcf-449a-b2e6-754273e3c2af",
   "metadata": {},
   "outputs": [
    {
     "data": {
      "text/plain": [
       "{2, 3}"
      ]
     },
     "execution_count": 11,
     "metadata": {},
     "output_type": "execute_result"
    }
   ],
   "source": [
    "a.intersection(b)"
   ]
  },
  {
   "cell_type": "code",
   "execution_count": 12,
   "id": "a3a8f35b-70d9-41f3-a312-4e263565e683",
   "metadata": {},
   "outputs": [
    {
     "data": {
      "text/plain": [
       "{1, 2, 3}"
      ]
     },
     "execution_count": 12,
     "metadata": {},
     "output_type": "execute_result"
    }
   ],
   "source": [
    "a.union(b)"
   ]
  },
  {
   "cell_type": "code",
   "execution_count": 13,
   "id": "13335486-7c85-4330-b520-667611dac6e5",
   "metadata": {},
   "outputs": [
    {
     "data": {
      "text/plain": [
       "{1}"
      ]
     },
     "execution_count": 13,
     "metadata": {},
     "output_type": "execute_result"
    }
   ],
   "source": [
    "a.difference(b)"
   ]
  },
  {
   "cell_type": "code",
   "execution_count": 16,
   "id": "e1fb5a50-dc09-4b8c-a966-b8ac8222c041",
   "metadata": {},
   "outputs": [
    {
     "data": {
      "text/plain": [
       "set()"
      ]
     },
     "execution_count": 16,
     "metadata": {},
     "output_type": "execute_result"
    }
   ],
   "source": [
    "b.difference(a)"
   ]
  },
  {
   "cell_type": "code",
   "execution_count": null,
   "id": "f6ca8f1e-0e4c-4292-ae1d-25366ca75753",
   "metadata": {},
   "outputs": [],
   "source": []
  }
 ],
 "metadata": {
  "kernelspec": {
   "display_name": "Python [conda env:base] *",
   "language": "python",
   "name": "conda-base-py"
  },
  "language_info": {
   "codemirror_mode": {
    "name": "ipython",
    "version": 3
   },
   "file_extension": ".py",
   "mimetype": "text/x-python",
   "name": "python",
   "nbconvert_exporter": "python",
   "pygments_lexer": "ipython3",
   "version": "3.13.5"
  }
 },
 "nbformat": 4,
 "nbformat_minor": 5
}
