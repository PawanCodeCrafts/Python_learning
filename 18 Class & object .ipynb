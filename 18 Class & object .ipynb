{
 "cells": [
  {
   "cell_type": "markdown",
   "id": "a25b0cf7-d96a-4a5c-8b2d-b0e2ed4db9fd",
   "metadata": {},
   "source": [
    "# Class in python\n",
    "\n",
    "1.  Defining and binding variables and functions is known as class\n",
    "2. class is category ---- object is item\n",
    "3. variables ko attributes kehte hai\n",
    "4. two types of attributes --- i) class attributes ii) object attribute\n",
    "5. functions ko methods kehte hai\n",
    "6. two types of methos --- i)class methods ii)object methods"
   ]
  },
  {
   "cell_type": "code",
   "execution_count": 1,
   "id": "a9791906-2407-42bc-a598-51854b7f6d03",
   "metadata": {},
   "outputs": [],
   "source": [
    "# approach with variables"
   ]
  },
  {
   "cell_type": "code",
   "execution_count": 2,
   "id": "234d4d41-b729-49c0-9b93-0506b74e0420",
   "metadata": {},
   "outputs": [],
   "source": [
    "wallet = 6000"
   ]
  },
  {
   "cell_type": "code",
   "execution_count": 3,
   "id": "88340172-aa67-443e-b5a4-da3ef6ef2835",
   "metadata": {},
   "outputs": [
    {
     "data": {
      "text/plain": [
       "6000"
      ]
     },
     "execution_count": 3,
     "metadata": {},
     "output_type": "execute_result"
    }
   ],
   "source": [
    "wallet"
   ]
  },
  {
   "cell_type": "code",
   "execution_count": 4,
   "id": "e26b46de-df16-45e6-bb99-d0c1f6add4d8",
   "metadata": {},
   "outputs": [],
   "source": [
    "wallet = 0"
   ]
  },
  {
   "cell_type": "code",
   "execution_count": 5,
   "id": "8a2b2907-d5d1-4c74-923d-51692f667068",
   "metadata": {},
   "outputs": [
    {
     "data": {
      "text/plain": [
       "0"
      ]
     },
     "execution_count": 5,
     "metadata": {},
     "output_type": "execute_result"
    }
   ],
   "source": [
    "wallet"
   ]
  },
  {
   "cell_type": "code",
   "execution_count": 6,
   "id": "30d2395c-6522-484b-a318-58c3bf42f874",
   "metadata": {},
   "outputs": [],
   "source": [
    "# with functions"
   ]
  },
  {
   "cell_type": "code",
   "execution_count": 7,
   "id": "85c587b2-fbd5-4b1f-af01-fef33c8b142f",
   "metadata": {},
   "outputs": [],
   "source": [
    "def makeCoffee():\n",
    "    print('making coffee')"
   ]
  },
  {
   "cell_type": "code",
   "execution_count": 8,
   "id": "d0437871-1d2a-4e72-946c-510572ac844a",
   "metadata": {},
   "outputs": [
    {
     "name": "stdout",
     "output_type": "stream",
     "text": [
      "making coffee\n"
     ]
    }
   ],
   "source": [
    "makeCoffee()"
   ]
  },
  {
   "cell_type": "code",
   "execution_count": 9,
   "id": "4a4d3dba-7465-4f05-b9ae-1ddcba4541ce",
   "metadata": {},
   "outputs": [
    {
     "name": "stdout",
     "output_type": "stream",
     "text": [
      "making coffee\n"
     ]
    }
   ],
   "source": [
    "makeCoffee()"
   ]
  },
  {
   "cell_type": "code",
   "execution_count": 10,
   "id": "979e5c62-f5c7-49b6-830a-1fe7da5e57f3",
   "metadata": {},
   "outputs": [],
   "source": [
    "# class is defined using \"class\" keyword\n",
    "# try to use CamelCase naming always\n"
   ]
  },
  {
   "cell_type": "code",
   "execution_count": 11,
   "id": "dd435e6f-fad6-4dd0-ad5a-371c10b6885e",
   "metadata": {},
   "outputs": [],
   "source": [
    "class Car():\n",
    "    tyre = 4\n",
    "\n",
    "    def move():\n",
    "        print(\"i am moving forward\")"
   ]
  },
  {
   "cell_type": "code",
   "execution_count": 12,
   "id": "a76649ac-787c-4544-804c-1ce5b7fb20ea",
   "metadata": {},
   "outputs": [
    {
     "data": {
      "text/plain": [
       "4"
      ]
     },
     "execution_count": 12,
     "metadata": {},
     "output_type": "execute_result"
    }
   ],
   "source": [
    "# accessing variables\n",
    "Car.tyre"
   ]
  },
  {
   "cell_type": "code",
   "execution_count": 13,
   "id": "fb9fab4d-c401-44dd-8eaa-412f30fe4c9f",
   "metadata": {},
   "outputs": [
    {
     "name": "stdout",
     "output_type": "stream",
     "text": [
      "i am moving forward\n"
     ]
    }
   ],
   "source": [
    "#accessing functions\n",
    "Car.move()"
   ]
  },
  {
   "cell_type": "code",
   "execution_count": 14,
   "id": "0ff0d4e1-10de-4740-811a-c8af9605c80d",
   "metadata": {},
   "outputs": [],
   "source": [
    "# category ki baat ho rhi hai\n",
    "class Human():\n",
    "    legs = 2\n",
    "\n",
    "    def eatUp():\n",
    "        print('i am eating')\n",
    "        print('thank you')"
   ]
  },
  {
   "cell_type": "code",
   "execution_count": 15,
   "id": "46df2c56-f095-4799-9de9-f5ab1d5e8f9b",
   "metadata": {},
   "outputs": [
    {
     "data": {
      "text/plain": [
       "2"
      ]
     },
     "execution_count": 15,
     "metadata": {},
     "output_type": "execute_result"
    }
   ],
   "source": [
    "Human.legs"
   ]
  },
  {
   "cell_type": "code",
   "execution_count": 16,
   "id": "fbc05a19-b255-4cc4-be6b-03730dc33e49",
   "metadata": {},
   "outputs": [
    {
     "name": "stdout",
     "output_type": "stream",
     "text": [
      "i am eating\n",
      "thank you\n"
     ]
    }
   ],
   "source": [
    "Human.eatUp()"
   ]
  },
  {
   "cell_type": "code",
   "execution_count": 17,
   "id": "1a66295b-d45c-4bab-861d-f8e6437ac149",
   "metadata": {},
   "outputs": [
    {
     "name": "stdout",
     "output_type": "stream",
     "text": [
      "i am eating\n",
      "thank you\n"
     ]
    }
   ],
   "source": [
    "Human.eatUp()"
   ]
  },
  {
   "cell_type": "code",
   "execution_count": 18,
   "id": "a68c35ce-5352-491b-873f-c5c5049b38c9",
   "metadata": {},
   "outputs": [],
   "source": [
    "# car ka behaviour\n",
    "class Car2():\n",
    "    tyre = 4\n",
    "\n",
    "    def move2():\n",
    "        print(\"i am moving forward\")"
   ]
  },
  {
   "cell_type": "code",
   "execution_count": 19,
   "id": "ddf36071-b0e5-46a3-ac97-2559457d83e3",
   "metadata": {},
   "outputs": [],
   "source": [
    "# actual car\n",
    "# completey separate itmes hote hai objects ek doosre se\n",
    "gadi = Car2()"
   ]
  },
  {
   "cell_type": "code",
   "execution_count": 20,
   "id": "77e2498d-8223-44af-b537-01da627e5f71",
   "metadata": {},
   "outputs": [],
   "source": [
    "gadi2 = Car2()"
   ]
  },
  {
   "cell_type": "code",
   "execution_count": 21,
   "id": "9b1add20-ec38-45fe-8831-a0c0846b0d96",
   "metadata": {},
   "outputs": [
    {
     "data": {
      "text/plain": [
       "4"
      ]
     },
     "execution_count": 21,
     "metadata": {},
     "output_type": "execute_result"
    }
   ],
   "source": [
    "gadi.tyre"
   ]
  },
  {
   "cell_type": "code",
   "execution_count": 22,
   "id": "6e049a7f-170b-457b-bb65-e48d9728bddb",
   "metadata": {},
   "outputs": [
    {
     "data": {
      "text/plain": [
       "4"
      ]
     },
     "execution_count": 22,
     "metadata": {},
     "output_type": "execute_result"
    }
   ],
   "source": [
    "gadi2.tyre"
   ]
  },
  {
   "cell_type": "code",
   "execution_count": 23,
   "id": "7a5995ad-bf30-4010-89ec-22d14cba25f6",
   "metadata": {},
   "outputs": [],
   "source": [
    "gadi.tyre = 3 "
   ]
  },
  {
   "cell_type": "code",
   "execution_count": 24,
   "id": "571d3d3a-c1d4-441a-9529-e649e33812cf",
   "metadata": {},
   "outputs": [],
   "source": [
    "# completey separate itmes hote hai objects "
   ]
  },
  {
   "cell_type": "code",
   "execution_count": 25,
   "id": "a6ee9c05-882a-4fa4-8ff3-a2591a134c33",
   "metadata": {},
   "outputs": [
    {
     "data": {
      "text/plain": [
       "3"
      ]
     },
     "execution_count": 25,
     "metadata": {},
     "output_type": "execute_result"
    }
   ],
   "source": [
    "gadi.tyre"
   ]
  },
  {
   "cell_type": "code",
   "execution_count": 26,
   "id": "f3b1967f-84e4-4fd1-9d1d-40fb6d007028",
   "metadata": {
    "scrolled": true
   },
   "outputs": [
    {
     "data": {
      "text/plain": [
       "4"
      ]
     },
     "execution_count": 26,
     "metadata": {},
     "output_type": "execute_result"
    }
   ],
   "source": [
    "gadi2.tyre "
   ]
  },
  {
   "cell_type": "code",
   "execution_count": 27,
   "id": "79772bc8-1622-4bd4-92b1-90b4a1711358",
   "metadata": {},
   "outputs": [
    {
     "ename": "TypeError",
     "evalue": "Car2.move2() takes 0 positional arguments but 1 was given",
     "output_type": "error",
     "traceback": [
      "\u001b[1;31m---------------------------------------------------------------------------\u001b[0m",
      "\u001b[1;31mTypeError\u001b[0m                                 Traceback (most recent call last)",
      "Cell \u001b[1;32mIn[27], line 1\u001b[0m\n\u001b[1;32m----> 1\u001b[0m gadi\u001b[38;5;241m.\u001b[39mmove2()\n",
      "\u001b[1;31mTypeError\u001b[0m: Car2.move2() takes 0 positional arguments but 1 was given"
     ]
    }
   ],
   "source": [
    "gadi.move2()"
   ]
  },
  {
   "cell_type": "code",
   "execution_count": 28,
   "id": "79697311-5e9c-4d22-9c39-0b49cff1f41e",
   "metadata": {},
   "outputs": [
    {
     "name": "stdout",
     "output_type": "stream",
     "text": [
      "i am moving forward\n"
     ]
    }
   ],
   "source": [
    "Car2.move2()"
   ]
  },
  {
   "cell_type": "code",
   "execution_count": 29,
   "id": "a6c41605-0838-4a23-9cf7-d66efee48fe8",
   "metadata": {},
   "outputs": [],
   "source": [
    "class Car():\n",
    "    tyre = 4\n",
    "\n",
    "    def move(self):\n",
    "        print('moving forward')"
   ]
  },
  {
   "cell_type": "code",
   "execution_count": 30,
   "id": "1cad37cd-aadb-4dce-a6c6-644e9a2796de",
   "metadata": {},
   "outputs": [],
   "source": [
    "gadi =Car()"
   ]
  },
  {
   "cell_type": "code",
   "execution_count": 31,
   "id": "e2384cc7-55d5-4f0b-8f22-8a6d32bc1ad7",
   "metadata": {},
   "outputs": [],
   "source": [
    "gadi2 = Car()"
   ]
  },
  {
   "cell_type": "code",
   "execution_count": 32,
   "id": "bb5f987c-fa27-452e-a255-3dd891be1ce6",
   "metadata": {},
   "outputs": [
    {
     "data": {
      "text/plain": [
       "4"
      ]
     },
     "execution_count": 32,
     "metadata": {},
     "output_type": "execute_result"
    }
   ],
   "source": [
    "Car.tyre"
   ]
  },
  {
   "cell_type": "code",
   "execution_count": 33,
   "id": "5d8d92e3-9ab1-4d19-a02a-47fde15c63dc",
   "metadata": {},
   "outputs": [
    {
     "data": {
      "text/plain": [
       "4"
      ]
     },
     "execution_count": 33,
     "metadata": {},
     "output_type": "execute_result"
    }
   ],
   "source": [
    "gadi.tyre"
   ]
  },
  {
   "cell_type": "code",
   "execution_count": 34,
   "id": "4f957f33-596d-425b-b9da-8b0743fe157a",
   "metadata": {},
   "outputs": [
    {
     "name": "stdout",
     "output_type": "stream",
     "text": [
      "moving forward\n"
     ]
    }
   ],
   "source": [
    "gadi.move()"
   ]
  },
  {
   "cell_type": "code",
   "execution_count": 35,
   "id": "0c9ffef8-0c31-4a15-a5e6-829756b95a05",
   "metadata": {},
   "outputs": [
    {
     "name": "stdout",
     "output_type": "stream",
     "text": [
      "moving forward\n"
     ]
    }
   ],
   "source": [
    "gadi2.move()"
   ]
  },
  {
   "cell_type": "code",
   "execution_count": 36,
   "id": "e1f342cc-7fd1-437e-a077-edcbfbbb7e7e",
   "metadata": {},
   "outputs": [],
   "source": [
    "gadi.name = \"nano\""
   ]
  },
  {
   "cell_type": "code",
   "execution_count": 37,
   "id": "bba8f5ba-72db-4e35-94bc-a78145861e58",
   "metadata": {},
   "outputs": [],
   "source": [
    "gadi2.name = 'alto'"
   ]
  },
  {
   "cell_type": "code",
   "execution_count": 38,
   "id": "64e53843-667c-4f5b-b7ae-9d2717fd31e3",
   "metadata": {},
   "outputs": [
    {
     "data": {
      "text/plain": [
       "'nano'"
      ]
     },
     "execution_count": 38,
     "metadata": {},
     "output_type": "execute_result"
    }
   ],
   "source": [
    "gadi.name"
   ]
  },
  {
   "cell_type": "code",
   "execution_count": 39,
   "id": "a1fc5348-7182-489d-8495-bedf0fe7dacc",
   "metadata": {},
   "outputs": [
    {
     "data": {
      "text/plain": [
       "'alto'"
      ]
     },
     "execution_count": 39,
     "metadata": {},
     "output_type": "execute_result"
    }
   ],
   "source": [
    "gadi2.name"
   ]
  },
  {
   "cell_type": "code",
   "execution_count": 40,
   "id": "f370b83f-48d6-4f92-b165-a0efb605e5bd",
   "metadata": {},
   "outputs": [],
   "source": [
    "# __init__ special function hai toh yeh apne aap run hoga isne name btane me help krta hai\n",
    "class Car():\n",
    "    #variable belonging to whole class\n",
    "    tyre = 4\n",
    "\n",
    "    def __init__(self, model, year =None): # automatically runs when object is created\n",
    "        #variable of the object\n",
    "        self.model = model\n",
    "        self.year =  year\n",
    "\n",
    "    def introduction(self):\n",
    "        print(f'hi am {self.model} and i was made in {self.year}')\n",
    "\n",
    "    def move(self):\n",
    "        print('moving forwrad')"
   ]
  },
  {
   "cell_type": "code",
   "execution_count": 41,
   "id": "cb506f21-01b0-4a0c-a34d-ba630a7615ca",
   "metadata": {},
   "outputs": [],
   "source": [
    "gadi = Car(\"Nano\", 2005)"
   ]
  },
  {
   "cell_type": "code",
   "execution_count": 42,
   "id": "225645ba-ead5-45f9-8071-4174058cabe5",
   "metadata": {},
   "outputs": [
    {
     "name": "stdout",
     "output_type": "stream",
     "text": [
      "hi am Nano and i was made in 2005\n"
     ]
    }
   ],
   "source": [
    "gadi.introduction()"
   ]
  },
  {
   "cell_type": "code",
   "execution_count": 43,
   "id": "f6f569ea-2578-43f3-a5a7-52ac4c642a38",
   "metadata": {},
   "outputs": [
    {
     "name": "stdout",
     "output_type": "stream",
     "text": [
      "moving forwrad\n"
     ]
    }
   ],
   "source": [
    "gadi.move()"
   ]
  },
  {
   "cell_type": "code",
   "execution_count": 44,
   "id": "b8a11340-ef3c-4d08-9893-d7d5d7786afe",
   "metadata": {},
   "outputs": [],
   "source": [
    "gadi2 = Car(\"alto\", 2010)"
   ]
  },
  {
   "cell_type": "code",
   "execution_count": 45,
   "id": "ddd35ed1-57eb-4daa-8d1e-3a284d19fb0e",
   "metadata": {},
   "outputs": [
    {
     "name": "stdout",
     "output_type": "stream",
     "text": [
      "hi am alto and i was made in 2010\n"
     ]
    }
   ],
   "source": [
    "gadi2.introduction()"
   ]
  },
  {
   "cell_type": "code",
   "execution_count": 46,
   "id": "88545a45-ed00-4f91-94e9-306d38f94643",
   "metadata": {},
   "outputs": [
    {
     "ename": "AttributeError",
     "evalue": "'Car' object has no attribute 'name'",
     "output_type": "error",
     "traceback": [
      "\u001b[1;31m---------------------------------------------------------------------------\u001b[0m",
      "\u001b[1;31mAttributeError\u001b[0m                            Traceback (most recent call last)",
      "Cell \u001b[1;32mIn[46], line 2\u001b[0m\n\u001b[0;32m      1\u001b[0m \u001b[38;5;66;03m#error read\u001b[39;00m\n\u001b[1;32m----> 2\u001b[0m gadi2\u001b[38;5;241m.\u001b[39mname\n",
      "\u001b[1;31mAttributeError\u001b[0m: 'Car' object has no attribute 'name'"
     ]
    }
   ],
   "source": [
    "#error read\n",
    "gadi2.name"
   ]
  },
  {
   "cell_type": "code",
   "execution_count": 47,
   "id": "eb407c94-6aee-4611-88aa-0f723cc4b89d",
   "metadata": {},
   "outputs": [
    {
     "name": "stdout",
     "output_type": "stream",
     "text": [
      "moving forwrad\n"
     ]
    }
   ],
   "source": [
    "gadi2.move()"
   ]
  },
  {
   "cell_type": "code",
   "execution_count": 48,
   "id": "30fe7b69-9570-43ad-936e-c90fb28326e7",
   "metadata": {},
   "outputs": [],
   "source": [
    "class Human():\n",
    "    legs = 2\n",
    "\n",
    "    def __init__(self, name, age=0):\n",
    "        self.name = name\n",
    "        self.age = age\n",
    "\n",
    "    def intro(self):\n",
    "        print(f\"hi i am {self.name} and my age is {self.age} \")\n",
    "\n",
    "    "
   ]
  },
  {
   "cell_type": "code",
   "execution_count": 49,
   "id": "5fd24590-3104-4889-8ad2-84bfa60da0d9",
   "metadata": {},
   "outputs": [],
   "source": [
    "insaan1 = Human(\"pawan\", 24)"
   ]
  },
  {
   "cell_type": "code",
   "execution_count": 50,
   "id": "2ed97e96-f041-499f-b32c-5bcb55ed4d3d",
   "metadata": {},
   "outputs": [
    {
     "name": "stdout",
     "output_type": "stream",
     "text": [
      "hi i am pawan and my age is 24 \n"
     ]
    }
   ],
   "source": [
    "insaan1.intro()"
   ]
  },
  {
   "cell_type": "code",
   "execution_count": 51,
   "id": "9695169b-f66a-489e-97a8-6ee815315b3d",
   "metadata": {},
   "outputs": [],
   "source": [
    "insaan2 = Human(\"raman\", 20)"
   ]
  },
  {
   "cell_type": "code",
   "execution_count": 52,
   "id": "76a21d0b-5dd3-4408-8c32-6bedb934e25b",
   "metadata": {},
   "outputs": [
    {
     "name": "stdout",
     "output_type": "stream",
     "text": [
      "hi i am raman and my age is 20 \n"
     ]
    }
   ],
   "source": [
    "insaan2.intro()"
   ]
  },
  {
   "cell_type": "code",
   "execution_count": null,
   "id": "d51f89dd-f55f-445e-afa4-2f641c1909eb",
   "metadata": {},
   "outputs": [],
   "source": []
  },
  {
   "cell_type": "markdown",
   "id": "8793c495-eb4f-422f-a4a5-1d52319bd0ac",
   "metadata": {},
   "source": [
    "## Magic functions"
   ]
  },
  {
   "cell_type": "code",
   "execution_count": 53,
   "id": "f54813c9-7a0d-4544-aec8-37dacce5fb46",
   "metadata": {},
   "outputs": [],
   "source": [
    "class Account():\n",
    "    BANK_NAME = \"SBI\"\n",
    "    # self is object\n",
    "    # init runs when item is creat\n",
    "    def __init__(self, name, initialDeposit = 0):\n",
    "        self.name = name\n",
    "        self.balance = initialDeposit\n",
    "        print(f\"{name} WELCOME TO {self.BANK_NAME}\")\n",
    "\n",
    "    # str runs when item is printed\n",
    "    def __str__(self):\n",
    "        # mandatory to return a str\n",
    "        # print(\"hi\") -- error\n",
    "        a = f\"\"\"\n",
    "             === {self.BANK_NAME} ===\n",
    "             Account Holder  : {self.name}\n",
    "             Account Balance : {self.balance}\n",
    "        \"\"\"\n",
    "        return a\n",
    "\n",
    "    def __del__(self):\n",
    "            # runs when memory location is cleared\n",
    "            # runs before object is deleted\n",
    "            b = f\"\"\"\n",
    "             === {self.BANK_NAME} ===\n",
    "             byee\n",
    "        \"\"\"\n",
    "            print(b)\n",
    "            print('item was deleted')\n",
    "        "
   ]
  },
  {
   "cell_type": "code",
   "execution_count": 54,
   "id": "aded0f4b-354e-4469-9f7b-d966cceca797",
   "metadata": {},
   "outputs": [
    {
     "name": "stdout",
     "output_type": "stream",
     "text": [
      "pawan WELCOME TO SBI\n"
     ]
    }
   ],
   "source": [
    "pehlaAccount = Account(\"pawan\", 50000)"
   ]
  },
  {
   "cell_type": "code",
   "execution_count": 55,
   "id": "72b67bc8-1fc3-4537-9e5e-363e45c16fb0",
   "metadata": {},
   "outputs": [
    {
     "name": "stdout",
     "output_type": "stream",
     "text": [
      "\n",
      "             === SBI ===\n",
      "             Account Holder  : pawan\n",
      "             Account Balance : 50000\n",
      "        \n"
     ]
    }
   ],
   "source": [
    "print(pehlaAccount)"
   ]
  },
  {
   "cell_type": "code",
   "execution_count": 56,
   "id": "f5ff6784-5d0c-443e-bb46-5b6a72a3819b",
   "metadata": {},
   "outputs": [
    {
     "name": "stdout",
     "output_type": "stream",
     "text": [
      "\n",
      "             === SBI ===\n",
      "             byee\n",
      "        \n",
      "item was deleted\n"
     ]
    }
   ],
   "source": [
    "del pehlaAccount"
   ]
  },
  {
   "cell_type": "code",
   "execution_count": null,
   "id": "5ab2c65c-44af-462b-90b8-9bfb06dbf5cc",
   "metadata": {},
   "outputs": [],
   "source": []
  },
  {
   "cell_type": "code",
   "execution_count": null,
   "id": "625c61b2-fcd2-40c9-a931-e6d3d560bdf5",
   "metadata": {},
   "outputs": [],
   "source": []
  },
  {
   "cell_type": "code",
   "execution_count": null,
   "id": "28e0e3a3-5933-4223-abaf-d4bcd27fea2c",
   "metadata": {},
   "outputs": [],
   "source": []
  },
  {
   "cell_type": "markdown",
   "id": "f4e103e6-6da2-4fbb-b50b-f71c0286fee3",
   "metadata": {},
   "source": [
    "# Encapsulation"
   ]
  },
  {
   "cell_type": "code",
   "execution_count": 135,
   "id": "a7989e43-c801-4c12-89d6-431d6a8a82a9",
   "metadata": {},
   "outputs": [],
   "source": [
    "class Account():\n",
    "    BANK_NAME = \"SBI\"\n",
    "    # self is object\n",
    "    # init runs when item is creat\n",
    "    def __init__(self, name, initialDeposit = 0):\n",
    "        self.name = name\n",
    "        self.__balance = initialDeposit\n",
    "        print(f\"{name} WELCOME TO {self.BANK_NAME}\")\n",
    "\n",
    "    # str runs when item is printed\n",
    "    def __str__(self):\n",
    "        # mandatory to return a str\n",
    "        # print(\"hi\") -- error\n",
    "        a = f\"\"\"\n",
    "             === {self.BANK_NAME} ===\n",
    "             Account Holder  : {self.name}\n",
    "             Account Balance : {self.__balance}\n",
    "        \"\"\"\n",
    "        return a\n",
    "\n",
    "    # def __del__(self):\n",
    "    #         # runs when memory location is cleared\n",
    "    #         # runs before object is deleted\n",
    "    #         b = f\"\"\"\n",
    "    #          === {self.BANK_NAME} ===\n",
    "    #          byee\n",
    "    #     \"\"\"\n",
    "    #         print(b)\n",
    "    #         print('item was deleted')\n",
    "\n",
    "    def __transection(self, amount, T):\n",
    "        print(f'{amount} was {T}')\n",
    "        print(f'current balance {self.__balance}')\n",
    "        if T == \"credited\"  :\n",
    "            print(f'initial amount {self.__balance - amount}')\n",
    "        else:\n",
    "            print(f'initial amount {self.__balance + amount}')\n",
    "        \n",
    "    \n",
    "    def credit(self, amount = 0):\n",
    "        self.__balance += amount\n",
    "        self.__transection(amount, \"credited\")\n",
    "\n",
    "    def debit(self, amount = 0):\n",
    "        if self.__balance > amount:\n",
    "            self.__balance -= amount\n",
    "            self.__transection(amount,\"debited\")\n",
    "            return amount\n",
    "        else:\n",
    "            print(\"insufficient balance\")\n",
    "        "
   ]
  },
  {
   "cell_type": "code",
   "execution_count": 136,
   "id": "4aff9d21-0129-443f-b022-89233916d701",
   "metadata": {},
   "outputs": [
    {
     "name": "stdout",
     "output_type": "stream",
     "text": [
      "raman WELCOME TO SBI\n"
     ]
    }
   ],
   "source": [
    "dosraAccount = Account(\"raman\", 5000)"
   ]
  },
  {
   "cell_type": "code",
   "execution_count": 137,
   "id": "95e0ab29-d3d7-49e1-b066-11e3865b63c0",
   "metadata": {},
   "outputs": [],
   "source": [
    "# problem  , anyone can access the balance , use __balance instead of balance,\n",
    "#isse sirf functions ke pass access rahega bakion ke pass nhi\n",
    "#Encapsulation -- use two underscores(__) before variables and functions\n",
    "dosraAccount.__balance = 0"
   ]
  },
  {
   "cell_type": "code",
   "execution_count": 140,
   "id": "361ed0b9-7c91-4431-aec5-6c265fccdd08",
   "metadata": {},
   "outputs": [
    {
     "name": "stdout",
     "output_type": "stream",
     "text": [
      "3000 was credited\n",
      "current balance 14000\n",
      "initial amount 11000\n"
     ]
    }
   ],
   "source": [
    "dosraAccount.credit(3000)"
   ]
  },
  {
   "cell_type": "code",
   "execution_count": 133,
   "id": "992b5101-b887-49d0-a371-ec2a3120e451",
   "metadata": {},
   "outputs": [
    {
     "name": "stdout",
     "output_type": "stream",
     "text": [
      "\n",
      "             === SBI ===\n",
      "             Account Holder  : raman\n",
      "             Account Balance : 12000\n",
      "        \n"
     ]
    }
   ],
   "source": [
    "print(dosraAccount)"
   ]
  },
  {
   "cell_type": "code",
   "execution_count": 134,
   "id": "483b12df-e3db-45e8-9377-f84d6a0bcaa6",
   "metadata": {},
   "outputs": [
    {
     "name": "stdout",
     "output_type": "stream",
     "text": [
      "2000 was debited\n",
      "current balance 10000\n",
      "initial amount 12000\n"
     ]
    },
    {
     "data": {
      "text/plain": [
       "2000"
      ]
     },
     "execution_count": 134,
     "metadata": {},
     "output_type": "execute_result"
    }
   ],
   "source": [
    "dosraAccount.debit(2000)"
   ]
  },
  {
   "cell_type": "code",
   "execution_count": null,
   "id": "b3cde834-d6d8-45de-b2e8-c3d9aae01d63",
   "metadata": {},
   "outputs": [],
   "source": []
  },
  {
   "cell_type": "code",
   "execution_count": null,
   "id": "eefed8fc-6db2-49a9-a3b3-4f9ce98ed468",
   "metadata": {},
   "outputs": [],
   "source": []
  },
  {
   "cell_type": "code",
   "execution_count": null,
   "id": "71663af6-4e1c-4e95-be3f-7d08eead30cb",
   "metadata": {},
   "outputs": [],
   "source": []
  }
 ],
 "metadata": {
  "kernelspec": {
   "display_name": "Python [conda env:base] *",
   "language": "python",
   "name": "conda-base-py"
  },
  "language_info": {
   "codemirror_mode": {
    "name": "ipython",
    "version": 3
   },
   "file_extension": ".py",
   "mimetype": "text/x-python",
   "name": "python",
   "nbconvert_exporter": "python",
   "pygments_lexer": "ipython3",
   "version": "3.13.5"
  }
 },
 "nbformat": 4,
 "nbformat_minor": 5
}
