{
 "cells": [
  {
   "cell_type": "markdown",
   "id": "be44e34e-4213-449f-87b6-4fabdfc91799",
   "metadata": {},
   "source": [
    "## while loop practice"
   ]
  },
  {
   "cell_type": "code",
   "execution_count": 1,
   "id": "2d1b9236-7be1-41de-b814-3145187aba03",
   "metadata": {},
   "outputs": [],
   "source": [
    "## dictionary using while loop\n",
    "d ={\n",
    "    'name' : 'pawan',\n",
    "    'age' : 24,\n",
    "    'education' : 'btech'\n",
    "}"
   ]
  },
  {
   "cell_type": "code",
   "execution_count": 2,
   "id": "b3555589-9e83-4d3d-899c-8d07c6d505b5",
   "metadata": {},
   "outputs": [
    {
     "data": {
      "text/plain": [
       "dict_keys(['name', 'age', 'education'])"
      ]
     },
     "execution_count": 2,
     "metadata": {},
     "output_type": "execute_result"
    }
   ],
   "source": [
    "d.keys()"
   ]
  },
  {
   "cell_type": "code",
   "execution_count": 3,
   "id": "c021480b-0257-495b-9c6a-42afff658717",
   "metadata": {},
   "outputs": [
    {
     "name": "stdout",
     "output_type": "stream",
     "text": [
      "pawan\n",
      "24\n",
      "btech\n"
     ]
    }
   ],
   "source": [
    "\n",
    "i = 0\n",
    "n = len(d)\n",
    "k = list(d.keys())\n",
    "while i < n:\n",
    "    # key = k[i]\n",
    "    # print(d[key])\n",
    "    print(d[k[i]])\n",
    "    i += 1"
   ]
  },
  {
   "cell_type": "code",
   "execution_count": 4,
   "id": "4a9b570f-72f4-4367-bae0-159f29845e77",
   "metadata": {},
   "outputs": [],
   "source": [
    "l = [1,4,5,6,3,9,0,7]"
   ]
  },
  {
   "cell_type": "code",
   "execution_count": 5,
   "id": "1f71e7c2-1dc9-488f-b757-8eaec8077836",
   "metadata": {},
   "outputs": [
    {
     "name": "stdout",
     "output_type": "stream",
     "text": [
      "index : 5 , maximum is : 9\n"
     ]
    }
   ],
   "source": [
    "## maximum\n",
    "i = 0\n",
    "n = len(l)\n",
    "maxi = 0\n",
    "while i < n:\n",
    "    if l[i] > l[maxi]:\n",
    "        maxi = i\n",
    "    i += 1\n",
    "print(\"index :\" , maxi, \",\", \"maximum is :\",l[maxi])"
   ]
  },
  {
   "cell_type": "code",
   "execution_count": 6,
   "id": "8456cd68-58da-47ef-b1a6-724c649c6b21",
   "metadata": {},
   "outputs": [],
   "source": [
    "l = [7,8,4,1,2,9,5]"
   ]
  },
  {
   "cell_type": "code",
   "execution_count": 7,
   "id": "af0d4570-79de-41a6-bca0-b3c957fde792",
   "metadata": {},
   "outputs": [
    {
     "name": "stdout",
     "output_type": "stream",
     "text": [
      "7 7\n",
      "8 15\n",
      "4 19\n",
      "1 20\n",
      "2 22\n",
      "9 31\n",
      "5 36\n",
      "36\n"
     ]
    }
   ],
   "source": [
    "## total sum\n",
    "a = 0\n",
    "i = 0\n",
    "n = len(l)\n",
    "while i < n:\n",
    "    a += l[i]\n",
    "    print(l[i],a)\n",
    "    i+= 1\n",
    "print(a)"
   ]
  },
  {
   "cell_type": "code",
   "execution_count": 8,
   "id": "53009936-e7dc-47b9-b996-f5d635debb40",
   "metadata": {},
   "outputs": [
    {
     "name": "stdout",
     "output_type": "stream",
     "text": [
      "3 1\n"
     ]
    }
   ],
   "source": [
    "## minimum\n",
    "l = [7,8,4,1,2,5]\n",
    "i = 0\n",
    "n = len(l)\n",
    "a = 0\n",
    "while i < n:\n",
    "    if l[i] < l[a]:\n",
    "        a = i\n",
    "    i += 1\n",
    "print(a, l[a])"
   ]
  },
  {
   "cell_type": "code",
   "execution_count": 9,
   "id": "34a08d46-386f-4eb0-9541-6521df26e162",
   "metadata": {},
   "outputs": [],
   "source": [
    "l.sort()"
   ]
  },
  {
   "cell_type": "code",
   "execution_count": 10,
   "id": "e3c0047b-cccf-4055-989a-78ecfacf1b32",
   "metadata": {},
   "outputs": [
    {
     "data": {
      "text/plain": [
       "[1, 2, 4, 5, 7, 8]"
      ]
     },
     "execution_count": 10,
     "metadata": {},
     "output_type": "execute_result"
    }
   ],
   "source": [
    "l"
   ]
  },
  {
   "cell_type": "code",
   "execution_count": 11,
   "id": "ca148a56-93ec-4263-b4c5-736c1db25e15",
   "metadata": {},
   "outputs": [
    {
     "data": {
      "text/plain": [
       "5"
      ]
     },
     "execution_count": 11,
     "metadata": {},
     "output_type": "execute_result"
    }
   ],
   "source": [
    "l[len(l)//2]"
   ]
  },
  {
   "cell_type": "code",
   "execution_count": 12,
   "id": "2e00257e-b088-431d-8de5-5157e257bb9d",
   "metadata": {},
   "outputs": [
    {
     "data": {
      "text/plain": [
       "3"
      ]
     },
     "execution_count": 12,
     "metadata": {},
     "output_type": "execute_result"
    }
   ],
   "source": [
    "len(l)//2"
   ]
  },
  {
   "cell_type": "code",
   "execution_count": 13,
   "id": "5c32b865-0e9e-49f2-82e3-1757113134d1",
   "metadata": {},
   "outputs": [
    {
     "name": "stdout",
     "output_type": "stream",
     "text": [
      "9 is not a prime number\n"
     ]
    }
   ],
   "source": [
    "## prime or not \n",
    "n = 9\n",
    "prime = True\n",
    "i = 2\n",
    "\n",
    "while i < n:\n",
    "    if n % i == 0:\n",
    "        prime = False\n",
    "        break\n",
    "    i += 1\n",
    "if prime:\n",
    "    print(f'{n} is a prime number')\n",
    "else:\n",
    "    print(f'{n} is not a prime number')"
   ]
  },
  {
   "cell_type": "code",
   "execution_count": 14,
   "id": "c7448afb-7002-44a8-87e8-dfc79a31a5b6",
   "metadata": {},
   "outputs": [
    {
     "name": "stdout",
     "output_type": "stream",
     "text": [
      "index 3 smallest 1\n"
     ]
    }
   ],
   "source": [
    "## smallest\n",
    "l = [3,5,9,1,2,7,6]\n",
    "\n",
    "n = len(l)\n",
    "i =  0\n",
    "a = 0\n",
    "while i < n :\n",
    "    if l[i] < l[a]:\n",
    "        a = i\n",
    "    i += 1\n",
    "print('index', a ,'smallest', l[a])"
   ]
  },
  {
   "cell_type": "code",
   "execution_count": 15,
   "id": "c1b17bdc-c320-4b9b-a859-150f6891a891",
   "metadata": {},
   "outputs": [
    {
     "name": "stdout",
     "output_type": "stream",
     "text": [
      "index 3 smallest 1\n",
      "index 4 second smallest 2\n"
     ]
    }
   ],
   "source": [
    "## second smallest\n",
    "l = [3,5,9,1,2,7,6]\n",
    "\n",
    "n = len(l)\n",
    "i =  0\n",
    "a = 0\n",
    "\n",
    "while i < n :\n",
    "    # print(i, a, l[i], l[a])\n",
    "    if l[i] < l[a]:\n",
    "        a = i\n",
    "    i += 1\n",
    "\n",
    "i = 0\n",
    "b = 0\n",
    "while i < n:\n",
    "    # print(i,b,l[i],l[a],l[i],l[b])\n",
    "    if l[i] != l[a] and l[i] < l[b] :\n",
    "        b = i\n",
    "    i += 1\n",
    "\n",
    "print('index', a ,'smallest', l[a])\n",
    "print('index', b ,'second smallest', l[b])"
   ]
  },
  {
   "cell_type": "code",
   "execution_count": 16,
   "id": "bc48c58a-114c-4b84-9767-2d1f50dd175b",
   "metadata": {},
   "outputs": [
    {
     "name": "stdout",
     "output_type": "stream",
     "text": [
      "index 2 largets 9\n",
      "index   7 second largest 8\n"
     ]
    }
   ],
   "source": [
    "# second largest\n",
    "l = [3,5,9,1,2,7,6,8]\n",
    "\n",
    "n = len(l)\n",
    "i =  0\n",
    "a = 0\n",
    "\n",
    "while i < n :\n",
    "    if l[i] > l[a]:\n",
    "        a = i\n",
    "    i += 1\n",
    "\n",
    "i = 0\n",
    "b = 0\n",
    "while i < n:\n",
    "    if l[i] != l[a] and l[i] > l[b] :\n",
    "        b = i\n",
    "    i += 1\n",
    "\n",
    "print('index', a ,'largets', l[a])\n",
    "print('index  ', b ,'second largest', l[b])"
   ]
  },
  {
   "cell_type": "code",
   "execution_count": 17,
   "id": "3bf88a71-6245-4db9-b69e-94cff0b8af7e",
   "metadata": {},
   "outputs": [
    {
     "name": "stdout",
     "output_type": "stream",
     "text": [
      "1\n",
      "2\n",
      "4\n"
     ]
    }
   ],
   "source": [
    "##factors\n",
    "n = 4\n",
    "i =  1\n",
    "while i <= n:\n",
    "    if n % i == 0:\n",
    "        print(i)\n",
    "    i += 1"
   ]
  },
  {
   "cell_type": "code",
   "execution_count": 18,
   "id": "dea3ddd1-da26-4006-8b50-7e758350a590",
   "metadata": {},
   "outputs": [
    {
     "name": "stdout",
     "output_type": "stream",
     "text": [
      "[1, 2, 4]\n"
     ]
    }
   ],
   "source": [
    "##factors in list\n",
    "n = 4\n",
    "i =  1\n",
    "l =  []\n",
    "while i <= n:\n",
    "    if n % i == 0:\n",
    "        l.append(i)\n",
    "    i += 1\n",
    "print(l)"
   ]
  },
  {
   "cell_type": "code",
   "execution_count": 19,
   "id": "243f3701-6b5c-497d-8083-dc7935714b0c",
   "metadata": {},
   "outputs": [
    {
     "name": "stdout",
     "output_type": "stream",
     "text": [
      "2 2 2\n",
      "5 2 2\n",
      "6 5 2\n",
      "9 6 5\n",
      "4 9 6\n",
      "3 9 6\n",
      "7 9 6\n",
      "10 9 7\n",
      "8 10 9\n",
      "10 9\n"
     ]
    }
   ],
   "source": [
    "## second largest using other way\n",
    "a = [2,5,6,9,4,3,7,10,8]\n",
    "l = a[0]\n",
    "s = a[0]\n",
    "i = 0\n",
    "n = len(a)\n",
    "\n",
    "while i < n:\n",
    "    print(a[i],l,s)\n",
    "    if a[i] > l:\n",
    "        s = l\n",
    "        l = a[i]\n",
    "    elif a[i] > s:\n",
    "        s = a[i]\n",
    "    i += 1\n",
    "print(l,s)"
   ]
  },
  {
   "cell_type": "code",
   "execution_count": null,
   "id": "fb319f92-ad77-4c06-9b50-ed3fdcbabfa0",
   "metadata": {},
   "outputs": [],
   "source": []
  },
  {
   "cell_type": "code",
   "execution_count": null,
   "id": "2f361c31-246d-4e53-87a6-7b418908bf23",
   "metadata": {},
   "outputs": [],
   "source": []
  },
  {
   "cell_type": "code",
   "execution_count": 26,
   "id": "25df5fc4-41b8-4f9d-bcd6-01ade1e3b300",
   "metadata": {},
   "outputs": [
    {
     "name": "stdout",
     "output_type": "stream",
     "text": [
      "01234\n",
      "01234\n",
      "01234\n",
      "01234\n",
      "01234\n"
     ]
    }
   ],
   "source": [
    "i = 0\n",
    "n = 5 #rows\n",
    "while i < n :\n",
    "    # print(i)\n",
    "    j = 0\n",
    "    m = 5 #columns\n",
    "    while j < m:\n",
    "        print(j, end='')\n",
    "        j += 1\n",
    "    print()\n",
    "    i += 1"
   ]
  },
  {
   "cell_type": "code",
   "execution_count": null,
   "id": "5b4b0821-9466-4ac1-8da7-df1fe29d8414",
   "metadata": {},
   "outputs": [],
   "source": []
  },
  {
   "cell_type": "code",
   "execution_count": 2,
   "id": "d423057c-af80-4a45-a54f-53e0f3ddd5a0",
   "metadata": {},
   "outputs": [
    {
     "name": "stdout",
     "output_type": "stream",
     "text": [
      "0 pawan\n",
      "0 p\n",
      "1 a\n",
      "2 w\n",
      "3 a\n",
      "4 n\n",
      "1 raman\n",
      "0 r\n",
      "1 a\n",
      "2 m\n",
      "3 a\n",
      "4 n\n",
      "2 komal\n",
      "0 k\n",
      "1 o\n",
      "2 m\n",
      "3 a\n",
      "4 l\n",
      "3 ritu\n",
      "0 r\n",
      "1 i\n",
      "2 t\n",
      "3 u\n"
     ]
    }
   ],
   "source": [
    "l = [\"pawan\",'raman','komal','ritu']\n",
    "i = 0\n",
    "n = len(l) #rows\n",
    "while i < n :\n",
    "    print(i, l[i])\n",
    "    j = 0\n",
    "    m = len(l[i]) #columns\n",
    "    while j < m:\n",
    "        print(j,l[i][j])\n",
    "        j += 1\n",
    "    i += 1"
   ]
  }
 ],
 "metadata": {
  "kernelspec": {
   "display_name": "Python [conda env:base] *",
   "language": "python",
   "name": "conda-base-py"
  },
  "language_info": {
   "codemirror_mode": {
    "name": "ipython",
    "version": 3
   },
   "file_extension": ".py",
   "mimetype": "text/x-python",
   "name": "python",
   "nbconvert_exporter": "python",
   "pygments_lexer": "ipython3",
   "version": "3.13.5"
  }
 },
 "nbformat": 4,
 "nbformat_minor": 5
}
