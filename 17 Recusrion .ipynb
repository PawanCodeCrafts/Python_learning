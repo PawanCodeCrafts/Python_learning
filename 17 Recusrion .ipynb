{
 "cells": [
  {
   "cell_type": "markdown",
   "id": "c4cc38fe-c652-4bc3-9984-0614f8587595",
   "metadata": {},
   "source": [
    "# Recursion"
   ]
  },
  {
   "cell_type": "markdown",
   "id": "e0dc2cbe-f3ce-45ef-9b7c-a90bf6f52043",
   "metadata": {},
   "source": [
    "### when we call a function in itself \n",
    "1.  we call a function in iteself\n",
    "2.  we assume the secnd call will give a correct ouput \n",
    "3.  it must have a terminting condition"
   ]
  },
  {
   "cell_type": "raw",
   "id": "c45052bd-f2e6-4923-8124-6c12be0962b0",
   "metadata": {},
   "source": [
    "if we run an infinite loop accidentally then it will give \"recusrion depth\" error"
   ]
  },
  {
   "cell_type": "code",
   "execution_count": 1,
   "id": "6be93e98-93c3-46d8-ab7b-fe9fbdfa188b",
   "metadata": {},
   "outputs": [],
   "source": [
    "# factorial of a number"
   ]
  },
  {
   "cell_type": "code",
   "execution_count": 7,
   "id": "7966266e-78f7-4354-891a-4471329ffa71",
   "metadata": {},
   "outputs": [],
   "source": [
    "def factorial(n):\n",
    "    if n == 0 or n == 1:\n",
    "        return 1\n",
    "        \n",
    "    return n * factorial(n-1)"
   ]
  },
  {
   "cell_type": "code",
   "execution_count": 8,
   "id": "be336b5f-8e89-42aa-9830-c8cacb210560",
   "metadata": {},
   "outputs": [
    {
     "data": {
      "text/plain": [
       "6"
      ]
     },
     "execution_count": 8,
     "metadata": {},
     "output_type": "execute_result"
    }
   ],
   "source": [
    "factorial(3)"
   ]
  },
  {
   "cell_type": "code",
   "execution_count": 5,
   "id": "6f5004e9-d920-42e2-9a9b-c5ba06a250b1",
   "metadata": {},
   "outputs": [],
   "source": [
    "def factorial(n):\n",
    "    # print(n, n-1)\n",
    "    if n == 0 or n == 1:\n",
    "        return 1\n",
    "        \n",
    "    fact = n * factorial(n-1)\n",
    "    print(fact)\n",
    "    return fact"
   ]
  },
  {
   "cell_type": "code",
   "execution_count": 6,
   "id": "6f810438-88f4-4251-91b0-396c8fbff9a3",
   "metadata": {},
   "outputs": [
    {
     "name": "stdout",
     "output_type": "stream",
     "text": [
      "2\n",
      "6\n"
     ]
    },
    {
     "data": {
      "text/plain": [
       "6"
      ]
     },
     "execution_count": 6,
     "metadata": {},
     "output_type": "execute_result"
    }
   ],
   "source": [
    "factorial(3)"
   ]
  },
  {
   "cell_type": "code",
   "execution_count": 7,
   "id": "8fc2a785-9b51-4f8c-b355-1676b026d9d9",
   "metadata": {},
   "outputs": [],
   "source": [
    "def factorial(n):\n",
    "    print(n,n-1)\n",
    "    if n==0:\n",
    "        return 1\n",
    "    return n*factorial(n-1)"
   ]
  },
  {
   "cell_type": "code",
   "execution_count": 2,
   "id": "68e912a7-b958-47cd-bccc-85ad438b500d",
   "metadata": {},
   "outputs": [
    {
     "name": "stdout",
     "output_type": "stream",
     "text": [
      "5 4\n",
      "4 3\n",
      "3 2\n",
      "2 1\n",
      "1 0\n",
      "0 -1\n"
     ]
    },
    {
     "data": {
      "text/plain": [
       "120"
      ]
     },
     "execution_count": 2,
     "metadata": {},
     "output_type": "execute_result"
    }
   ],
   "source": [
    "factorial(5)"
   ]
  },
  {
   "cell_type": "code",
   "execution_count": null,
   "id": "c0ffcaa6-3626-49a8-b769-1404d1a6e867",
   "metadata": {},
   "outputs": [],
   "source": [
    " #Recursion are of two types \n",
    "# 1) tailed \n",
    "# 2) non-tailed\n"
   ]
  },
  {
   "cell_type": "code",
   "execution_count": null,
   "id": "d5220430-b373-4a62-9ddc-c0cc99596a50",
   "metadata": {},
   "outputs": [],
   "source": [
    "## tailed type\n",
    "def factorial(n):\n",
    "    if n==0:\n",
    "        return 1\n",
    "    print(n,n-1)\n",
    "    return n*factorial(n-1)"
   ]
  },
  {
   "cell_type": "code",
   "execution_count": 8,
   "id": "a38dbc7f-6144-42da-b9d7-12aba1055b0a",
   "metadata": {},
   "outputs": [
    {
     "name": "stdout",
     "output_type": "stream",
     "text": [
      "3 2\n",
      "2 1\n",
      "1 0\n",
      "0 -1\n"
     ]
    },
    {
     "data": {
      "text/plain": [
       "6"
      ]
     },
     "execution_count": 8,
     "metadata": {},
     "output_type": "execute_result"
    }
   ],
   "source": [
    "factorial(3)"
   ]
  },
  {
   "cell_type": "code",
   "execution_count": 9,
   "id": "ad20445a-9aa8-4217-9212-0bb98ff4e116",
   "metadata": {},
   "outputs": [],
   "source": [
    "# non-tailed type\n",
    "def factorial(n):\n",
    "    if n==0:\n",
    "        return 1\n",
    "    abc=n*factorial(n-1)\n",
    "    print(abc)\n",
    "    return abc"
   ]
  },
  {
   "cell_type": "code",
   "execution_count": 12,
   "id": "51a4ddd1-0357-48b8-b1f7-87e2aa452bdf",
   "metadata": {},
   "outputs": [
    {
     "name": "stdout",
     "output_type": "stream",
     "text": [
      "1\n",
      "2\n",
      "6\n",
      "24\n",
      "120\n",
      "720\n"
     ]
    },
    {
     "data": {
      "text/plain": [
       "720"
      ]
     },
     "execution_count": 12,
     "metadata": {},
     "output_type": "execute_result"
    }
   ],
   "source": [
    "factorial(6)"
   ]
  },
  {
   "cell_type": "code",
   "execution_count": 13,
   "id": "e5683000-9c89-4ac6-bc8a-05a14be9df49",
   "metadata": {},
   "outputs": [],
   "source": [
    "# add all items in list\n",
    "L = [2,4,3,1,2]"
   ]
  },
  {
   "cell_type": "code",
   "execution_count": 17,
   "id": "31db3a7e-b7da-4187-9444-a96baeff26cd",
   "metadata": {},
   "outputs": [],
   "source": [
    "def addList(L):\n",
    "    if len(L) == 0:\n",
    "        return 0\n",
    "    print(L)\n",
    "    return L[0] + addList(L[1:])"
   ]
  },
  {
   "cell_type": "code",
   "execution_count": 18,
   "id": "59c88337-134f-4947-99c4-a85b3e7c7c5c",
   "metadata": {},
   "outputs": [
    {
     "name": "stdout",
     "output_type": "stream",
     "text": [
      "[2, 4, 3, 1, 2]\n",
      "[4, 3, 1, 2]\n",
      "[3, 1, 2]\n",
      "[1, 2]\n",
      "[2]\n"
     ]
    },
    {
     "data": {
      "text/plain": [
       "12"
      ]
     },
     "execution_count": 18,
     "metadata": {},
     "output_type": "execute_result"
    }
   ],
   "source": [
    "addList(L)"
   ]
  },
  {
   "cell_type": "code",
   "execution_count": 24,
   "id": "b4a777c5-a002-4a59-bba9-0dddaac5ea30",
   "metadata": {},
   "outputs": [],
   "source": [
    "def addList(L):\n",
    "    print(L)\n",
    "    if len(L)==0:\n",
    "        return 0\n",
    "    return L[0]+addList(L[1:])"
   ]
  },
  {
   "cell_type": "code",
   "execution_count": 25,
   "id": "a3ee59cf-1ab3-4565-b43c-80451901c07d",
   "metadata": {},
   "outputs": [
    {
     "name": "stdout",
     "output_type": "stream",
     "text": [
      "[2, 4, 3, 1, 2]\n",
      "[4, 3, 1, 2]\n",
      "[3, 1, 2]\n",
      "[1, 2]\n",
      "[2]\n",
      "[]\n"
     ]
    },
    {
     "data": {
      "text/plain": [
       "12"
      ]
     },
     "execution_count": 25,
     "metadata": {},
     "output_type": "execute_result"
    }
   ],
   "source": [
    "addList(L)\n"
   ]
  },
  {
   "cell_type": "code",
   "execution_count": 27,
   "id": "4f038b83-dae0-4aae-907b-17cc3b6a42a0",
   "metadata": {},
   "outputs": [],
   "source": [
    "def addList(L):\n",
    "    if len(L)==0:\n",
    "        return 0\n",
    "    return L[0]+addList(L[1:])"
   ]
  },
  {
   "cell_type": "code",
   "execution_count": 28,
   "id": "c8a518e4-657f-4f00-98a0-22d39bd47dee",
   "metadata": {},
   "outputs": [
    {
     "data": {
      "text/plain": [
       "12"
      ]
     },
     "execution_count": 28,
     "metadata": {},
     "output_type": "execute_result"
    }
   ],
   "source": [
    "addList(L)"
   ]
  },
  {
   "cell_type": "code",
   "execution_count": 29,
   "id": "374faa19-733a-40e6-a0ea-6592d2a603be",
   "metadata": {},
   "outputs": [],
   "source": [
    "# do depth first search (dfs) and breadth first search(bfs)"
   ]
  },
  {
   "cell_type": "code",
   "execution_count": 43,
   "id": "5689f7f8-1ad5-43f9-a0d5-3fac474322cf",
   "metadata": {},
   "outputs": [],
   "source": [
    "def addList(L):\n",
    "    # print(L)\n",
    "    if type(L) is int:\n",
    "        return L\n",
    "    elif len(L)==0:\n",
    "        return 0\n",
    "    abc = addList(L[0]) + addList(L[1:])\n",
    "    print( f\"l[0] is : {L[0]}, and List is : {L}, and abc store :{ abc}\")\n",
    "    return abc"
   ]
  },
  {
   "cell_type": "code",
   "execution_count": 44,
   "id": "e4796668-3a5b-478b-a3b6-27ae3b104f07",
   "metadata": {},
   "outputs": [
    {
     "name": "stdout",
     "output_type": "stream",
     "text": [
      "l[0] is : 7, and List is : [7], and abc store :7\n",
      "l[0] is : 6, and List is : [6, 7], and abc store :13\n",
      "l[0] is : 5, and List is : [5, 6, 7], and abc store :18\n",
      "l[0] is : 3, and List is : [3, 5, 6, 7], and abc store :21\n",
      "l[0] is : 6, and List is : [6], and abc store :6\n",
      "l[0] is : 5, and List is : [5, 6], and abc store :11\n",
      "l[0] is : 9, and List is : [9, 5, 6], and abc store :20\n",
      "l[0] is : 8, and List is : [8, 9, 5, 6], and abc store :28\n",
      "l[0] is : [3, 5, 6, 7], and List is : [[3, 5, 6, 7], 8, 9, 5, 6], and abc store :49\n",
      "l[0] is : 2, and List is : [2, [3, 5, 6, 7], 8, 9, 5, 6], and abc store :51\n",
      "l[0] is : 1, and List is : [1, 2, [3, 5, 6, 7], 8, 9, 5, 6], and abc store :52\n"
     ]
    },
    {
     "data": {
      "text/plain": [
       "52"
      ]
     },
     "execution_count": 44,
     "metadata": {},
     "output_type": "execute_result"
    }
   ],
   "source": [
    "addList([1,2,[3,5,6,7],8,9,5,6])"
   ]
  },
  {
   "cell_type": "code",
   "execution_count": 51,
   "id": "efbabb71-e89a-4e0c-9747-1043e7eb2987",
   "metadata": {},
   "outputs": [],
   "source": [
    "# RECURSION WORKING FLOW (how recursion call in itself)"
   ]
  },
  {
   "cell_type": "code",
   "execution_count": 52,
   "id": "d9216586-99ee-48bb-9c43-d7a0951d2d49",
   "metadata": {},
   "outputs": [],
   "source": [
    "# take factorial of 5 WORKING\n",
    "\n",
    "# factorial(5):                                                        \n",
    "#      return 5 * factorial(4) ---------------------------------------{{5 x 24} =120} ------ {it return factorial of 5 is 120}\n",
    "#                    |\n",
    "#                   factorial(4)\n",
    "#                   return 4 * factorial(3) -----------------------------------{{4 x 6} = 24}   \n",
    "#                                   |\n",
    "#                                factorial(3)\n",
    "#                                return 3 * factorial(2)------------------------{{3 x 2} = 6}\n",
    "#                                             |\n",
    "#                                            factorial(2)\n",
    "#                                            return 2 * factorial(1)--------------{{becomes 2 x 1} = 2} \n",
    "#                                                               |                                       \n",
    "#                                                        factorial(1)------------{{this 1 goes back to above step}}                                  \n",
    "#     ##agar n equal 1 ya 0 hota hai toh 1 returb hoga## if n == 1 or n == 0:                            \n",
    "#                                                            return 1  \n",
    "\n",
    "# ######same with list and others\n"
   ]
  },
  {
   "cell_type": "code",
   "execution_count": null,
   "id": "e354b6b5-c35c-401f-ac14-24693eeff3c1",
   "metadata": {},
   "outputs": [],
   "source": []
  }
 ],
 "metadata": {
  "kernelspec": {
   "display_name": "Python [conda env:base] *",
   "language": "python",
   "name": "conda-base-py"
  },
  "language_info": {
   "codemirror_mode": {
    "name": "ipython",
    "version": 3
   },
   "file_extension": ".py",
   "mimetype": "text/x-python",
   "name": "python",
   "nbconvert_exporter": "python",
   "pygments_lexer": "ipython3",
   "version": "3.13.5"
  }
 },
 "nbformat": 4,
 "nbformat_minor": 5
}
