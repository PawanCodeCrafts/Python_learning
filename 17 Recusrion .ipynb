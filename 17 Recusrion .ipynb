{
 "cells": [
  {
   "cell_type": "markdown",
   "id": "c4cc38fe-c652-4bc3-9984-0614f8587595",
   "metadata": {},
   "source": [
    "# Recursion"
   ]
  },
  {
   "cell_type": "markdown",
   "id": "e0dc2cbe-f3ce-45ef-9b7c-a90bf6f52043",
   "metadata": {},
   "source": [
    "### when we call a function in itself \n",
    "1.  we call a function in iteself\n",
    "2.  we assume the secnd call will give a correct ouput \n",
    "3.  it must have a terminting condition"
   ]
  },
  {
   "cell_type": "raw",
   "id": "c45052bd-f2e6-4923-8124-6c12be0962b0",
   "metadata": {},
   "source": [
    "if we run an infinite loop accidentally then it will give \"recusrion depth\" error"
   ]
  },
  {
   "cell_type": "code",
   "execution_count": 1,
   "id": "6be93e98-93c3-46d8-ab7b-fe9fbdfa188b",
   "metadata": {},
   "outputs": [],
   "source": [
    "# factorial of a number"
   ]
  },
  {
   "cell_type": "code",
   "execution_count": 7,
   "id": "7966266e-78f7-4354-891a-4471329ffa71",
   "metadata": {},
   "outputs": [],
   "source": [
    "def factorial(n):\n",
    "    if n == 0 or n == 1:\n",
    "        return 1\n",
    "        \n",
    "    return n * factorial(n-1)"
   ]
  },
  {
   "cell_type": "code",
   "execution_count": 8,
   "id": "be336b5f-8e89-42aa-9830-c8cacb210560",
   "metadata": {},
   "outputs": [
    {
     "data": {
      "text/plain": [
       "6"
      ]
     },
     "execution_count": 8,
     "metadata": {},
     "output_type": "execute_result"
    }
   ],
   "source": [
    "factorial(3)"
   ]
  },
  {
   "cell_type": "code",
   "execution_count": 5,
   "id": "6f5004e9-d920-42e2-9a9b-c5ba06a250b1",
   "metadata": {},
   "outputs": [],
   "source": [
    "def factorial(n):\n",
    "    # print(n, n-1)\n",
    "    if n == 0 or n == 1:\n",
    "        return 1\n",
    "        \n",
    "    fact = n * factorial(n-1)\n",
    "    print(fact)\n",
    "    return fact"
   ]
  },
  {
   "cell_type": "code",
   "execution_count": 6,
   "id": "6f810438-88f4-4251-91b0-396c8fbff9a3",
   "metadata": {},
   "outputs": [
    {
     "name": "stdout",
     "output_type": "stream",
     "text": [
      "2\n",
      "6\n"
     ]
    },
    {
     "data": {
      "text/plain": [
       "6"
      ]
     },
     "execution_count": 6,
     "metadata": {},
     "output_type": "execute_result"
    }
   ],
   "source": [
    "factorial(3)"
   ]
  },
  {
   "cell_type": "code",
   "execution_count": 29,
   "id": "c7b02506-468d-49da-9cba-27893981b761",
   "metadata": {},
   "outputs": [],
   "source": [
    "# add all items in list\n",
    "L = [2,4,3,1,2]\n"
   ]
  },
  {
   "cell_type": "code",
   "execution_count": 35,
   "id": "31db3a7e-b7da-4187-9444-a96baeff26cd",
   "metadata": {},
   "outputs": [],
   "source": [
    "def addList(L):\n",
    "    print(L)\n",
    "    if len(L) == 0:\n",
    "        return 0\n",
    "    return L[0] + addList(L[1:])"
   ]
  },
  {
   "cell_type": "code",
   "execution_count": 36,
   "id": "59c88337-134f-4947-99c4-a85b3e7c7c5c",
   "metadata": {},
   "outputs": [
    {
     "name": "stdout",
     "output_type": "stream",
     "text": [
      "[2, 4, 3, 1, 2]\n",
      "[4, 3, 1, 2]\n",
      "[3, 1, 2]\n",
      "[1, 2]\n",
      "[2]\n",
      "[]\n"
     ]
    },
    {
     "data": {
      "text/plain": [
       "12"
      ]
     },
     "execution_count": 36,
     "metadata": {},
     "output_type": "execute_result"
    }
   ],
   "source": [
    "addList(L)"
   ]
  },
  {
   "cell_type": "code",
   "execution_count": null,
   "id": "b4a777c5-a002-4a59-bba9-0dddaac5ea30",
   "metadata": {},
   "outputs": [],
   "source": []
  }
 ],
 "metadata": {
  "kernelspec": {
   "display_name": "Python [conda env:base] *",
   "language": "python",
   "name": "conda-base-py"
  },
  "language_info": {
   "codemirror_mode": {
    "name": "ipython",
    "version": 3
   },
   "file_extension": ".py",
   "mimetype": "text/x-python",
   "name": "python",
   "nbconvert_exporter": "python",
   "pygments_lexer": "ipython3",
   "version": "3.13.5"
  }
 },
 "nbformat": 4,
 "nbformat_minor": 5
}
