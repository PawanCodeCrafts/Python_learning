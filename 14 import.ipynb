{
 "cells": [
  {
   "cell_type": "markdown",
   "id": "11cddc3e-b716-4898-9c63-031c2472bc17",
   "metadata": {},
   "source": [
    "# IMPORTS"
   ]
  },
  {
   "cell_type": "code",
   "execution_count": 4,
   "id": "37b53988-fc69-42d4-860d-033163f7ade4",
   "metadata": {},
   "outputs": [],
   "source": [
    "## command prompt code\n",
    "## installation of library"
   ]
  },
  {
   "cell_type": "code",
   "execution_count": 6,
   "id": "9455cfbd-1fc0-4dc0-9a73-55452af0510f",
   "metadata": {},
   "outputs": [
    {
     "name": "stdout",
     "output_type": "stream",
     "text": [
      "Requirement already satisfied: pandas in c:\\users\\dell\\anaconda3\\lib\\site-packages (2.2.3)\n",
      "Requirement already satisfied: numpy>=1.26.0 in c:\\users\\dell\\anaconda3\\lib\\site-packages (from pandas) (2.1.3)\n",
      "Requirement already satisfied: python-dateutil>=2.8.2 in c:\\users\\dell\\anaconda3\\lib\\site-packages (from pandas) (2.9.0.post0)\n",
      "Requirement already satisfied: pytz>=2020.1 in c:\\users\\dell\\anaconda3\\lib\\site-packages (from pandas) (2024.1)\n",
      "Requirement already satisfied: tzdata>=2022.7 in c:\\users\\dell\\anaconda3\\lib\\site-packages (from pandas) (2025.2)\n",
      "Requirement already satisfied: six>=1.5 in c:\\users\\dell\\anaconda3\\lib\\site-packages (from python-dateutil>=2.8.2->pandas) (1.17.0)\n",
      "Note: you may need to restart the kernel to use updated packages.\n"
     ]
    }
   ],
   "source": [
    "pip install pandas"
   ]
  },
  {
   "cell_type": "raw",
   "id": "aa110318-a61a-4fbd-8b91-9c9f9b44fc6f",
   "metadata": {},
   "source": [
    "pip install Django==5.2.5"
   ]
  },
  {
   "cell_type": "code",
   "execution_count": 11,
   "id": "76fbfe7f-5f3e-4a18-98cd-ae92753a5774",
   "metadata": {},
   "outputs": [
    {
     "name": "stdout",
     "output_type": "stream",
     "text": [
      "Requirement already satisfied: numpy in c:\\users\\dell\\anaconda3\\lib\\site-packages (2.1.3)\n",
      "Note: you may need to restart the kernel to use updated packages.\n"
     ]
    }
   ],
   "source": [
    "pip install numpy"
   ]
  },
  {
   "cell_type": "code",
   "execution_count": 15,
   "id": "d4d7eb39-c256-4f60-849c-7e6b1a83c27e",
   "metadata": {},
   "outputs": [],
   "source": [
    "import pandas as pd"
   ]
  },
  {
   "cell_type": "code",
   "execution_count": 16,
   "id": "086094bb-2225-4d65-8c3d-318dc061221a",
   "metadata": {},
   "outputs": [
    {
     "data": {
      "text/plain": [
       "<module 'pandas' from 'C:\\\\Users\\\\DELL\\\\anaconda3\\\\Lib\\\\site-packages\\\\pandas\\\\__init__.py'>"
      ]
     },
     "execution_count": 16,
     "metadata": {},
     "output_type": "execute_result"
    }
   ],
   "source": [
    "pd"
   ]
  },
  {
   "cell_type": "code",
   "execution_count": 18,
   "id": "333b802a-2816-4525-9e7e-13f762bb9c84",
   "metadata": {},
   "outputs": [
    {
     "data": {
      "text/html": [
       "<div>\n",
       "<style scoped>\n",
       "    .dataframe tbody tr th:only-of-type {\n",
       "        vertical-align: middle;\n",
       "    }\n",
       "\n",
       "    .dataframe tbody tr th {\n",
       "        vertical-align: top;\n",
       "    }\n",
       "\n",
       "    .dataframe thead th {\n",
       "        text-align: right;\n",
       "    }\n",
       "</style>\n",
       "<table border=\"1\" class=\"dataframe\">\n",
       "  <thead>\n",
       "    <tr style=\"text-align: right;\">\n",
       "      <th></th>\n",
       "      <th>name</th>\n",
       "      <th>age</th>\n",
       "    </tr>\n",
       "  </thead>\n",
       "  <tbody>\n",
       "    <tr>\n",
       "      <th>0</th>\n",
       "      <td>pawan</td>\n",
       "      <td>20</td>\n",
       "    </tr>\n",
       "    <tr>\n",
       "      <th>1</th>\n",
       "      <td>raman</td>\n",
       "      <td>21</td>\n",
       "    </tr>\n",
       "    <tr>\n",
       "      <th>2</th>\n",
       "      <td>komal</td>\n",
       "      <td>22</td>\n",
       "    </tr>\n",
       "  </tbody>\n",
       "</table>\n",
       "</div>"
      ],
      "text/plain": [
       "    name  age\n",
       "0  pawan   20\n",
       "1  raman   21\n",
       "2  komal   22"
      ]
     },
     "execution_count": 18,
     "metadata": {},
     "output_type": "execute_result"
    }
   ],
   "source": [
    "pd.DataFrame({\"name\":[\"pawan\", \"raman\", \"komal\"], 'age': [20,21,22]})"
   ]
  },
  {
   "cell_type": "code",
   "execution_count": 20,
   "id": "41d2c19c-136d-4e08-9785-c4c8b0a000e9",
   "metadata": {},
   "outputs": [],
   "source": [
    "## directli randint likhne ke liye "
   ]
  },
  {
   "cell_type": "code",
   "execution_count": 26,
   "id": "b5d915ae-a5c4-401c-92fe-8d26a7485d3d",
   "metadata": {},
   "outputs": [],
   "source": [
    "from random import randint, choices, choice"
   ]
  },
  {
   "cell_type": "code",
   "execution_count": 27,
   "id": "160a23f1-5903-4fdd-93d5-689dd74c10c9",
   "metadata": {},
   "outputs": [
    {
     "data": {
      "text/plain": [
       "10"
      ]
     },
     "execution_count": 27,
     "metadata": {},
     "output_type": "execute_result"
    }
   ],
   "source": [
    "randint(10,10)"
   ]
  },
  {
   "cell_type": "code",
   "execution_count": 33,
   "id": "187a7df9-509c-4f94-bd5a-cda9d4daddd5",
   "metadata": {},
   "outputs": [
    {
     "data": {
      "text/plain": [
       "'rekha'"
      ]
     },
     "execution_count": 33,
     "metadata": {},
     "output_type": "execute_result"
    }
   ],
   "source": [
    "choice(['pawan','gopi','rekha'])"
   ]
  },
  {
   "cell_type": "code",
   "execution_count": 35,
   "id": "7a1fd16e-64b8-4184-ad52-6e6d23548373",
   "metadata": {},
   "outputs": [],
   "source": [
    "from datetime import datetime"
   ]
  },
  {
   "cell_type": "code",
   "execution_count": 36,
   "id": "d495936b-7bcb-453e-ae38-bb15222ea8cc",
   "metadata": {},
   "outputs": [
    {
     "data": {
      "text/plain": [
       "datetime.datetime(2025, 8, 19, 13, 14, 4, 631895)"
      ]
     },
     "execution_count": 36,
     "metadata": {},
     "output_type": "execute_result"
    }
   ],
   "source": [
    "datetime.today()"
   ]
  },
  {
   "cell_type": "code",
   "execution_count": 37,
   "id": "80c6e18f-806c-494d-95e1-410c9498aa93",
   "metadata": {},
   "outputs": [],
   "source": [
    "a = datetime.now()"
   ]
  },
  {
   "cell_type": "code",
   "execution_count": 38,
   "id": "8083c102-5c70-4503-87ea-68682c4c2955",
   "metadata": {},
   "outputs": [
    {
     "data": {
      "text/plain": [
       "datetime.datetime(2025, 8, 19, 13, 14, 57, 301180)"
      ]
     },
     "execution_count": 38,
     "metadata": {},
     "output_type": "execute_result"
    }
   ],
   "source": [
    "a"
   ]
  },
  {
   "cell_type": "code",
   "execution_count": 55,
   "id": "c2115e05-6829-4214-87b3-f1c4cd72134c",
   "metadata": {},
   "outputs": [
    {
     "data": {
      "text/plain": [
       "datetime.date(2025, 8, 19)"
      ]
     },
     "execution_count": 55,
     "metadata": {},
     "output_type": "execute_result"
    }
   ],
   "source": [
    "a.date() "
   ]
  },
  {
   "cell_type": "code",
   "execution_count": 56,
   "id": "1d8fcdeb-9fa7-4979-8cc0-e431bb0fe642",
   "metadata": {},
   "outputs": [
    {
     "data": {
      "text/plain": [
       "19"
      ]
     },
     "execution_count": 56,
     "metadata": {},
     "output_type": "execute_result"
    }
   ],
   "source": [
    "a.day"
   ]
  },
  {
   "cell_type": "code",
   "execution_count": 57,
   "id": "da52edac-7852-4e7a-bccc-0c7fe5765ec1",
   "metadata": {},
   "outputs": [
    {
     "data": {
      "text/plain": [
       "13"
      ]
     },
     "execution_count": 57,
     "metadata": {},
     "output_type": "execute_result"
    }
   ],
   "source": [
    "a.hour"
   ]
  },
  {
   "cell_type": "code",
   "execution_count": 58,
   "id": "cd8ff7b2-610a-416c-b86f-83b3e6e35464",
   "metadata": {},
   "outputs": [
    {
     "data": {
      "text/plain": [
       "datetime.datetime(9999, 12, 31, 23, 59, 59, 999999)"
      ]
     },
     "execution_count": 58,
     "metadata": {},
     "output_type": "execute_result"
    }
   ],
   "source": [
    "a.max"
   ]
  },
  {
   "cell_type": "code",
   "execution_count": 59,
   "id": "1985984a-df81-45ae-9329-da228d557c1e",
   "metadata": {},
   "outputs": [
    {
     "data": {
      "text/plain": [
       "datetime.datetime(1, 1, 1, 0, 0)"
      ]
     },
     "execution_count": 59,
     "metadata": {},
     "output_type": "execute_result"
    }
   ],
   "source": [
    "a.min"
   ]
  },
  {
   "cell_type": "code",
   "execution_count": 62,
   "id": "6bae9fb0-9da1-4730-a44d-9dc3777aeda8",
   "metadata": {},
   "outputs": [
    {
     "data": {
      "text/plain": [
       "datetime.date(2025, 8, 19)"
      ]
     },
     "execution_count": 62,
     "metadata": {},
     "output_type": "execute_result"
    }
   ],
   "source": [
    "datetime.date(a)"
   ]
  },
  {
   "cell_type": "code",
   "execution_count": 65,
   "id": "0223cbdf-ade7-4355-9178-453eafb50df3",
   "metadata": {},
   "outputs": [],
   "source": [
    "d = datetime(2007,5,9)"
   ]
  },
  {
   "cell_type": "code",
   "execution_count": 66,
   "id": "791b4d51-071b-4ed4-8f4d-aebc1719a2f7",
   "metadata": {},
   "outputs": [
    {
     "data": {
      "text/plain": [
       "datetime.datetime(2007, 5, 9, 0, 0)"
      ]
     },
     "execution_count": 66,
     "metadata": {},
     "output_type": "execute_result"
    }
   ],
   "source": [
    "d"
   ]
  },
  {
   "cell_type": "code",
   "execution_count": 74,
   "id": "a899ce52-67f2-4e7a-aa2e-a454fc3f2fec",
   "metadata": {},
   "outputs": [
    {
     "data": {
      "text/plain": [
       "'2007 / 00 / 09 '"
      ]
     },
     "execution_count": 74,
     "metadata": {},
     "output_type": "execute_result"
    }
   ],
   "source": [
    "datetime.strftime(d,\"%Y / %M / %d \")"
   ]
  },
  {
   "cell_type": "code",
   "execution_count": 83,
   "id": "0252c438-757c-46da-b7c8-da229f48b985",
   "metadata": {},
   "outputs": [
    {
     "data": {
      "text/plain": [
       "'Wednesdayn  May -- Wed May  9 00:00:00 2007'"
      ]
     },
     "execution_count": 83,
     "metadata": {},
     "output_type": "execute_result"
    }
   ],
   "source": [
    "datetime.strftime(d, \"%An  %B -- %c\") "
   ]
  },
  {
   "cell_type": "code",
   "execution_count": 85,
   "id": "03775662-c124-4d90-98c0-69edab984fa1",
   "metadata": {},
   "outputs": [
    {
     "data": {
      "text/plain": [
       "'a'"
      ]
     },
     "execution_count": 85,
     "metadata": {},
     "output_type": "execute_result"
    }
   ],
   "source": [
    "choice(['a', 'b', 'c', 'd'])"
   ]
  },
  {
   "cell_type": "code",
   "execution_count": 87,
   "id": "45b86ad8-e09d-48f7-8114-1773a5ea27dc",
   "metadata": {},
   "outputs": [
    {
     "data": {
      "text/plain": [
       "['b', 'a', 'b']"
      ]
     },
     "execution_count": 87,
     "metadata": {},
     "output_type": "execute_result"
    }
   ],
   "source": [
    "choices(['a', 'b', 'c', 'd'], k=3)"
   ]
  },
  {
   "cell_type": "code",
   "execution_count": 96,
   "id": "839ccf2d-fb53-438a-b2a1-1bd21b8dd7dc",
   "metadata": {},
   "outputs": [
    {
     "data": {
      "text/plain": [
       "['c']"
      ]
     },
     "execution_count": 96,
     "metadata": {},
     "output_type": "execute_result"
    }
   ],
   "source": [
    "random.choices(['a', 'b', 'c', 'd'])"
   ]
  },
  {
   "cell_type": "code",
   "execution_count": null,
   "id": "6f8e0166-cde9-4261-be1d-b0134aa6bc6c",
   "metadata": {},
   "outputs": [],
   "source": []
  },
  {
   "cell_type": "code",
   "execution_count": null,
   "id": "793e401b-9cec-4469-81d5-4a85d72b1b9c",
   "metadata": {},
   "outputs": [],
   "source": []
  },
  {
   "cell_type": "raw",
   "id": "cdbb684e-1180-4499-ba28-24b38c792a5e",
   "metadata": {},
   "source": []
  }
 ],
 "metadata": {
  "kernelspec": {
   "display_name": "Python [conda env:base] *",
   "language": "python",
   "name": "conda-base-py"
  },
  "language_info": {
   "codemirror_mode": {
    "name": "ipython",
    "version": 3
   },
   "file_extension": ".py",
   "mimetype": "text/x-python",
   "name": "python",
   "nbconvert_exporter": "python",
   "pygments_lexer": "ipython3",
   "version": "3.13.5"
  }
 },
 "nbformat": 4,
 "nbformat_minor": 5
}
