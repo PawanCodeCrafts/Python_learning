{
 "cells": [
  {
   "cell_type": "markdown",
   "id": "8c6d1105-4001-4128-9a10-8cbc839c462d",
   "metadata": {},
   "source": [
    "# File Handling"
   ]
  },
  {
   "cell_type": "code",
   "execution_count": 90,
   "id": "00f1cbda-5082-4500-99e9-24ec86e7c522",
   "metadata": {},
   "outputs": [],
   "source": [
    "# if file is in other folder within same folder\n",
    "## myfile = open('pawan/hello.txt', 'r')\n",
    "# if folder outside current folder\n",
    "## myfile  = open('../pawan/hello/txt','r')\n",
    "## myfile = open('../../pawan/hello.txt','r')"
   ]
  },
  {
   "cell_type": "code",
   "execution_count": 91,
   "id": "fc2fb2ab-a4bb-424d-9513-0b18124df4e9",
   "metadata": {},
   "outputs": [],
   "source": [
    "# if in a same folder"
   ]
  },
  {
   "cell_type": "code",
   "execution_count": 92,
   "id": "4bb74adc-ad63-4c06-86f0-6e88147c862f",
   "metadata": {},
   "outputs": [],
   "source": [
    "myfile = open(\"handling.txt\", \"r\")"
   ]
  },
  {
   "cell_type": "code",
   "execution_count": 93,
   "id": "0107e0d5-811c-45d4-9400-f20dfa0a7a10",
   "metadata": {},
   "outputs": [
    {
     "name": "stdout",
     "output_type": "stream",
     "text": [
      "this file is used to learn filehandling \n",
      "\n"
     ]
    }
   ],
   "source": [
    "print(myfile.readline())"
   ]
  },
  {
   "cell_type": "code",
   "execution_count": 94,
   "id": "93549171-f4c4-4d2c-9a81-55caf9658ee5",
   "metadata": {},
   "outputs": [
    {
     "name": "stdout",
     "output_type": "stream",
     "text": [
      "Hello everyone\n",
      "\n"
     ]
    }
   ],
   "source": [
    "print(myfile.readline())"
   ]
  },
  {
   "cell_type": "code",
   "execution_count": 95,
   "id": "c70c5891-a7ab-46a0-aad8-7d3766b92841",
   "metadata": {},
   "outputs": [
    {
     "name": "stdout",
     "output_type": "stream",
     "text": [
      "hi everyone\n",
      "this is third line\n",
      "and more lines\n"
     ]
    }
   ],
   "source": [
    "print(myfile.read())"
   ]
  },
  {
   "cell_type": "code",
   "execution_count": 96,
   "id": "25515236-6aaa-4fe5-af9f-de12381f9cef",
   "metadata": {},
   "outputs": [],
   "source": [
    "myfile.close()"
   ]
  },
  {
   "cell_type": "code",
   "execution_count": 97,
   "id": "85bcd594-1108-4b86-aa79-a74ae85b7f3c",
   "metadata": {},
   "outputs": [
    {
     "name": "stdout",
     "output_type": "stream",
     "text": [
      "this file is used to learn filehandling \n",
      "Hello everyone\n",
      "hi everyone\n",
      "this is third line\n",
      "and more lines\n"
     ]
    }
   ],
   "source": [
    "try:\n",
    "    file = open('handling.txt','r')\n",
    "    content = file.read()\n",
    "    print(content)\n",
    "except:\n",
    "    print('read nhi hua')\n",
    "finally:\n",
    "    file.close()"
   ]
  },
  {
   "cell_type": "code",
   "execution_count": 98,
   "id": "79b67548-0b1a-43ba-b2c2-afe46844e532",
   "metadata": {},
   "outputs": [
    {
     "name": "stdout",
     "output_type": "stream",
     "text": [
      "this file is used to learn filehandling \n",
      "Hello everyone\n",
      "hi everyone\n",
      "this is third line\n",
      "and more lines\n"
     ]
    }
   ],
   "source": [
    "# easy method \n",
    "# this method close connection automaticaly\n",
    "with open('handling.txt','r') as file:\n",
    "    content = file.read()\n",
    "    print(content)"
   ]
  },
  {
   "cell_type": "code",
   "execution_count": 99,
   "id": "16129042-04ab-4aa3-8723-f988503b559f",
   "metadata": {},
   "outputs": [],
   "source": [
    "\n",
    "with open('customer.txt', 'a') as file:\n",
    "    c = \"\"\"\n",
    "      nice to meet you \n",
    "      lets have dinner\n",
    "    \"\"\"\n",
    "    file.write(c)"
   ]
  },
  {
   "cell_type": "code",
   "execution_count": 100,
   "id": "14262510-0792-44d4-bde1-534bcc55c6ed",
   "metadata": {},
   "outputs": [
    {
     "name": "stdout",
     "output_type": "stream",
     "text": [
      "      nice to meet you \n",
      "      lets have dinner\n",
      "    \n",
      "      nice to meet you \n",
      "      lets have dinner\n",
      "    \n"
     ]
    }
   ],
   "source": [
    "with open(\"customer.txt\", 'r') as file:\n",
    "    print(file.read())"
   ]
  },
  {
   "cell_type": "code",
   "execution_count": null,
   "id": "faaf6670-9bf5-4fb8-9d28-bae4780fcf3d",
   "metadata": {},
   "outputs": [],
   "source": []
  },
  {
   "cell_type": "code",
   "execution_count": null,
   "id": "40cbe99c-18ca-40a2-98cf-bb4b5f5c62a5",
   "metadata": {},
   "outputs": [],
   "source": []
  }
 ],
 "metadata": {
  "kernelspec": {
   "display_name": "Python [conda env:base] *",
   "language": "python",
   "name": "conda-base-py"
  },
  "language_info": {
   "codemirror_mode": {
    "name": "ipython",
    "version": 3
   },
   "file_extension": ".py",
   "mimetype": "text/x-python",
   "name": "python",
   "nbconvert_exporter": "python",
   "pygments_lexer": "ipython3",
   "version": "3.13.5"
  }
 },
 "nbformat": 4,
 "nbformat_minor": 5
}
