{
 "cells": [
  {
   "cell_type": "markdown",
   "id": "0f8dbc86-676e-4deb-a180-952ca0c5610c",
   "metadata": {},
   "source": [
    "# Try , except , else , finally\n",
    "\n",
    "### try me code likhte hain\n",
    "### try me error hot toh <span style=\"color:yellow\">except</span> chlega msg print hoga\n",
    "### agar try me error na ho toh except ka <span style=\"color:yellow\">else</span> block chlega\n",
    "### <span style=\"color:yellow\">finally</span> chelga hi chlega chahe try me error ho ya na ho"
   ]
  },
  {
   "cell_type": "code",
   "execution_count": 2,
   "id": "0a10b98d-5998-48fc-b6c8-c9edb993c31c",
   "metadata": {},
   "outputs": [
    {
     "name": "stdout",
     "output_type": "stream",
     "text": [
      "hi\n"
     ]
    },
    {
     "ename": "ZeroDivisionError",
     "evalue": "division by zero",
     "output_type": "error",
     "traceback": [
      "\u001b[1;31m---------------------------------------------------------------------------\u001b[0m",
      "\u001b[1;31mZeroDivisionError\u001b[0m                         Traceback (most recent call last)",
      "Cell \u001b[1;32mIn[2], line 2\u001b[0m\n\u001b[0;32m      1\u001b[0m \u001b[38;5;28mprint\u001b[39m(\u001b[38;5;124m'\u001b[39m\u001b[38;5;124mhi\u001b[39m\u001b[38;5;124m'\u001b[39m)\n\u001b[1;32m----> 2\u001b[0m \u001b[38;5;28mprint\u001b[39m(\u001b[38;5;241m5\u001b[39m\u001b[38;5;241m/\u001b[39m\u001b[38;5;241m0\u001b[39m)\n\u001b[0;32m      3\u001b[0m \u001b[38;5;28mprint\u001b[39m(\u001b[38;5;124m\"\u001b[39m\u001b[38;5;124mhello\u001b[39m\u001b[38;5;124m\"\u001b[39m)\n",
      "\u001b[1;31mZeroDivisionError\u001b[0m: division by zero"
     ]
    }
   ],
   "source": [
    "print('hi')\n",
    "print(5/0)\n",
    "print(\"hello\")"
   ]
  },
  {
   "cell_type": "code",
   "execution_count": 3,
   "id": "8763127e-650b-4a99-aabd-a9533ee7bc56",
   "metadata": {},
   "outputs": [
    {
     "name": "stdout",
     "output_type": "stream",
     "text": [
      "hi\n",
      "nhi chala code\n"
     ]
    }
   ],
   "source": [
    "try:\n",
    "    print('hi')\n",
    "    print(5/0)\n",
    "    print('hello')\n",
    "\n",
    "except:\n",
    "    print('nhi chala code')\n",
    "else:\n",
    "    print('hello')"
   ]
  },
  {
   "cell_type": "code",
   "execution_count": 4,
   "id": "978130a6-a8f1-4f13-a529-49fa3edb6282",
   "metadata": {},
   "outputs": [
    {
     "name": "stdout",
     "output_type": "stream",
     "text": [
      "hi\n",
      "1.0\n",
      "hello\n",
      "else work kr rha hai\n"
     ]
    }
   ],
   "source": [
    "try:\n",
    "    print('hi')\n",
    "    print(5/5)\n",
    "    print('hello')\n",
    "\n",
    "except:\n",
    "    print('nhi chala code')\n",
    "else:\n",
    "    print('else work kr rha hai')"
   ]
  },
  {
   "cell_type": "code",
   "execution_count": 5,
   "id": "cd0be15e-1fd5-4006-a648-6ef37b362055",
   "metadata": {},
   "outputs": [
    {
     "name": "stdout",
     "output_type": "stream",
     "text": [
      "hi\n",
      "1.0\n",
      "hello\n",
      "else work kr rha hai\n",
      "finally run hua\n"
     ]
    }
   ],
   "source": [
    "try:\n",
    "    print('hi')\n",
    "    print(5/5)\n",
    "    print('hello')\n",
    "\n",
    "except:\n",
    "    print('nhi chala code')\n",
    "else:\n",
    "    print('else work kr rha hai')\n",
    "finally:\n",
    "    print('finally run hua')"
   ]
  },
  {
   "cell_type": "code",
   "execution_count": 6,
   "id": "c391f878-f30f-4508-82ce-fa1d8d30a002",
   "metadata": {},
   "outputs": [
    {
     "name": "stdout",
     "output_type": "stream",
     "text": [
      "hi\n",
      "nhi chala code\n",
      "finally run hua\n"
     ]
    }
   ],
   "source": [
    "try:\n",
    "    print('hi')\n",
    "    print(5/0)\n",
    "    print('hello')\n",
    "\n",
    "except:\n",
    "    print('nhi chala code')\n",
    "else:\n",
    "    print('else work kr rha hai')\n",
    "finally:\n",
    "    print('finally run hua')"
   ]
  },
  {
   "cell_type": "code",
   "execution_count": 7,
   "id": "c41584ef-ac48-4f0a-ac59-146b0484fa83",
   "metadata": {},
   "outputs": [
    {
     "name": "stdout",
     "output_type": "stream",
     "text": [
      "hi\n",
      "zeroDivisionError aya h\n",
      "finally run hua\n"
     ]
    }
   ],
   "source": [
    "try:\n",
    "    print('hi')\n",
    "    print(5/0)\n",
    "    print('hello')\n",
    "\n",
    "except ZeroDivisionError:\n",
    "    print('zeroDivisionError aya h')\n",
    "except:\n",
    "    print('nhi chala code')\n",
    "else:\n",
    "    print('else work kr rha hai')\n",
    "finally:\n",
    "    print('finally run hua')"
   ]
  },
  {
   "cell_type": "code",
   "execution_count": 8,
   "id": "63545f67-18a7-448e-981e-85b24951fa15",
   "metadata": {},
   "outputs": [
    {
     "name": "stdout",
     "output_type": "stream",
     "text": [
      "hi\n",
      "error h\n",
      "finally run hua\n"
     ]
    }
   ],
   "source": [
    "try:\n",
    "    print('hi')\n",
    "    print(int('string'))\n",
    "    print('hello')\n",
    "\n",
    "except ZeroDivisionError:\n",
    "    print('zeroDivisionError aya h')\n",
    "except:\n",
    "    print('error h')\n",
    "else:\n",
    "    print('else work kr rha hai')\n",
    "finally:\n",
    "    print('finally run hua')"
   ]
  },
  {
   "cell_type": "code",
   "execution_count": 14,
   "id": "359f8281-614c-4ade-bec0-0595ddb7c759",
   "metadata": {},
   "outputs": [
    {
     "name": "stdout",
     "output_type": "stream",
     "text": [
      "hi\n",
      "division by zero\n",
      "finally run hua\n"
     ]
    }
   ],
   "source": [
    "try:\n",
    "    print('hi')\n",
    "    print(5/0)\n",
    "    print('hello')\n",
    "\n",
    "except ZeroDivisionError as e:\n",
    "    print(e)\n",
    "except:\n",
    "    print('error h')\n",
    "else:\n",
    "    print('else work kr rha hai')\n",
    "finally:\n",
    "    print('finally run hua')"
   ]
  },
  {
   "cell_type": "code",
   "execution_count": 27,
   "id": "475c60fe-c817-4262-9b01-b2612fabeaa2",
   "metadata": {},
   "outputs": [
    {
     "name": "stdin",
     "output_type": "stream",
     "text": [
      " pawan\n"
     ]
    },
    {
     "name": "stdout",
     "output_type": "stream",
     "text": [
      "invalid literal for int() with base 10: 'pawan'\n",
      "close coonnection\n"
     ]
    }
   ],
   "source": [
    "try:\n",
    "    a = 500\n",
    "    b = int(input())\n",
    "    c = a/b\n",
    "    print(c)\n",
    "    \n",
    "except ValueError as v:\n",
    "    print(v)\n",
    "except ZeroDivisionError as z:\n",
    "    print(z)\n",
    "except:\n",
    "    print(\"check something wrong\")\n",
    "else:\n",
    "    print('everything working fine')\n",
    "finally:\n",
    "    print('close coonnection')"
   ]
  },
  {
   "cell_type": "code",
   "execution_count": null,
   "id": "68718a7f-c46d-4ef3-9813-79e729d990f5",
   "metadata": {},
   "outputs": [],
   "source": []
  },
  {
   "cell_type": "code",
   "execution_count": null,
   "id": "20a49472-d37c-49cb-9b5d-79b8344cf717",
   "metadata": {},
   "outputs": [],
   "source": []
  },
  {
   "cell_type": "code",
   "execution_count": null,
   "id": "c21e6286-a685-4475-99db-4f605ccb9ce4",
   "metadata": {},
   "outputs": [],
   "source": []
  },
  {
   "cell_type": "code",
   "execution_count": null,
   "id": "66071e77-2af4-46c5-bb5b-30f5c2d18039",
   "metadata": {},
   "outputs": [],
   "source": []
  }
 ],
 "metadata": {
  "kernelspec": {
   "display_name": "Python [conda env:base] *",
   "language": "python",
   "name": "conda-base-py"
  },
  "language_info": {
   "codemirror_mode": {
    "name": "ipython",
    "version": 3
   },
   "file_extension": ".py",
   "mimetype": "text/x-python",
   "name": "python",
   "nbconvert_exporter": "python",
   "pygments_lexer": "ipython3",
   "version": "3.13.5"
  }
 },
 "nbformat": 4,
 "nbformat_minor": 5
}
